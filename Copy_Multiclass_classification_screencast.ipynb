{
  "nbformat": 4,
  "nbformat_minor": 0,
  "metadata": {
    "colab": {
      "provenance": []
    },
    "kernelspec": {
      "name": "python3",
      "display_name": "Python 3"
    },
    "language_info": {
      "name": "python"
    }
  },
  "cells": [
    {
      "cell_type": "markdown",
      "source": [
        "# Многоклассовая классификация"
      ],
      "metadata": {
        "id": "hfGO9T5wwrqv"
      }
    },
    {
      "cell_type": "markdown",
      "source": [
        "## Импорт библиотек, установка константных значений, загрузка данных"
      ],
      "metadata": {
        "id": "ygVE11RK0_TO"
      }
    },
    {
      "cell_type": "code",
      "source": [
        "from sklearn.datasets import load_iris\n",
        "from sklearn.model_selection import train_test_split\n",
        "from sklearn.linear_model import LogisticRegression\n",
        "from sklearn.metrics import accuracy_score\n",
        "from sklearn.metrics import classification_report"
      ],
      "metadata": {
        "id": "pllDAEPT1EM8"
      },
      "execution_count": 1,
      "outputs": []
    },
    {
      "cell_type": "code",
      "execution_count": 2,
      "metadata": {
        "id": "cFzSTYFPwDvk"
      },
      "outputs": [],
      "source": [
        "RANDOM_STATE = 42\n",
        "TRAIN_SIZE = 0.75"
      ]
    },
    {
      "cell_type": "code",
      "source": [
        "data = load_iris(as_frame=True)\n",
        "\n",
        "X = data.data\n",
        "y = data.target"
      ],
      "metadata": {
        "id": "BdqmTY1X1I-o"
      },
      "execution_count": 3,
      "outputs": []
    },
    {
      "cell_type": "markdown",
      "source": [
        "## Практика"
      ],
      "metadata": {
        "id": "HPu2dgVi1PW5"
      }
    },
    {
      "cell_type": "markdown",
      "source": [
        "Посмотрим на целевую переменную."
      ],
      "metadata": {
        "id": "_sS1HQFgw_s7"
      }
    },
    {
      "cell_type": "code",
      "source": [
        "y.value_counts()"
      ],
      "metadata": {
        "colab": {
          "base_uri": "https://localhost:8080/",
          "height": 209
        },
        "id": "Cqo-79NCwy1f",
        "outputId": "b0d92acf-d52c-47bc-d1ec-c4349574b8f7"
      },
      "execution_count": 4,
      "outputs": [
        {
          "output_type": "execute_result",
          "data": {
            "text/plain": [
              "target\n",
              "0    50\n",
              "1    50\n",
              "2    50\n",
              "Name: count, dtype: int64"
            ],
            "text/html": [
              "<div>\n",
              "<style scoped>\n",
              "    .dataframe tbody tr th:only-of-type {\n",
              "        vertical-align: middle;\n",
              "    }\n",
              "\n",
              "    .dataframe tbody tr th {\n",
              "        vertical-align: top;\n",
              "    }\n",
              "\n",
              "    .dataframe thead th {\n",
              "        text-align: right;\n",
              "    }\n",
              "</style>\n",
              "<table border=\"1\" class=\"dataframe\">\n",
              "  <thead>\n",
              "    <tr style=\"text-align: right;\">\n",
              "      <th></th>\n",
              "      <th>count</th>\n",
              "    </tr>\n",
              "    <tr>\n",
              "      <th>target</th>\n",
              "      <th></th>\n",
              "    </tr>\n",
              "  </thead>\n",
              "  <tbody>\n",
              "    <tr>\n",
              "      <th>0</th>\n",
              "      <td>50</td>\n",
              "    </tr>\n",
              "    <tr>\n",
              "      <th>1</th>\n",
              "      <td>50</td>\n",
              "    </tr>\n",
              "    <tr>\n",
              "      <th>2</th>\n",
              "      <td>50</td>\n",
              "    </tr>\n",
              "  </tbody>\n",
              "</table>\n",
              "</div><br><label><b>dtype:</b> int64</label>"
            ]
          },
          "metadata": {},
          "execution_count": 4
        }
      ]
    },
    {
      "cell_type": "markdown",
      "source": [
        "Разобъем данные на тренировочную и тестовую части."
      ],
      "metadata": {
        "id": "VicuGcUAxDxE"
      }
    },
    {
      "cell_type": "code",
      "source": [
        "X_train, X_test, y_train, y_test = train_test_split(X, y,\n",
        "                                                    train_size=TRAIN_SIZE,\n",
        "                                                    random_state=RANDOM_STATE)\n",
        "\n",
        "X_train.shape, X_test.shape"
      ],
      "metadata": {
        "id": "BdMu5izOxCG4",
        "colab": {
          "base_uri": "https://localhost:8080/"
        },
        "outputId": "66451bb1-0070-49a5-e2c7-abd4860c2e7a"
      },
      "execution_count": 5,
      "outputs": [
        {
          "output_type": "execute_result",
          "data": {
            "text/plain": [
              "((112, 4), (38, 4))"
            ]
          },
          "metadata": {},
          "execution_count": 5
        }
      ]
    },
    {
      "cell_type": "markdown",
      "source": [
        "Применим логистическую регрессию для решения задачи.\n",
        "\n",
        "У этой модели есть гиперпараметр `multi_class`, который может принимать значения:\n",
        "* `ovr`\n",
        "* `multinomial`\n",
        "\n",
        "`ovr` - это сведение многоклассовой задаче к серии бинарных методом `one-versus-rest`\n",
        "\n",
        "`multinomial` - это решение исходной задачи путем обобщения функции потерь логистической регрессии на многоклассовый случай (в многоклассовом случае используется функция потерь под названием [кросс-энтропия](https://en.wikipedia.org/wiki/Logistic_regression)).\n"
      ],
      "metadata": {
        "id": "fL_PL6ZWxTVs"
      }
    },
    {
      "cell_type": "markdown",
      "source": [
        "Сначала используем опцию `ovr`.  \n",
        "Обучим модель на тренировочных данных, сделаем предсказания на тесте и оценим качество по метрике *accuracy*."
      ],
      "metadata": {
        "id": "Ztq6tzfUyJ2b"
      }
    },
    {
      "cell_type": "code",
      "source": [
        "model_ovr = LogisticRegression(multi_class='ovr')\n",
        "\n",
        "model_ovr.fit(X_train, y_train)\n",
        "\n",
        "pred_ovr = model_ovr.predict(X_test)\n",
        "\n",
        "accuracy_score(y_test, pred_ovr)"
      ],
      "metadata": {
        "colab": {
          "base_uri": "https://localhost:8080/"
        },
        "id": "ky9LiE7rxS8l",
        "outputId": "70aa3946-d191-433c-cfba-5f4b07132138"
      },
      "execution_count": 6,
      "outputs": [
        {
          "output_type": "execute_result",
          "data": {
            "text/plain": [
              "0.9736842105263158"
            ]
          },
          "metadata": {},
          "execution_count": 6
        }
      ]
    },
    {
      "cell_type": "markdown",
      "source": [
        "Теперь используем подход `multinomial`."
      ],
      "metadata": {
        "id": "iEVMhgluygg5"
      }
    },
    {
      "cell_type": "code",
      "source": [
        "model_mn = LogisticRegression(multi_class='multinomial', max_iter=1000)\n",
        "\n",
        "model_mn.fit(X_train, y_train)\n",
        "\n",
        "pred_mn = model_mn.predict(X_test)\n",
        "\n",
        "accuracy_score(y_test, pred_mn)"
      ],
      "metadata": {
        "id": "GkJTi20tydnd",
        "colab": {
          "base_uri": "https://localhost:8080/"
        },
        "outputId": "866ed307-33c7-42c5-cd17-4dd41051cd7a"
      },
      "execution_count": 7,
      "outputs": [
        {
          "output_type": "execute_result",
          "data": {
            "text/plain": [
              "1.0"
            ]
          },
          "metadata": {},
          "execution_count": 7
        }
      ]
    },
    {
      "cell_type": "markdown",
      "source": [
        "Подход с опцией `multinomial` сработал в этой задаче лучше.\n",
        "\n",
        "Однако, это не означает, что он всегда будет работать лучше."
      ],
      "metadata": {
        "id": "WTeaqGw9ys5Z"
      }
    },
    {
      "cell_type": "markdown",
      "source": [
        "Посмотрим на другие метрики."
      ],
      "metadata": {
        "id": "AtboxaSwy0C0"
      }
    },
    {
      "cell_type": "code",
      "source": [
        "print(classification_report(y_test, pred_ovr, digits=5))"
      ],
      "metadata": {
        "colab": {
          "base_uri": "https://localhost:8080/"
        },
        "id": "BYN9Pk0UyryZ",
        "outputId": "e7af4ce2-a9f7-4716-e23e-d0a1d486f9ad"
      },
      "execution_count": 8,
      "outputs": [
        {
          "output_type": "stream",
          "name": "stdout",
          "text": [
            "              precision    recall  f1-score   support\n",
            "\n",
            "           0    1.00000   1.00000   1.00000        15\n",
            "           1    1.00000   0.90909   0.95238        11\n",
            "           2    0.92308   1.00000   0.96000        12\n",
            "\n",
            "    accuracy                        0.97368        38\n",
            "   macro avg    0.97436   0.96970   0.97079        38\n",
            "weighted avg    0.97571   0.97368   0.97358        38\n",
            "\n"
          ]
        }
      ]
    },
    {
      "cell_type": "code",
      "source": [
        "print(classification_report(y_test, pred_mn))"
      ],
      "metadata": {
        "colab": {
          "base_uri": "https://localhost:8080/"
        },
        "id": "8HghFRP4y5Q8",
        "outputId": "497237f8-25c0-4590-9b82-8aaefdb80170"
      },
      "execution_count": 9,
      "outputs": [
        {
          "output_type": "stream",
          "name": "stdout",
          "text": [
            "              precision    recall  f1-score   support\n",
            "\n",
            "           0       1.00      1.00      1.00        15\n",
            "           1       1.00      1.00      1.00        11\n",
            "           2       1.00      1.00      1.00        12\n",
            "\n",
            "    accuracy                           1.00        38\n",
            "   macro avg       1.00      1.00      1.00        38\n",
            "weighted avg       1.00      1.00      1.00        38\n",
            "\n"
          ]
        }
      ]
    },
    {
      "cell_type": "markdown",
      "source": [
        "Мы видим, что модель, полученная в результате `ovr` подхода, путает между собой ирисы типов 1 и 2.\n",
        "\n",
        "Модель `multinomial` - ничего не путает."
      ],
      "metadata": {
        "id": "V7owO0PvzBJ4"
      }
    },
    {
      "cell_type": "code",
      "source": [],
      "metadata": {
        "id": "ProV0VnBLDd5"
      },
      "execution_count": 9,
      "outputs": []
    }
  ]
}