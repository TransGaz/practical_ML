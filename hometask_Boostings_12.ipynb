{
  "nbformat": 4,
  "nbformat_minor": 0,
  "metadata": {
    "colab": {
      "provenance": []
    },
    "kernelspec": {
      "name": "python3",
      "display_name": "Python 3"
    },
    "language_info": {
      "name": "python"
    },
    "widgets": {
      "application/vnd.jupyter.widget-state+json": {
        "829f2ebce3de44d5a382747b636af1d5": {
          "model_module": "catboost-widget",
          "model_name": "CatboostWidgetModel",
          "model_module_version": "^1.0.0",
          "state": {
            "_dom_classes": [],
            "_model_module": "catboost-widget",
            "_model_module_version": "^1.0.0",
            "_model_name": "CatboostWidgetModel",
            "_view_count": null,
            "_view_module": "catboost-widget",
            "_view_module_version": "^1.0.0",
            "_view_name": "CatboostWidgetView",
            "data": {
              "catboost_info": {
                "path": "catboost_info",
                "name": "catboost_info",
                "content": {
                  "passed_iterations": 999,
                  "total_iterations": 1000,
                  "data": {
                    "iterations": [
                      {
                        "learn": [
                          0.6600024293
                        ],
                        "iteration": 0,
                        "passed_time": 0.1517947412,
                        "remaining_time": 151.6429464
                      },
                      {
                        "learn": [
                          0.6301097163
                        ],
                        "iteration": 1,
                        "passed_time": 0.2736815805,
                        "remaining_time": 136.5671087
                      },
                      {
                        "learn": [
                          0.6062540168
                        ],
                        "iteration": 2,
                        "passed_time": 0.3509803436,
                        "remaining_time": 116.6424675
                      },
                      {
                        "learn": [
                          0.5861898871
                        ],
                        "iteration": 3,
                        "passed_time": 0.4365939635,
                        "remaining_time": 108.7118969
                      },
                      {
                        "learn": [
                          0.5692164588
                        ],
                        "iteration": 4,
                        "passed_time": 0.4911331878,
                        "remaining_time": 97.73550437
                      },
                      {
                        "learn": [
                          0.5538773587
                        ],
                        "iteration": 5,
                        "passed_time": 0.5492940331,
                        "remaining_time": 90.99971148
                      },
                      {
                        "learn": [
                          0.5397378133
                        ],
                        "iteration": 6,
                        "passed_time": 0.6584407963,
                        "remaining_time": 93.4045301
                      },
                      {
                        "learn": [
                          0.5274410254
                        ],
                        "iteration": 7,
                        "passed_time": 0.7729606193,
                        "remaining_time": 95.84711679
                      },
                      {
                        "learn": [
                          0.5173510143
                        ],
                        "iteration": 8,
                        "passed_time": 0.8846028806,
                        "remaining_time": 97.40460607
                      },
                      {
                        "learn": [
                          0.5085493694
                        ],
                        "iteration": 9,
                        "passed_time": 0.9874277888,
                        "remaining_time": 97.75535109
                      },
                      {
                        "learn": [
                          0.5015009857
                        ],
                        "iteration": 10,
                        "passed_time": 1.0888146,
                        "remaining_time": 97.8943309
                      },
                      {
                        "learn": [
                          0.4959284084
                        ],
                        "iteration": 11,
                        "passed_time": 1.136409167,
                        "remaining_time": 93.56435472
                      },
                      {
                        "learn": [
                          0.4894958793
                        ],
                        "iteration": 12,
                        "passed_time": 1.264457152,
                        "remaining_time": 96.00147763
                      },
                      {
                        "learn": [
                          0.4840667966
                        ],
                        "iteration": 13,
                        "passed_time": 1.383059093,
                        "remaining_time": 97.40687615
                      },
                      {
                        "learn": [
                          0.4808528514
                        ],
                        "iteration": 14,
                        "passed_time": 1.423659273,
                        "remaining_time": 93.48695891
                      },
                      {
                        "learn": [
                          0.4760574598
                        ],
                        "iteration": 15,
                        "passed_time": 1.548565881,
                        "remaining_time": 95.23680166
                      },
                      {
                        "learn": [
                          0.4733882214
                        ],
                        "iteration": 16,
                        "passed_time": 1.623916291,
                        "remaining_time": 93.90057143
                      },
                      {
                        "learn": [
                          0.4693399356
                        ],
                        "iteration": 17,
                        "passed_time": 1.745262834,
                        "remaining_time": 95.21378352
                      },
                      {
                        "learn": [
                          0.4663194151
                        ],
                        "iteration": 18,
                        "passed_time": 1.943537498,
                        "remaining_time": 100.3479098
                      },
                      {
                        "learn": [
                          0.4636630657
                        ],
                        "iteration": 19,
                        "passed_time": 2.129812606,
                        "remaining_time": 104.3608177
                      },
                      {
                        "learn": [
                          0.4608410494
                        ],
                        "iteration": 20,
                        "passed_time": 2.340559522,
                        "remaining_time": 109.1146558
                      },
                      {
                        "learn": [
                          0.4592138942
                        ],
                        "iteration": 21,
                        "passed_time": 2.548982847,
                        "remaining_time": 113.3138738
                      },
                      {
                        "learn": [
                          0.4570732719
                        ],
                        "iteration": 22,
                        "passed_time": 2.761623185,
                        "remaining_time": 117.3089501
                      },
                      {
                        "learn": [
                          0.4552301693
                        ],
                        "iteration": 23,
                        "passed_time": 2.947326898,
                        "remaining_time": 119.8579605
                      },
                      {
                        "learn": [
                          0.4540838852
                        ],
                        "iteration": 24,
                        "passed_time": 3.133977181,
                        "remaining_time": 122.2251101
                      },
                      {
                        "learn": [
                          0.4524665488
                        ],
                        "iteration": 25,
                        "passed_time": 3.341557582,
                        "remaining_time": 125.1798879
                      },
                      {
                        "learn": [
                          0.4509535785
                        ],
                        "iteration": 26,
                        "passed_time": 3.614258072,
                        "remaining_time": 130.247152
                      },
                      {
                        "learn": [
                          0.4497157455
                        ],
                        "iteration": 27,
                        "passed_time": 3.807769502,
                        "remaining_time": 132.1839984
                      },
                      {
                        "learn": [
                          0.4487444182
                        ],
                        "iteration": 28,
                        "passed_time": 4.02038776,
                        "remaining_time": 134.6136729
                      },
                      {
                        "learn": [
                          0.4478952075
                        ],
                        "iteration": 29,
                        "passed_time": 4.213942299,
                        "remaining_time": 136.250801
                      },
                      {
                        "learn": [
                          0.4467832777
                        ],
                        "iteration": 30,
                        "passed_time": 4.444108418,
                        "remaining_time": 138.9142277
                      },
                      {
                        "learn": [
                          0.4456662591
                        ],
                        "iteration": 31,
                        "passed_time": 4.666583751,
                        "remaining_time": 141.1641585
                      },
                      {
                        "learn": [
                          0.4447948218
                        ],
                        "iteration": 32,
                        "passed_time": 4.832865794,
                        "remaining_time": 141.6176128
                      },
                      {
                        "learn": [
                          0.4438185292
                        ],
                        "iteration": 33,
                        "passed_time": 5.013119859,
                        "remaining_time": 142.4315819
                      },
                      {
                        "learn": [
                          0.4431845284
                        ],
                        "iteration": 34,
                        "passed_time": 5.237242682,
                        "remaining_time": 144.3982625
                      },
                      {
                        "learn": [
                          0.442400139
                        ],
                        "iteration": 35,
                        "passed_time": 5.457361151,
                        "remaining_time": 146.1360042
                      },
                      {
                        "learn": [
                          0.4418223829
                        ],
                        "iteration": 36,
                        "passed_time": 5.597552749,
                        "remaining_time": 145.6876567
                      },
                      {
                        "learn": [
                          0.441161924
                        ],
                        "iteration": 37,
                        "passed_time": 5.708796195,
                        "remaining_time": 144.5226826
                      },
                      {
                        "learn": [
                          0.4403849724
                        ],
                        "iteration": 38,
                        "passed_time": 5.832544447,
                        "remaining_time": 143.7198773
                      },
                      {
                        "learn": [
                          0.4396250108
                        ],
                        "iteration": 39,
                        "passed_time": 5.942515487,
                        "remaining_time": 142.6203717
                      },
                      {
                        "learn": [
                          0.4393004121
                        ],
                        "iteration": 40,
                        "passed_time": 6.052742027,
                        "remaining_time": 141.5751123
                      },
                      {
                        "learn": [
                          0.4388239281
                        ],
                        "iteration": 41,
                        "passed_time": 6.172824283,
                        "remaining_time": 140.7991824
                      },
                      {
                        "learn": [
                          0.4381790096
                        ],
                        "iteration": 42,
                        "passed_time": 6.311553662,
                        "remaining_time": 140.468764
                      },
                      {
                        "learn": [
                          0.4378815913
                        ],
                        "iteration": 43,
                        "passed_time": 6.449791732,
                        "remaining_time": 140.136384
                      },
                      {
                        "learn": [
                          0.4373632533
                        ],
                        "iteration": 44,
                        "passed_time": 6.594600891,
                        "remaining_time": 139.9520856
                      },
                      {
                        "learn": [
                          0.4369707639
                        ],
                        "iteration": 45,
                        "passed_time": 6.728674718,
                        "remaining_time": 139.5468626
                      },
                      {
                        "learn": [
                          0.4364953546
                        ],
                        "iteration": 46,
                        "passed_time": 6.84441707,
                        "remaining_time": 138.781478
                      },
                      {
                        "learn": [
                          0.4362493659
                        ],
                        "iteration": 47,
                        "passed_time": 6.952117266,
                        "remaining_time": 137.8836591
                      },
                      {
                        "learn": [
                          0.4359695882
                        ],
                        "iteration": 48,
                        "passed_time": 7.076851489,
                        "remaining_time": 137.3486891
                      },
                      {
                        "learn": [
                          0.4353280529
                        ],
                        "iteration": 49,
                        "passed_time": 7.202081173,
                        "remaining_time": 136.8395423
                      },
                      {
                        "learn": [
                          0.4349978069
                        ],
                        "iteration": 50,
                        "passed_time": 7.31292883,
                        "remaining_time": 136.0778325
                      },
                      {
                        "learn": [
                          0.4347337621
                        ],
                        "iteration": 51,
                        "passed_time": 7.448657921,
                        "remaining_time": 135.7947636
                      },
                      {
                        "learn": [
                          0.4344134288
                        ],
                        "iteration": 52,
                        "passed_time": 7.589840777,
                        "remaining_time": 135.6147022
                      },
                      {
                        "learn": [
                          0.4339413036
                        ],
                        "iteration": 53,
                        "passed_time": 7.682050725,
                        "remaining_time": 134.5781479
                      },
                      {
                        "learn": [
                          0.4335352776
                        ],
                        "iteration": 54,
                        "passed_time": 7.805672369,
                        "remaining_time": 134.1156434
                      },
                      {
                        "learn": [
                          0.4333062352
                        ],
                        "iteration": 55,
                        "passed_time": 7.914836084,
                        "remaining_time": 133.4215226
                      },
                      {
                        "learn": [
                          0.4330461287
                        ],
                        "iteration": 56,
                        "passed_time": 8.032112086,
                        "remaining_time": 132.882135
                      },
                      {
                        "learn": [
                          0.4328623292
                        ],
                        "iteration": 57,
                        "passed_time": 8.153045065,
                        "remaining_time": 132.4166974
                      },
                      {
                        "learn": [
                          0.4326602905
                        ],
                        "iteration": 58,
                        "passed_time": 8.253072362,
                        "remaining_time": 131.62951
                      },
                      {
                        "learn": [
                          0.4325039892
                        ],
                        "iteration": 59,
                        "passed_time": 8.367020894,
                        "remaining_time": 131.0833273
                      },
                      {
                        "learn": [
                          0.4322223699
                        ],
                        "iteration": 60,
                        "passed_time": 8.479227138,
                        "remaining_time": 130.5244964
                      },
                      {
                        "learn": [
                          0.4320237798
                        ],
                        "iteration": 61,
                        "passed_time": 8.614465993,
                        "remaining_time": 130.3285339
                      },
                      {
                        "learn": [
                          0.4318262105
                        ],
                        "iteration": 62,
                        "passed_time": 8.722359018,
                        "remaining_time": 129.7277841
                      },
                      {
                        "learn": [
                          0.4315754802
                        ],
                        "iteration": 63,
                        "passed_time": 8.860942496,
                        "remaining_time": 129.591284
                      },
                      {
                        "learn": [
                          0.4313827108
                        ],
                        "iteration": 64,
                        "passed_time": 8.986920301,
                        "remaining_time": 129.273392
                      },
                      {
                        "learn": [
                          0.4309968417
                        ],
                        "iteration": 65,
                        "passed_time": 9.115037162,
                        "remaining_time": 128.9915865
                      },
                      {
                        "learn": [
                          0.4306395808
                        ],
                        "iteration": 66,
                        "passed_time": 9.213406391,
                        "remaining_time": 128.3001218
                      },
                      {
                        "learn": [
                          0.4304517547
                        ],
                        "iteration": 67,
                        "passed_time": 9.333020129,
                        "remaining_time": 127.9172759
                      },
                      {
                        "learn": [
                          0.4303553334
                        ],
                        "iteration": 68,
                        "passed_time": 9.459726913,
                        "remaining_time": 127.6377646
                      },
                      {
                        "learn": [
                          0.43015565
                        ],
                        "iteration": 69,
                        "passed_time": 9.609130942,
                        "remaining_time": 127.6641682
                      },
                      {
                        "learn": [
                          0.4299522722
                        ],
                        "iteration": 70,
                        "passed_time": 9.738657953,
                        "remaining_time": 127.4255386
                      },
                      {
                        "learn": [
                          0.4296712843
                        ],
                        "iteration": 71,
                        "passed_time": 9.851682443,
                        "remaining_time": 126.9772404
                      },
                      {
                        "learn": [
                          0.4295426379
                        ],
                        "iteration": 72,
                        "passed_time": 9.980597048,
                        "remaining_time": 126.7399105
                      },
                      {
                        "learn": [
                          0.42942877
                        ],
                        "iteration": 73,
                        "passed_time": 10.10478356,
                        "remaining_time": 126.4463456
                      },
                      {
                        "learn": [
                          0.429156601
                        ],
                        "iteration": 74,
                        "passed_time": 10.21246005,
                        "remaining_time": 125.953674
                      },
                      {
                        "learn": [
                          0.4289977301
                        ],
                        "iteration": 75,
                        "passed_time": 10.32709407,
                        "remaining_time": 125.5557226
                      },
                      {
                        "learn": [
                          0.4288816194
                        ],
                        "iteration": 76,
                        "passed_time": 10.44557957,
                        "remaining_time": 125.211298
                      },
                      {
                        "learn": [
                          0.4286496391
                        ],
                        "iteration": 77,
                        "passed_time": 10.574021,
                        "remaining_time": 124.9903508
                      },
                      {
                        "learn": [
                          0.4284669417
                        ],
                        "iteration": 78,
                        "passed_time": 10.72048946,
                        "remaining_time": 124.9819087
                      },
                      {
                        "learn": [
                          0.4283655963
                        ],
                        "iteration": 79,
                        "passed_time": 10.83855742,
                        "remaining_time": 124.6434103
                      },
                      {
                        "learn": [
                          0.428231114
                        ],
                        "iteration": 80,
                        "passed_time": 10.93581847,
                        "remaining_time": 124.0742861
                      },
                      {
                        "learn": [
                          0.4280162323
                        ],
                        "iteration": 81,
                        "passed_time": 11.06863036,
                        "remaining_time": 123.9146667
                      },
                      {
                        "learn": [
                          0.4278838299
                        ],
                        "iteration": 82,
                        "passed_time": 11.18320394,
                        "remaining_time": 123.5541929
                      },
                      {
                        "learn": [
                          0.4277469148
                        ],
                        "iteration": 83,
                        "passed_time": 11.3050584,
                        "remaining_time": 123.2789702
                      },
                      {
                        "learn": [
                          0.4275682756
                        ],
                        "iteration": 84,
                        "passed_time": 11.42111514,
                        "remaining_time": 122.9449453
                      },
                      {
                        "learn": [
                          0.4273955804
                        ],
                        "iteration": 85,
                        "passed_time": 11.55247722,
                        "remaining_time": 122.7786533
                      },
                      {
                        "learn": [
                          0.4271800504
                        ],
                        "iteration": 86,
                        "passed_time": 11.66493745,
                        "remaining_time": 122.4148034
                      },
                      {
                        "learn": [
                          0.4270353561
                        ],
                        "iteration": 87,
                        "passed_time": 11.76922393,
                        "remaining_time": 121.9719571
                      },
                      {
                        "learn": [
                          0.4268065565
                        ],
                        "iteration": 88,
                        "passed_time": 11.8556486,
                        "remaining_time": 121.3538862
                      },
                      {
                        "learn": [
                          0.4266722951
                        ],
                        "iteration": 89,
                        "passed_time": 11.97731115,
                        "remaining_time": 121.1039239
                      },
                      {
                        "learn": [
                          0.426549798
                        ],
                        "iteration": 90,
                        "passed_time": 12.11423324,
                        "remaining_time": 121.009209
                      },
                      {
                        "learn": [
                          0.4264527079
                        ],
                        "iteration": 91,
                        "passed_time": 12.24000363,
                        "remaining_time": 120.8035141
                      },
                      {
                        "learn": [
                          0.4263488702
                        ],
                        "iteration": 92,
                        "passed_time": 12.37167265,
                        "remaining_time": 120.6570655
                      },
                      {
                        "learn": [
                          0.4261794499
                        ],
                        "iteration": 93,
                        "passed_time": 12.4885577,
                        "remaining_time": 120.3684391
                      },
                      {
                        "learn": [
                          0.4261109047
                        ],
                        "iteration": 94,
                        "passed_time": 12.60456098,
                        "remaining_time": 120.0750283
                      },
                      {
                        "learn": [
                          0.4259661137
                        ],
                        "iteration": 95,
                        "passed_time": 12.72494581,
                        "remaining_time": 119.826573
                      },
                      {
                        "learn": [
                          0.4258293642
                        ],
                        "iteration": 96,
                        "passed_time": 12.845832,
                        "remaining_time": 119.5854257
                      },
                      {
                        "learn": [
                          0.4256598072
                        ],
                        "iteration": 97,
                        "passed_time": 12.9879542,
                        "remaining_time": 119.5421907
                      },
                      {
                        "learn": [
                          0.4255590177
                        ],
                        "iteration": 98,
                        "passed_time": 13.10996067,
                        "remaining_time": 119.3138845
                      },
                      {
                        "learn": [
                          0.4254502512
                        ],
                        "iteration": 99,
                        "passed_time": 13.22208041,
                        "remaining_time": 118.9987237
                      },
                      {
                        "learn": [
                          0.4254222546
                        ],
                        "iteration": 100,
                        "passed_time": 13.32522476,
                        "remaining_time": 118.6076936
                      },
                      {
                        "learn": [
                          0.4253032187
                        ],
                        "iteration": 101,
                        "passed_time": 13.43594923,
                        "remaining_time": 118.2890432
                      },
                      {
                        "learn": [
                          0.4251305123
                        ],
                        "iteration": 102,
                        "passed_time": 13.58342109,
                        "remaining_time": 118.2944535
                      },
                      {
                        "learn": [
                          0.4250576662
                        ],
                        "iteration": 103,
                        "passed_time": 13.71076668,
                        "remaining_time": 118.1235283
                      },
                      {
                        "learn": [
                          0.4249479577
                        ],
                        "iteration": 104,
                        "passed_time": 13.81473742,
                        "remaining_time": 117.7541904
                      },
                      {
                        "learn": [
                          0.4248702741
                        ],
                        "iteration": 105,
                        "passed_time": 13.92053831,
                        "remaining_time": 117.4052948
                      },
                      {
                        "learn": [
                          0.4247920664
                        ],
                        "iteration": 106,
                        "passed_time": 14.02822452,
                        "remaining_time": 117.0766775
                      },
                      {
                        "learn": [
                          0.4246690034
                        ],
                        "iteration": 107,
                        "passed_time": 14.10698271,
                        "remaining_time": 116.5132276
                      },
                      {
                        "learn": [
                          0.4245423763
                        ],
                        "iteration": 108,
                        "passed_time": 14.22810692,
                        "remaining_time": 116.3049841
                      },
                      {
                        "learn": [
                          0.4244383696
                        ],
                        "iteration": 109,
                        "passed_time": 14.36720751,
                        "remaining_time": 116.2437698
                      },
                      {
                        "learn": [
                          0.4243343009
                        ],
                        "iteration": 110,
                        "passed_time": 14.50009336,
                        "remaining_time": 116.1313784
                      },
                      {
                        "learn": [
                          0.4242215054
                        ],
                        "iteration": 111,
                        "passed_time": 14.6160133,
                        "remaining_time": 115.8841054
                      },
                      {
                        "learn": [
                          0.4241596548
                        ],
                        "iteration": 112,
                        "passed_time": 14.75349365,
                        "remaining_time": 115.808397
                      },
                      {
                        "learn": [
                          0.4240398265
                        ],
                        "iteration": 113,
                        "passed_time": 14.86346826,
                        "remaining_time": 115.5178322
                      },
                      {
                        "learn": [
                          0.4239769629
                        ],
                        "iteration": 114,
                        "passed_time": 14.98021097,
                        "remaining_time": 115.2824931
                      },
                      {
                        "learn": [
                          0.4239475078
                        ],
                        "iteration": 115,
                        "passed_time": 15.04349279,
                        "remaining_time": 114.6417899
                      },
                      {
                        "learn": [
                          0.4238982283
                        ],
                        "iteration": 116,
                        "passed_time": 15.14991228,
                        "remaining_time": 114.3365175
                      },
                      {
                        "learn": [
                          0.4238692834
                        ],
                        "iteration": 117,
                        "passed_time": 15.26178399,
                        "remaining_time": 114.0753684
                      },
                      {
                        "learn": [
                          0.4238128338
                        ],
                        "iteration": 118,
                        "passed_time": 15.36765446,
                        "remaining_time": 113.772299
                      },
                      {
                        "learn": [
                          0.4237045735
                        ],
                        "iteration": 119,
                        "passed_time": 15.52306831,
                        "remaining_time": 113.8358343
                      },
                      {
                        "learn": [
                          0.4235876316
                        ],
                        "iteration": 120,
                        "passed_time": 15.70821133,
                        "remaining_time": 114.111717
                      },
                      {
                        "learn": [
                          0.4234700561
                        ],
                        "iteration": 121,
                        "passed_time": 15.95806774,
                        "remaining_time": 114.8457662
                      },
                      {
                        "learn": [
                          0.4233039837
                        ],
                        "iteration": 122,
                        "passed_time": 16.14307111,
                        "remaining_time": 115.1014094
                      },
                      {
                        "learn": [
                          0.4231504542
                        ],
                        "iteration": 123,
                        "passed_time": 16.33022726,
                        "remaining_time": 115.3651539
                      },
                      {
                        "learn": [
                          0.4230713042
                        ],
                        "iteration": 124,
                        "passed_time": 16.54432382,
                        "remaining_time": 115.8102668
                      },
                      {
                        "learn": [
                          0.4228886223
                        ],
                        "iteration": 125,
                        "passed_time": 16.73508062,
                        "remaining_time": 116.0830195
                      },
                      {
                        "learn": [
                          0.4227433823
                        ],
                        "iteration": 126,
                        "passed_time": 16.92911068,
                        "remaining_time": 116.3709734
                      },
                      {
                        "learn": [
                          0.4226373805
                        ],
                        "iteration": 127,
                        "passed_time": 17.11241511,
                        "remaining_time": 116.5783279
                      },
                      {
                        "learn": [
                          0.4225140385
                        ],
                        "iteration": 128,
                        "passed_time": 17.29540973,
                        "remaining_time": 116.7775339
                      },
                      {
                        "learn": [
                          0.4224479479
                        ],
                        "iteration": 129,
                        "passed_time": 17.50307638,
                        "remaining_time": 117.1359727
                      },
                      {
                        "learn": [
                          0.4223141154
                        ],
                        "iteration": 130,
                        "passed_time": 17.74717439,
                        "remaining_time": 117.7274393
                      },
                      {
                        "learn": [
                          0.4222373519
                        ],
                        "iteration": 131,
                        "passed_time": 17.95219504,
                        "remaining_time": 118.0492825
                      },
                      {
                        "learn": [
                          0.4221151129
                        ],
                        "iteration": 132,
                        "passed_time": 18.20720141,
                        "remaining_time": 118.6890498
                      },
                      {
                        "learn": [
                          0.4220253559
                        ],
                        "iteration": 133,
                        "passed_time": 18.42816446,
                        "remaining_time": 119.0954509
                      },
                      {
                        "learn": [
                          0.4219786591
                        ],
                        "iteration": 134,
                        "passed_time": 18.65102109,
                        "remaining_time": 119.5046907
                      },
                      {
                        "learn": [
                          0.4219063174
                        ],
                        "iteration": 135,
                        "passed_time": 18.90145265,
                        "remaining_time": 120.0798168
                      },
                      {
                        "learn": [
                          0.4218470395
                        ],
                        "iteration": 136,
                        "passed_time": 19.09925223,
                        "remaining_time": 120.311348
                      },
                      {
                        "learn": [
                          0.4218062984
                        ],
                        "iteration": 137,
                        "passed_time": 19.20442098,
                        "remaining_time": 119.9580499
                      },
                      {
                        "learn": [
                          0.4217163802
                        ],
                        "iteration": 138,
                        "passed_time": 19.32437434,
                        "remaining_time": 119.6999015
                      },
                      {
                        "learn": [
                          0.4216014111
                        ],
                        "iteration": 139,
                        "passed_time": 19.45190054,
                        "remaining_time": 119.4902462
                      },
                      {
                        "learn": [
                          0.4215675941
                        ],
                        "iteration": 140,
                        "passed_time": 19.57730157,
                        "remaining_time": 119.2688089
                      },
                      {
                        "learn": [
                          0.4214556767
                        ],
                        "iteration": 141,
                        "passed_time": 19.69370634,
                        "remaining_time": 118.9943665
                      },
                      {
                        "learn": [
                          0.4213549761
                        ],
                        "iteration": 142,
                        "passed_time": 19.77511041,
                        "remaining_time": 118.512375
                      },
                      {
                        "learn": [
                          0.4212907308
                        ],
                        "iteration": 143,
                        "passed_time": 19.86329154,
                        "remaining_time": 118.076233
                      },
                      {
                        "learn": [
                          0.4212059859
                        ],
                        "iteration": 144,
                        "passed_time": 19.99667099,
                        "remaining_time": 117.9114048
                      },
                      {
                        "learn": [
                          0.4211644675
                        ],
                        "iteration": 145,
                        "passed_time": 20.11775163,
                        "remaining_time": 117.6750677
                      },
                      {
                        "learn": [
                          0.4210228097
                        ],
                        "iteration": 146,
                        "passed_time": 20.22533756,
                        "remaining_time": 117.3619928
                      },
                      {
                        "learn": [
                          0.4209559861
                        ],
                        "iteration": 147,
                        "passed_time": 20.31793109,
                        "remaining_time": 116.9653871
                      },
                      {
                        "learn": [
                          0.4208485239
                        ],
                        "iteration": 148,
                        "passed_time": 20.42780101,
                        "remaining_time": 116.6715346
                      },
                      {
                        "learn": [
                          0.4207606809
                        ],
                        "iteration": 149,
                        "passed_time": 20.56966847,
                        "remaining_time": 116.5614546
                      },
                      {
                        "learn": [
                          0.4207047567
                        ],
                        "iteration": 150,
                        "passed_time": 20.68109913,
                        "remaining_time": 116.2798222
                      },
                      {
                        "learn": [
                          0.420598266
                        ],
                        "iteration": 151,
                        "passed_time": 20.80700153,
                        "remaining_time": 116.0811664
                      },
                      {
                        "learn": [
                          0.4205504318
                        ],
                        "iteration": 152,
                        "passed_time": 20.93172291,
                        "remaining_time": 115.8769236
                      },
                      {
                        "learn": [
                          0.4204405065
                        ],
                        "iteration": 153,
                        "passed_time": 21.08526818,
                        "remaining_time": 115.8320576
                      },
                      {
                        "learn": [
                          0.4203652315
                        ],
                        "iteration": 154,
                        "passed_time": 21.20068668,
                        "remaining_time": 115.5779371
                      },
                      {
                        "learn": [
                          0.4202830572
                        ],
                        "iteration": 155,
                        "passed_time": 21.3172965,
                        "remaining_time": 115.3320401
                      },
                      {
                        "learn": [
                          0.4202232885
                        ],
                        "iteration": 156,
                        "passed_time": 21.42088001,
                        "remaining_time": 115.0178462
                      },
                      {
                        "learn": [
                          0.4201436815
                        ],
                        "iteration": 157,
                        "passed_time": 21.52100988,
                        "remaining_time": 114.6879134
                      },
                      {
                        "learn": [
                          0.4201069423
                        ],
                        "iteration": 158,
                        "passed_time": 21.64784408,
                        "remaining_time": 114.5021187
                      },
                      {
                        "learn": [
                          0.4200220048
                        ],
                        "iteration": 159,
                        "passed_time": 21.75625691,
                        "remaining_time": 114.2203488
                      },
                      {
                        "learn": [
                          0.4199535084
                        ],
                        "iteration": 160,
                        "passed_time": 21.85775885,
                        "remaining_time": 113.9047185
                      },
                      {
                        "learn": [
                          0.4199534876
                        ],
                        "iteration": 161,
                        "passed_time": 21.9030991,
                        "remaining_time": 113.3012163
                      },
                      {
                        "learn": [
                          0.4198770841
                        ],
                        "iteration": 162,
                        "passed_time": 22.0290064,
                        "remaining_time": 113.1182721
                      },
                      {
                        "learn": [
                          0.419780254
                        ],
                        "iteration": 163,
                        "passed_time": 22.14472722,
                        "remaining_time": 112.8840973
                      },
                      {
                        "learn": [
                          0.4197314775
                        ],
                        "iteration": 164,
                        "passed_time": 22.22053654,
                        "remaining_time": 112.4493819
                      },
                      {
                        "learn": [
                          0.4196226775
                        ],
                        "iteration": 165,
                        "passed_time": 22.34377422,
                        "remaining_time": 112.2572753
                      },
                      {
                        "learn": [
                          0.4196012985
                        ],
                        "iteration": 166,
                        "passed_time": 22.46206998,
                        "remaining_time": 112.0413431
                      },
                      {
                        "learn": [
                          0.4195503121
                        ],
                        "iteration": 167,
                        "passed_time": 22.59237474,
                        "remaining_time": 111.8860463
                      },
                      {
                        "learn": [
                          0.4194233682
                        ],
                        "iteration": 168,
                        "passed_time": 22.70780243,
                        "remaining_time": 111.6578924
                      },
                      {
                        "learn": [
                          0.4193033395
                        ],
                        "iteration": 169,
                        "passed_time": 22.83754871,
                        "remaining_time": 111.5009731
                      },
                      {
                        "learn": [
                          0.4192749489
                        ],
                        "iteration": 170,
                        "passed_time": 22.94621129,
                        "remaining_time": 111.2421588
                      },
                      {
                        "learn": [
                          0.4191996248
                        ],
                        "iteration": 171,
                        "passed_time": 23.09529131,
                        "remaining_time": 111.1796581
                      },
                      {
                        "learn": [
                          0.4191650935
                        ],
                        "iteration": 172,
                        "passed_time": 23.19568234,
                        "remaining_time": 110.8834063
                      },
                      {
                        "learn": [
                          0.4190849208
                        ],
                        "iteration": 173,
                        "passed_time": 23.33074834,
                        "remaining_time": 110.7540122
                      },
                      {
                        "learn": [
                          0.4189825785
                        ],
                        "iteration": 174,
                        "passed_time": 23.4558305,
                        "remaining_time": 110.5774867
                      },
                      {
                        "learn": [
                          0.4189253387
                        ],
                        "iteration": 175,
                        "passed_time": 23.58736506,
                        "remaining_time": 110.4317546
                      },
                      {
                        "learn": [
                          0.4188728299
                        ],
                        "iteration": 176,
                        "passed_time": 23.67509279,
                        "remaining_time": 110.0824936
                      },
                      {
                        "learn": [
                          0.4187838801
                        ],
                        "iteration": 177,
                        "passed_time": 23.79058498,
                        "remaining_time": 109.8643868
                      },
                      {
                        "learn": [
                          0.4187121676
                        ],
                        "iteration": 178,
                        "passed_time": 23.91434927,
                        "remaining_time": 109.6853673
                      },
                      {
                        "learn": [
                          0.4186128341
                        ],
                        "iteration": 179,
                        "passed_time": 24.05351853,
                        "remaining_time": 109.57714
                      },
                      {
                        "learn": [
                          0.4185001578
                        ],
                        "iteration": 180,
                        "passed_time": 24.1940076,
                        "remaining_time": 109.4745427
                      },
                      {
                        "learn": [
                          0.4184751636
                        ],
                        "iteration": 181,
                        "passed_time": 24.30782375,
                        "remaining_time": 109.2516474
                      },
                      {
                        "learn": [
                          0.4183669172
                        ],
                        "iteration": 182,
                        "passed_time": 24.46055571,
                        "remaining_time": 109.2036831
                      },
                      {
                        "learn": [
                          0.418339248
                        ],
                        "iteration": 183,
                        "passed_time": 24.58719502,
                        "remaining_time": 109.0388649
                      },
                      {
                        "learn": [
                          0.4182955223
                        ],
                        "iteration": 184,
                        "passed_time": 24.71266419,
                        "remaining_time": 108.8693044
                      },
                      {
                        "learn": [
                          0.4181979782
                        ],
                        "iteration": 185,
                        "passed_time": 24.8324517,
                        "remaining_time": 108.6753531
                      },
                      {
                        "learn": [
                          0.4181125545
                        ],
                        "iteration": 186,
                        "passed_time": 24.95402228,
                        "remaining_time": 108.4899472
                      },
                      {
                        "learn": [
                          0.4180557799
                        ],
                        "iteration": 187,
                        "passed_time": 25.0977773,
                        "remaining_time": 108.4010381
                      },
                      {
                        "learn": [
                          0.4180100267
                        ],
                        "iteration": 188,
                        "passed_time": 25.24307312,
                        "remaining_time": 108.3181603
                      },
                      {
                        "learn": [
                          0.4179652645
                        ],
                        "iteration": 189,
                        "passed_time": 25.37764326,
                        "remaining_time": 108.1889002
                      },
                      {
                        "learn": [
                          0.4179387019
                        ],
                        "iteration": 190,
                        "passed_time": 25.50859123,
                        "remaining_time": 108.0442424
                      },
                      {
                        "learn": [
                          0.4178376355
                        ],
                        "iteration": 191,
                        "passed_time": 25.63603776,
                        "remaining_time": 107.8849922
                      },
                      {
                        "learn": [
                          0.4176802349
                        ],
                        "iteration": 192,
                        "passed_time": 25.75128363,
                        "remaining_time": 107.6750564
                      },
                      {
                        "learn": [
                          0.417599595
                        ],
                        "iteration": 193,
                        "passed_time": 26.10826545,
                        "remaining_time": 108.4704225
                      },
                      {
                        "learn": [
                          0.4175284591
                        ],
                        "iteration": 194,
                        "passed_time": 26.33362043,
                        "remaining_time": 108.7105869
                      },
                      {
                        "learn": [
                          0.4174158149
                        ],
                        "iteration": 195,
                        "passed_time": 26.43768227,
                        "remaining_time": 108.4484518
                      },
                      {
                        "learn": [
                          0.4173641707
                        ],
                        "iteration": 196,
                        "passed_time": 26.5458009,
                        "remaining_time": 108.2044575
                      },
                      {
                        "learn": [
                          0.4172619993
                        ],
                        "iteration": 197,
                        "passed_time": 26.65857705,
                        "remaining_time": 107.980701
                      },
                      {
                        "learn": [
                          0.4171744219
                        ],
                        "iteration": 198,
                        "passed_time": 26.78614808,
                        "remaining_time": 107.8176111
                      },
                      {
                        "learn": [
                          0.4171372435
                        ],
                        "iteration": 199,
                        "passed_time": 27.19369467,
                        "remaining_time": 108.7747787
                      },
                      {
                        "learn": [
                          0.4170621957
                        ],
                        "iteration": 200,
                        "passed_time": 27.36645731,
                        "remaining_time": 108.7850716
                      },
                      {
                        "learn": [
                          0.4169288733
                        ],
                        "iteration": 201,
                        "passed_time": 27.49211772,
                        "remaining_time": 108.607475
                      },
                      {
                        "learn": [
                          0.4168354785
                        ],
                        "iteration": 202,
                        "passed_time": 27.60853116,
                        "remaining_time": 108.3940854
                      },
                      {
                        "learn": [
                          0.4167451066
                        ],
                        "iteration": 203,
                        "passed_time": 27.73647524,
                        "remaining_time": 108.2266387
                      },
                      {
                        "learn": [
                          0.4166585027
                        ],
                        "iteration": 204,
                        "passed_time": 27.9531511,
                        "remaining_time": 108.4036835
                      },
                      {
                        "learn": [
                          0.416563839
                        ],
                        "iteration": 205,
                        "passed_time": 28.32900679,
                        "remaining_time": 109.1904437
                      },
                      {
                        "learn": [
                          0.4164852066
                        ],
                        "iteration": 206,
                        "passed_time": 28.45284893,
                        "remaining_time": 109.0005276
                      },
                      {
                        "learn": [
                          0.41639081
                        ],
                        "iteration": 207,
                        "passed_time": 28.56804863,
                        "remaining_time": 108.778339
                      },
                      {
                        "learn": [
                          0.416297971
                        ],
                        "iteration": 208,
                        "passed_time": 28.68879085,
                        "remaining_time": 108.578151
                      },
                      {
                        "learn": [
                          0.4162059472
                        ],
                        "iteration": 209,
                        "passed_time": 28.80606755,
                        "remaining_time": 108.3656827
                      },
                      {
                        "learn": [
                          0.4161404198
                        ],
                        "iteration": 210,
                        "passed_time": 28.94163618,
                        "remaining_time": 108.2225163
                      },
                      {
                        "learn": [
                          0.416088203
                        ],
                        "iteration": 211,
                        "passed_time": 29.05480509,
                        "remaining_time": 107.9961623
                      },
                      {
                        "learn": [
                          0.416015675
                        ],
                        "iteration": 212,
                        "passed_time": 29.21937238,
                        "remaining_time": 107.9607796
                      },
                      {
                        "learn": [
                          0.4159717531
                        ],
                        "iteration": 213,
                        "passed_time": 29.51373863,
                        "remaining_time": 108.4009279
                      },
                      {
                        "learn": [
                          0.4158885047
                        ],
                        "iteration": 214,
                        "passed_time": 29.71278557,
                        "remaining_time": 108.4862171
                      },
                      {
                        "learn": [
                          0.4157689012
                        ],
                        "iteration": 215,
                        "passed_time": 29.94811475,
                        "remaining_time": 108.7005646
                      },
                      {
                        "learn": [
                          0.4157402061
                        ],
                        "iteration": 216,
                        "passed_time": 30.18955348,
                        "remaining_time": 108.9328128
                      },
                      {
                        "learn": [
                          0.4157058284
                        ],
                        "iteration": 217,
                        "passed_time": 30.44302512,
                        "remaining_time": 109.2038791
                      },
                      {
                        "learn": [
                          0.4156623889
                        ],
                        "iteration": 218,
                        "passed_time": 30.63328646,
                        "remaining_time": 109.2447339
                      },
                      {
                        "learn": [
                          0.4155348005
                        ],
                        "iteration": 219,
                        "passed_time": 30.85444058,
                        "remaining_time": 109.3930166
                      },
                      {
                        "learn": [
                          0.4154546617
                        ],
                        "iteration": 220,
                        "passed_time": 31.10438875,
                        "remaining_time": 109.6394517
                      },
                      {
                        "learn": [
                          0.4153888397
                        ],
                        "iteration": 221,
                        "passed_time": 31.36815932,
                        "remaining_time": 109.9298556
                      },
                      {
                        "learn": [
                          0.415281092
                        ],
                        "iteration": 222,
                        "passed_time": 31.59521081,
                        "remaining_time": 110.0873489
                      },
                      {
                        "learn": [
                          0.4152284803
                        ],
                        "iteration": 223,
                        "passed_time": 31.79035345,
                        "remaining_time": 110.1308673
                      },
                      {
                        "learn": [
                          0.4151067939
                        ],
                        "iteration": 224,
                        "passed_time": 32.0624428,
                        "remaining_time": 110.437303
                      },
                      {
                        "learn": [
                          0.4150723976
                        ],
                        "iteration": 225,
                        "passed_time": 32.28515077,
                        "remaining_time": 110.5694987
                      },
                      {
                        "learn": [
                          0.415012303
                        ],
                        "iteration": 226,
                        "passed_time": 32.50021308,
                        "remaining_time": 110.6725318
                      },
                      {
                        "learn": [
                          0.4149343026
                        ],
                        "iteration": 227,
                        "passed_time": 32.76306688,
                        "remaining_time": 110.9345949
                      },
                      {
                        "learn": [
                          0.4148407495
                        ],
                        "iteration": 228,
                        "passed_time": 32.86751835,
                        "remaining_time": 110.6587627
                      },
                      {
                        "learn": [
                          0.4147901249
                        ],
                        "iteration": 229,
                        "passed_time": 32.97966577,
                        "remaining_time": 110.4101854
                      },
                      {
                        "learn": [
                          0.4147451642
                        ],
                        "iteration": 230,
                        "passed_time": 33.08714674,
                        "remaining_time": 110.1472547
                      },
                      {
                        "learn": [
                          0.4147134322
                        ],
                        "iteration": 231,
                        "passed_time": 33.20753404,
                        "remaining_time": 109.9283885
                      },
                      {
                        "learn": [
                          0.4146671724
                        ],
                        "iteration": 232,
                        "passed_time": 33.3197902,
                        "remaining_time": 109.6836012
                      },
                      {
                        "learn": [
                          0.4146040733
                        ],
                        "iteration": 233,
                        "passed_time": 33.45122355,
                        "remaining_time": 109.5027232
                      },
                      {
                        "learn": [
                          0.414566414
                        ],
                        "iteration": 234,
                        "passed_time": 33.58686236,
                        "remaining_time": 109.3359562
                      },
                      {
                        "learn": [
                          0.4145471537
                        ],
                        "iteration": 235,
                        "passed_time": 33.69828643,
                        "remaining_time": 109.0910629
                      },
                      {
                        "learn": [
                          0.414431741
                        ],
                        "iteration": 236,
                        "passed_time": 33.82255399,
                        "remaining_time": 108.8886443
                      },
                      {
                        "learn": [
                          0.4144017611
                        ],
                        "iteration": 237,
                        "passed_time": 33.94986878,
                        "remaining_time": 108.6966387
                      },
                      {
                        "learn": [
                          0.4143455951
                        ],
                        "iteration": 238,
                        "passed_time": 34.07063306,
                        "remaining_time": 108.484317
                      },
                      {
                        "learn": [
                          0.4142503783
                        ],
                        "iteration": 239,
                        "passed_time": 34.20199473,
                        "remaining_time": 108.3063166
                      },
                      {
                        "learn": [
                          0.4142076714
                        ],
                        "iteration": 240,
                        "passed_time": 34.33449576,
                        "remaining_time": 108.1322916
                      },
                      {
                        "learn": [
                          0.4141329202
                        ],
                        "iteration": 241,
                        "passed_time": 34.46259435,
                        "remaining_time": 107.9448203
                      },
                      {
                        "learn": [
                          0.4140766888
                        ],
                        "iteration": 242,
                        "passed_time": 34.61584913,
                        "remaining_time": 107.8362049
                      },
                      {
                        "learn": [
                          0.4140277558
                        ],
                        "iteration": 243,
                        "passed_time": 34.72528199,
                        "remaining_time": 107.5914475
                      },
                      {
                        "learn": [
                          0.4139622826
                        ],
                        "iteration": 244,
                        "passed_time": 34.83856916,
                        "remaining_time": 107.3596723
                      },
                      {
                        "learn": [
                          0.4139103159
                        ],
                        "iteration": 245,
                        "passed_time": 34.95185263,
                        "remaining_time": 107.1288491
                      },
                      {
                        "learn": [
                          0.4138567332
                        ],
                        "iteration": 246,
                        "passed_time": 35.0462857,
                        "remaining_time": 106.8415107
                      },
                      {
                        "learn": [
                          0.4138341564
                        ],
                        "iteration": 247,
                        "passed_time": 35.1883782,
                        "remaining_time": 106.7002436
                      },
                      {
                        "learn": [
                          0.4138092654
                        ],
                        "iteration": 248,
                        "passed_time": 35.32912554,
                        "remaining_time": 106.5549128
                      },
                      {
                        "learn": [
                          0.4137541598
                        ],
                        "iteration": 249,
                        "passed_time": 35.43652199,
                        "remaining_time": 106.309566
                      },
                      {
                        "learn": [
                          0.4136910108
                        ],
                        "iteration": 250,
                        "passed_time": 35.55735385,
                        "remaining_time": 106.1054105
                      },
                      {
                        "learn": [
                          0.4135904784
                        ],
                        "iteration": 251,
                        "passed_time": 35.68222834,
                        "remaining_time": 105.9139159
                      },
                      {
                        "learn": [
                          0.4135389883
                        ],
                        "iteration": 252,
                        "passed_time": 35.796542,
                        "remaining_time": 105.6917663
                      },
                      {
                        "learn": [
                          0.4134612066
                        ],
                        "iteration": 253,
                        "passed_time": 35.92315881,
                        "remaining_time": 105.5066003
                      },
                      {
                        "learn": [
                          0.4134364393
                        ],
                        "iteration": 254,
                        "passed_time": 36.05111715,
                        "remaining_time": 105.3258128
                      },
                      {
                        "learn": [
                          0.4134035983
                        ],
                        "iteration": 255,
                        "passed_time": 36.16063478,
                        "remaining_time": 105.0918448
                      },
                      {
                        "learn": [
                          0.4133830107
                        ],
                        "iteration": 256,
                        "passed_time": 36.31466543,
                        "remaining_time": 104.9875347
                      },
                      {
                        "learn": [
                          0.4133117728
                        ],
                        "iteration": 257,
                        "passed_time": 36.55506926,
                        "remaining_time": 105.1312457
                      },
                      {
                        "learn": [
                          0.4132695828
                        ],
                        "iteration": 258,
                        "passed_time": 36.79617746,
                        "remaining_time": 105.2740058
                      },
                      {
                        "learn": [
                          0.4132408462
                        ],
                        "iteration": 259,
                        "passed_time": 37.0403845,
                        "remaining_time": 105.4226328
                      },
                      {
                        "learn": [
                          0.4131711097
                        ],
                        "iteration": 260,
                        "passed_time": 37.31102843,
                        "remaining_time": 105.6431035
                      },
                      {
                        "learn": [
                          0.4131493544
                        ],
                        "iteration": 261,
                        "passed_time": 37.54947167,
                        "remaining_time": 105.7691225
                      },
                      {
                        "learn": [
                          0.4131220042
                        ],
                        "iteration": 262,
                        "passed_time": 37.7607437,
                        "remaining_time": 105.8162285
                      },
                      {
                        "learn": [
                          0.4130890308
                        ],
                        "iteration": 263,
                        "passed_time": 38.01344375,
                        "remaining_time": 105.9768735
                      },
                      {
                        "learn": [
                          0.4130501182
                        ],
                        "iteration": 264,
                        "passed_time": 38.22522474,
                        "remaining_time": 106.0209063
                      },
                      {
                        "learn": [
                          0.4129680272
                        ],
                        "iteration": 265,
                        "passed_time": 38.44216127,
                        "remaining_time": 106.077242
                      },
                      {
                        "learn": [
                          0.4129163354
                        ],
                        "iteration": 266,
                        "passed_time": 38.55756741,
                        "remaining_time": 105.8527974
                      },
                      {
                        "learn": [
                          0.4128763773
                        ],
                        "iteration": 267,
                        "passed_time": 38.6702647,
                        "remaining_time": 105.6217678
                      },
                      {
                        "learn": [
                          0.4128350317
                        ],
                        "iteration": 268,
                        "passed_time": 38.78553149,
                        "remaining_time": 105.3986004
                      },
                      {
                        "learn": [
                          0.412781902
                        ],
                        "iteration": 269,
                        "passed_time": 38.92650822,
                        "remaining_time": 105.2457445
                      },
                      {
                        "learn": [
                          0.4127238591
                        ],
                        "iteration": 270,
                        "passed_time": 39.07010836,
                        "remaining_time": 105.1000332
                      },
                      {
                        "learn": [
                          0.4126803401
                        ],
                        "iteration": 271,
                        "passed_time": 39.23592032,
                        "remaining_time": 105.0137867
                      },
                      {
                        "learn": [
                          0.412620685
                        ],
                        "iteration": 272,
                        "passed_time": 39.39438361,
                        "remaining_time": 104.9073879
                      },
                      {
                        "learn": [
                          0.4125447084
                        ],
                        "iteration": 273,
                        "passed_time": 39.55580836,
                        "remaining_time": 104.8084557
                      },
                      {
                        "learn": [
                          0.4125132837
                        ],
                        "iteration": 274,
                        "passed_time": 39.69633506,
                        "remaining_time": 104.6539743
                      },
                      {
                        "learn": [
                          0.4124694122
                        ],
                        "iteration": 275,
                        "passed_time": 39.84052626,
                        "remaining_time": 104.5092066
                      },
                      {
                        "learn": [
                          0.4124356623
                        ],
                        "iteration": 276,
                        "passed_time": 39.98142093,
                        "remaining_time": 104.3558387
                      },
                      {
                        "learn": [
                          0.4123569556
                        ],
                        "iteration": 277,
                        "passed_time": 40.14673124,
                        "remaining_time": 104.2659711
                      },
                      {
                        "learn": [
                          0.4123360596
                        ],
                        "iteration": 278,
                        "passed_time": 40.29385353,
                        "remaining_time": 104.1285605
                      },
                      {
                        "learn": [
                          0.4122939719
                        ],
                        "iteration": 279,
                        "passed_time": 40.48004633,
                        "remaining_time": 104.0915477
                      },
                      {
                        "learn": [
                          0.4122717217
                        ],
                        "iteration": 280,
                        "passed_time": 40.69532515,
                        "remaining_time": 104.127896
                      },
                      {
                        "learn": [
                          0.4122303636
                        ],
                        "iteration": 281,
                        "passed_time": 40.86057793,
                        "remaining_time": 104.0350885
                      },
                      {
                        "learn": [
                          0.4121885576
                        ],
                        "iteration": 282,
                        "passed_time": 41.01470449,
                        "remaining_time": 103.9135799
                      },
                      {
                        "learn": [
                          0.4121534995
                        ],
                        "iteration": 283,
                        "passed_time": 41.17659392,
                        "remaining_time": 103.8114128
                      },
                      {
                        "learn": [
                          0.4121224963
                        ],
                        "iteration": 284,
                        "passed_time": 41.3197639,
                        "remaining_time": 103.6618638
                      },
                      {
                        "learn": [
                          0.4120574003
                        ],
                        "iteration": 285,
                        "passed_time": 41.54112033,
                        "remaining_time": 103.7075522
                      },
                      {
                        "learn": [
                          0.4119991189
                        ],
                        "iteration": 286,
                        "passed_time": 41.65955071,
                        "remaining_time": 103.4956782
                      },
                      {
                        "learn": [
                          0.4119808443
                        ],
                        "iteration": 287,
                        "passed_time": 41.75712575,
                        "remaining_time": 103.2328942
                      },
                      {
                        "learn": [
                          0.4119424315
                        ],
                        "iteration": 288,
                        "passed_time": 41.86987536,
                        "remaining_time": 103.0085861
                      },
                      {
                        "learn": [
                          0.4119069681
                        ],
                        "iteration": 289,
                        "passed_time": 41.98112207,
                        "remaining_time": 102.7813678
                      },
                      {
                        "learn": [
                          0.4118539117
                        ],
                        "iteration": 290,
                        "passed_time": 42.1156327,
                        "remaining_time": 102.6116274
                      },
                      {
                        "learn": [
                          0.41181968
                        ],
                        "iteration": 291,
                        "passed_time": 42.24488088,
                        "remaining_time": 102.4293687
                      },
                      {
                        "learn": [
                          0.4117612444
                        ],
                        "iteration": 292,
                        "passed_time": 42.33441238,
                        "remaining_time": 102.1516367
                      },
                      {
                        "learn": [
                          0.4117107099
                        ],
                        "iteration": 293,
                        "passed_time": 42.46789567,
                        "remaining_time": 101.9807291
                      },
                      {
                        "learn": [
                          0.4116795386
                        ],
                        "iteration": 294,
                        "passed_time": 42.58093591,
                        "remaining_time": 101.7612197
                      },
                      {
                        "learn": [
                          0.4116649684
                        ],
                        "iteration": 295,
                        "passed_time": 42.67815637,
                        "remaining_time": 101.5048043
                      },
                      {
                        "learn": [
                          0.4116393939
                        ],
                        "iteration": 296,
                        "passed_time": 42.8014161,
                        "remaining_time": 101.311096
                      },
                      {
                        "learn": [
                          0.4116141939
                        ],
                        "iteration": 297,
                        "passed_time": 43.02606799,
                        "remaining_time": 101.3567105
                      },
                      {
                        "learn": [
                          0.4115676405
                        ],
                        "iteration": 298,
                        "passed_time": 43.25100396,
                        "remaining_time": 101.4011832
                      },
                      {
                        "learn": [
                          0.4115327728
                        ],
                        "iteration": 299,
                        "passed_time": 43.50595004,
                        "remaining_time": 101.5138834
                      },
                      {
                        "learn": [
                          0.4114970545
                        ],
                        "iteration": 300,
                        "passed_time": 43.79329497,
                        "remaining_time": 101.6993794
                      },
                      {
                        "learn": [
                          0.4114589795
                        ],
                        "iteration": 301,
                        "passed_time": 43.99035324,
                        "remaining_time": 101.6730681
                      },
                      {
                        "learn": [
                          0.4114423274
                        ],
                        "iteration": 302,
                        "passed_time": 44.24687367,
                        "remaining_time": 101.7824124
                      },
                      {
                        "learn": [
                          0.4113666791
                        ],
                        "iteration": 303,
                        "passed_time": 44.53621629,
                        "remaining_time": 101.9644952
                      },
                      {
                        "learn": [
                          0.4113198567
                        ],
                        "iteration": 304,
                        "passed_time": 44.77012572,
                        "remaining_time": 102.0171717
                      },
                      {
                        "learn": [
                          0.4112725698
                        ],
                        "iteration": 305,
                        "passed_time": 44.96315733,
                        "remaining_time": 101.9752653
                      },
                      {
                        "learn": [
                          0.4112382212
                        ],
                        "iteration": 306,
                        "passed_time": 45.17653979,
                        "remaining_time": 101.9783129
                      },
                      {
                        "learn": [
                          0.4111945665
                        ],
                        "iteration": 307,
                        "passed_time": 45.38851804,
                        "remaining_time": 101.9768003
                      },
                      {
                        "learn": [
                          0.411031919
                        ],
                        "iteration": 308,
                        "passed_time": 45.66621287,
                        "remaining_time": 102.1208838
                      },
                      {
                        "learn": [
                          0.4110012839
                        ],
                        "iteration": 309,
                        "passed_time": 45.88741868,
                        "remaining_time": 102.1365125
                      },
                      {
                        "learn": [
                          0.4109351232
                        ],
                        "iteration": 310,
                        "passed_time": 46.16619634,
                        "remaining_time": 102.2781649
                      },
                      {
                        "learn": [
                          0.4108643965
                        ],
                        "iteration": 311,
                        "passed_time": 46.38056738,
                        "remaining_time": 102.2750973
                      },
                      {
                        "learn": [
                          0.4108105231
                        ],
                        "iteration": 312,
                        "passed_time": 46.63681946,
                        "remaining_time": 102.3626037
                      },
                      {
                        "learn": [
                          0.4107671982
                        ],
                        "iteration": 313,
                        "passed_time": 46.75608217,
                        "remaining_time": 102.1486381
                      },
                      {
                        "learn": [
                          0.410724894
                        ],
                        "iteration": 314,
                        "passed_time": 46.87941055,
                        "remaining_time": 101.944115
                      },
                      {
                        "learn": [
                          0.4106897016
                        ],
                        "iteration": 315,
                        "passed_time": 46.97787448,
                        "remaining_time": 101.6862853
                      },
                      {
                        "learn": [
                          0.4106509952
                        ],
                        "iteration": 316,
                        "passed_time": 47.07964582,
                        "remaining_time": 101.436587
                      },
                      {
                        "learn": [
                          0.4106009532
                        ],
                        "iteration": 317,
                        "passed_time": 47.20641842,
                        "remaining_time": 101.2414383
                      },
                      {
                        "learn": [
                          0.410532756
                        ],
                        "iteration": 318,
                        "passed_time": 47.33577041,
                        "remaining_time": 101.0522246
                      },
                      {
                        "learn": [
                          0.4104820684
                        ],
                        "iteration": 319,
                        "passed_time": 47.46396585,
                        "remaining_time": 100.8609274
                      },
                      {
                        "learn": [
                          0.4104583556
                        ],
                        "iteration": 320,
                        "passed_time": 47.60557433,
                        "remaining_time": 100.6983955
                      },
                      {
                        "learn": [
                          0.4104073124
                        ],
                        "iteration": 321,
                        "passed_time": 47.74315443,
                        "remaining_time": 100.5275115
                      },
                      {
                        "learn": [
                          0.4103789475
                        ],
                        "iteration": 322,
                        "passed_time": 47.86259772,
                        "remaining_time": 100.3188194
                      },
                      {
                        "learn": [
                          0.410360716
                        ],
                        "iteration": 323,
                        "passed_time": 47.99760581,
                        "remaining_time": 100.1431529
                      },
                      {
                        "learn": [
                          0.410311425
                        ],
                        "iteration": 324,
                        "passed_time": 48.12970637,
                        "remaining_time": 99.96169785
                      },
                      {
                        "learn": [
                          0.4102805462
                        ],
                        "iteration": 325,
                        "passed_time": 48.25687702,
                        "remaining_time": 99.7703531
                      },
                      {
                        "learn": [
                          0.4102296832
                        ],
                        "iteration": 326,
                        "passed_time": 48.38685944,
                        "remaining_time": 99.58518778
                      },
                      {
                        "learn": [
                          0.4101977964
                        ],
                        "iteration": 327,
                        "passed_time": 48.50505428,
                        "remaining_time": 99.37620877
                      },
                      {
                        "learn": [
                          0.4101813316
                        ],
                        "iteration": 328,
                        "passed_time": 48.64037536,
                        "remaining_time": 99.20271085
                      },
                      {
                        "learn": [
                          0.4101673679
                        ],
                        "iteration": 329,
                        "passed_time": 48.73542961,
                        "remaining_time": 98.94769042
                      },
                      {
                        "learn": [
                          0.4101457276
                        ],
                        "iteration": 330,
                        "passed_time": 48.85804006,
                        "remaining_time": 98.74933173
                      },
                      {
                        "learn": [
                          0.4100838724
                        ],
                        "iteration": 331,
                        "passed_time": 49.00240954,
                        "remaining_time": 98.59520956
                      },
                      {
                        "learn": [
                          0.4100537588
                        ],
                        "iteration": 332,
                        "passed_time": 49.11293198,
                        "remaining_time": 98.37335025
                      },
                      {
                        "learn": [
                          0.410002615
                        ],
                        "iteration": 333,
                        "passed_time": 49.24770539,
                        "remaining_time": 98.20051433
                      },
                      {
                        "learn": [
                          0.4099383272
                        ],
                        "iteration": 334,
                        "passed_time": 49.37392863,
                        "remaining_time": 98.01093295
                      },
                      {
                        "learn": [
                          0.4099145913
                        ],
                        "iteration": 335,
                        "passed_time": 49.4955268,
                        "remaining_time": 97.81258869
                      },
                      {
                        "learn": [
                          0.4098784233
                        ],
                        "iteration": 336,
                        "passed_time": 49.62846008,
                        "remaining_time": 97.63700009
                      },
                      {
                        "learn": [
                          0.4098546745
                        ],
                        "iteration": 337,
                        "passed_time": 49.72049549,
                        "remaining_time": 97.38156218
                      },
                      {
                        "learn": [
                          0.4098284609
                        ],
                        "iteration": 338,
                        "passed_time": 49.81458477,
                        "remaining_time": 97.13109301
                      },
                      {
                        "learn": [
                          0.4097923869
                        ],
                        "iteration": 339,
                        "passed_time": 49.93788892,
                        "remaining_time": 96.93825497
                      },
                      {
                        "learn": [
                          0.4097555376
                        ],
                        "iteration": 340,
                        "passed_time": 50.05556758,
                        "remaining_time": 96.73495318
                      },
                      {
                        "learn": [
                          0.4096611867
                        ],
                        "iteration": 341,
                        "passed_time": 50.16744862,
                        "remaining_time": 96.52099763
                      },
                      {
                        "learn": [
                          0.4096340806
                        ],
                        "iteration": 342,
                        "passed_time": 50.27423047,
                        "remaining_time": 96.29787003
                      },
                      {
                        "learn": [
                          0.4095954791
                        ],
                        "iteration": 343,
                        "passed_time": 50.41325894,
                        "remaining_time": 96.13691239
                      },
                      {
                        "learn": [
                          0.4095384987
                        ],
                        "iteration": 344,
                        "passed_time": 50.52862323,
                        "remaining_time": 95.93115425
                      },
                      {
                        "learn": [
                          0.4095000912
                        ],
                        "iteration": 345,
                        "passed_time": 50.67175101,
                        "remaining_time": 95.77839643
                      },
                      {
                        "learn": [
                          0.4094359245
                        ],
                        "iteration": 346,
                        "passed_time": 50.778541,
                        "remaining_time": 95.55731202
                      },
                      {
                        "learn": [
                          0.4094092839
                        ],
                        "iteration": 347,
                        "passed_time": 50.92763225,
                        "remaining_time": 95.41613858
                      },
                      {
                        "learn": [
                          0.4093816081
                        ],
                        "iteration": 348,
                        "passed_time": 51.05698001,
                        "remaining_time": 95.23809166
                      },
                      {
                        "learn": [
                          0.4093195471
                        ],
                        "iteration": 349,
                        "passed_time": 51.18419164,
                        "remaining_time": 95.05635589
                      },
                      {
                        "learn": [
                          0.409227559
                        ],
                        "iteration": 350,
                        "passed_time": 51.300218,
                        "remaining_time": 94.85424924
                      },
                      {
                        "learn": [
                          0.4091924213
                        ],
                        "iteration": 351,
                        "passed_time": 51.43385301,
                        "remaining_time": 94.68504759
                      },
                      {
                        "learn": [
                          0.4091829947
                        ],
                        "iteration": 352,
                        "passed_time": 51.54535047,
                        "remaining_time": 94.4754724
                      },
                      {
                        "learn": [
                          0.4091684649
                        ],
                        "iteration": 353,
                        "passed_time": 51.70448075,
                        "remaining_time": 94.35337447
                      },
                      {
                        "learn": [
                          0.4091444792
                        ],
                        "iteration": 354,
                        "passed_time": 51.81359666,
                        "remaining_time": 94.14019674
                      },
                      {
                        "learn": [
                          0.4090772728
                        ],
                        "iteration": 355,
                        "passed_time": 51.92177521,
                        "remaining_time": 93.92590797
                      },
                      {
                        "learn": [
                          0.4090247468
                        ],
                        "iteration": 356,
                        "passed_time": 52.0468127,
                        "remaining_time": 93.74257862
                      },
                      {
                        "learn": [
                          0.4090011396
                        ],
                        "iteration": 357,
                        "passed_time": 52.15668083,
                        "remaining_time": 93.53237177
                      },
                      {
                        "learn": [
                          0.4089458742
                        ],
                        "iteration": 358,
                        "passed_time": 52.29334111,
                        "remaining_time": 93.3705617
                      },
                      {
                        "learn": [
                          0.4089114132
                        ],
                        "iteration": 359,
                        "passed_time": 52.43439422,
                        "remaining_time": 93.21670083
                      },
                      {
                        "learn": [
                          0.4088834975
                        ],
                        "iteration": 360,
                        "passed_time": 52.54310164,
                        "remaining_time": 93.00565637
                      },
                      {
                        "learn": [
                          0.40883011
                        ],
                        "iteration": 361,
                        "passed_time": 52.88877429,
                        "remaining_time": 93.21281215
                      },
                      {
                        "learn": [
                          0.4087938023
                        ],
                        "iteration": 362,
                        "passed_time": 53.00726848,
                        "remaining_time": 93.01826452
                      },
                      {
                        "learn": [
                          0.4087521663
                        ],
                        "iteration": 363,
                        "passed_time": 53.11972136,
                        "remaining_time": 92.81357908
                      },
                      {
                        "learn": [
                          0.4087247197
                        ],
                        "iteration": 364,
                        "passed_time": 53.21727438,
                        "remaining_time": 92.58347734
                      },
                      {
                        "learn": [
                          0.4087046557
                        ],
                        "iteration": 365,
                        "passed_time": 53.32583977,
                        "remaining_time": 92.373176
                      },
                      {
                        "learn": [
                          0.4086811286
                        ],
                        "iteration": 366,
                        "passed_time": 53.43273722,
                        "remaining_time": 92.16055221
                      },
                      {
                        "learn": [
                          0.4086531696
                        ],
                        "iteration": 367,
                        "passed_time": 53.52470233,
                        "remaining_time": 91.92285836
                      },
                      {
                        "learn": [
                          0.4086303893
                        ],
                        "iteration": 368,
                        "passed_time": 53.64665611,
                        "remaining_time": 91.73723579
                      },
                      {
                        "learn": [
                          0.4086022625
                        ],
                        "iteration": 369,
                        "passed_time": 53.76989305,
                        "remaining_time": 91.55414223
                      },
                      {
                        "learn": [
                          0.4085778482
                        ],
                        "iteration": 370,
                        "passed_time": 53.88970639,
                        "remaining_time": 91.3655669
                      },
                      {
                        "learn": [
                          0.4085173577
                        ],
                        "iteration": 371,
                        "passed_time": 54.01789606,
                        "remaining_time": 91.19150195
                      },
                      {
                        "learn": [
                          0.4084441281
                        ],
                        "iteration": 372,
                        "passed_time": 54.12518008,
                        "remaining_time": 90.98254131
                      },
                      {
                        "learn": [
                          0.4083908078
                        ],
                        "iteration": 373,
                        "passed_time": 54.22894257,
                        "remaining_time": 90.76823008
                      },
                      {
                        "learn": [
                          0.4083453362
                        ],
                        "iteration": 374,
                        "passed_time": 54.38356574,
                        "remaining_time": 90.63927623
                      },
                      {
                        "learn": [
                          0.4083059471
                        ],
                        "iteration": 375,
                        "passed_time": 54.48312448,
                        "remaining_time": 90.41880232
                      },
                      {
                        "learn": [
                          0.4082916104
                        ],
                        "iteration": 376,
                        "passed_time": 54.57168874,
                        "remaining_time": 90.18080129
                      },
                      {
                        "learn": [
                          0.408272129
                        ],
                        "iteration": 377,
                        "passed_time": 54.67376088,
                        "remaining_time": 89.96581817
                      },
                      {
                        "learn": [
                          0.4081969152
                        ],
                        "iteration": 378,
                        "passed_time": 54.81952212,
                        "remaining_time": 89.82301646
                      },
                      {
                        "learn": [
                          0.4081646508
                        ],
                        "iteration": 379,
                        "passed_time": 54.95878717,
                        "remaining_time": 89.66960012
                      },
                      {
                        "learn": [
                          0.4081347468
                        ],
                        "iteration": 380,
                        "passed_time": 55.08616117,
                        "remaining_time": 89.49693901
                      },
                      {
                        "learn": [
                          0.4080622108
                        ],
                        "iteration": 381,
                        "passed_time": 55.19394645,
                        "remaining_time": 89.29282437
                      },
                      {
                        "learn": [
                          0.4080105701
                        ],
                        "iteration": 382,
                        "passed_time": 55.30628765,
                        "remaining_time": 89.09655217
                      },
                      {
                        "learn": [
                          0.4079748451
                        ],
                        "iteration": 383,
                        "passed_time": 55.44442229,
                        "remaining_time": 88.94209409
                      },
                      {
                        "learn": [
                          0.4079113091
                        ],
                        "iteration": 384,
                        "passed_time": 55.56908756,
                        "remaining_time": 88.7662048
                      },
                      {
                        "learn": [
                          0.4078669242
                        ],
                        "iteration": 385,
                        "passed_time": 55.70631178,
                        "remaining_time": 88.61055811
                      },
                      {
                        "learn": [
                          0.4078499044
                        ],
                        "iteration": 386,
                        "passed_time": 55.79565959,
                        "remaining_time": 88.3791714
                      },
                      {
                        "learn": [
                          0.4078228466
                        ],
                        "iteration": 387,
                        "passed_time": 55.91604851,
                        "remaining_time": 88.19747857
                      },
                      {
                        "learn": [
                          0.4077654058
                        ],
                        "iteration": 388,
                        "passed_time": 56.05857277,
                        "remaining_time": 88.0508688
                      },
                      {
                        "learn": [
                          0.4076979611
                        ],
                        "iteration": 389,
                        "passed_time": 56.17162181,
                        "remaining_time": 87.8581777
                      },
                      {
                        "learn": [
                          0.4076259299
                        ],
                        "iteration": 390,
                        "passed_time": 56.28272948,
                        "remaining_time": 87.66287021
                      },
                      {
                        "learn": [
                          0.4075942925
                        ],
                        "iteration": 391,
                        "passed_time": 56.43132505,
                        "remaining_time": 87.52613681
                      },
                      {
                        "learn": [
                          0.407580442
                        ],
                        "iteration": 392,
                        "passed_time": 56.53298226,
                        "remaining_time": 87.31684537
                      },
                      {
                        "learn": [
                          0.4075527323
                        ],
                        "iteration": 393,
                        "passed_time": 56.65979956,
                        "remaining_time": 87.1467983
                      },
                      {
                        "learn": [
                          0.4075313058
                        ],
                        "iteration": 394,
                        "passed_time": 56.80638298,
                        "remaining_time": 87.00724482
                      },
                      {
                        "learn": [
                          0.4074920497
                        ],
                        "iteration": 395,
                        "passed_time": 57.0507854,
                        "remaining_time": 87.01685449
                      },
                      {
                        "learn": [
                          0.40744581
                        ],
                        "iteration": 396,
                        "passed_time": 57.25564804,
                        "remaining_time": 86.96512788
                      },
                      {
                        "learn": [
                          0.4074223064
                        ],
                        "iteration": 397,
                        "passed_time": 57.47888819,
                        "remaining_time": 86.94042887
                      },
                      {
                        "learn": [
                          0.4074051196
                        ],
                        "iteration": 398,
                        "passed_time": 57.70931019,
                        "remaining_time": 86.92555244
                      },
                      {
                        "learn": [
                          0.4073420377
                        ],
                        "iteration": 399,
                        "passed_time": 57.93907133,
                        "remaining_time": 86.908607
                      },
                      {
                        "learn": [
                          0.4072902312
                        ],
                        "iteration": 400,
                        "passed_time": 58.19086593,
                        "remaining_time": 86.92351295
                      },
                      {
                        "learn": [
                          0.4072454211
                        ],
                        "iteration": 401,
                        "passed_time": 58.41940945,
                        "remaining_time": 86.9025046
                      },
                      {
                        "learn": [
                          0.4072214824
                        ],
                        "iteration": 402,
                        "passed_time": 58.65862574,
                        "remaining_time": 86.89627684
                      },
                      {
                        "learn": [
                          0.407171257
                        ],
                        "iteration": 403,
                        "passed_time": 58.88781702,
                        "remaining_time": 86.87410629
                      },
                      {
                        "learn": [
                          0.407135227
                        ],
                        "iteration": 404,
                        "passed_time": 59.15267597,
                        "remaining_time": 86.90331408
                      },
                      {
                        "learn": [
                          0.407084047
                        ],
                        "iteration": 405,
                        "passed_time": 59.36678352,
                        "remaining_time": 86.85682121
                      },
                      {
                        "learn": [
                          0.4070597103
                        ],
                        "iteration": 406,
                        "passed_time": 59.57727244,
                        "remaining_time": 86.80423233
                      },
                      {
                        "learn": [
                          0.4070366899
                        ],
                        "iteration": 407,
                        "passed_time": 59.78512207,
                        "remaining_time": 86.74703987
                      },
                      {
                        "learn": [
                          0.4070152487
                        ],
                        "iteration": 408,
                        "passed_time": 59.99017266,
                        "remaining_time": 86.68506611
                      },
                      {
                        "learn": [
                          0.4069923385
                        ],
                        "iteration": 409,
                        "passed_time": 60.20958373,
                        "remaining_time": 86.64305952
                      },
                      {
                        "learn": [
                          0.4069749358
                        ],
                        "iteration": 410,
                        "passed_time": 60.32996356,
                        "remaining_time": 86.45826894
                      },
                      {
                        "learn": [
                          0.4069536798
                        ],
                        "iteration": 411,
                        "passed_time": 60.45884708,
                        "remaining_time": 86.28592738
                      },
                      {
                        "learn": [
                          0.4069307964
                        ],
                        "iteration": 412,
                        "passed_time": 60.57028472,
                        "remaining_time": 86.08900032
                      },
                      {
                        "learn": [
                          0.406914675
                        ],
                        "iteration": 413,
                        "passed_time": 60.68834273,
                        "remaining_time": 85.9018571
                      },
                      {
                        "learn": [
                          0.4068705986
                        ],
                        "iteration": 414,
                        "passed_time": 60.79476296,
                        "remaining_time": 85.69864177
                      },
                      {
                        "learn": [
                          0.4068112305
                        ],
                        "iteration": 415,
                        "passed_time": 60.91521362,
                        "remaining_time": 85.51558835
                      },
                      {
                        "learn": [
                          0.4067850014
                        ],
                        "iteration": 416,
                        "passed_time": 61.01132771,
                        "remaining_time": 85.29881068
                      },
                      {
                        "learn": [
                          0.4067694586
                        ],
                        "iteration": 417,
                        "passed_time": 61.08974014,
                        "remaining_time": 85.05796355
                      },
                      {
                        "learn": [
                          0.4066978924
                        ],
                        "iteration": 418,
                        "passed_time": 61.23000869,
                        "remaining_time": 84.9036636
                      },
                      {
                        "learn": [
                          0.4066460981
                        ],
                        "iteration": 419,
                        "passed_time": 61.3677022,
                        "remaining_time": 84.74587447
                      },
                      {
                        "learn": [
                          0.4066244575
                        ],
                        "iteration": 420,
                        "passed_time": 61.47157231,
                        "remaining_time": 84.54166358
                      },
                      {
                        "learn": [
                          0.4065857433
                        ],
                        "iteration": 421,
                        "passed_time": 61.59417331,
                        "remaining_time": 84.36358334
                      },
                      {
                        "learn": [
                          0.4065492895
                        ],
                        "iteration": 422,
                        "passed_time": 61.73939732,
                        "remaining_time": 84.21662471
                      },
                      {
                        "learn": [
                          0.4064742366
                        ],
                        "iteration": 423,
                        "passed_time": 61.83809571,
                        "remaining_time": 84.00646964
                      },
                      {
                        "learn": [
                          0.4064532591
                        ],
                        "iteration": 424,
                        "passed_time": 61.96110805,
                        "remaining_time": 83.82973442
                      },
                      {
                        "learn": [
                          0.4064341896
                        ],
                        "iteration": 425,
                        "passed_time": 62.05344086,
                        "remaining_time": 83.61191327
                      },
                      {
                        "learn": [
                          0.4064148743
                        ],
                        "iteration": 426,
                        "passed_time": 62.14626267,
                        "remaining_time": 83.39533608
                      },
                      {
                        "learn": [
                          0.406390463
                        ],
                        "iteration": 427,
                        "passed_time": 62.2465837,
                        "remaining_time": 83.18935952
                      },
                      {
                        "learn": [
                          0.4063377919
                        ],
                        "iteration": 428,
                        "passed_time": 62.38177038,
                        "remaining_time": 83.03028179
                      },
                      {
                        "learn": [
                          0.4062909682
                        ],
                        "iteration": 429,
                        "passed_time": 62.50282991,
                        "remaining_time": 82.85258849
                      },
                      {
                        "learn": [
                          0.4062646305
                        ],
                        "iteration": 430,
                        "passed_time": 62.60601671,
                        "remaining_time": 82.65156266
                      },
                      {
                        "learn": [
                          0.406240544
                        ],
                        "iteration": 431,
                        "passed_time": 62.69779443,
                        "remaining_time": 82.43598897
                      },
                      {
                        "learn": [
                          0.4062066459
                        ],
                        "iteration": 432,
                        "passed_time": 62.7891235,
                        "remaining_time": 82.2203996
                      },
                      {
                        "learn": [
                          0.4061370221
                        ],
                        "iteration": 433,
                        "passed_time": 62.89655533,
                        "remaining_time": 82.02638322
                      },
                      {
                        "learn": [
                          0.4061105264
                        ],
                        "iteration": 434,
                        "passed_time": 63.02967332,
                        "remaining_time": 81.86612741
                      },
                      {
                        "learn": [
                          0.4060814003
                        ],
                        "iteration": 435,
                        "passed_time": 63.15641911,
                        "remaining_time": 81.69775316
                      },
                      {
                        "learn": [
                          0.406049651
                        ],
                        "iteration": 436,
                        "passed_time": 63.2965186,
                        "remaining_time": 81.54677339
                      },
                      {
                        "learn": [
                          0.406000432
                        ],
                        "iteration": 437,
                        "passed_time": 63.43078963,
                        "remaining_time": 81.38836478
                      },
                      {
                        "learn": [
                          0.4059547708
                        ],
                        "iteration": 438,
                        "passed_time": 63.53801283,
                        "remaining_time": 81.19550159
                      },
                      {
                        "learn": [
                          0.4059366274
                        ],
                        "iteration": 439,
                        "passed_time": 63.62753837,
                        "remaining_time": 80.98050338
                      },
                      {
                        "learn": [
                          0.4059032771
                        ],
                        "iteration": 440,
                        "passed_time": 63.74376118,
                        "remaining_time": 80.79991496
                      },
                      {
                        "learn": [
                          0.4058640541
                        ],
                        "iteration": 441,
                        "passed_time": 63.86838977,
                        "remaining_time": 80.63022962
                      },
                      {
                        "learn": [
                          0.4058304438
                        ],
                        "iteration": 442,
                        "passed_time": 63.97827275,
                        "remaining_time": 80.4422075
                      },
                      {
                        "learn": [
                          0.4057849368
                        ],
                        "iteration": 443,
                        "passed_time": 64.09541156,
                        "remaining_time": 80.26362349
                      },
                      {
                        "learn": [
                          0.4057528941
                        ],
                        "iteration": 444,
                        "passed_time": 64.24436512,
                        "remaining_time": 80.1249947
                      },
                      {
                        "learn": [
                          0.405727818
                        ],
                        "iteration": 445,
                        "passed_time": 64.3758748,
                        "remaining_time": 79.96465166
                      },
                      {
                        "learn": [
                          0.4057054051
                        ],
                        "iteration": 446,
                        "passed_time": 64.48086123,
                        "remaining_time": 79.77162474
                      },
                      {
                        "learn": [
                          0.4056875543
                        ],
                        "iteration": 447,
                        "passed_time": 64.57958907,
                        "remaining_time": 79.57127939
                      },
                      {
                        "learn": [
                          0.4056312239
                        ],
                        "iteration": 448,
                        "passed_time": 64.73035299,
                        "remaining_time": 79.43524387
                      },
                      {
                        "learn": [
                          0.4056023509
                        ],
                        "iteration": 449,
                        "passed_time": 64.85146632,
                        "remaining_time": 79.26290327
                      },
                      {
                        "learn": [
                          0.4055449249
                        ],
                        "iteration": 450,
                        "passed_time": 64.97794151,
                        "remaining_time": 79.09731682
                      },
                      {
                        "learn": [
                          0.405508948
                        ],
                        "iteration": 451,
                        "passed_time": 65.11794284,
                        "remaining_time": 78.94830238
                      },
                      {
                        "learn": [
                          0.4054534111
                        ],
                        "iteration": 452,
                        "passed_time": 65.25749487,
                        "remaining_time": 78.7987852
                      },
                      {
                        "learn": [
                          0.4053830122
                        ],
                        "iteration": 453,
                        "passed_time": 65.37612468,
                        "remaining_time": 78.62414995
                      },
                      {
                        "learn": [
                          0.405312262
                        ],
                        "iteration": 454,
                        "passed_time": 65.48001428,
                        "remaining_time": 78.43210502
                      },
                      {
                        "learn": [
                          0.4052885256
                        ],
                        "iteration": 455,
                        "passed_time": 65.6011138,
                        "remaining_time": 78.26097786
                      },
                      {
                        "learn": [
                          0.4052542218
                        ],
                        "iteration": 456,
                        "passed_time": 65.70746496,
                        "remaining_time": 78.07254589
                      },
                      {
                        "learn": [
                          0.4052202748
                        ],
                        "iteration": 457,
                        "passed_time": 65.82555395,
                        "remaining_time": 77.89836297
                      },
                      {
                        "learn": [
                          0.4051956904
                        ],
                        "iteration": 458,
                        "passed_time": 65.92522667,
                        "remaining_time": 77.70271814
                      },
                      {
                        "learn": [
                          0.4051554764
                        ],
                        "iteration": 459,
                        "passed_time": 66.03473569,
                        "remaining_time": 77.51903754
                      },
                      {
                        "learn": [
                          0.4050904064
                        ],
                        "iteration": 460,
                        "passed_time": 66.13336903,
                        "remaining_time": 77.32296293
                      },
                      {
                        "learn": [
                          0.4050640661
                        ],
                        "iteration": 461,
                        "passed_time": 66.27041283,
                        "remaining_time": 77.17203918
                      },
                      {
                        "learn": [
                          0.405036053
                        ],
                        "iteration": 462,
                        "passed_time": 66.41295337,
                        "remaining_time": 77.02755067
                      },
                      {
                        "learn": [
                          0.4049859247
                        ],
                        "iteration": 463,
                        "passed_time": 66.54288981,
                        "remaining_time": 76.86851064
                      },
                      {
                        "learn": [
                          0.4049724975
                        ],
                        "iteration": 464,
                        "passed_time": 66.65789641,
                        "remaining_time": 76.69241845
                      },
                      {
                        "learn": [
                          0.4049656127
                        ],
                        "iteration": 465,
                        "passed_time": 66.78304724,
                        "remaining_time": 76.52821293
                      },
                      {
                        "learn": [
                          0.4049472486
                        ],
                        "iteration": 466,
                        "passed_time": 66.9136128,
                        "remaining_time": 76.37035465
                      },
                      {
                        "learn": [
                          0.4049089101
                        ],
                        "iteration": 467,
                        "passed_time": 67.01530504,
                        "remaining_time": 76.1797912
                      },
                      {
                        "learn": [
                          0.4048738186
                        ],
                        "iteration": 468,
                        "passed_time": 67.10902178,
                        "remaining_time": 75.98057689
                      },
                      {
                        "learn": [
                          0.4048500759
                        ],
                        "iteration": 469,
                        "passed_time": 67.23103166,
                        "remaining_time": 75.81371655
                      },
                      {
                        "learn": [
                          0.4048085183
                        ],
                        "iteration": 470,
                        "passed_time": 67.36835232,
                        "remaining_time": 75.66424284
                      },
                      {
                        "learn": [
                          0.404766521
                        ],
                        "iteration": 471,
                        "passed_time": 67.49557005,
                        "remaining_time": 75.50351904
                      },
                      {
                        "learn": [
                          0.4047061375
                        ],
                        "iteration": 472,
                        "passed_time": 67.60696209,
                        "remaining_time": 75.32530449
                      },
                      {
                        "learn": [
                          0.4045960342
                        ],
                        "iteration": 473,
                        "passed_time": 67.7517389,
                        "remaining_time": 75.18441911
                      },
                      {
                        "learn": [
                          0.4045543939
                        ],
                        "iteration": 474,
                        "passed_time": 67.90459415,
                        "remaining_time": 75.05244617
                      },
                      {
                        "learn": [
                          0.4045355163
                        ],
                        "iteration": 475,
                        "passed_time": 68.03871355,
                        "remaining_time": 74.8997603
                      },
                      {
                        "learn": [
                          0.4044766367
                        ],
                        "iteration": 476,
                        "passed_time": 68.17788127,
                        "remaining_time": 74.75268743
                      },
                      {
                        "learn": [
                          0.4044549317
                        ],
                        "iteration": 477,
                        "passed_time": 68.32749348,
                        "remaining_time": 74.61705355
                      },
                      {
                        "learn": [
                          0.4044099858
                        ],
                        "iteration": 478,
                        "passed_time": 68.42390538,
                        "remaining_time": 74.42349625
                      },
                      {
                        "learn": [
                          0.4043803315
                        ],
                        "iteration": 479,
                        "passed_time": 68.52921149,
                        "remaining_time": 74.23997911
                      },
                      {
                        "learn": [
                          0.4043567442
                        ],
                        "iteration": 480,
                        "passed_time": 68.66076318,
                        "remaining_time": 74.08510622
                      },
                      {
                        "learn": [
                          0.4043341841
                        ],
                        "iteration": 481,
                        "passed_time": 68.75643997,
                        "remaining_time": 73.89177574
                      },
                      {
                        "learn": [
                          0.4042924598
                        ],
                        "iteration": 482,
                        "passed_time": 68.8940783,
                        "remaining_time": 73.74376497
                      },
                      {
                        "learn": [
                          0.4042801016
                        ],
                        "iteration": 483,
                        "passed_time": 69.0021378,
                        "remaining_time": 73.56426261
                      },
                      {
                        "learn": [
                          0.40423696
                        ],
                        "iteration": 484,
                        "passed_time": 69.11766922,
                        "remaining_time": 73.39298896
                      },
                      {
                        "learn": [
                          0.4041861172
                        ],
                        "iteration": 485,
                        "passed_time": 69.2448856,
                        "remaining_time": 73.23430287
                      },
                      {
                        "learn": [
                          0.4041589899
                        ],
                        "iteration": 486,
                        "passed_time": 69.41877792,
                        "remaining_time": 73.12491391
                      },
                      {
                        "learn": [
                          0.4041385085
                        ],
                        "iteration": 487,
                        "passed_time": 69.54045798,
                        "remaining_time": 72.96048051
                      },
                      {
                        "learn": [
                          0.4040931972
                        ],
                        "iteration": 488,
                        "passed_time": 69.63013177,
                        "remaining_time": 72.76277573
                      },
                      {
                        "learn": [
                          0.4040397802
                        ],
                        "iteration": 489,
                        "passed_time": 69.74580522,
                        "remaining_time": 72.59257278
                      },
                      {
                        "learn": [
                          0.4040088899
                        ],
                        "iteration": 490,
                        "passed_time": 69.87817384,
                        "remaining_time": 72.43989916
                      },
                      {
                        "learn": [
                          0.4039867119
                        ],
                        "iteration": 491,
                        "passed_time": 69.99089618,
                        "remaining_time": 72.26702288
                      },
                      {
                        "learn": [
                          0.4039533812
                        ],
                        "iteration": 492,
                        "passed_time": 70.12287969,
                        "remaining_time": 72.11419879
                      },
                      {
                        "learn": [
                          0.4039065028
                        ],
                        "iteration": 493,
                        "passed_time": 70.32599505,
                        "remaining_time": 72.03431881
                      },
                      {
                        "learn": [
                          0.4038667091
                        ],
                        "iteration": 494,
                        "passed_time": 70.54733112,
                        "remaining_time": 71.97252973
                      },
                      {
                        "learn": [
                          0.4038127967
                        ],
                        "iteration": 495,
                        "passed_time": 70.76198976,
                        "remaining_time": 71.90331217
                      },
                      {
                        "learn": [
                          0.4037740835
                        ],
                        "iteration": 496,
                        "passed_time": 70.96532289,
                        "remaining_time": 71.82204711
                      },
                      {
                        "learn": [
                          0.4037411792
                        ],
                        "iteration": 497,
                        "passed_time": 71.18258665,
                        "remaining_time": 71.75433433
                      },
                      {
                        "learn": [
                          0.4036768815
                        ],
                        "iteration": 498,
                        "passed_time": 71.47583478,
                        "remaining_time": 71.76231107
                      },
                      {
                        "learn": [
                          0.4036064201
                        ],
                        "iteration": 499,
                        "passed_time": 71.71018108,
                        "remaining_time": 71.71018108
                      },
                      {
                        "learn": [
                          0.4035850114
                        ],
                        "iteration": 500,
                        "passed_time": 71.89800402,
                        "remaining_time": 71.61098604
                      },
                      {
                        "learn": [
                          0.4035770953
                        ],
                        "iteration": 501,
                        "passed_time": 72.13581281,
                        "remaining_time": 71.56102546
                      },
                      {
                        "learn": [
                          0.4035448016
                        ],
                        "iteration": 502,
                        "passed_time": 72.30740207,
                        "remaining_time": 71.44488833
                      },
                      {
                        "learn": [
                          0.4035021494
                        ],
                        "iteration": 503,
                        "passed_time": 72.51627362,
                        "remaining_time": 71.36522166
                      },
                      {
                        "learn": [
                          0.4034635312
                        ],
                        "iteration": 504,
                        "passed_time": 72.74080666,
                        "remaining_time": 71.30039465
                      },
                      {
                        "learn": [
                          0.4034345874
                        ],
                        "iteration": 505,
                        "passed_time": 72.96281202,
                        "remaining_time": 71.23246865
                      },
                      {
                        "learn": [
                          0.4034051659
                        ],
                        "iteration": 506,
                        "passed_time": 73.11909988,
                        "remaining_time": 71.10003204
                      },
                      {
                        "learn": [
                          0.4033596459
                        ],
                        "iteration": 507,
                        "passed_time": 73.33221085,
                        "remaining_time": 71.02253492
                      },
                      {
                        "learn": [
                          0.4033133029
                        ],
                        "iteration": 508,
                        "passed_time": 73.63014567,
                        "remaining_time": 71.02632913
                      },
                      {
                        "learn": [
                          0.4032837934
                        ],
                        "iteration": 509,
                        "passed_time": 73.76077592,
                        "remaining_time": 70.86819647
                      },
                      {
                        "learn": [
                          0.4032156267
                        ],
                        "iteration": 510,
                        "passed_time": 73.88116265,
                        "remaining_time": 70.70036895
                      },
                      {
                        "learn": [
                          0.4031786927
                        ],
                        "iteration": 511,
                        "passed_time": 73.98522029,
                        "remaining_time": 70.51716309
                      },
                      {
                        "learn": [
                          0.4031430586
                        ],
                        "iteration": 512,
                        "passed_time": 74.10939097,
                        "remaining_time": 70.35335946
                      },
                      {
                        "learn": [
                          0.4031240804
                        ],
                        "iteration": 513,
                        "passed_time": 74.21302569,
                        "remaining_time": 70.17029278
                      },
                      {
                        "learn": [
                          0.4030850053
                        ],
                        "iteration": 514,
                        "passed_time": 74.33264397,
                        "remaining_time": 70.00258704
                      },
                      {
                        "learn": [
                          0.4030558848
                        ],
                        "iteration": 515,
                        "passed_time": 74.43744076,
                        "remaining_time": 69.82116537
                      },
                      {
                        "learn": [
                          0.4030203961
                        ],
                        "iteration": 516,
                        "passed_time": 74.56595543,
                        "remaining_time": 69.66219821
                      },
                      {
                        "learn": [
                          0.402973833
                        ],
                        "iteration": 517,
                        "passed_time": 74.67367373,
                        "remaining_time": 69.48399757
                      },
                      {
                        "learn": [
                          0.4029314001
                        ],
                        "iteration": 518,
                        "passed_time": 74.75997498,
                        "remaining_time": 69.28621959
                      },
                      {
                        "learn": [
                          0.4028482768
                        ],
                        "iteration": 519,
                        "passed_time": 74.87611726,
                        "remaining_time": 69.11641593
                      },
                      {
                        "learn": [
                          0.4028254324
                        ],
                        "iteration": 520,
                        "passed_time": 74.96055299,
                        "remaining_time": 68.91766772
                      },
                      {
                        "learn": [
                          0.4027929247
                        ],
                        "iteration": 521,
                        "passed_time": 75.05786635,
                        "remaining_time": 68.73114965
                      },
                      {
                        "learn": [
                          0.4027186334
                        ],
                        "iteration": 522,
                        "passed_time": 75.1805863,
                        "remaining_time": 68.56814468
                      },
                      {
                        "learn": [
                          0.4026867077
                        ],
                        "iteration": 523,
                        "passed_time": 75.29568317,
                        "remaining_time": 68.39836868
                      },
                      {
                        "learn": [
                          0.402656362
                        ],
                        "iteration": 524,
                        "passed_time": 75.41653608,
                        "remaining_time": 68.23400883
                      },
                      {
                        "learn": [
                          0.4026383105
                        ],
                        "iteration": 525,
                        "passed_time": 75.54290272,
                        "remaining_time": 68.07478306
                      },
                      {
                        "learn": [
                          0.4026074581
                        ],
                        "iteration": 526,
                        "passed_time": 75.66644754,
                        "remaining_time": 67.91314931
                      },
                      {
                        "learn": [
                          0.4025642726
                        ],
                        "iteration": 527,
                        "passed_time": 75.78408532,
                        "remaining_time": 67.7463793
                      },
                      {
                        "learn": [
                          0.4024930618
                        ],
                        "iteration": 528,
                        "passed_time": 75.89570538,
                        "remaining_time": 67.57443712
                      },
                      {
                        "learn": [
                          0.4024423287
                        ],
                        "iteration": 529,
                        "passed_time": 75.99044977,
                        "remaining_time": 67.38775735
                      },
                      {
                        "learn": [
                          0.4023976947
                        ],
                        "iteration": 530,
                        "passed_time": 76.10729735,
                        "remaining_time": 67.22094625
                      },
                      {
                        "learn": [
                          0.4023878838
                        ],
                        "iteration": 531,
                        "passed_time": 76.2245485,
                        "remaining_time": 67.054678
                      },
                      {
                        "learn": [
                          0.4022997939
                        ],
                        "iteration": 532,
                        "passed_time": 76.35676503,
                        "remaining_time": 66.90170595
                      },
                      {
                        "learn": [
                          0.4022434109
                        ],
                        "iteration": 533,
                        "passed_time": 76.44488347,
                        "remaining_time": 66.71032902
                      },
                      {
                        "learn": [
                          0.4022126279
                        ],
                        "iteration": 534,
                        "passed_time": 76.61088417,
                        "remaining_time": 66.58703017
                      },
                      {
                        "learn": [
                          0.4021675345
                        ],
                        "iteration": 535,
                        "passed_time": 76.70748469,
                        "remaining_time": 66.40349421
                      },
                      {
                        "learn": [
                          0.4021461213
                        ],
                        "iteration": 536,
                        "passed_time": 76.82072472,
                        "remaining_time": 66.23462858
                      },
                      {
                        "learn": [
                          0.4021260937
                        ],
                        "iteration": 537,
                        "passed_time": 76.94025674,
                        "remaining_time": 66.07137289
                      },
                      {
                        "learn": [
                          0.4020987383
                        ],
                        "iteration": 538,
                        "passed_time": 77.05756087,
                        "remaining_time": 65.90637395
                      },
                      {
                        "learn": [
                          0.4020544086
                        ],
                        "iteration": 539,
                        "passed_time": 77.19613771,
                        "remaining_time": 65.75967286
                      },
                      {
                        "learn": [
                          0.4020326228
                        ],
                        "iteration": 540,
                        "passed_time": 77.3247947,
                        "remaining_time": 65.60458552
                      },
                      {
                        "learn": [
                          0.4019900999
                        ],
                        "iteration": 541,
                        "passed_time": 77.42249027,
                        "remaining_time": 65.42343274
                      },
                      {
                        "learn": [
                          0.4019645372
                        ],
                        "iteration": 542,
                        "passed_time": 77.51039526,
                        "remaining_time": 65.2343474
                      },
                      {
                        "learn": [
                          0.4019447654
                        ],
                        "iteration": 543,
                        "passed_time": 77.621122,
                        "remaining_time": 65.06476403
                      },
                      {
                        "learn": [
                          0.4019084904
                        ],
                        "iteration": 544,
                        "passed_time": 77.7414179,
                        "remaining_time": 64.90338559
                      },
                      {
                        "learn": [
                          0.4018608548
                        ],
                        "iteration": 545,
                        "passed_time": 77.84058313,
                        "remaining_time": 64.72458744
                      },
                      {
                        "learn": [
                          0.4018312084
                        ],
                        "iteration": 546,
                        "passed_time": 77.92822724,
                        "remaining_time": 64.53653919
                      },
                      {
                        "learn": [
                          0.4017941814
                        ],
                        "iteration": 547,
                        "passed_time": 78.05472676,
                        "remaining_time": 64.38090601
                      },
                      {
                        "learn": [
                          0.4017662087
                        ],
                        "iteration": 548,
                        "passed_time": 78.19123349,
                        "remaining_time": 64.23359983
                      },
                      {
                        "learn": [
                          0.4017494943
                        ],
                        "iteration": 549,
                        "passed_time": 78.31665154,
                        "remaining_time": 64.07726035
                      },
                      {
                        "learn": [
                          0.4017008968
                        ],
                        "iteration": 550,
                        "passed_time": 78.44127509,
                        "remaining_time": 63.92038569
                      },
                      {
                        "learn": [
                          0.4016009512
                        ],
                        "iteration": 551,
                        "passed_time": 78.58648553,
                        "remaining_time": 63.78033608
                      },
                      {
                        "learn": [
                          0.4015482738
                        ],
                        "iteration": 552,
                        "passed_time": 78.70495362,
                        "remaining_time": 63.61865148
                      },
                      {
                        "learn": [
                          0.4015291335
                        ],
                        "iteration": 553,
                        "passed_time": 78.80087342,
                        "remaining_time": 63.4389703
                      },
                      {
                        "learn": [
                          0.4014733865
                        ],
                        "iteration": 554,
                        "passed_time": 78.91151313,
                        "remaining_time": 63.27139341
                      },
                      {
                        "learn": [
                          0.4014496453
                        ],
                        "iteration": 555,
                        "passed_time": 79.03068092,
                        "remaining_time": 63.11083153
                      },
                      {
                        "learn": [
                          0.4014137704
                        ],
                        "iteration": 556,
                        "passed_time": 79.15124187,
                        "remaining_time": 62.9515263
                      },
                      {
                        "learn": [
                          0.401356347
                        ],
                        "iteration": 557,
                        "passed_time": 79.29136457,
                        "remaining_time": 62.80785509
                      },
                      {
                        "learn": [
                          0.401331975
                        ],
                        "iteration": 558,
                        "passed_time": 79.40235933,
                        "remaining_time": 62.64121729
                      },
                      {
                        "learn": [
                          0.401299332
                        ],
                        "iteration": 559,
                        "passed_time": 79.52109458,
                        "remaining_time": 62.48086002
                      },
                      {
                        "learn": [
                          0.4012487318
                        ],
                        "iteration": 560,
                        "passed_time": 79.67317501,
                        "remaining_time": 62.34674479
                      },
                      {
                        "learn": [
                          0.4012251424
                        ],
                        "iteration": 561,
                        "passed_time": 79.79121671,
                        "remaining_time": 62.18603722
                      },
                      {
                        "learn": [
                          0.4012034694
                        ],
                        "iteration": 562,
                        "passed_time": 79.90264831,
                        "remaining_time": 62.02035046
                      },
                      {
                        "learn": [
                          0.4011805182
                        ],
                        "iteration": 563,
                        "passed_time": 80.00929559,
                        "remaining_time": 61.85115758
                      },
                      {
                        "learn": [
                          0.4011749639
                        ],
                        "iteration": 564,
                        "passed_time": 80.117496,
                        "remaining_time": 61.68338187
                      },
                      {
                        "learn": [
                          0.4011209563
                        ],
                        "iteration": 565,
                        "passed_time": 80.27163848,
                        "remaining_time": 61.55104435
                      },
                      {
                        "learn": [
                          0.4010870223
                        ],
                        "iteration": 566,
                        "passed_time": 80.38893045,
                        "remaining_time": 61.39048833
                      },
                      {
                        "learn": [
                          0.4010437976
                        ],
                        "iteration": 567,
                        "passed_time": 80.51336293,
                        "remaining_time": 61.23551547
                      },
                      {
                        "learn": [
                          0.4010111497
                        ],
                        "iteration": 568,
                        "passed_time": 80.63864786,
                        "remaining_time": 61.08129566
                      },
                      {
                        "learn": [
                          0.4009540413
                        ],
                        "iteration": 569,
                        "passed_time": 80.76996736,
                        "remaining_time": 60.93172977
                      },
                      {
                        "learn": [
                          0.4009419705
                        ],
                        "iteration": 570,
                        "passed_time": 80.87720055,
                        "remaining_time": 60.76413141
                      },
                      {
                        "learn": [
                          0.4009086405
                        ],
                        "iteration": 571,
                        "passed_time": 80.99703407,
                        "remaining_time": 60.60617235
                      },
                      {
                        "learn": [
                          0.4008920375
                        ],
                        "iteration": 572,
                        "passed_time": 81.10043095,
                        "remaining_time": 60.43609776
                      },
                      {
                        "learn": [
                          0.4008481138
                        ],
                        "iteration": 573,
                        "passed_time": 81.21290213,
                        "remaining_time": 60.27299008
                      },
                      {
                        "learn": [
                          0.4008174816
                        ],
                        "iteration": 574,
                        "passed_time": 81.36109805,
                        "remaining_time": 60.13646378
                      },
                      {
                        "learn": [
                          0.4008054681
                        ],
                        "iteration": 575,
                        "passed_time": 81.47494894,
                        "remaining_time": 59.97461519
                      },
                      {
                        "learn": [
                          0.4007442568
                        ],
                        "iteration": 576,
                        "passed_time": 81.5936528,
                        "remaining_time": 59.8164907
                      },
                      {
                        "learn": [
                          0.4006891905
                        ],
                        "iteration": 577,
                        "passed_time": 81.72361325,
                        "remaining_time": 59.66672109
                      },
                      {
                        "learn": [
                          0.4006727289
                        ],
                        "iteration": 578,
                        "passed_time": 81.82245314,
                        "remaining_time": 59.49439166
                      },
                      {
                        "learn": [
                          0.4006474027
                        ],
                        "iteration": 579,
                        "passed_time": 81.94490438,
                        "remaining_time": 59.33941352
                      },
                      {
                        "learn": [
                          0.4006273226
                        ],
                        "iteration": 580,
                        "passed_time": 82.05802094,
                        "remaining_time": 59.17781545
                      },
                      {
                        "learn": [
                          0.4006189661
                        ],
                        "iteration": 581,
                        "passed_time": 82.18408958,
                        "remaining_time": 59.02568633
                      },
                      {
                        "learn": [
                          0.400556161
                        ],
                        "iteration": 582,
                        "passed_time": 82.33014677,
                        "remaining_time": 58.88794375
                      },
                      {
                        "learn": [
                          0.4005336634
                        ],
                        "iteration": 583,
                        "passed_time": 82.44774622,
                        "remaining_time": 58.72990142
                      },
                      {
                        "learn": [
                          0.4005186463
                        ],
                        "iteration": 584,
                        "passed_time": 82.56031132,
                        "remaining_time": 58.56842598
                      },
                      {
                        "learn": [
                          0.4004824051
                        ],
                        "iteration": 585,
                        "passed_time": 82.72801809,
                        "remaining_time": 58.44607421
                      },
                      {
                        "learn": [
                          0.4004630386
                        ],
                        "iteration": 586,
                        "passed_time": 82.83886575,
                        "remaining_time": 58.28356312
                      },
                      {
                        "learn": [
                          0.4004388038
                        ],
                        "iteration": 587,
                        "passed_time": 82.92648667,
                        "remaining_time": 58.10495324
                      },
                      {
                        "learn": [
                          0.4004225053
                        ],
                        "iteration": 588,
                        "passed_time": 83.03073167,
                        "remaining_time": 57.93825249
                      },
                      {
                        "learn": [
                          0.4003437079
                        ],
                        "iteration": 589,
                        "passed_time": 83.16077977,
                        "remaining_time": 57.78969442
                      },
                      {
                        "learn": [
                          0.4003093948
                        ],
                        "iteration": 590,
                        "passed_time": 83.29639578,
                        "remaining_time": 57.64505224
                      },
                      {
                        "learn": [
                          0.4002624971
                        ],
                        "iteration": 591,
                        "passed_time": 83.42761104,
                        "remaining_time": 57.49740761
                      },
                      {
                        "learn": [
                          0.4002144853
                        ],
                        "iteration": 592,
                        "passed_time": 83.54215813,
                        "remaining_time": 57.33837834
                      },
                      {
                        "learn": [
                          0.4001654417
                        ],
                        "iteration": 593,
                        "passed_time": 83.66547244,
                        "remaining_time": 57.18549127
                      },
                      {
                        "learn": [
                          0.400131628
                        ],
                        "iteration": 594,
                        "passed_time": 83.90492375,
                        "remaining_time": 57.11175482
                      },
                      {
                        "learn": [
                          0.4000988347
                        ],
                        "iteration": 595,
                        "passed_time": 84.12284942,
                        "remaining_time": 57.02287109
                      },
                      {
                        "learn": [
                          0.4000604258
                        ],
                        "iteration": 596,
                        "passed_time": 84.3751243,
                        "remaining_time": 56.9567422
                      },
                      {
                        "learn": [
                          0.4000237078
                        ],
                        "iteration": 597,
                        "passed_time": 84.60426448,
                        "remaining_time": 56.87443866
                      },
                      {
                        "learn": [
                          0.3999702224
                        ],
                        "iteration": 598,
                        "passed_time": 84.84476987,
                        "remaining_time": 56.79925328
                      },
                      {
                        "learn": [
                          0.3999582192
                        ],
                        "iteration": 599,
                        "passed_time": 84.96971815,
                        "remaining_time": 56.64647876
                      },
                      {
                        "learn": [
                          0.3999215181
                        ],
                        "iteration": 600,
                        "passed_time": 85.21051509,
                        "remaining_time": 56.57070802
                      },
                      {
                        "learn": [
                          0.3999058875
                        ],
                        "iteration": 601,
                        "passed_time": 85.37823977,
                        "remaining_time": 56.44607879
                      },
                      {
                        "learn": [
                          0.3998270996
                        ],
                        "iteration": 602,
                        "passed_time": 85.62342722,
                        "remaining_time": 56.37230614
                      },
                      {
                        "learn": [
                          0.3998028803
                        ],
                        "iteration": 603,
                        "passed_time": 85.87119013,
                        "remaining_time": 56.29965446
                      },
                      {
                        "learn": [
                          0.3997894549
                        ],
                        "iteration": 604,
                        "passed_time": 86.0836,
                        "remaining_time": 56.20334215
                      },
                      {
                        "learn": [
                          0.3997620051
                        ],
                        "iteration": 605,
                        "passed_time": 86.29895412,
                        "remaining_time": 56.10856093
                      },
                      {
                        "learn": [
                          0.399716
                        ],
                        "iteration": 606,
                        "passed_time": 86.49787601,
                        "remaining_time": 56.00274345
                      },
                      {
                        "learn": [
                          0.3996624958
                        ],
                        "iteration": 607,
                        "passed_time": 86.74556159,
                        "remaining_time": 55.92805945
                      },
                      {
                        "learn": [
                          0.3996319731
                        ],
                        "iteration": 608,
                        "passed_time": 87.03935644,
                        "remaining_time": 55.88241111
                      },
                      {
                        "learn": [
                          0.3995325014
                        ],
                        "iteration": 609,
                        "passed_time": 87.27078723,
                        "remaining_time": 55.79607708
                      },
                      {
                        "learn": [
                          0.3994921211
                        ],
                        "iteration": 610,
                        "passed_time": 87.40888114,
                        "remaining_time": 55.64984413
                      },
                      {
                        "learn": [
                          0.3994343802
                        ],
                        "iteration": 611,
                        "passed_time": 87.53722737,
                        "remaining_time": 55.49745788
                      },
                      {
                        "learn": [
                          0.3993957672
                        ],
                        "iteration": 612,
                        "passed_time": 87.64102328,
                        "remaining_time": 55.32965091
                      },
                      {
                        "learn": [
                          0.3993805114
                        ],
                        "iteration": 613,
                        "passed_time": 87.75104069,
                        "remaining_time": 55.16596369
                      },
                      {
                        "learn": [
                          0.3993333554
                        ],
                        "iteration": 614,
                        "passed_time": 87.85882856,
                        "remaining_time": 55.00105528
                      },
                      {
                        "learn": [
                          0.3992962162
                        ],
                        "iteration": 615,
                        "passed_time": 88.00923049,
                        "remaining_time": 54.86289693
                      },
                      {
                        "learn": [
                          0.3992625736
                        ],
                        "iteration": 616,
                        "passed_time": 88.14870307,
                        "remaining_time": 54.71791455
                      },
                      {
                        "learn": [
                          0.3992400149
                        ],
                        "iteration": 617,
                        "passed_time": 88.27878072,
                        "remaining_time": 54.56714278
                      },
                      {
                        "learn": [
                          0.3992058047
                        ],
                        "iteration": 618,
                        "passed_time": 88.38698446,
                        "remaining_time": 54.40297428
                      },
                      {
                        "learn": [
                          0.3991919393
                        ],
                        "iteration": 619,
                        "passed_time": 88.47804999,
                        "remaining_time": 54.22848225
                      },
                      {
                        "learn": [
                          0.3991490597
                        ],
                        "iteration": 620,
                        "passed_time": 88.598254,
                        "remaining_time": 54.0720423
                      },
                      {
                        "learn": [
                          0.3991155887
                        ],
                        "iteration": 621,
                        "passed_time": 88.71888152,
                        "remaining_time": 53.91597623
                      },
                      {
                        "learn": [
                          0.3990812796
                        ],
                        "iteration": 622,
                        "passed_time": 88.8419511,
                        "remaining_time": 53.76150171
                      },
                      {
                        "learn": [
                          0.3990451521
                        ],
                        "iteration": 623,
                        "passed_time": 89.00280573,
                        "remaining_time": 53.62989576
                      },
                      {
                        "learn": [
                          0.398993441
                        ],
                        "iteration": 624,
                        "passed_time": 89.12884012,
                        "remaining_time": 53.47730407
                      },
                      {
                        "learn": [
                          0.3989705921
                        ],
                        "iteration": 625,
                        "passed_time": 89.27023568,
                        "remaining_time": 53.33397467
                      },
                      {
                        "learn": [
                          0.3989541945
                        ],
                        "iteration": 626,
                        "passed_time": 89.38493249,
                        "remaining_time": 53.17476845
                      },
                      {
                        "learn": [
                          0.3989386346
                        ],
                        "iteration": 627,
                        "passed_time": 89.47750922,
                        "remaining_time": 53.00260101
                      },
                      {
                        "learn": [
                          0.3989064404
                        ],
                        "iteration": 628,
                        "passed_time": 89.59807892,
                        "remaining_time": 52.84719758
                      },
                      {
                        "learn": [
                          0.3988770181
                        ],
                        "iteration": 629,
                        "passed_time": 89.69632347,
                        "remaining_time": 52.67879315
                      },
                      {
                        "learn": [
                          0.3988528942
                        ],
                        "iteration": 630,
                        "passed_time": 89.7967724,
                        "remaining_time": 52.51190018
                      },
                      {
                        "learn": [
                          0.3988270932
                        ],
                        "iteration": 631,
                        "passed_time": 89.91395338,
                        "remaining_time": 52.3549602
                      },
                      {
                        "learn": [
                          0.3987994534
                        ],
                        "iteration": 632,
                        "passed_time": 90.04009607,
                        "remaining_time": 52.20334164
                      },
                      {
                        "learn": [
                          0.3987739716
                        ],
                        "iteration": 633,
                        "passed_time": 90.13143503,
                        "remaining_time": 52.03171171
                      },
                      {
                        "learn": [
                          0.3987468445
                        ],
                        "iteration": 634,
                        "passed_time": 90.25083435,
                        "remaining_time": 51.87646384
                      },
                      {
                        "learn": [
                          0.3987154907
                        ],
                        "iteration": 635,
                        "passed_time": 90.39197293,
                        "remaining_time": 51.73377067
                      },
                      {
                        "learn": [
                          0.3986881573
                        ],
                        "iteration": 636,
                        "passed_time": 90.51722866,
                        "remaining_time": 51.5820314
                      },
                      {
                        "learn": [
                          0.3986645122
                        ],
                        "iteration": 637,
                        "passed_time": 90.65502854,
                        "remaining_time": 51.43749268
                      },
                      {
                        "learn": [
                          0.3986307352
                        ],
                        "iteration": 638,
                        "passed_time": 90.75151009,
                        "remaining_time": 51.26963246
                      },
                      {
                        "learn": [
                          0.3985965443
                        ],
                        "iteration": 639,
                        "passed_time": 90.84982501,
                        "remaining_time": 51.10302657
                      },
                      {
                        "learn": [
                          0.3985546359
                        ],
                        "iteration": 640,
                        "passed_time": 90.98283493,
                        "remaining_time": 50.95606512
                      },
                      {
                        "learn": [
                          0.3984268551
                        ],
                        "iteration": 641,
                        "passed_time": 91.14297946,
                        "remaining_time": 50.82427827
                      },
                      {
                        "learn": [
                          0.3983841997
                        ],
                        "iteration": 642,
                        "passed_time": 91.28815069,
                        "remaining_time": 50.68408988
                      },
                      {
                        "learn": [
                          0.3983137124
                        ],
                        "iteration": 643,
                        "passed_time": 91.41006945,
                        "remaining_time": 50.53103218
                      },
                      {
                        "learn": [
                          0.3982870834
                        ],
                        "iteration": 644,
                        "passed_time": 91.54552124,
                        "remaining_time": 50.38551944
                      },
                      {
                        "learn": [
                          0.3982504673
                        ],
                        "iteration": 645,
                        "passed_time": 91.67869649,
                        "remaining_time": 50.23879034
                      },
                      {
                        "learn": [
                          0.398219576
                        ],
                        "iteration": 646,
                        "passed_time": 91.79188363,
                        "remaining_time": 50.08119771
                      },
                      {
                        "learn": [
                          0.3981809115
                        ],
                        "iteration": 647,
                        "passed_time": 91.9113424,
                        "remaining_time": 49.92714896
                      },
                      {
                        "learn": [
                          0.3981600652
                        ],
                        "iteration": 648,
                        "passed_time": 92.03390631,
                        "remaining_time": 49.77488615
                      },
                      {
                        "learn": [
                          0.3981108865
                        ],
                        "iteration": 649,
                        "passed_time": 92.18560844,
                        "remaining_time": 49.63840454
                      },
                      {
                        "learn": [
                          0.3980522393
                        ],
                        "iteration": 650,
                        "passed_time": 92.32335753,
                        "remaining_time": 49.49439597
                      },
                      {
                        "learn": [
                          0.3980219359
                        ],
                        "iteration": 651,
                        "passed_time": 92.43187035,
                        "remaining_time": 49.33480197
                      },
                      {
                        "learn": [
                          0.3979566646
                        ],
                        "iteration": 652,
                        "passed_time": 92.56600708,
                        "remaining_time": 49.18898079
                      },
                      {
                        "learn": [
                          0.3979304651
                        ],
                        "iteration": 653,
                        "passed_time": 92.68880618,
                        "remaining_time": 49.03719715
                      },
                      {
                        "learn": [
                          0.397916151
                        ],
                        "iteration": 654,
                        "passed_time": 92.78703745,
                        "remaining_time": 48.87256171
                      },
                      {
                        "learn": [
                          0.3978899041
                        ],
                        "iteration": 655,
                        "passed_time": 92.88218166,
                        "remaining_time": 48.7065099
                      },
                      {
                        "learn": [
                          0.397871859
                        ],
                        "iteration": 656,
                        "passed_time": 92.99740659,
                        "remaining_time": 48.55115748
                      },
                      {
                        "learn": [
                          0.3978541727
                        ],
                        "iteration": 657,
                        "passed_time": 93.12691816,
                        "remaining_time": 48.4033526
                      },
                      {
                        "learn": [
                          0.3978110839
                        ],
                        "iteration": 658,
                        "passed_time": 93.26124087,
                        "remaining_time": 48.25809277
                      },
                      {
                        "learn": [
                          0.3977380522
                        ],
                        "iteration": 659,
                        "passed_time": 93.37240144,
                        "remaining_time": 48.10093408
                      },
                      {
                        "learn": [
                          0.3977187435
                        ],
                        "iteration": 660,
                        "passed_time": 93.47810916,
                        "remaining_time": 47.94111801
                      },
                      {
                        "learn": [
                          0.3976842244
                        ],
                        "iteration": 661,
                        "passed_time": 93.61816221,
                        "remaining_time": 47.79900125
                      },
                      {
                        "learn": [
                          0.3976672867
                        ],
                        "iteration": 662,
                        "passed_time": 93.73088889,
                        "remaining_time": 47.64300084
                      },
                      {
                        "learn": [
                          0.3976473296
                        ],
                        "iteration": 663,
                        "passed_time": 93.8385438,
                        "remaining_time": 47.48456433
                      },
                      {
                        "learn": [
                          0.3976189123
                        ],
                        "iteration": 664,
                        "passed_time": 93.94758249,
                        "remaining_time": 47.32697765
                      },
                      {
                        "learn": [
                          0.3976044365
                        ],
                        "iteration": 665,
                        "passed_time": 94.08541694,
                        "remaining_time": 47.18397786
                      },
                      {
                        "learn": [
                          0.3975477092
                        ],
                        "iteration": 666,
                        "passed_time": 94.22971662,
                        "remaining_time": 47.04422134
                      },
                      {
                        "learn": [
                          0.3975362055
                        ],
                        "iteration": 667,
                        "passed_time": 94.32815933,
                        "remaining_time": 46.88166003
                      },
                      {
                        "learn": [
                          0.397482974
                        ],
                        "iteration": 668,
                        "passed_time": 94.44714127,
                        "remaining_time": 46.72945256
                      },
                      {
                        "learn": [
                          0.3974753395
                        ],
                        "iteration": 669,
                        "passed_time": 94.55707205,
                        "remaining_time": 46.57288623
                      },
                      {
                        "learn": [
                          0.3974214796
                        ],
                        "iteration": 670,
                        "passed_time": 94.7050185,
                        "remaining_time": 46.43509849
                      },
                      {
                        "learn": [
                          0.3973708619
                        ],
                        "iteration": 671,
                        "passed_time": 94.83498509,
                        "remaining_time": 46.28850463
                      },
                      {
                        "learn": [
                          0.3973260138
                        ],
                        "iteration": 672,
                        "passed_time": 94.96384409,
                        "remaining_time": 46.14142202
                      },
                      {
                        "learn": [
                          0.3972991485
                        ],
                        "iteration": 673,
                        "passed_time": 95.08174175,
                        "remaining_time": 45.98909171
                      },
                      {
                        "learn": [
                          0.3972624366
                        ],
                        "iteration": 674,
                        "passed_time": 95.23252584,
                        "remaining_time": 45.85269762
                      },
                      {
                        "learn": [
                          0.3972272174
                        ],
                        "iteration": 675,
                        "passed_time": 95.33934935,
                        "remaining_time": 45.69519111
                      },
                      {
                        "learn": [
                          0.3971942989
                        ],
                        "iteration": 676,
                        "passed_time": 95.47398037,
                        "remaining_time": 45.55110142
                      },
                      {
                        "learn": [
                          0.3971445799
                        ],
                        "iteration": 677,
                        "passed_time": 95.56987695,
                        "remaining_time": 45.38864363
                      },
                      {
                        "learn": [
                          0.3971121718
                        ],
                        "iteration": 678,
                        "passed_time": 95.69191612,
                        "remaining_time": 45.2387409
                      },
                      {
                        "learn": [
                          0.3970683731
                        ],
                        "iteration": 679,
                        "passed_time": 95.83277966,
                        "remaining_time": 45.09777866
                      },
                      {
                        "learn": [
                          0.3970498843
                        ],
                        "iteration": 680,
                        "passed_time": 95.94038405,
                        "remaining_time": 44.94123717
                      },
                      {
                        "learn": [
                          0.3970157257
                        ],
                        "iteration": 681,
                        "passed_time": 96.04629142,
                        "remaining_time": 44.7840479
                      },
                      {
                        "learn": [
                          0.3969920605
                        ],
                        "iteration": 682,
                        "passed_time": 96.19405873,
                        "remaining_time": 44.64643721
                      },
                      {
                        "learn": [
                          0.3969428399
                        ],
                        "iteration": 683,
                        "passed_time": 96.29086432,
                        "remaining_time": 44.48525311
                      },
                      {
                        "learn": [
                          0.3969315951
                        ],
                        "iteration": 684,
                        "passed_time": 96.3777207,
                        "remaining_time": 44.31968178
                      },
                      {
                        "learn": [
                          0.3969016719
                        ],
                        "iteration": 685,
                        "passed_time": 96.49968776,
                        "remaining_time": 44.17041102
                      },
                      {
                        "learn": [
                          0.3968789818
                        ],
                        "iteration": 686,
                        "passed_time": 96.62131141,
                        "remaining_time": 44.02106328
                      },
                      {
                        "learn": [
                          0.3968455257
                        ],
                        "iteration": 687,
                        "passed_time": 96.74363221,
                        "remaining_time": 43.87211228
                      },
                      {
                        "learn": [
                          0.3968297919
                        ],
                        "iteration": 688,
                        "passed_time": 96.89032573,
                        "remaining_time": 43.73423992
                      },
                      {
                        "learn": [
                          0.396812384
                        ],
                        "iteration": 689,
                        "passed_time": 96.99793063,
                        "remaining_time": 43.57878043
                      },
                      {
                        "learn": [
                          0.3967725089
                        ],
                        "iteration": 690,
                        "passed_time": 97.10190015,
                        "remaining_time": 43.42183379
                      },
                      {
                        "learn": [
                          0.3967412815
                        ],
                        "iteration": 691,
                        "passed_time": 97.22917049,
                        "remaining_time": 43.27541114
                      },
                      {
                        "learn": [
                          0.3967011828
                        ],
                        "iteration": 692,
                        "passed_time": 97.37399421,
                        "remaining_time": 43.13681995
                      },
                      {
                        "learn": [
                          0.3966755879
                        ],
                        "iteration": 693,
                        "passed_time": 97.58570211,
                        "remaining_time": 43.0277015
                      },
                      {
                        "learn": [
                          0.3966590975
                        ],
                        "iteration": 694,
                        "passed_time": 97.8132372,
                        "remaining_time": 42.92523359
                      },
                      {
                        "learn": [
                          0.3966357217
                        ],
                        "iteration": 695,
                        "passed_time": 98.05261241,
                        "remaining_time": 42.82757784
                      },
                      {
                        "learn": [
                          0.3966094058
                        ],
                        "iteration": 696,
                        "passed_time": 98.3499332,
                        "remaining_time": 42.75470554
                      },
                      {
                        "learn": [
                          0.3965777186
                        ],
                        "iteration": 697,
                        "passed_time": 98.52749812,
                        "remaining_time": 42.62937598
                      },
                      {
                        "learn": [
                          0.3965532217
                        ],
                        "iteration": 698,
                        "passed_time": 98.78000721,
                        "remaining_time": 42.53616906
                      },
                      {
                        "learn": [
                          0.3965169232
                        ],
                        "iteration": 699,
                        "passed_time": 99.02840647,
                        "remaining_time": 42.44074563
                      },
                      {
                        "learn": [
                          0.3964732902
                        ],
                        "iteration": 700,
                        "passed_time": 99.22586014,
                        "remaining_time": 42.32315575
                      },
                      {
                        "learn": [
                          0.3964522835
                        ],
                        "iteration": 701,
                        "passed_time": 99.47740208,
                        "remaining_time": 42.22829889
                      },
                      {
                        "learn": [
                          0.3964294403
                        ],
                        "iteration": 702,
                        "passed_time": 99.67797176,
                        "remaining_time": 42.11146175
                      },
                      {
                        "learn": [
                          0.3963780099
                        ],
                        "iteration": 703,
                        "passed_time": 99.91694753,
                        "remaining_time": 42.01053476
                      },
                      {
                        "learn": [
                          0.3963408538
                        ],
                        "iteration": 704,
                        "passed_time": 100.1741119,
                        "remaining_time": 41.91682695
                      },
                      {
                        "learn": [
                          0.3963241888
                        ],
                        "iteration": 705,
                        "passed_time": 100.437192,
                        "remaining_time": 41.82511963
                      },
                      {
                        "learn": [
                          0.3962559247
                        ],
                        "iteration": 706,
                        "passed_time": 100.6373538,
                        "remaining_time": 41.70685244
                      },
                      {
                        "learn": [
                          0.3962447345
                        ],
                        "iteration": 707,
                        "passed_time": 100.8331365,
                        "remaining_time": 41.58654784
                      },
                      {
                        "learn": [
                          0.3962202908
                        ],
                        "iteration": 708,
                        "passed_time": 101.0454942,
                        "remaining_time": 41.47283331
                      },
                      {
                        "learn": [
                          0.3961740878
                        ],
                        "iteration": 709,
                        "passed_time": 101.2706309,
                        "remaining_time": 41.36406053
                      },
                      {
                        "learn": [
                          0.3961291802
                        ],
                        "iteration": 710,
                        "passed_time": 101.401959,
                        "remaining_time": 41.21683003
                      },
                      {
                        "learn": [
                          0.3960862649
                        ],
                        "iteration": 711,
                        "passed_time": 101.5583053,
                        "remaining_time": 41.07976394
                      },
                      {
                        "learn": [
                          0.3960690024
                        ],
                        "iteration": 712,
                        "passed_time": 101.6959807,
                        "remaining_time": 40.93512828
                      },
                      {
                        "learn": [
                          0.3960612446
                        ],
                        "iteration": 713,
                        "passed_time": 101.8002143,
                        "remaining_time": 40.77711664
                      },
                      {
                        "learn": [
                          0.3960198377
                        ],
                        "iteration": 714,
                        "passed_time": 101.9043321,
                        "remaining_time": 40.6192093
                      },
                      {
                        "learn": [
                          0.3959975196
                        ],
                        "iteration": 715,
                        "passed_time": 102.0042025,
                        "remaining_time": 40.45976747
                      },
                      {
                        "learn": [
                          0.3959673169
                        ],
                        "iteration": 716,
                        "passed_time": 102.1246636,
                        "remaining_time": 40.30861896
                      },
                      {
                        "learn": [
                          0.3959459467
                        ],
                        "iteration": 717,
                        "passed_time": 102.2712253,
                        "remaining_time": 40.16780714
                      },
                      {
                        "learn": [
                          0.3958716129
                        ],
                        "iteration": 718,
                        "passed_time": 102.3971018,
                        "remaining_time": 40.01889512
                      },
                      {
                        "learn": [
                          0.3958448413
                        ],
                        "iteration": 719,
                        "passed_time": 102.5671592,
                        "remaining_time": 39.88722858
                      },
                      {
                        "learn": [
                          0.3958052987
                        ],
                        "iteration": 720,
                        "passed_time": 102.6987097,
                        "remaining_time": 39.7405548
                      },
                      {
                        "learn": [
                          0.3957757415
                        ],
                        "iteration": 721,
                        "passed_time": 102.8251168,
                        "remaining_time": 39.59194248
                      },
                      {
                        "learn": [
                          0.3957518869
                        ],
                        "iteration": 722,
                        "passed_time": 102.9445982,
                        "remaining_time": 39.44073819
                      },
                      {
                        "learn": [
                          0.3957241029
                        ],
                        "iteration": 723,
                        "passed_time": 103.0916,
                        "remaining_time": 39.30011272
                      },
                      {
                        "learn": [
                          0.3957009815
                        ],
                        "iteration": 724,
                        "passed_time": 103.2040103,
                        "remaining_time": 39.14634872
                      },
                      {
                        "learn": [
                          0.3956790142
                        ],
                        "iteration": 725,
                        "passed_time": 103.3137546,
                        "remaining_time": 38.9916925
                      },
                      {
                        "learn": [
                          0.3956560351
                        ],
                        "iteration": 726,
                        "passed_time": 103.4343198,
                        "remaining_time": 38.84122324
                      },
                      {
                        "learn": [
                          0.3956199084
                        ],
                        "iteration": 727,
                        "passed_time": 103.6053184,
                        "remaining_time": 38.70967939
                      },
                      {
                        "learn": [
                          0.3955982377
                        ],
                        "iteration": 728,
                        "passed_time": 103.7184729,
                        "remaining_time": 38.55652421
                      },
                      {
                        "learn": [
                          0.3955506729
                        ],
                        "iteration": 729,
                        "passed_time": 103.8222466,
                        "remaining_time": 38.400009
                      },
                      {
                        "learn": [
                          0.3955013824
                        ],
                        "iteration": 730,
                        "passed_time": 103.9332789,
                        "remaining_time": 38.2463092
                      },
                      {
                        "learn": [
                          0.3954340455
                        ],
                        "iteration": 731,
                        "passed_time": 104.0464979,
                        "remaining_time": 38.09352654
                      },
                      {
                        "learn": [
                          0.3954215657
                        ],
                        "iteration": 732,
                        "passed_time": 104.1713909,
                        "remaining_time": 37.94510418
                      },
                      {
                        "learn": [
                          0.3953614366
                        ],
                        "iteration": 733,
                        "passed_time": 104.2619553,
                        "remaining_time": 37.78430534
                      },
                      {
                        "learn": [
                          0.3953173833
                        ],
                        "iteration": 734,
                        "passed_time": 104.3809795,
                        "remaining_time": 37.63395859
                      },
                      {
                        "learn": [
                          0.3952807526
                        ],
                        "iteration": 735,
                        "passed_time": 104.5005125,
                        "remaining_time": 37.48387948
                      },
                      {
                        "learn": [
                          0.3952558997
                        ],
                        "iteration": 736,
                        "passed_time": 104.6352568,
                        "remaining_time": 37.33931146
                      },
                      {
                        "learn": [
                          0.3952211772
                        ],
                        "iteration": 737,
                        "passed_time": 104.7400454,
                        "remaining_time": 37.18413536
                      },
                      {
                        "learn": [
                          0.3952000439
                        ],
                        "iteration": 738,
                        "passed_time": 104.8664918,
                        "remaining_time": 37.03674472
                      },
                      {
                        "learn": [
                          0.3951748545
                        ],
                        "iteration": 739,
                        "passed_time": 104.961729,
                        "remaining_time": 36.87844531
                      },
                      {
                        "learn": [
                          0.3951075172
                        ],
                        "iteration": 740,
                        "passed_time": 105.0699541,
                        "remaining_time": 36.72485575
                      },
                      {
                        "learn": [
                          0.3950840451
                        ],
                        "iteration": 741,
                        "passed_time": 105.2051277,
                        "remaining_time": 36.5807587
                      },
                      {
                        "learn": [
                          0.3950711594
                        ],
                        "iteration": 742,
                        "passed_time": 105.3291207,
                        "remaining_time": 36.43281834
                      },
                      {
                        "learn": [
                          0.395054897
                        ],
                        "iteration": 743,
                        "passed_time": 105.4579004,
                        "remaining_time": 36.28658937
                      },
                      {
                        "learn": [
                          0.3950414853
                        ],
                        "iteration": 744,
                        "passed_time": 105.5643886,
                        "remaining_time": 36.13277731
                      },
                      {
                        "learn": [
                          0.395015822
                        ],
                        "iteration": 745,
                        "passed_time": 105.7313247,
                        "remaining_time": 35.99967356
                      },
                      {
                        "learn": [
                          0.3949828154
                        ],
                        "iteration": 746,
                        "passed_time": 105.8509159,
                        "remaining_time": 35.85044408
                      },
                      {
                        "learn": [
                          0.3949163906
                        ],
                        "iteration": 747,
                        "passed_time": 105.9595699,
                        "remaining_time": 35.6976091
                      },
                      {
                        "learn": [
                          0.3948665268
                        ],
                        "iteration": 748,
                        "passed_time": 106.0604982,
                        "remaining_time": 35.54230315
                      },
                      {
                        "learn": [
                          0.3948554117
                        ],
                        "iteration": 749,
                        "passed_time": 106.2008867,
                        "remaining_time": 35.40029557
                      },
                      {
                        "learn": [
                          0.3948266914
                        ],
                        "iteration": 750,
                        "passed_time": 106.3100555,
                        "remaining_time": 35.24794118
                      },
                      {
                        "learn": [
                          0.3948071505
                        ],
                        "iteration": 751,
                        "passed_time": 106.4163755,
                        "remaining_time": 35.09476213
                      },
                      {
                        "learn": [
                          0.3947779585
                        ],
                        "iteration": 752,
                        "passed_time": 106.5340058,
                        "remaining_time": 34.94541758
                      },
                      {
                        "learn": [
                          0.3947679427
                        ],
                        "iteration": 753,
                        "passed_time": 106.702851,
                        "remaining_time": 34.81286651
                      },
                      {
                        "learn": [
                          0.394737375
                        ],
                        "iteration": 754,
                        "passed_time": 106.8160619,
                        "remaining_time": 34.66216578
                      },
                      {
                        "learn": [
                          0.3947210942
                        ],
                        "iteration": 755,
                        "passed_time": 106.9261404,
                        "remaining_time": 34.51055325
                      },
                      {
                        "learn": [
                          0.3946825083
                        ],
                        "iteration": 756,
                        "passed_time": 107.0598612,
                        "remaining_time": 34.36663974
                      },
                      {
                        "learn": [
                          0.3946276078
                        ],
                        "iteration": 757,
                        "passed_time": 107.2339624,
                        "remaining_time": 34.235645
                      },
                      {
                        "learn": [
                          0.3946216168
                        ],
                        "iteration": 758,
                        "passed_time": 107.3535714,
                        "remaining_time": 34.08723412
                      },
                      {
                        "learn": [
                          0.3945752743
                        ],
                        "iteration": 759,
                        "passed_time": 107.4587278,
                        "remaining_time": 33.93433509
                      },
                      {
                        "learn": [
                          0.3945547273
                        ],
                        "iteration": 760,
                        "passed_time": 107.58203,
                        "remaining_time": 33.7872604
                      },
                      {
                        "learn": [
                          0.394533917
                        ],
                        "iteration": 761,
                        "passed_time": 107.8661244,
                        "remaining_time": 33.69046931
                      },
                      {
                        "learn": [
                          0.3944974034
                        ],
                        "iteration": 762,
                        "passed_time": 107.9657104,
                        "remaining_time": 33.53587596
                      },
                      {
                        "learn": [
                          0.3944830108
                        ],
                        "iteration": 763,
                        "passed_time": 108.0755308,
                        "remaining_time": 33.38458804
                      },
                      {
                        "learn": [
                          0.3944764222
                        ],
                        "iteration": 764,
                        "passed_time": 108.1751012,
                        "remaining_time": 33.23025984
                      },
                      {
                        "learn": [
                          0.3944435366
                        ],
                        "iteration": 765,
                        "passed_time": 108.296,
                        "remaining_time": 33.08259006
                      },
                      {
                        "learn": [
                          0.3944101421
                        ],
                        "iteration": 766,
                        "passed_time": 108.4137323,
                        "remaining_time": 32.93402819
                      },
                      {
                        "learn": [
                          0.3943732061
                        ],
                        "iteration": 767,
                        "passed_time": 108.5184079,
                        "remaining_time": 32.78160239
                      },
                      {
                        "learn": [
                          0.3943310617
                        ],
                        "iteration": 768,
                        "passed_time": 108.6302266,
                        "remaining_time": 32.63144647
                      },
                      {
                        "learn": [
                          0.3942533465
                        ],
                        "iteration": 769,
                        "passed_time": 108.7450813,
                        "remaining_time": 32.482297
                      },
                      {
                        "learn": [
                          0.3942054159
                        ],
                        "iteration": 770,
                        "passed_time": 108.8981407,
                        "remaining_time": 32.34458396
                      },
                      {
                        "learn": [
                          0.3941625654
                        ],
                        "iteration": 771,
                        "passed_time": 109.0134883,
                        "remaining_time": 32.19569345
                      },
                      {
                        "learn": [
                          0.394141105
                        ],
                        "iteration": 772,
                        "passed_time": 109.1397952,
                        "remaining_time": 32.05010804
                      },
                      {
                        "learn": [
                          0.3941083753
                        ],
                        "iteration": 773,
                        "passed_time": 109.2771191,
                        "remaining_time": 31.9077893
                      },
                      {
                        "learn": [
                          0.3940760183
                        ],
                        "iteration": 774,
                        "passed_time": 109.3929189,
                        "remaining_time": 31.75923452
                      },
                      {
                        "learn": [
                          0.3940505592
                        ],
                        "iteration": 775,
                        "passed_time": 109.5319504,
                        "remaining_time": 31.61747021
                      },
                      {
                        "learn": [
                          0.394024797
                        ],
                        "iteration": 776,
                        "passed_time": 109.643238,
                        "remaining_time": 31.46775041
                      },
                      {
                        "learn": [
                          0.3939979695
                        ],
                        "iteration": 777,
                        "passed_time": 109.7635839,
                        "remaining_time": 31.32071418
                      },
                      {
                        "learn": [
                          0.3939667528
                        ],
                        "iteration": 778,
                        "passed_time": 109.9203211,
                        "remaining_time": 31.18407054
                      },
                      {
                        "learn": [
                          0.3939373615
                        ],
                        "iteration": 779,
                        "passed_time": 110.0547344,
                        "remaining_time": 31.04107895
                      },
                      {
                        "learn": [
                          0.3939033352
                        ],
                        "iteration": 780,
                        "passed_time": 110.1649915,
                        "remaining_time": 30.89133563
                      },
                      {
                        "learn": [
                          0.3938821636
                        ],
                        "iteration": 781,
                        "passed_time": 110.2668836,
                        "remaining_time": 30.73936141
                      },
                      {
                        "learn": [
                          0.3938693537
                        ],
                        "iteration": 782,
                        "passed_time": 110.4074608,
                        "remaining_time": 30.59823627
                      },
                      {
                        "learn": [
                          0.3938223675
                        ],
                        "iteration": 783,
                        "passed_time": 110.5084149,
                        "remaining_time": 30.44619595
                      },
                      {
                        "learn": [
                          0.3937768851
                        ],
                        "iteration": 784,
                        "passed_time": 110.6174691,
                        "remaining_time": 30.29650428
                      },
                      {
                        "learn": [
                          0.393748762
                        ],
                        "iteration": 785,
                        "passed_time": 110.7409318,
                        "remaining_time": 30.15083895
                      },
                      {
                        "learn": [
                          0.3937341973
                        ],
                        "iteration": 786,
                        "passed_time": 110.8515426,
                        "remaining_time": 30.00175167
                      },
                      {
                        "learn": [
                          0.3937024688
                        ],
                        "iteration": 787,
                        "passed_time": 111.0131456,
                        "remaining_time": 29.86648079
                      },
                      {
                        "learn": [
                          0.3936826205
                        ],
                        "iteration": 788,
                        "passed_time": 111.1045419,
                        "remaining_time": 29.712368
                      },
                      {
                        "learn": [
                          0.3936179361
                        ],
                        "iteration": 789,
                        "passed_time": 111.2777925,
                        "remaining_time": 29.58017269
                      },
                      {
                        "learn": [
                          0.3935865386
                        ],
                        "iteration": 790,
                        "passed_time": 111.5121693,
                        "remaining_time": 29.46402451
                      },
                      {
                        "learn": [
                          0.3935086546
                        ],
                        "iteration": 791,
                        "passed_time": 111.7411761,
                        "remaining_time": 29.34616746
                      },
                      {
                        "learn": [
                          0.3934827522
                        ],
                        "iteration": 792,
                        "passed_time": 112.0069734,
                        "remaining_time": 29.23763367
                      },
                      {
                        "learn": [
                          0.3934453965
                        ],
                        "iteration": 793,
                        "passed_time": 112.2929534,
                        "remaining_time": 29.13394006
                      },
                      {
                        "learn": [
                          0.3934061618
                        ],
                        "iteration": 794,
                        "passed_time": 112.5396015,
                        "remaining_time": 29.01964568
                      },
                      {
                        "learn": [
                          0.3933741463
                        ],
                        "iteration": 795,
                        "passed_time": 112.7333143,
                        "remaining_time": 28.8914524
                      },
                      {
                        "learn": [
                          0.393371015
                        ],
                        "iteration": 796,
                        "passed_time": 112.9261145,
                        "remaining_time": 28.76286229
                      },
                      {
                        "learn": [
                          0.3933470224
                        ],
                        "iteration": 797,
                        "passed_time": 113.1928055,
                        "remaining_time": 28.65281543
                      },
                      {
                        "learn": [
                          0.3933234573
                        ],
                        "iteration": 798,
                        "passed_time": 113.4073883,
                        "remaining_time": 28.52926791
                      },
                      {
                        "learn": [
                          0.3933075344
                        ],
                        "iteration": 799,
                        "passed_time": 113.6389134,
                        "remaining_time": 28.40972836
                      },
                      {
                        "learn": [
                          0.3932769728
                        ],
                        "iteration": 800,
                        "passed_time": 113.8421116,
                        "remaining_time": 28.28287166
                      },
                      {
                        "learn": [
                          0.3932600739
                        ],
                        "iteration": 801,
                        "passed_time": 113.977546,
                        "remaining_time": 28.1390949
                      },
                      {
                        "learn": [
                          0.3932240025
                        ],
                        "iteration": 802,
                        "passed_time": 114.2638568,
                        "remaining_time": 28.0323534
                      },
                      {
                        "learn": [
                          0.3931883497
                        ],
                        "iteration": 803,
                        "passed_time": 114.5026655,
                        "remaining_time": 27.91358512
                      },
                      {
                        "learn": [
                          0.3931703611
                        ],
                        "iteration": 804,
                        "passed_time": 114.6678695,
                        "remaining_time": 27.77668888
                      },
                      {
                        "learn": [
                          0.3931217566
                        ],
                        "iteration": 805,
                        "passed_time": 114.7948426,
                        "remaining_time": 27.63052043
                      },
                      {
                        "learn": [
                          0.3931133453
                        ],
                        "iteration": 806,
                        "passed_time": 114.9006233,
                        "remaining_time": 27.47933122
                      },
                      {
                        "learn": [
                          0.3930741025
                        ],
                        "iteration": 807,
                        "passed_time": 115.013453,
                        "remaining_time": 27.32992942
                      },
                      {
                        "learn": [
                          0.3930214513
                        ],
                        "iteration": 808,
                        "passed_time": 115.1228836,
                        "remaining_time": 27.17981555
                      },
                      {
                        "learn": [
                          0.3929772122
                        ],
                        "iteration": 809,
                        "passed_time": 115.2904059,
                        "remaining_time": 27.04342855
                      },
                      {
                        "learn": [
                          0.3929088481
                        ],
                        "iteration": 810,
                        "passed_time": 115.4081385,
                        "remaining_time": 26.89536149
                      },
                      {
                        "learn": [
                          0.3928662022
                        ],
                        "iteration": 811,
                        "passed_time": 115.5545246,
                        "remaining_time": 26.75400324
                      },
                      {
                        "learn": [
                          0.3928475425
                        ],
                        "iteration": 812,
                        "passed_time": 115.6776706,
                        "remaining_time": 26.60728708
                      },
                      {
                        "learn": [
                          0.3928281236
                        ],
                        "iteration": 813,
                        "passed_time": 115.806126,
                        "remaining_time": 26.46184205
                      },
                      {
                        "learn": [
                          0.3928000474
                        ],
                        "iteration": 814,
                        "passed_time": 115.9210098,
                        "remaining_time": 26.31335804
                      },
                      {
                        "learn": [
                          0.39279357
                        ],
                        "iteration": 815,
                        "passed_time": 116.051452,
                        "remaining_time": 26.16846468
                      },
                      {
                        "learn": [
                          0.3927579843
                        ],
                        "iteration": 816,
                        "passed_time": 116.1977054,
                        "remaining_time": 26.02714822
                      },
                      {
                        "learn": [
                          0.3927381899
                        ],
                        "iteration": 817,
                        "passed_time": 116.3484266,
                        "remaining_time": 25.88681375
                      },
                      {
                        "learn": [
                          0.3927059989
                        ],
                        "iteration": 818,
                        "passed_time": 116.4526185,
                        "remaining_time": 25.73617087
                      },
                      {
                        "learn": [
                          0.3926637466
                        ],
                        "iteration": 819,
                        "passed_time": 116.599494,
                        "remaining_time": 25.59501088
                      },
                      {
                        "learn": [
                          0.3926201273
                        ],
                        "iteration": 820,
                        "passed_time": 116.7189479,
                        "remaining_time": 25.44785832
                      },
                      {
                        "learn": [
                          0.3926090611
                        ],
                        "iteration": 821,
                        "passed_time": 116.8169528,
                        "remaining_time": 25.29612846
                      },
                      {
                        "learn": [
                          0.3925819868
                        ],
                        "iteration": 822,
                        "passed_time": 116.9195192,
                        "remaining_time": 25.1455102
                      },
                      {
                        "learn": [
                          0.3925659032
                        ],
                        "iteration": 823,
                        "passed_time": 117.0285361,
                        "remaining_time": 24.99638635
                      },
                      {
                        "learn": [
                          0.3925323697
                        ],
                        "iteration": 824,
                        "passed_time": 117.1414871,
                        "remaining_time": 24.84819423
                      },
                      {
                        "learn": [
                          0.392520347
                        ],
                        "iteration": 825,
                        "passed_time": 117.2449699,
                        "remaining_time": 24.69809294
                      },
                      {
                        "learn": [
                          0.3925028421
                        ],
                        "iteration": 826,
                        "passed_time": 117.3387155,
                        "remaining_time": 24.54606744
                      },
                      {
                        "learn": [
                          0.3924773259
                        ],
                        "iteration": 827,
                        "passed_time": 117.4824796,
                        "remaining_time": 24.40457306
                      },
                      {
                        "learn": [
                          0.3924414889
                        ],
                        "iteration": 828,
                        "passed_time": 117.5817802,
                        "remaining_time": 24.25390159
                      },
                      {
                        "learn": [
                          0.3924214213
                        ],
                        "iteration": 829,
                        "passed_time": 117.6765893,
                        "remaining_time": 24.10243395
                      },
                      {
                        "learn": [
                          0.3923820988
                        ],
                        "iteration": 830,
                        "passed_time": 117.8088229,
                        "remaining_time": 23.95871368
                      },
                      {
                        "learn": [
                          0.3923428652
                        ],
                        "iteration": 831,
                        "passed_time": 117.9255764,
                        "remaining_time": 23.81189524
                      },
                      {
                        "learn": [
                          0.3923143773
                        ],
                        "iteration": 832,
                        "passed_time": 118.0594809,
                        "remaining_time": 23.66858741
                      },
                      {
                        "learn": [
                          0.3922907689
                        ],
                        "iteration": 833,
                        "passed_time": 118.1787506,
                        "remaining_time": 23.52238922
                      },
                      {
                        "learn": [
                          0.3922679374
                        ],
                        "iteration": 834,
                        "passed_time": 118.3201868,
                        "remaining_time": 23.38063572
                      },
                      {
                        "learn": [
                          0.3922411751
                        ],
                        "iteration": 835,
                        "passed_time": 118.4760754,
                        "remaining_time": 23.24171814
                      },
                      {
                        "learn": [
                          0.3922185716
                        ],
                        "iteration": 836,
                        "passed_time": 118.6136633,
                        "remaining_time": 23.09919609
                      },
                      {
                        "learn": [
                          0.3922009549
                        ],
                        "iteration": 837,
                        "passed_time": 118.7456842,
                        "remaining_time": 22.9556096
                      },
                      {
                        "learn": [
                          0.3921705294
                        ],
                        "iteration": 838,
                        "passed_time": 118.8860323,
                        "remaining_time": 22.81364862
                      },
                      {
                        "learn": [
                          0.3921577679
                        ],
                        "iteration": 839,
                        "passed_time": 119.0001629,
                        "remaining_time": 22.6666977
                      },
                      {
                        "learn": [
                          0.3921306436
                        ],
                        "iteration": 840,
                        "passed_time": 119.1478165,
                        "remaining_time": 22.5261627
                      },
                      {
                        "learn": [
                          0.3920951497
                        ],
                        "iteration": 841,
                        "passed_time": 119.2681415,
                        "remaining_time": 22.3804826
                      },
                      {
                        "learn": [
                          0.3920065399
                        ],
                        "iteration": 842,
                        "passed_time": 119.40787,
                        "remaining_time": 22.23847638
                      },
                      {
                        "learn": [
                          0.3919767731
                        ],
                        "iteration": 843,
                        "passed_time": 119.5487989,
                        "remaining_time": 22.09669743
                      },
                      {
                        "learn": [
                          0.3919394742
                        ],
                        "iteration": 844,
                        "passed_time": 119.6913452,
                        "remaining_time": 21.95521718
                      },
                      {
                        "learn": [
                          0.391898617
                        ],
                        "iteration": 845,
                        "passed_time": 119.8090717,
                        "remaining_time": 21.80921637
                      },
                      {
                        "learn": [
                          0.3918613064
                        ],
                        "iteration": 846,
                        "passed_time": 119.9390882,
                        "remaining_time": 21.66550235
                      },
                      {
                        "learn": [
                          0.3917946277
                        ],
                        "iteration": 847,
                        "passed_time": 120.0798221,
                        "remaining_time": 21.5237417
                      },
                      {
                        "learn": [
                          0.3917614191
                        ],
                        "iteration": 848,
                        "passed_time": 120.2176838,
                        "remaining_time": 21.38147262
                      },
                      {
                        "learn": [
                          0.3917294324
                        ],
                        "iteration": 849,
                        "passed_time": 120.3543433,
                        "remaining_time": 21.23900176
                      },
                      {
                        "learn": [
                          0.3916901036
                        ],
                        "iteration": 850,
                        "passed_time": 120.5353628,
                        "remaining_time": 21.10431147
                      },
                      {
                        "learn": [
                          0.3916713574
                        ],
                        "iteration": 851,
                        "passed_time": 120.640341,
                        "remaining_time": 20.95630336
                      },
                      {
                        "learn": [
                          0.3916547465
                        ],
                        "iteration": 852,
                        "passed_time": 120.7806103,
                        "remaining_time": 20.81447797
                      },
                      {
                        "learn": [
                          0.3916370001
                        ],
                        "iteration": 853,
                        "passed_time": 120.8886672,
                        "remaining_time": 20.66714919
                      },
                      {
                        "learn": [
                          0.3916149872
                        ],
                        "iteration": 854,
                        "passed_time": 121.0197254,
                        "remaining_time": 20.52381308
                      },
                      {
                        "learn": [
                          0.3915910491
                        ],
                        "iteration": 855,
                        "passed_time": 121.1428424,
                        "remaining_time": 20.37916976
                      },
                      {
                        "learn": [
                          0.3915623082
                        ],
                        "iteration": 856,
                        "passed_time": 121.2603108,
                        "remaining_time": 20.23363413
                      },
                      {
                        "learn": [
                          0.3915523576
                        ],
                        "iteration": 857,
                        "passed_time": 121.3903892,
                        "remaining_time": 20.0902509
                      },
                      {
                        "learn": [
                          0.391525099
                        ],
                        "iteration": 858,
                        "passed_time": 121.5471408,
                        "remaining_time": 19.95127689
                      },
                      {
                        "learn": [
                          0.3915124851
                        ],
                        "iteration": 859,
                        "passed_time": 121.6869237,
                        "remaining_time": 19.8094992
                      },
                      {
                        "learn": [
                          0.3914878818
                        ],
                        "iteration": 860,
                        "passed_time": 121.8229439,
                        "remaining_time": 19.66711871
                      },
                      {
                        "learn": [
                          0.3914665196
                        ],
                        "iteration": 861,
                        "passed_time": 121.939288,
                        "remaining_time": 19.52160295
                      },
                      {
                        "learn": [
                          0.3914385335
                        ],
                        "iteration": 862,
                        "passed_time": 122.0582403,
                        "remaining_time": 19.37656885
                      },
                      {
                        "learn": [
                          0.3914361701
                        ],
                        "iteration": 863,
                        "passed_time": 122.1913737,
                        "remaining_time": 19.23382734
                      },
                      {
                        "learn": [
                          0.3914127855
                        ],
                        "iteration": 864,
                        "passed_time": 122.3207417,
                        "remaining_time": 19.09052038
                      },
                      {
                        "learn": [
                          0.391386735
                        ],
                        "iteration": 865,
                        "passed_time": 122.4465671,
                        "remaining_time": 18.94669745
                      },
                      {
                        "learn": [
                          0.3913568759
                        ],
                        "iteration": 866,
                        "passed_time": 122.5970011,
                        "remaining_time": 18.80669106
                      },
                      {
                        "learn": [
                          0.3913185813
                        ],
                        "iteration": 867,
                        "passed_time": 122.7144218,
                        "remaining_time": 18.66164018
                      },
                      {
                        "learn": [
                          0.3912972745
                        ],
                        "iteration": 868,
                        "passed_time": 122.853139,
                        "remaining_time": 18.5198633
                      },
                      {
                        "learn": [
                          0.3912602058
                        ],
                        "iteration": 869,
                        "passed_time": 122.9710935,
                        "remaining_time": 18.37499098
                      },
                      {
                        "learn": [
                          0.3912272778
                        ],
                        "iteration": 870,
                        "passed_time": 123.0956436,
                        "remaining_time": 18.23115732
                      },
                      {
                        "learn": [
                          0.3911958365
                        ],
                        "iteration": 871,
                        "passed_time": 123.2236023,
                        "remaining_time": 18.08786823
                      },
                      {
                        "learn": [
                          0.3911721343
                        ],
                        "iteration": 872,
                        "passed_time": 123.3412796,
                        "remaining_time": 17.94311857
                      },
                      {
                        "learn": [
                          0.3911453602
                        ],
                        "iteration": 873,
                        "passed_time": 123.4167821,
                        "remaining_time": 17.79235074
                      },
                      {
                        "learn": [
                          0.3911241626
                        ],
                        "iteration": 874,
                        "passed_time": 123.5426822,
                        "remaining_time": 17.6489546
                      },
                      {
                        "learn": [
                          0.3911100963
                        ],
                        "iteration": 875,
                        "passed_time": 123.6722184,
                        "remaining_time": 17.50611311
                      },
                      {
                        "learn": [
                          0.3910919505
                        ],
                        "iteration": 876,
                        "passed_time": 123.774734,
                        "remaining_time": 17.3595123
                      },
                      {
                        "learn": [
                          0.3910789759
                        ],
                        "iteration": 877,
                        "passed_time": 123.9114765,
                        "remaining_time": 17.2177678
                      },
                      {
                        "learn": [
                          0.3910547773
                        ],
                        "iteration": 878,
                        "passed_time": 124.0398052,
                        "remaining_time": 17.07487648
                      },
                      {
                        "learn": [
                          0.3910213834
                        ],
                        "iteration": 879,
                        "passed_time": 124.1574172,
                        "remaining_time": 16.93055689
                      },
                      {
                        "learn": [
                          0.3909789498
                        ],
                        "iteration": 880,
                        "passed_time": 124.2519563,
                        "remaining_time": 16.78318139
                      },
                      {
                        "learn": [
                          0.3909603528
                        ],
                        "iteration": 881,
                        "passed_time": 124.3543329,
                        "remaining_time": 16.63697424
                      },
                      {
                        "learn": [
                          0.3909372031
                        ],
                        "iteration": 882,
                        "passed_time": 124.5020577,
                        "remaining_time": 16.49687515
                      },
                      {
                        "learn": [
                          0.3908975076
                        ],
                        "iteration": 883,
                        "passed_time": 124.7381665,
                        "remaining_time": 16.36835669
                      },
                      {
                        "learn": [
                          0.390856122
                        ],
                        "iteration": 884,
                        "passed_time": 124.9572284,
                        "remaining_time": 16.23737996
                      },
                      {
                        "learn": [
                          0.3907745939
                        ],
                        "iteration": 885,
                        "passed_time": 125.2115873,
                        "remaining_time": 16.11074599
                      },
                      {
                        "learn": [
                          0.3907585199
                        ],
                        "iteration": 886,
                        "passed_time": 125.4768468,
                        "remaining_time": 15.98521272
                      },
                      {
                        "learn": [
                          0.3907461025
                        ],
                        "iteration": 887,
                        "passed_time": 125.6887598,
                        "remaining_time": 15.85263638
                      },
                      {
                        "learn": [
                          0.3906991075
                        ],
                        "iteration": 888,
                        "passed_time": 125.9446731,
                        "remaining_time": 15.72537538
                      },
                      {
                        "learn": [
                          0.3906784043
                        ],
                        "iteration": 889,
                        "passed_time": 126.1595662,
                        "remaining_time": 15.59275537
                      },
                      {
                        "learn": [
                          0.3906493536
                        ],
                        "iteration": 890,
                        "passed_time": 126.3341209,
                        "remaining_time": 15.45501591
                      },
                      {
                        "learn": [
                          0.3905875383
                        ],
                        "iteration": 891,
                        "passed_time": 126.5769959,
                        "remaining_time": 15.32546587
                      },
                      {
                        "learn": [
                          0.3905771893
                        ],
                        "iteration": 892,
                        "passed_time": 126.815013,
                        "remaining_time": 15.19507995
                      },
                      {
                        "learn": [
                          0.3905306708
                        ],
                        "iteration": 893,
                        "passed_time": 127.1056303,
                        "remaining_time": 15.07068994
                      },
                      {
                        "learn": [
                          0.3905070738
                        ],
                        "iteration": 894,
                        "passed_time": 127.3116541,
                        "remaining_time": 14.93600411
                      },
                      {
                        "learn": [
                          0.3904634396
                        ],
                        "iteration": 895,
                        "passed_time": 127.5446345,
                        "remaining_time": 14.80428794
                      },
                      {
                        "learn": [
                          0.3904555087
                        ],
                        "iteration": 896,
                        "passed_time": 127.7496915,
                        "remaining_time": 14.66913961
                      },
                      {
                        "learn": [
                          0.3904419255
                        ],
                        "iteration": 897,
                        "passed_time": 127.9924484,
                        "remaining_time": 14.53811775
                      },
                      {
                        "learn": [
                          0.3903917256
                        ],
                        "iteration": 898,
                        "passed_time": 128.2031238,
                        "remaining_time": 14.40324305
                      },
                      {
                        "learn": [
                          0.3903628286
                        ],
                        "iteration": 899,
                        "passed_time": 128.3031707,
                        "remaining_time": 14.25590785
                      },
                      {
                        "learn": [
                          0.3903438001
                        ],
                        "iteration": 900,
                        "passed_time": 128.3985332,
                        "remaining_time": 14.10816291
                      },
                      {
                        "learn": [
                          0.3903048536
                        ],
                        "iteration": 901,
                        "passed_time": 128.4890219,
                        "remaining_time": 13.9600046
                      },
                      {
                        "learn": [
                          0.3902772533
                        ],
                        "iteration": 902,
                        "passed_time": 128.578023,
                        "remaining_time": 13.81181421
                      },
                      {
                        "learn": [
                          0.3902561519
                        ],
                        "iteration": 903,
                        "passed_time": 128.6684296,
                        "remaining_time": 13.66390403
                      },
                      {
                        "learn": [
                          0.3902395241
                        ],
                        "iteration": 904,
                        "passed_time": 128.7682757,
                        "remaining_time": 13.51711182
                      },
                      {
                        "learn": [
                          0.390182995
                        ],
                        "iteration": 905,
                        "passed_time": 128.854717,
                        "remaining_time": 13.36903245
                      },
                      {
                        "learn": [
                          0.3901630535
                        ],
                        "iteration": 906,
                        "passed_time": 128.992866,
                        "remaining_time": 13.22639089
                      },
                      {
                        "learn": [
                          0.3901552029
                        ],
                        "iteration": 907,
                        "passed_time": 129.144085,
                        "remaining_time": 13.08508351
                      },
                      {
                        "learn": [
                          0.390137031
                        ],
                        "iteration": 908,
                        "passed_time": 129.2447363,
                        "remaining_time": 12.93869197
                      },
                      {
                        "learn": [
                          0.3900930019
                        ],
                        "iteration": 909,
                        "passed_time": 129.343841,
                        "remaining_time": 12.79224801
                      },
                      {
                        "learn": [
                          0.3900478781
                        ],
                        "iteration": 910,
                        "passed_time": 129.4401845,
                        "remaining_time": 12.64563823
                      },
                      {
                        "learn": [
                          0.3900346442
                        ],
                        "iteration": 911,
                        "passed_time": 129.5121832,
                        "remaining_time": 12.49678961
                      },
                      {
                        "learn": [
                          0.3900106633
                        ],
                        "iteration": 912,
                        "passed_time": 129.640004,
                        "remaining_time": 12.35342864
                      },
                      {
                        "learn": [
                          0.3899192067
                        ],
                        "iteration": 913,
                        "passed_time": 129.7608463,
                        "remaining_time": 12.20944505
                      },
                      {
                        "learn": [
                          0.3898782426
                        ],
                        "iteration": 914,
                        "passed_time": 129.8868668,
                        "remaining_time": 12.06599309
                      },
                      {
                        "learn": [
                          0.3898532713
                        ],
                        "iteration": 915,
                        "passed_time": 130.0428091,
                        "remaining_time": 11.92532311
                      },
                      {
                        "learn": [
                          0.3898265263
                        ],
                        "iteration": 916,
                        "passed_time": 130.1708737,
                        "remaining_time": 11.78209653
                      },
                      {
                        "learn": [
                          0.3897730096
                        ],
                        "iteration": 917,
                        "passed_time": 130.2921511,
                        "remaining_time": 11.63829672
                      },
                      {
                        "learn": [
                          0.3897638668
                        ],
                        "iteration": 918,
                        "passed_time": 130.4142038,
                        "remaining_time": 11.49461426
                      },
                      {
                        "learn": [
                          0.3897390201
                        ],
                        "iteration": 919,
                        "passed_time": 130.5245831,
                        "remaining_time": 11.34996375
                      },
                      {
                        "learn": [
                          0.3897165675
                        ],
                        "iteration": 920,
                        "passed_time": 130.6306147,
                        "remaining_time": 11.20501472
                      },
                      {
                        "learn": [
                          0.3896974017
                        ],
                        "iteration": 921,
                        "passed_time": 130.7676761,
                        "remaining_time": 11.0627752
                      },
                      {
                        "learn": [
                          0.3896810882
                        ],
                        "iteration": 922,
                        "passed_time": 130.8875086,
                        "remaining_time": 10.9191096
                      },
                      {
                        "learn": [
                          0.3896553837
                        ],
                        "iteration": 923,
                        "passed_time": 131.031471,
                        "remaining_time": 10.7774803
                      },
                      {
                        "learn": [
                          0.3895927841
                        ],
                        "iteration": 924,
                        "passed_time": 131.1973919,
                        "remaining_time": 10.63762637
                      },
                      {
                        "learn": [
                          0.3895650168
                        ],
                        "iteration": 925,
                        "passed_time": 131.3136016,
                        "remaining_time": 10.49374354
                      },
                      {
                        "learn": [
                          0.3895368022
                        ],
                        "iteration": 926,
                        "passed_time": 131.4505419,
                        "remaining_time": 10.35155292
                      },
                      {
                        "learn": [
                          0.3894873777
                        ],
                        "iteration": 927,
                        "passed_time": 131.5710719,
                        "remaining_time": 10.20810041
                      },
                      {
                        "learn": [
                          0.3894736326
                        ],
                        "iteration": 928,
                        "passed_time": 131.6754637,
                        "remaining_time": 10.06346386
                      },
                      {
                        "learn": [
                          0.3894155117
                        ],
                        "iteration": 929,
                        "passed_time": 131.7884515,
                        "remaining_time": 9.919560867
                      },
                      {
                        "learn": [
                          0.389400973
                        ],
                        "iteration": 930,
                        "passed_time": 131.9136129,
                        "remaining_time": 9.776626518
                      },
                      {
                        "learn": [
                          0.3893755475
                        ],
                        "iteration": 931,
                        "passed_time": 132.0164284,
                        "remaining_time": 9.632099929
                      },
                      {
                        "learn": [
                          0.3893292739
                        ],
                        "iteration": 932,
                        "passed_time": 132.189058,
                        "remaining_time": 9.492676192
                      },
                      {
                        "learn": [
                          0.3893002061
                        ],
                        "iteration": 933,
                        "passed_time": 132.3077319,
                        "remaining_time": 9.349368636
                      },
                      {
                        "learn": [
                          0.3892743752
                        ],
                        "iteration": 934,
                        "passed_time": 132.406714,
                        "remaining_time": 9.204744823
                      },
                      {
                        "learn": [
                          0.3892533609
                        ],
                        "iteration": 935,
                        "passed_time": 132.5208658,
                        "remaining_time": 9.06125578
                      },
                      {
                        "learn": [
                          0.3892140912
                        ],
                        "iteration": 936,
                        "passed_time": 132.627619,
                        "remaining_time": 8.917331908
                      },
                      {
                        "learn": [
                          0.3891689378
                        ],
                        "iteration": 937,
                        "passed_time": 132.7401031,
                        "remaining_time": 8.773866086
                      },
                      {
                        "learn": [
                          0.3891393105
                        ],
                        "iteration": 938,
                        "passed_time": 132.8620828,
                        "remaining_time": 8.631083119
                      },
                      {
                        "learn": [
                          0.3890843775
                        ],
                        "iteration": 939,
                        "passed_time": 132.9932235,
                        "remaining_time": 8.488929162
                      },
                      {
                        "learn": [
                          0.3890630471
                        ],
                        "iteration": 940,
                        "passed_time": 133.1513301,
                        "remaining_time": 8.348489347
                      },
                      {
                        "learn": [
                          0.3890477588
                        ],
                        "iteration": 941,
                        "passed_time": 133.3152605,
                        "remaining_time": 8.208370604
                      },
                      {
                        "learn": [
                          0.389014421
                        ],
                        "iteration": 942,
                        "passed_time": 133.4299712,
                        "remaining_time": 8.065226257
                      },
                      {
                        "learn": [
                          0.3889912611
                        ],
                        "iteration": 943,
                        "passed_time": 133.525777,
                        "remaining_time": 7.92102067
                      },
                      {
                        "learn": [
                          0.3889765855
                        ],
                        "iteration": 944,
                        "passed_time": 133.6537463,
                        "remaining_time": 7.778789467
                      },
                      {
                        "learn": [
                          0.3889485828
                        ],
                        "iteration": 945,
                        "passed_time": 133.7684625,
                        "remaining_time": 7.635831897
                      },
                      {
                        "learn": [
                          0.3889259712
                        ],
                        "iteration": 946,
                        "passed_time": 133.8853695,
                        "remaining_time": 7.49305658
                      },
                      {
                        "learn": [
                          0.3888987566
                        ],
                        "iteration": 947,
                        "passed_time": 133.9912686,
                        "remaining_time": 7.34973203
                      },
                      {
                        "learn": [
                          0.3888739541
                        ],
                        "iteration": 948,
                        "passed_time": 134.111353,
                        "remaining_time": 7.207248685
                      },
                      {
                        "learn": [
                          0.3888578027
                        ],
                        "iteration": 949,
                        "passed_time": 134.2828245,
                        "remaining_time": 7.067517081
                      },
                      {
                        "learn": [
                          0.3888285135
                        ],
                        "iteration": 950,
                        "passed_time": 134.3932273,
                        "remaining_time": 6.924572173
                      },
                      {
                        "learn": [
                          0.3888082599
                        ],
                        "iteration": 951,
                        "passed_time": 134.5335142,
                        "remaining_time": 6.783202397
                      },
                      {
                        "learn": [
                          0.3887663422
                        ],
                        "iteration": 952,
                        "passed_time": 134.6520227,
                        "remaining_time": 6.640760825
                      },
                      {
                        "learn": [
                          0.3887167537
                        ],
                        "iteration": 953,
                        "passed_time": 134.7808404,
                        "remaining_time": 6.498866517
                      },
                      {
                        "learn": [
                          0.3887021897
                        ],
                        "iteration": 954,
                        "passed_time": 134.9013723,
                        "remaining_time": 6.356609166
                      },
                      {
                        "learn": [
                          0.388642845
                        ],
                        "iteration": 955,
                        "passed_time": 135.0235827,
                        "remaining_time": 6.214474518
                      },
                      {
                        "learn": [
                          0.3885997749
                        ],
                        "iteration": 956,
                        "passed_time": 135.1743808,
                        "remaining_time": 6.073666011
                      },
                      {
                        "learn": [
                          0.3885617363
                        ],
                        "iteration": 957,
                        "passed_time": 135.3366115,
                        "remaining_time": 5.933337873
                      },
                      {
                        "learn": [
                          0.3885397014
                        ],
                        "iteration": 958,
                        "passed_time": 135.467093,
                        "remaining_time": 5.791606685
                      },
                      {
                        "learn": [
                          0.3884890406
                        ],
                        "iteration": 959,
                        "passed_time": 135.5734319,
                        "remaining_time": 5.648892994
                      },
                      {
                        "learn": [
                          0.3884657479
                        ],
                        "iteration": 960,
                        "passed_time": 135.6931668,
                        "remaining_time": 5.506798652
                      },
                      {
                        "learn": [
                          0.3884316065
                        ],
                        "iteration": 961,
                        "passed_time": 135.8169339,
                        "remaining_time": 5.364910072
                      },
                      {
                        "learn": [
                          0.3884177831
                        ],
                        "iteration": 962,
                        "passed_time": 135.9314772,
                        "remaining_time": 5.222704731
                      },
                      {
                        "learn": [
                          0.3884060078
                        ],
                        "iteration": 963,
                        "passed_time": 136.0313102,
                        "remaining_time": 5.080007436
                      },
                      {
                        "learn": [
                          0.3883358286
                        ],
                        "iteration": 964,
                        "passed_time": 136.1613992,
                        "remaining_time": 4.938496344
                      },
                      {
                        "learn": [
                          0.3882847635
                        ],
                        "iteration": 965,
                        "passed_time": 136.4524194,
                        "remaining_time": 4.802673145
                      },
                      {
                        "learn": [
                          0.3882713794
                        ],
                        "iteration": 966,
                        "passed_time": 136.5760297,
                        "remaining_time": 4.660815905
                      },
                      {
                        "learn": [
                          0.3882519948
                        ],
                        "iteration": 967,
                        "passed_time": 136.690308,
                        "remaining_time": 4.518687868
                      },
                      {
                        "learn": [
                          0.3882123312
                        ],
                        "iteration": 968,
                        "passed_time": 136.8224279,
                        "remaining_time": 4.377188097
                      },
                      {
                        "learn": [
                          0.3881914347
                        ],
                        "iteration": 969,
                        "passed_time": 136.940237,
                        "remaining_time": 4.235265061
                      },
                      {
                        "learn": [
                          0.3881561238
                        ],
                        "iteration": 970,
                        "passed_time": 137.0605193,
                        "remaining_time": 4.093465562
                      },
                      {
                        "learn": [
                          0.3881292053
                        ],
                        "iteration": 971,
                        "passed_time": 137.1680431,
                        "remaining_time": 3.951342807
                      },
                      {
                        "learn": [
                          0.3880946431
                        ],
                        "iteration": 972,
                        "passed_time": 137.2990841,
                        "remaining_time": 3.809943753
                      },
                      {
                        "learn": [
                          0.3880650874
                        ],
                        "iteration": 973,
                        "passed_time": 137.421859,
                        "remaining_time": 3.668345312
                      },
                      {
                        "learn": [
                          0.3880329575
                        ],
                        "iteration": 974,
                        "passed_time": 137.5793106,
                        "remaining_time": 3.52767463
                      },
                      {
                        "learn": [
                          0.3880046493
                        ],
                        "iteration": 975,
                        "passed_time": 137.697158,
                        "remaining_time": 3.385995689
                      },
                      {
                        "learn": [
                          0.3879871499
                        ],
                        "iteration": 976,
                        "passed_time": 137.8008208,
                        "remaining_time": 3.244031604
                      },
                      {
                        "learn": [
                          0.3879628432
                        ],
                        "iteration": 977,
                        "passed_time": 137.9035971,
                        "remaining_time": 3.102125906
                      },
                      {
                        "learn": [
                          0.3879149493
                        ],
                        "iteration": 978,
                        "passed_time": 138.0382615,
                        "remaining_time": 2.960984158
                      },
                      {
                        "learn": [
                          0.3879066629
                        ],
                        "iteration": 979,
                        "passed_time": 138.1723121,
                        "remaining_time": 2.819843104
                      },
                      {
                        "learn": [
                          0.3878642824
                        ],
                        "iteration": 980,
                        "passed_time": 138.3827613,
                        "remaining_time": 2.680196192
                      },
                      {
                        "learn": [
                          0.3878516321
                        ],
                        "iteration": 981,
                        "passed_time": 138.6591273,
                        "remaining_time": 2.541613332
                      },
                      {
                        "learn": [
                          0.387798549
                        ],
                        "iteration": 982,
                        "passed_time": 138.8376897,
                        "remaining_time": 2.401058723
                      },
                      {
                        "learn": [
                          0.3877869652
                        ],
                        "iteration": 983,
                        "passed_time": 139.0854408,
                        "remaining_time": 2.261551883
                      },
                      {
                        "learn": [
                          0.3877742196
                        ],
                        "iteration": 984,
                        "passed_time": 139.2784923,
                        "remaining_time": 2.120992268
                      },
                      {
                        "learn": [
                          0.3877430236
                        ],
                        "iteration": 985,
                        "passed_time": 139.5627637,
                        "remaining_time": 1.981621392
                      },
                      {
                        "learn": [
                          0.3877019128
                        ],
                        "iteration": 986,
                        "passed_time": 139.8738601,
                        "remaining_time": 1.842310214
                      },
                      {
                        "learn": [
                          0.3876588599
                        ],
                        "iteration": 987,
                        "passed_time": 140.0544796,
                        "remaining_time": 1.701066554
                      },
                      {
                        "learn": [
                          0.3875882844
                        ],
                        "iteration": 988,
                        "passed_time": 140.2817683,
                        "remaining_time": 1.560262337
                      },
                      {
                        "learn": [
                          0.3875517389
                        ],
                        "iteration": 989,
                        "passed_time": 140.5066697,
                        "remaining_time": 1.419259289
                      },
                      {
                        "learn": [
                          0.3875213696
                        ],
                        "iteration": 990,
                        "passed_time": 140.8152742,
                        "remaining_time": 1.278847091
                      },
                      {
                        "learn": [
                          0.387478515
                        ],
                        "iteration": 991,
                        "passed_time": 141.0576964,
                        "remaining_time": 1.137562067
                      },
                      {
                        "learn": [
                          0.3874608001
                        ],
                        "iteration": 992,
                        "passed_time": 141.3050757,
                        "remaining_time": 0.9961082878
                      },
                      {
                        "learn": [
                          0.3874214226
                        ],
                        "iteration": 993,
                        "passed_time": 141.5765482,
                        "remaining_time": 0.8545868101
                      },
                      {
                        "learn": [
                          0.3873801525
                        ],
                        "iteration": 994,
                        "passed_time": 141.8085807,
                        "remaining_time": 0.7126059329
                      },
                      {
                        "learn": [
                          0.3873430076
                        ],
                        "iteration": 995,
                        "passed_time": 141.9791908,
                        "remaining_time": 0.5701975534
                      },
                      {
                        "learn": [
                          0.3873218474
                        ],
                        "iteration": 996,
                        "passed_time": 142.1240967,
                        "remaining_time": 0.4276552559
                      },
                      {
                        "learn": [
                          0.3872938883
                        ],
                        "iteration": 997,
                        "passed_time": 142.24881,
                        "remaining_time": 0.2850677554
                      },
                      {
                        "learn": [
                          0.3872547041
                        ],
                        "iteration": 998,
                        "passed_time": 142.3776721,
                        "remaining_time": 0.1425201922
                      },
                      {
                        "learn": [
                          0.387240651
                        ],
                        "iteration": 999,
                        "passed_time": 142.4940736,
                        "remaining_time": 0
                      }
                    ],
                    "meta": {
                      "test_sets": [],
                      "test_metrics": [],
                      "learn_metrics": [
                        {
                          "best_value": "Min",
                          "name": "Logloss"
                        }
                      ],
                      "launch_mode": "Train",
                      "parameters": "",
                      "iteration_count": 1000,
                      "learn_sets": [
                        "learn"
                      ],
                      "name": "experiment"
                    }
                  }
                }
              }
            },
            "layout": "IPY_MODEL_39bbcd0c9c184b73a55f9d3ef4c801d0"
          }
        }
      }
    }
  },
  "cells": [
    {
      "cell_type": "markdown",
      "source": [
        "# Прогнозируем задержки самолетов"
      ],
      "metadata": {
        "id": "8bieQL5lwfBD"
      }
    },
    {
      "cell_type": "code",
      "source": [
        "!pip install catboost lightgbm optuna -q"
      ],
      "metadata": {
        "colab": {
          "base_uri": "https://localhost:8080/"
        },
        "id": "DARqocv0wz0z",
        "outputId": "e8cd293a-f4e1-45b8-e088-5892d0915d51"
      },
      "execution_count": 2,
      "outputs": [
        {
          "output_type": "stream",
          "name": "stdout",
          "text": [
            "\u001b[2K   \u001b[90m━━━━━━━━━━━━━━━━━━━━━━━━━━━━━━━━━━━━━━━━\u001b[0m \u001b[32m98.7/98.7 MB\u001b[0m \u001b[31m7.3 MB/s\u001b[0m eta \u001b[36m0:00:00\u001b[0m\n",
            "\u001b[2K   \u001b[90m━━━━━━━━━━━━━━━━━━━━━━━━━━━━━━━━━━━━━━━━\u001b[0m \u001b[32m362.8/362.8 kB\u001b[0m \u001b[31m15.2 MB/s\u001b[0m eta \u001b[36m0:00:00\u001b[0m\n",
            "\u001b[2K   \u001b[90m━━━━━━━━━━━━━━━━━━━━━━━━━━━━━━━━━━━━━━━━\u001b[0m \u001b[32m233.2/233.2 kB\u001b[0m \u001b[31m10.9 MB/s\u001b[0m eta \u001b[36m0:00:00\u001b[0m\n",
            "\u001b[2K   \u001b[90m━━━━━━━━━━━━━━━━━━━━━━━━━━━━━━━━━━━━━━━━\u001b[0m \u001b[32m78.6/78.6 kB\u001b[0m \u001b[31m3.8 MB/s\u001b[0m eta \u001b[36m0:00:00\u001b[0m\n",
            "\u001b[?25h"
          ]
        }
      ]
    },
    {
      "cell_type": "code",
      "source": [
        "from sklearn.model_selection import train_test_split, cross_val_score\n",
        "from sklearn.metrics import roc_auc_score\n",
        "import pandas as pd\n",
        "\n",
        "from catboost import CatBoostClassifier\n",
        "from lightgbm import LGBMClassifier"
      ],
      "metadata": {
        "id": "U-gc09zSwvyF",
        "colab": {
          "base_uri": "https://localhost:8080/"
        },
        "outputId": "e209ba35-5f6f-48c2-8d2c-6664a73e7eff"
      },
      "execution_count": 3,
      "outputs": [
        {
          "output_type": "stream",
          "name": "stderr",
          "text": [
            "/usr/local/lib/python3.10/dist-packages/dask/dataframe/__init__.py:42: FutureWarning: \n",
            "Dask dataframe query planning is disabled because dask-expr is not installed.\n",
            "\n",
            "You can install it with `pip install dask[dataframe]` or `conda install dask`.\n",
            "This will raise in a future version.\n",
            "\n",
            "  warnings.warn(msg, FutureWarning)\n"
          ]
        }
      ]
    },
    {
      "cell_type": "code",
      "execution_count": 4,
      "metadata": {
        "id": "C4LFGZPXweF2"
      },
      "outputs": [],
      "source": [
        "RANDOM_STATE = 111\n",
        "DATASET_PATH = 'https://raw.githubusercontent.com/evgpat/edu_stepik_practical_ml/main/datasets/flight_delays_train.csv'"
      ]
    },
    {
      "cell_type": "code",
      "source": [
        "data = pd.read_csv(DATASET_PATH)\n",
        "\n",
        "X = data.drop('dep_delayed_15min', axis=1)\n",
        "y = data['dep_delayed_15min'] == 'Y'\n",
        "\n",
        "X.head()"
      ],
      "metadata": {
        "colab": {
          "base_uri": "https://localhost:8080/",
          "height": 206
        },
        "id": "m788vNOUxBNU",
        "outputId": "a26089a4-c516-4d5e-c3e8-d24927e25e09"
      },
      "execution_count": 5,
      "outputs": [
        {
          "output_type": "execute_result",
          "data": {
            "text/plain": [
              "  Month DayofMonth DayOfWeek  DepTime UniqueCarrier Origin Dest  Distance\n",
              "0   c-8       c-21       c-7     1934            AA    ATL  DFW       732\n",
              "1   c-4       c-20       c-3     1548            US    PIT  MCO       834\n",
              "2   c-9        c-2       c-5     1422            XE    RDU  CLE       416\n",
              "3  c-11       c-25       c-6     1015            OO    DEN  MEM       872\n",
              "4  c-10        c-7       c-6     1828            WN    MDW  OMA       423"
            ],
            "text/html": [
              "\n",
              "  <div id=\"df-aabc470e-9c6a-4f49-b8c1-029e269b60a2\" class=\"colab-df-container\">\n",
              "    <div>\n",
              "<style scoped>\n",
              "    .dataframe tbody tr th:only-of-type {\n",
              "        vertical-align: middle;\n",
              "    }\n",
              "\n",
              "    .dataframe tbody tr th {\n",
              "        vertical-align: top;\n",
              "    }\n",
              "\n",
              "    .dataframe thead th {\n",
              "        text-align: right;\n",
              "    }\n",
              "</style>\n",
              "<table border=\"1\" class=\"dataframe\">\n",
              "  <thead>\n",
              "    <tr style=\"text-align: right;\">\n",
              "      <th></th>\n",
              "      <th>Month</th>\n",
              "      <th>DayofMonth</th>\n",
              "      <th>DayOfWeek</th>\n",
              "      <th>DepTime</th>\n",
              "      <th>UniqueCarrier</th>\n",
              "      <th>Origin</th>\n",
              "      <th>Dest</th>\n",
              "      <th>Distance</th>\n",
              "    </tr>\n",
              "  </thead>\n",
              "  <tbody>\n",
              "    <tr>\n",
              "      <th>0</th>\n",
              "      <td>c-8</td>\n",
              "      <td>c-21</td>\n",
              "      <td>c-7</td>\n",
              "      <td>1934</td>\n",
              "      <td>AA</td>\n",
              "      <td>ATL</td>\n",
              "      <td>DFW</td>\n",
              "      <td>732</td>\n",
              "    </tr>\n",
              "    <tr>\n",
              "      <th>1</th>\n",
              "      <td>c-4</td>\n",
              "      <td>c-20</td>\n",
              "      <td>c-3</td>\n",
              "      <td>1548</td>\n",
              "      <td>US</td>\n",
              "      <td>PIT</td>\n",
              "      <td>MCO</td>\n",
              "      <td>834</td>\n",
              "    </tr>\n",
              "    <tr>\n",
              "      <th>2</th>\n",
              "      <td>c-9</td>\n",
              "      <td>c-2</td>\n",
              "      <td>c-5</td>\n",
              "      <td>1422</td>\n",
              "      <td>XE</td>\n",
              "      <td>RDU</td>\n",
              "      <td>CLE</td>\n",
              "      <td>416</td>\n",
              "    </tr>\n",
              "    <tr>\n",
              "      <th>3</th>\n",
              "      <td>c-11</td>\n",
              "      <td>c-25</td>\n",
              "      <td>c-6</td>\n",
              "      <td>1015</td>\n",
              "      <td>OO</td>\n",
              "      <td>DEN</td>\n",
              "      <td>MEM</td>\n",
              "      <td>872</td>\n",
              "    </tr>\n",
              "    <tr>\n",
              "      <th>4</th>\n",
              "      <td>c-10</td>\n",
              "      <td>c-7</td>\n",
              "      <td>c-6</td>\n",
              "      <td>1828</td>\n",
              "      <td>WN</td>\n",
              "      <td>MDW</td>\n",
              "      <td>OMA</td>\n",
              "      <td>423</td>\n",
              "    </tr>\n",
              "  </tbody>\n",
              "</table>\n",
              "</div>\n",
              "    <div class=\"colab-df-buttons\">\n",
              "\n",
              "  <div class=\"colab-df-container\">\n",
              "    <button class=\"colab-df-convert\" onclick=\"convertToInteractive('df-aabc470e-9c6a-4f49-b8c1-029e269b60a2')\"\n",
              "            title=\"Convert this dataframe to an interactive table.\"\n",
              "            style=\"display:none;\">\n",
              "\n",
              "  <svg xmlns=\"http://www.w3.org/2000/svg\" height=\"24px\" viewBox=\"0 -960 960 960\">\n",
              "    <path d=\"M120-120v-720h720v720H120Zm60-500h600v-160H180v160Zm220 220h160v-160H400v160Zm0 220h160v-160H400v160ZM180-400h160v-160H180v160Zm440 0h160v-160H620v160ZM180-180h160v-160H180v160Zm440 0h160v-160H620v160Z\"/>\n",
              "  </svg>\n",
              "    </button>\n",
              "\n",
              "  <style>\n",
              "    .colab-df-container {\n",
              "      display:flex;\n",
              "      gap: 12px;\n",
              "    }\n",
              "\n",
              "    .colab-df-convert {\n",
              "      background-color: #E8F0FE;\n",
              "      border: none;\n",
              "      border-radius: 50%;\n",
              "      cursor: pointer;\n",
              "      display: none;\n",
              "      fill: #1967D2;\n",
              "      height: 32px;\n",
              "      padding: 0 0 0 0;\n",
              "      width: 32px;\n",
              "    }\n",
              "\n",
              "    .colab-df-convert:hover {\n",
              "      background-color: #E2EBFA;\n",
              "      box-shadow: 0px 1px 2px rgba(60, 64, 67, 0.3), 0px 1px 3px 1px rgba(60, 64, 67, 0.15);\n",
              "      fill: #174EA6;\n",
              "    }\n",
              "\n",
              "    .colab-df-buttons div {\n",
              "      margin-bottom: 4px;\n",
              "    }\n",
              "\n",
              "    [theme=dark] .colab-df-convert {\n",
              "      background-color: #3B4455;\n",
              "      fill: #D2E3FC;\n",
              "    }\n",
              "\n",
              "    [theme=dark] .colab-df-convert:hover {\n",
              "      background-color: #434B5C;\n",
              "      box-shadow: 0px 1px 3px 1px rgba(0, 0, 0, 0.15);\n",
              "      filter: drop-shadow(0px 1px 2px rgba(0, 0, 0, 0.3));\n",
              "      fill: #FFFFFF;\n",
              "    }\n",
              "  </style>\n",
              "\n",
              "    <script>\n",
              "      const buttonEl =\n",
              "        document.querySelector('#df-aabc470e-9c6a-4f49-b8c1-029e269b60a2 button.colab-df-convert');\n",
              "      buttonEl.style.display =\n",
              "        google.colab.kernel.accessAllowed ? 'block' : 'none';\n",
              "\n",
              "      async function convertToInteractive(key) {\n",
              "        const element = document.querySelector('#df-aabc470e-9c6a-4f49-b8c1-029e269b60a2');\n",
              "        const dataTable =\n",
              "          await google.colab.kernel.invokeFunction('convertToInteractive',\n",
              "                                                    [key], {});\n",
              "        if (!dataTable) return;\n",
              "\n",
              "        const docLinkHtml = 'Like what you see? Visit the ' +\n",
              "          '<a target=\"_blank\" href=https://colab.research.google.com/notebooks/data_table.ipynb>data table notebook</a>'\n",
              "          + ' to learn more about interactive tables.';\n",
              "        element.innerHTML = '';\n",
              "        dataTable['output_type'] = 'display_data';\n",
              "        await google.colab.output.renderOutput(dataTable, element);\n",
              "        const docLink = document.createElement('div');\n",
              "        docLink.innerHTML = docLinkHtml;\n",
              "        element.appendChild(docLink);\n",
              "      }\n",
              "    </script>\n",
              "  </div>\n",
              "\n",
              "\n",
              "<div id=\"df-9225ebc5-ec10-461c-8e35-e09960bc276c\">\n",
              "  <button class=\"colab-df-quickchart\" onclick=\"quickchart('df-9225ebc5-ec10-461c-8e35-e09960bc276c')\"\n",
              "            title=\"Suggest charts\"\n",
              "            style=\"display:none;\">\n",
              "\n",
              "<svg xmlns=\"http://www.w3.org/2000/svg\" height=\"24px\"viewBox=\"0 0 24 24\"\n",
              "     width=\"24px\">\n",
              "    <g>\n",
              "        <path d=\"M19 3H5c-1.1 0-2 .9-2 2v14c0 1.1.9 2 2 2h14c1.1 0 2-.9 2-2V5c0-1.1-.9-2-2-2zM9 17H7v-7h2v7zm4 0h-2V7h2v10zm4 0h-2v-4h2v4z\"/>\n",
              "    </g>\n",
              "</svg>\n",
              "  </button>\n",
              "\n",
              "<style>\n",
              "  .colab-df-quickchart {\n",
              "      --bg-color: #E8F0FE;\n",
              "      --fill-color: #1967D2;\n",
              "      --hover-bg-color: #E2EBFA;\n",
              "      --hover-fill-color: #174EA6;\n",
              "      --disabled-fill-color: #AAA;\n",
              "      --disabled-bg-color: #DDD;\n",
              "  }\n",
              "\n",
              "  [theme=dark] .colab-df-quickchart {\n",
              "      --bg-color: #3B4455;\n",
              "      --fill-color: #D2E3FC;\n",
              "      --hover-bg-color: #434B5C;\n",
              "      --hover-fill-color: #FFFFFF;\n",
              "      --disabled-bg-color: #3B4455;\n",
              "      --disabled-fill-color: #666;\n",
              "  }\n",
              "\n",
              "  .colab-df-quickchart {\n",
              "    background-color: var(--bg-color);\n",
              "    border: none;\n",
              "    border-radius: 50%;\n",
              "    cursor: pointer;\n",
              "    display: none;\n",
              "    fill: var(--fill-color);\n",
              "    height: 32px;\n",
              "    padding: 0;\n",
              "    width: 32px;\n",
              "  }\n",
              "\n",
              "  .colab-df-quickchart:hover {\n",
              "    background-color: var(--hover-bg-color);\n",
              "    box-shadow: 0 1px 2px rgba(60, 64, 67, 0.3), 0 1px 3px 1px rgba(60, 64, 67, 0.15);\n",
              "    fill: var(--button-hover-fill-color);\n",
              "  }\n",
              "\n",
              "  .colab-df-quickchart-complete:disabled,\n",
              "  .colab-df-quickchart-complete:disabled:hover {\n",
              "    background-color: var(--disabled-bg-color);\n",
              "    fill: var(--disabled-fill-color);\n",
              "    box-shadow: none;\n",
              "  }\n",
              "\n",
              "  .colab-df-spinner {\n",
              "    border: 2px solid var(--fill-color);\n",
              "    border-color: transparent;\n",
              "    border-bottom-color: var(--fill-color);\n",
              "    animation:\n",
              "      spin 1s steps(1) infinite;\n",
              "  }\n",
              "\n",
              "  @keyframes spin {\n",
              "    0% {\n",
              "      border-color: transparent;\n",
              "      border-bottom-color: var(--fill-color);\n",
              "      border-left-color: var(--fill-color);\n",
              "    }\n",
              "    20% {\n",
              "      border-color: transparent;\n",
              "      border-left-color: var(--fill-color);\n",
              "      border-top-color: var(--fill-color);\n",
              "    }\n",
              "    30% {\n",
              "      border-color: transparent;\n",
              "      border-left-color: var(--fill-color);\n",
              "      border-top-color: var(--fill-color);\n",
              "      border-right-color: var(--fill-color);\n",
              "    }\n",
              "    40% {\n",
              "      border-color: transparent;\n",
              "      border-right-color: var(--fill-color);\n",
              "      border-top-color: var(--fill-color);\n",
              "    }\n",
              "    60% {\n",
              "      border-color: transparent;\n",
              "      border-right-color: var(--fill-color);\n",
              "    }\n",
              "    80% {\n",
              "      border-color: transparent;\n",
              "      border-right-color: var(--fill-color);\n",
              "      border-bottom-color: var(--fill-color);\n",
              "    }\n",
              "    90% {\n",
              "      border-color: transparent;\n",
              "      border-bottom-color: var(--fill-color);\n",
              "    }\n",
              "  }\n",
              "</style>\n",
              "\n",
              "  <script>\n",
              "    async function quickchart(key) {\n",
              "      const quickchartButtonEl =\n",
              "        document.querySelector('#' + key + ' button');\n",
              "      quickchartButtonEl.disabled = true;  // To prevent multiple clicks.\n",
              "      quickchartButtonEl.classList.add('colab-df-spinner');\n",
              "      try {\n",
              "        const charts = await google.colab.kernel.invokeFunction(\n",
              "            'suggestCharts', [key], {});\n",
              "      } catch (error) {\n",
              "        console.error('Error during call to suggestCharts:', error);\n",
              "      }\n",
              "      quickchartButtonEl.classList.remove('colab-df-spinner');\n",
              "      quickchartButtonEl.classList.add('colab-df-quickchart-complete');\n",
              "    }\n",
              "    (() => {\n",
              "      let quickchartButtonEl =\n",
              "        document.querySelector('#df-9225ebc5-ec10-461c-8e35-e09960bc276c button');\n",
              "      quickchartButtonEl.style.display =\n",
              "        google.colab.kernel.accessAllowed ? 'block' : 'none';\n",
              "    })();\n",
              "  </script>\n",
              "</div>\n",
              "    </div>\n",
              "  </div>\n"
            ],
            "application/vnd.google.colaboratory.intrinsic+json": {
              "type": "dataframe",
              "variable_name": "X",
              "summary": "{\n  \"name\": \"X\",\n  \"rows\": 100000,\n  \"fields\": [\n    {\n      \"column\": \"Month\",\n      \"properties\": {\n        \"dtype\": \"category\",\n        \"num_unique_values\": 12,\n        \"samples\": [\n          \"c-12\",\n          \"c-3\",\n          \"c-8\"\n        ],\n        \"semantic_type\": \"\",\n        \"description\": \"\"\n      }\n    },\n    {\n      \"column\": \"DayofMonth\",\n      \"properties\": {\n        \"dtype\": \"category\",\n        \"num_unique_values\": 31,\n        \"samples\": [\n          \"c-12\",\n          \"c-22\",\n          \"c-24\"\n        ],\n        \"semantic_type\": \"\",\n        \"description\": \"\"\n      }\n    },\n    {\n      \"column\": \"DayOfWeek\",\n      \"properties\": {\n        \"dtype\": \"category\",\n        \"num_unique_values\": 7,\n        \"samples\": [\n          \"c-7\",\n          \"c-3\",\n          \"c-2\"\n        ],\n        \"semantic_type\": \"\",\n        \"description\": \"\"\n      }\n    },\n    {\n      \"column\": \"DepTime\",\n      \"properties\": {\n        \"dtype\": \"number\",\n        \"std\": 476,\n        \"min\": 1,\n        \"max\": 2534,\n        \"num_unique_values\": 1300,\n        \"samples\": [\n          1550,\n          839,\n          1149\n        ],\n        \"semantic_type\": \"\",\n        \"description\": \"\"\n      }\n    },\n    {\n      \"column\": \"UniqueCarrier\",\n      \"properties\": {\n        \"dtype\": \"category\",\n        \"num_unique_values\": 22,\n        \"samples\": [\n          \"AA\",\n          \"DH\",\n          \"AS\"\n        ],\n        \"semantic_type\": \"\",\n        \"description\": \"\"\n      }\n    },\n    {\n      \"column\": \"Origin\",\n      \"properties\": {\n        \"dtype\": \"category\",\n        \"num_unique_values\": 289,\n        \"samples\": [\n          \"BOS\",\n          \"SRQ\",\n          \"DLG\"\n        ],\n        \"semantic_type\": \"\",\n        \"description\": \"\"\n      }\n    },\n    {\n      \"column\": \"Dest\",\n      \"properties\": {\n        \"dtype\": \"category\",\n        \"num_unique_values\": 289,\n        \"samples\": [\n          \"JAN\",\n          \"SRQ\",\n          \"SCC\"\n        ],\n        \"semantic_type\": \"\",\n        \"description\": \"\"\n      }\n    },\n    {\n      \"column\": \"Distance\",\n      \"properties\": {\n        \"dtype\": \"number\",\n        \"std\": 574,\n        \"min\": 30,\n        \"max\": 4962,\n        \"num_unique_values\": 1310,\n        \"samples\": [\n          1142,\n          663,\n          2116\n        ],\n        \"semantic_type\": \"\",\n        \"description\": \"\"\n      }\n    }\n  ]\n}"
            }
          },
          "metadata": {},
          "execution_count": 5
        }
      ]
    },
    {
      "cell_type": "code",
      "source": [
        "X.dtypes"
      ],
      "metadata": {
        "colab": {
          "base_uri": "https://localhost:8080/",
          "height": 335
        },
        "id": "RDfyMR9zBzzX",
        "outputId": "449d4870-d66e-4095-a5a6-637ecf92e799"
      },
      "execution_count": 6,
      "outputs": [
        {
          "output_type": "execute_result",
          "data": {
            "text/plain": [
              "Month            object\n",
              "DayofMonth       object\n",
              "DayOfWeek        object\n",
              "DepTime           int64\n",
              "UniqueCarrier    object\n",
              "Origin           object\n",
              "Dest             object\n",
              "Distance          int64\n",
              "dtype: object"
            ],
            "text/html": [
              "<div>\n",
              "<style scoped>\n",
              "    .dataframe tbody tr th:only-of-type {\n",
              "        vertical-align: middle;\n",
              "    }\n",
              "\n",
              "    .dataframe tbody tr th {\n",
              "        vertical-align: top;\n",
              "    }\n",
              "\n",
              "    .dataframe thead th {\n",
              "        text-align: right;\n",
              "    }\n",
              "</style>\n",
              "<table border=\"1\" class=\"dataframe\">\n",
              "  <thead>\n",
              "    <tr style=\"text-align: right;\">\n",
              "      <th></th>\n",
              "      <th>0</th>\n",
              "    </tr>\n",
              "  </thead>\n",
              "  <tbody>\n",
              "    <tr>\n",
              "      <th>Month</th>\n",
              "      <td>object</td>\n",
              "    </tr>\n",
              "    <tr>\n",
              "      <th>DayofMonth</th>\n",
              "      <td>object</td>\n",
              "    </tr>\n",
              "    <tr>\n",
              "      <th>DayOfWeek</th>\n",
              "      <td>object</td>\n",
              "    </tr>\n",
              "    <tr>\n",
              "      <th>DepTime</th>\n",
              "      <td>int64</td>\n",
              "    </tr>\n",
              "    <tr>\n",
              "      <th>UniqueCarrier</th>\n",
              "      <td>object</td>\n",
              "    </tr>\n",
              "    <tr>\n",
              "      <th>Origin</th>\n",
              "      <td>object</td>\n",
              "    </tr>\n",
              "    <tr>\n",
              "      <th>Dest</th>\n",
              "      <td>object</td>\n",
              "    </tr>\n",
              "    <tr>\n",
              "      <th>Distance</th>\n",
              "      <td>int64</td>\n",
              "    </tr>\n",
              "  </tbody>\n",
              "</table>\n",
              "</div><br><label><b>dtype:</b> object</label>"
            ]
          },
          "metadata": {},
          "execution_count": 6
        }
      ]
    },
    {
      "cell_type": "markdown",
      "source": [
        "Создайте список номеров колонок с категориальными признаками для бустингов\n",
        "\n",
        "## Quiz\n",
        "Какой длины получился список?\n",
        "\n",
        "(подсказка: колонка `DepTime` числовая)"
      ],
      "metadata": {
        "id": "WoeAqm7x7Of9"
      }
    },
    {
      "cell_type": "code",
      "source": [
        "import numpy as np"
      ],
      "metadata": {
        "id": "garBDdbyDM7_"
      },
      "execution_count": null,
      "outputs": []
    },
    {
      "cell_type": "code",
      "source": [
        "\n",
        "\n",
        "categorical_features_indices = np.where(X.dtypes != int)[0] # your code here\n",
        "len(categorical_features_indices)"
      ],
      "metadata": {
        "id": "f2_RDMSdxgtC",
        "colab": {
          "base_uri": "https://localhost:8080/"
        },
        "outputId": "a4934b4e-c7bb-4450-82e7-e9172e9172cd"
      },
      "execution_count": 9,
      "outputs": [
        {
          "output_type": "execute_result",
          "data": {
            "text/plain": [
              "6"
            ]
          },
          "metadata": {},
          "execution_count": 9
        }
      ]
    },
    {
      "cell_type": "code",
      "source": [
        "cat_features = X.select_dtypes(include=['object']).columns.to_list()\n",
        "print(len(cat_features))"
      ],
      "metadata": {
        "colab": {
          "base_uri": "https://localhost:8080/"
        },
        "id": "M0RkVLAZC_X_",
        "outputId": "248a1fb7-9b80-4b80-f41c-45c03fb14d0d"
      },
      "execution_count": 10,
      "outputs": [
        {
          "output_type": "stream",
          "name": "stdout",
          "text": [
            "6\n"
          ]
        }
      ]
    },
    {
      "cell_type": "code",
      "source": [
        "cat_features"
      ],
      "metadata": {
        "colab": {
          "base_uri": "https://localhost:8080/"
        },
        "id": "DNdOa101DSav",
        "outputId": "dcef0cea-9892-4a70-b5dc-1e4164cf4d0f"
      },
      "execution_count": 11,
      "outputs": [
        {
          "output_type": "execute_result",
          "data": {
            "text/plain": [
              "['Month', 'DayofMonth', 'DayOfWeek', 'UniqueCarrier', 'Origin', 'Dest']"
            ]
          },
          "metadata": {},
          "execution_count": 11
        }
      ]
    },
    {
      "cell_type": "markdown",
      "source": [
        "Разобъем данные на обучение и контроль"
      ],
      "metadata": {
        "id": "AFUsTHb_7Tm0"
      }
    },
    {
      "cell_type": "code",
      "source": [
        "Xtrain, Xtest, ytrain, ytest = train_test_split(X, y, test_size=0.25, random_state=RANDOM_STATE)"
      ],
      "metadata": {
        "id": "b5hPnUwvwu_Z"
      },
      "execution_count": 12,
      "outputs": []
    },
    {
      "cell_type": "code",
      "source": [
        "Xtrain.head()"
      ],
      "metadata": {
        "colab": {
          "base_uri": "https://localhost:8080/",
          "height": 206
        },
        "id": "EysJWEMy00fZ",
        "outputId": "7e67dae9-c384-4faa-8ac6-5d3a19deeefe"
      },
      "execution_count": 13,
      "outputs": [
        {
          "output_type": "execute_result",
          "data": {
            "text/plain": [
              "      Month DayofMonth DayOfWeek  DepTime UniqueCarrier Origin Dest  Distance\n",
              "41207   c-4       c-18       c-1     1457            CO    EWR  TPA       998\n",
              "28283  c-11        c-1       c-2     1225            UA    DEN  BOS      1754\n",
              "34619   c-6       c-16       c-5     1650            YV    IAD  CAE       401\n",
              "8789    c-5       c-18       c-4      923            AA    SLC  DFW       988\n",
              "38315   c-2       c-14       c-2     1839            AA    STL  SAN      1558"
            ],
            "text/html": [
              "\n",
              "  <div id=\"df-31675bb9-076d-4b6d-bf87-0b326eeaf888\" class=\"colab-df-container\">\n",
              "    <div>\n",
              "<style scoped>\n",
              "    .dataframe tbody tr th:only-of-type {\n",
              "        vertical-align: middle;\n",
              "    }\n",
              "\n",
              "    .dataframe tbody tr th {\n",
              "        vertical-align: top;\n",
              "    }\n",
              "\n",
              "    .dataframe thead th {\n",
              "        text-align: right;\n",
              "    }\n",
              "</style>\n",
              "<table border=\"1\" class=\"dataframe\">\n",
              "  <thead>\n",
              "    <tr style=\"text-align: right;\">\n",
              "      <th></th>\n",
              "      <th>Month</th>\n",
              "      <th>DayofMonth</th>\n",
              "      <th>DayOfWeek</th>\n",
              "      <th>DepTime</th>\n",
              "      <th>UniqueCarrier</th>\n",
              "      <th>Origin</th>\n",
              "      <th>Dest</th>\n",
              "      <th>Distance</th>\n",
              "    </tr>\n",
              "  </thead>\n",
              "  <tbody>\n",
              "    <tr>\n",
              "      <th>41207</th>\n",
              "      <td>c-4</td>\n",
              "      <td>c-18</td>\n",
              "      <td>c-1</td>\n",
              "      <td>1457</td>\n",
              "      <td>CO</td>\n",
              "      <td>EWR</td>\n",
              "      <td>TPA</td>\n",
              "      <td>998</td>\n",
              "    </tr>\n",
              "    <tr>\n",
              "      <th>28283</th>\n",
              "      <td>c-11</td>\n",
              "      <td>c-1</td>\n",
              "      <td>c-2</td>\n",
              "      <td>1225</td>\n",
              "      <td>UA</td>\n",
              "      <td>DEN</td>\n",
              "      <td>BOS</td>\n",
              "      <td>1754</td>\n",
              "    </tr>\n",
              "    <tr>\n",
              "      <th>34619</th>\n",
              "      <td>c-6</td>\n",
              "      <td>c-16</td>\n",
              "      <td>c-5</td>\n",
              "      <td>1650</td>\n",
              "      <td>YV</td>\n",
              "      <td>IAD</td>\n",
              "      <td>CAE</td>\n",
              "      <td>401</td>\n",
              "    </tr>\n",
              "    <tr>\n",
              "      <th>8789</th>\n",
              "      <td>c-5</td>\n",
              "      <td>c-18</td>\n",
              "      <td>c-4</td>\n",
              "      <td>923</td>\n",
              "      <td>AA</td>\n",
              "      <td>SLC</td>\n",
              "      <td>DFW</td>\n",
              "      <td>988</td>\n",
              "    </tr>\n",
              "    <tr>\n",
              "      <th>38315</th>\n",
              "      <td>c-2</td>\n",
              "      <td>c-14</td>\n",
              "      <td>c-2</td>\n",
              "      <td>1839</td>\n",
              "      <td>AA</td>\n",
              "      <td>STL</td>\n",
              "      <td>SAN</td>\n",
              "      <td>1558</td>\n",
              "    </tr>\n",
              "  </tbody>\n",
              "</table>\n",
              "</div>\n",
              "    <div class=\"colab-df-buttons\">\n",
              "\n",
              "  <div class=\"colab-df-container\">\n",
              "    <button class=\"colab-df-convert\" onclick=\"convertToInteractive('df-31675bb9-076d-4b6d-bf87-0b326eeaf888')\"\n",
              "            title=\"Convert this dataframe to an interactive table.\"\n",
              "            style=\"display:none;\">\n",
              "\n",
              "  <svg xmlns=\"http://www.w3.org/2000/svg\" height=\"24px\" viewBox=\"0 -960 960 960\">\n",
              "    <path d=\"M120-120v-720h720v720H120Zm60-500h600v-160H180v160Zm220 220h160v-160H400v160Zm0 220h160v-160H400v160ZM180-400h160v-160H180v160Zm440 0h160v-160H620v160ZM180-180h160v-160H180v160Zm440 0h160v-160H620v160Z\"/>\n",
              "  </svg>\n",
              "    </button>\n",
              "\n",
              "  <style>\n",
              "    .colab-df-container {\n",
              "      display:flex;\n",
              "      gap: 12px;\n",
              "    }\n",
              "\n",
              "    .colab-df-convert {\n",
              "      background-color: #E8F0FE;\n",
              "      border: none;\n",
              "      border-radius: 50%;\n",
              "      cursor: pointer;\n",
              "      display: none;\n",
              "      fill: #1967D2;\n",
              "      height: 32px;\n",
              "      padding: 0 0 0 0;\n",
              "      width: 32px;\n",
              "    }\n",
              "\n",
              "    .colab-df-convert:hover {\n",
              "      background-color: #E2EBFA;\n",
              "      box-shadow: 0px 1px 2px rgba(60, 64, 67, 0.3), 0px 1px 3px 1px rgba(60, 64, 67, 0.15);\n",
              "      fill: #174EA6;\n",
              "    }\n",
              "\n",
              "    .colab-df-buttons div {\n",
              "      margin-bottom: 4px;\n",
              "    }\n",
              "\n",
              "    [theme=dark] .colab-df-convert {\n",
              "      background-color: #3B4455;\n",
              "      fill: #D2E3FC;\n",
              "    }\n",
              "\n",
              "    [theme=dark] .colab-df-convert:hover {\n",
              "      background-color: #434B5C;\n",
              "      box-shadow: 0px 1px 3px 1px rgba(0, 0, 0, 0.15);\n",
              "      filter: drop-shadow(0px 1px 2px rgba(0, 0, 0, 0.3));\n",
              "      fill: #FFFFFF;\n",
              "    }\n",
              "  </style>\n",
              "\n",
              "    <script>\n",
              "      const buttonEl =\n",
              "        document.querySelector('#df-31675bb9-076d-4b6d-bf87-0b326eeaf888 button.colab-df-convert');\n",
              "      buttonEl.style.display =\n",
              "        google.colab.kernel.accessAllowed ? 'block' : 'none';\n",
              "\n",
              "      async function convertToInteractive(key) {\n",
              "        const element = document.querySelector('#df-31675bb9-076d-4b6d-bf87-0b326eeaf888');\n",
              "        const dataTable =\n",
              "          await google.colab.kernel.invokeFunction('convertToInteractive',\n",
              "                                                    [key], {});\n",
              "        if (!dataTable) return;\n",
              "\n",
              "        const docLinkHtml = 'Like what you see? Visit the ' +\n",
              "          '<a target=\"_blank\" href=https://colab.research.google.com/notebooks/data_table.ipynb>data table notebook</a>'\n",
              "          + ' to learn more about interactive tables.';\n",
              "        element.innerHTML = '';\n",
              "        dataTable['output_type'] = 'display_data';\n",
              "        await google.colab.output.renderOutput(dataTable, element);\n",
              "        const docLink = document.createElement('div');\n",
              "        docLink.innerHTML = docLinkHtml;\n",
              "        element.appendChild(docLink);\n",
              "      }\n",
              "    </script>\n",
              "  </div>\n",
              "\n",
              "\n",
              "<div id=\"df-2a83854c-d756-4ea7-bd62-a647618fccc6\">\n",
              "  <button class=\"colab-df-quickchart\" onclick=\"quickchart('df-2a83854c-d756-4ea7-bd62-a647618fccc6')\"\n",
              "            title=\"Suggest charts\"\n",
              "            style=\"display:none;\">\n",
              "\n",
              "<svg xmlns=\"http://www.w3.org/2000/svg\" height=\"24px\"viewBox=\"0 0 24 24\"\n",
              "     width=\"24px\">\n",
              "    <g>\n",
              "        <path d=\"M19 3H5c-1.1 0-2 .9-2 2v14c0 1.1.9 2 2 2h14c1.1 0 2-.9 2-2V5c0-1.1-.9-2-2-2zM9 17H7v-7h2v7zm4 0h-2V7h2v10zm4 0h-2v-4h2v4z\"/>\n",
              "    </g>\n",
              "</svg>\n",
              "  </button>\n",
              "\n",
              "<style>\n",
              "  .colab-df-quickchart {\n",
              "      --bg-color: #E8F0FE;\n",
              "      --fill-color: #1967D2;\n",
              "      --hover-bg-color: #E2EBFA;\n",
              "      --hover-fill-color: #174EA6;\n",
              "      --disabled-fill-color: #AAA;\n",
              "      --disabled-bg-color: #DDD;\n",
              "  }\n",
              "\n",
              "  [theme=dark] .colab-df-quickchart {\n",
              "      --bg-color: #3B4455;\n",
              "      --fill-color: #D2E3FC;\n",
              "      --hover-bg-color: #434B5C;\n",
              "      --hover-fill-color: #FFFFFF;\n",
              "      --disabled-bg-color: #3B4455;\n",
              "      --disabled-fill-color: #666;\n",
              "  }\n",
              "\n",
              "  .colab-df-quickchart {\n",
              "    background-color: var(--bg-color);\n",
              "    border: none;\n",
              "    border-radius: 50%;\n",
              "    cursor: pointer;\n",
              "    display: none;\n",
              "    fill: var(--fill-color);\n",
              "    height: 32px;\n",
              "    padding: 0;\n",
              "    width: 32px;\n",
              "  }\n",
              "\n",
              "  .colab-df-quickchart:hover {\n",
              "    background-color: var(--hover-bg-color);\n",
              "    box-shadow: 0 1px 2px rgba(60, 64, 67, 0.3), 0 1px 3px 1px rgba(60, 64, 67, 0.15);\n",
              "    fill: var(--button-hover-fill-color);\n",
              "  }\n",
              "\n",
              "  .colab-df-quickchart-complete:disabled,\n",
              "  .colab-df-quickchart-complete:disabled:hover {\n",
              "    background-color: var(--disabled-bg-color);\n",
              "    fill: var(--disabled-fill-color);\n",
              "    box-shadow: none;\n",
              "  }\n",
              "\n",
              "  .colab-df-spinner {\n",
              "    border: 2px solid var(--fill-color);\n",
              "    border-color: transparent;\n",
              "    border-bottom-color: var(--fill-color);\n",
              "    animation:\n",
              "      spin 1s steps(1) infinite;\n",
              "  }\n",
              "\n",
              "  @keyframes spin {\n",
              "    0% {\n",
              "      border-color: transparent;\n",
              "      border-bottom-color: var(--fill-color);\n",
              "      border-left-color: var(--fill-color);\n",
              "    }\n",
              "    20% {\n",
              "      border-color: transparent;\n",
              "      border-left-color: var(--fill-color);\n",
              "      border-top-color: var(--fill-color);\n",
              "    }\n",
              "    30% {\n",
              "      border-color: transparent;\n",
              "      border-left-color: var(--fill-color);\n",
              "      border-top-color: var(--fill-color);\n",
              "      border-right-color: var(--fill-color);\n",
              "    }\n",
              "    40% {\n",
              "      border-color: transparent;\n",
              "      border-right-color: var(--fill-color);\n",
              "      border-top-color: var(--fill-color);\n",
              "    }\n",
              "    60% {\n",
              "      border-color: transparent;\n",
              "      border-right-color: var(--fill-color);\n",
              "    }\n",
              "    80% {\n",
              "      border-color: transparent;\n",
              "      border-right-color: var(--fill-color);\n",
              "      border-bottom-color: var(--fill-color);\n",
              "    }\n",
              "    90% {\n",
              "      border-color: transparent;\n",
              "      border-bottom-color: var(--fill-color);\n",
              "    }\n",
              "  }\n",
              "</style>\n",
              "\n",
              "  <script>\n",
              "    async function quickchart(key) {\n",
              "      const quickchartButtonEl =\n",
              "        document.querySelector('#' + key + ' button');\n",
              "      quickchartButtonEl.disabled = true;  // To prevent multiple clicks.\n",
              "      quickchartButtonEl.classList.add('colab-df-spinner');\n",
              "      try {\n",
              "        const charts = await google.colab.kernel.invokeFunction(\n",
              "            'suggestCharts', [key], {});\n",
              "      } catch (error) {\n",
              "        console.error('Error during call to suggestCharts:', error);\n",
              "      }\n",
              "      quickchartButtonEl.classList.remove('colab-df-spinner');\n",
              "      quickchartButtonEl.classList.add('colab-df-quickchart-complete');\n",
              "    }\n",
              "    (() => {\n",
              "      let quickchartButtonEl =\n",
              "        document.querySelector('#df-2a83854c-d756-4ea7-bd62-a647618fccc6 button');\n",
              "      quickchartButtonEl.style.display =\n",
              "        google.colab.kernel.accessAllowed ? 'block' : 'none';\n",
              "    })();\n",
              "  </script>\n",
              "</div>\n",
              "    </div>\n",
              "  </div>\n"
            ],
            "application/vnd.google.colaboratory.intrinsic+json": {
              "type": "dataframe",
              "variable_name": "Xtrain",
              "summary": "{\n  \"name\": \"Xtrain\",\n  \"rows\": 75000,\n  \"fields\": [\n    {\n      \"column\": \"Month\",\n      \"properties\": {\n        \"dtype\": \"category\",\n        \"num_unique_values\": 12,\n        \"samples\": [\n          \"c-1\",\n          \"c-7\",\n          \"c-4\"\n        ],\n        \"semantic_type\": \"\",\n        \"description\": \"\"\n      }\n    },\n    {\n      \"column\": \"DayofMonth\",\n      \"properties\": {\n        \"dtype\": \"category\",\n        \"num_unique_values\": 31,\n        \"samples\": [\n          \"c-15\",\n          \"c-12\",\n          \"c-31\"\n        ],\n        \"semantic_type\": \"\",\n        \"description\": \"\"\n      }\n    },\n    {\n      \"column\": \"DayOfWeek\",\n      \"properties\": {\n        \"dtype\": \"category\",\n        \"num_unique_values\": 7,\n        \"samples\": [\n          \"c-1\",\n          \"c-2\",\n          \"c-7\"\n        ],\n        \"semantic_type\": \"\",\n        \"description\": \"\"\n      }\n    },\n    {\n      \"column\": \"DepTime\",\n      \"properties\": {\n        \"dtype\": \"number\",\n        \"std\": 475,\n        \"min\": 1,\n        \"max\": 2534,\n        \"num_unique_values\": 1279,\n        \"samples\": [\n          155,\n          107,\n          1637\n        ],\n        \"semantic_type\": \"\",\n        \"description\": \"\"\n      }\n    },\n    {\n      \"column\": \"UniqueCarrier\",\n      \"properties\": {\n        \"dtype\": \"category\",\n        \"num_unique_values\": 22,\n        \"samples\": [\n          \"CO\",\n          \"FL\",\n          \"XE\"\n        ],\n        \"semantic_type\": \"\",\n        \"description\": \"\"\n      }\n    },\n    {\n      \"column\": \"Origin\",\n      \"properties\": {\n        \"dtype\": \"category\",\n        \"num_unique_values\": 288,\n        \"samples\": [\n          \"RDU\",\n          \"CLL\",\n          \"SWF\"\n        ],\n        \"semantic_type\": \"\",\n        \"description\": \"\"\n      }\n    },\n    {\n      \"column\": \"Dest\",\n      \"properties\": {\n        \"dtype\": \"category\",\n        \"num_unique_values\": 286,\n        \"samples\": [\n          \"MCO\",\n          \"OME\",\n          \"HSV\"\n        ],\n        \"semantic_type\": \"\",\n        \"description\": \"\"\n      }\n    },\n    {\n      \"column\": \"Distance\",\n      \"properties\": {\n        \"dtype\": \"number\",\n        \"std\": 576,\n        \"min\": 30,\n        \"max\": 4962,\n        \"num_unique_values\": 1304,\n        \"samples\": [\n          133,\n          395,\n          719\n        ],\n        \"semantic_type\": \"\",\n        \"description\": \"\"\n      }\n    }\n  ]\n}"
            }
          },
          "metadata": {},
          "execution_count": 13
        }
      ]
    },
    {
      "cell_type": "markdown",
      "source": [
        "## Модели с параметрами по умолчанию"
      ],
      "metadata": {
        "id": "8E9ZC9UXymeu"
      }
    },
    {
      "cell_type": "markdown",
      "source": [
        "Обучите CatBoost с гиперпараметрами по умолчанию.\n",
        "\n",
        "## Quiz\n",
        "Чему равен ROC-AUC на тестовых данных? Ответ округлите до сотых."
      ],
      "metadata": {
        "id": "BiT-smHxypQx"
      }
    },
    {
      "cell_type": "code",
      "source": [
        "from catboost import Pool, metrics, cv\n",
        "from sklearn.metrics import accuracy_score, roc_auc_score"
      ],
      "metadata": {
        "id": "GjizIqqvFwX6"
      },
      "execution_count": null,
      "outputs": []
    },
    {
      "cell_type": "code",
      "source": [
        "# your code here\n",
        "model_CBC = CatBoostClassifier(\n",
        "    #custom_loss=[metrics.AUC()],\n",
        "    random_seed=RANDOM_STATE,\n",
        "    logging_level='Silent'\n",
        ")"
      ],
      "metadata": {
        "id": "vdjpjT1Gw8ff"
      },
      "execution_count": 14,
      "outputs": []
    },
    {
      "cell_type": "code",
      "source": [
        "model_CBC.fit(\n",
        "    Xtrain, ytrain,\n",
        "    cat_features=categorical_features_indices,\n",
        "    #eval_set=(X_test, y_test),\n",
        "    logging_level='Verbose',\n",
        "    plot=True\n",
        ")"
      ],
      "metadata": {
        "colab": {
          "base_uri": "https://localhost:8080/",
          "height": 1000,
          "referenced_widgets": [
            "829f2ebce3de44d5a382747b636af1d5"
          ]
        },
        "id": "yIdDmMHeG-2b",
        "outputId": "579b36e4-31c2-412e-f80a-70eadf7514de"
      },
      "execution_count": 15,
      "outputs": [
        {
          "output_type": "display_data",
          "data": {
            "text/plain": [
              "MetricVisualizer(layout=Layout(align_self='stretch', height='500px'))"
            ],
            "application/vnd.jupyter.widget-view+json": {
              "version_major": 2,
              "version_minor": 0,
              "model_id": "829f2ebce3de44d5a382747b636af1d5"
            }
          },
          "metadata": {}
        },
        {
          "output_type": "stream",
          "name": "stdout",
          "text": [
            "Learning rate set to 0.065101\n",
            "0:\tlearn: 0.6600024\ttotal: 152ms\tremaining: 2m 31s\n",
            "1:\tlearn: 0.6301097\ttotal: 274ms\tremaining: 2m 16s\n",
            "2:\tlearn: 0.6062540\ttotal: 351ms\tremaining: 1m 56s\n",
            "3:\tlearn: 0.5861899\ttotal: 437ms\tremaining: 1m 48s\n",
            "4:\tlearn: 0.5692165\ttotal: 491ms\tremaining: 1m 37s\n",
            "5:\tlearn: 0.5538774\ttotal: 549ms\tremaining: 1m 31s\n",
            "6:\tlearn: 0.5397378\ttotal: 658ms\tremaining: 1m 33s\n",
            "7:\tlearn: 0.5274410\ttotal: 773ms\tremaining: 1m 35s\n",
            "8:\tlearn: 0.5173510\ttotal: 885ms\tremaining: 1m 37s\n",
            "9:\tlearn: 0.5085494\ttotal: 987ms\tremaining: 1m 37s\n",
            "10:\tlearn: 0.5015010\ttotal: 1.09s\tremaining: 1m 37s\n",
            "11:\tlearn: 0.4959284\ttotal: 1.14s\tremaining: 1m 33s\n",
            "12:\tlearn: 0.4894959\ttotal: 1.26s\tremaining: 1m 36s\n",
            "13:\tlearn: 0.4840668\ttotal: 1.38s\tremaining: 1m 37s\n",
            "14:\tlearn: 0.4808529\ttotal: 1.42s\tremaining: 1m 33s\n",
            "15:\tlearn: 0.4760575\ttotal: 1.55s\tremaining: 1m 35s\n",
            "16:\tlearn: 0.4733882\ttotal: 1.62s\tremaining: 1m 33s\n",
            "17:\tlearn: 0.4693399\ttotal: 1.75s\tremaining: 1m 35s\n",
            "18:\tlearn: 0.4663194\ttotal: 1.94s\tremaining: 1m 40s\n",
            "19:\tlearn: 0.4636631\ttotal: 2.13s\tremaining: 1m 44s\n",
            "20:\tlearn: 0.4608410\ttotal: 2.34s\tremaining: 1m 49s\n",
            "21:\tlearn: 0.4592139\ttotal: 2.55s\tremaining: 1m 53s\n",
            "22:\tlearn: 0.4570733\ttotal: 2.76s\tremaining: 1m 57s\n",
            "23:\tlearn: 0.4552302\ttotal: 2.95s\tremaining: 1m 59s\n",
            "24:\tlearn: 0.4540839\ttotal: 3.13s\tremaining: 2m 2s\n",
            "25:\tlearn: 0.4524665\ttotal: 3.34s\tremaining: 2m 5s\n",
            "26:\tlearn: 0.4509536\ttotal: 3.61s\tremaining: 2m 10s\n",
            "27:\tlearn: 0.4497157\ttotal: 3.81s\tremaining: 2m 12s\n",
            "28:\tlearn: 0.4487444\ttotal: 4.02s\tremaining: 2m 14s\n",
            "29:\tlearn: 0.4478952\ttotal: 4.21s\tremaining: 2m 16s\n",
            "30:\tlearn: 0.4467833\ttotal: 4.44s\tremaining: 2m 18s\n",
            "31:\tlearn: 0.4456663\ttotal: 4.67s\tremaining: 2m 21s\n",
            "32:\tlearn: 0.4447948\ttotal: 4.83s\tremaining: 2m 21s\n",
            "33:\tlearn: 0.4438185\ttotal: 5.01s\tremaining: 2m 22s\n",
            "34:\tlearn: 0.4431845\ttotal: 5.24s\tremaining: 2m 24s\n",
            "35:\tlearn: 0.4424001\ttotal: 5.46s\tremaining: 2m 26s\n",
            "36:\tlearn: 0.4418224\ttotal: 5.6s\tremaining: 2m 25s\n",
            "37:\tlearn: 0.4411619\ttotal: 5.71s\tremaining: 2m 24s\n",
            "38:\tlearn: 0.4403850\ttotal: 5.83s\tremaining: 2m 23s\n",
            "39:\tlearn: 0.4396250\ttotal: 5.94s\tremaining: 2m 22s\n",
            "40:\tlearn: 0.4393004\ttotal: 6.05s\tremaining: 2m 21s\n",
            "41:\tlearn: 0.4388239\ttotal: 6.17s\tremaining: 2m 20s\n",
            "42:\tlearn: 0.4381790\ttotal: 6.31s\tremaining: 2m 20s\n",
            "43:\tlearn: 0.4378816\ttotal: 6.45s\tremaining: 2m 20s\n",
            "44:\tlearn: 0.4373633\ttotal: 6.59s\tremaining: 2m 19s\n",
            "45:\tlearn: 0.4369708\ttotal: 6.73s\tremaining: 2m 19s\n",
            "46:\tlearn: 0.4364954\ttotal: 6.84s\tremaining: 2m 18s\n",
            "47:\tlearn: 0.4362494\ttotal: 6.95s\tremaining: 2m 17s\n",
            "48:\tlearn: 0.4359696\ttotal: 7.08s\tremaining: 2m 17s\n",
            "49:\tlearn: 0.4353281\ttotal: 7.2s\tremaining: 2m 16s\n",
            "50:\tlearn: 0.4349978\ttotal: 7.31s\tremaining: 2m 16s\n",
            "51:\tlearn: 0.4347338\ttotal: 7.45s\tremaining: 2m 15s\n",
            "52:\tlearn: 0.4344134\ttotal: 7.59s\tremaining: 2m 15s\n",
            "53:\tlearn: 0.4339413\ttotal: 7.68s\tremaining: 2m 14s\n",
            "54:\tlearn: 0.4335353\ttotal: 7.8s\tremaining: 2m 14s\n",
            "55:\tlearn: 0.4333062\ttotal: 7.91s\tremaining: 2m 13s\n",
            "56:\tlearn: 0.4330461\ttotal: 8.03s\tremaining: 2m 12s\n",
            "57:\tlearn: 0.4328623\ttotal: 8.15s\tremaining: 2m 12s\n",
            "58:\tlearn: 0.4326603\ttotal: 8.25s\tremaining: 2m 11s\n",
            "59:\tlearn: 0.4325040\ttotal: 8.37s\tremaining: 2m 11s\n",
            "60:\tlearn: 0.4322224\ttotal: 8.48s\tremaining: 2m 10s\n",
            "61:\tlearn: 0.4320238\ttotal: 8.61s\tremaining: 2m 10s\n",
            "62:\tlearn: 0.4318262\ttotal: 8.72s\tremaining: 2m 9s\n",
            "63:\tlearn: 0.4315755\ttotal: 8.86s\tremaining: 2m 9s\n",
            "64:\tlearn: 0.4313827\ttotal: 8.99s\tremaining: 2m 9s\n",
            "65:\tlearn: 0.4309968\ttotal: 9.12s\tremaining: 2m 8s\n",
            "66:\tlearn: 0.4306396\ttotal: 9.21s\tremaining: 2m 8s\n",
            "67:\tlearn: 0.4304518\ttotal: 9.33s\tremaining: 2m 7s\n",
            "68:\tlearn: 0.4303553\ttotal: 9.46s\tremaining: 2m 7s\n",
            "69:\tlearn: 0.4301556\ttotal: 9.61s\tremaining: 2m 7s\n",
            "70:\tlearn: 0.4299523\ttotal: 9.74s\tremaining: 2m 7s\n",
            "71:\tlearn: 0.4296713\ttotal: 9.85s\tremaining: 2m 6s\n",
            "72:\tlearn: 0.4295426\ttotal: 9.98s\tremaining: 2m 6s\n",
            "73:\tlearn: 0.4294288\ttotal: 10.1s\tremaining: 2m 6s\n",
            "74:\tlearn: 0.4291566\ttotal: 10.2s\tremaining: 2m 5s\n",
            "75:\tlearn: 0.4289977\ttotal: 10.3s\tremaining: 2m 5s\n",
            "76:\tlearn: 0.4288816\ttotal: 10.4s\tremaining: 2m 5s\n",
            "77:\tlearn: 0.4286496\ttotal: 10.6s\tremaining: 2m 4s\n",
            "78:\tlearn: 0.4284669\ttotal: 10.7s\tremaining: 2m 4s\n",
            "79:\tlearn: 0.4283656\ttotal: 10.8s\tremaining: 2m 4s\n",
            "80:\tlearn: 0.4282311\ttotal: 10.9s\tremaining: 2m 4s\n",
            "81:\tlearn: 0.4280162\ttotal: 11.1s\tremaining: 2m 3s\n",
            "82:\tlearn: 0.4278838\ttotal: 11.2s\tremaining: 2m 3s\n",
            "83:\tlearn: 0.4277469\ttotal: 11.3s\tremaining: 2m 3s\n",
            "84:\tlearn: 0.4275683\ttotal: 11.4s\tremaining: 2m 2s\n",
            "85:\tlearn: 0.4273956\ttotal: 11.6s\tremaining: 2m 2s\n",
            "86:\tlearn: 0.4271801\ttotal: 11.7s\tremaining: 2m 2s\n",
            "87:\tlearn: 0.4270354\ttotal: 11.8s\tremaining: 2m 1s\n",
            "88:\tlearn: 0.4268066\ttotal: 11.9s\tremaining: 2m 1s\n",
            "89:\tlearn: 0.4266723\ttotal: 12s\tremaining: 2m 1s\n",
            "90:\tlearn: 0.4265498\ttotal: 12.1s\tremaining: 2m 1s\n",
            "91:\tlearn: 0.4264527\ttotal: 12.2s\tremaining: 2m\n",
            "92:\tlearn: 0.4263489\ttotal: 12.4s\tremaining: 2m\n",
            "93:\tlearn: 0.4261794\ttotal: 12.5s\tremaining: 2m\n",
            "94:\tlearn: 0.4261109\ttotal: 12.6s\tremaining: 2m\n",
            "95:\tlearn: 0.4259661\ttotal: 12.7s\tremaining: 1m 59s\n",
            "96:\tlearn: 0.4258294\ttotal: 12.8s\tremaining: 1m 59s\n",
            "97:\tlearn: 0.4256598\ttotal: 13s\tremaining: 1m 59s\n",
            "98:\tlearn: 0.4255590\ttotal: 13.1s\tremaining: 1m 59s\n",
            "99:\tlearn: 0.4254503\ttotal: 13.2s\tremaining: 1m 58s\n",
            "100:\tlearn: 0.4254223\ttotal: 13.3s\tremaining: 1m 58s\n",
            "101:\tlearn: 0.4253032\ttotal: 13.4s\tremaining: 1m 58s\n",
            "102:\tlearn: 0.4251305\ttotal: 13.6s\tremaining: 1m 58s\n",
            "103:\tlearn: 0.4250577\ttotal: 13.7s\tremaining: 1m 58s\n",
            "104:\tlearn: 0.4249480\ttotal: 13.8s\tremaining: 1m 57s\n",
            "105:\tlearn: 0.4248703\ttotal: 13.9s\tremaining: 1m 57s\n",
            "106:\tlearn: 0.4247921\ttotal: 14s\tremaining: 1m 57s\n",
            "107:\tlearn: 0.4246690\ttotal: 14.1s\tremaining: 1m 56s\n",
            "108:\tlearn: 0.4245424\ttotal: 14.2s\tremaining: 1m 56s\n",
            "109:\tlearn: 0.4244384\ttotal: 14.4s\tremaining: 1m 56s\n",
            "110:\tlearn: 0.4243343\ttotal: 14.5s\tremaining: 1m 56s\n",
            "111:\tlearn: 0.4242215\ttotal: 14.6s\tremaining: 1m 55s\n",
            "112:\tlearn: 0.4241597\ttotal: 14.8s\tremaining: 1m 55s\n",
            "113:\tlearn: 0.4240398\ttotal: 14.9s\tremaining: 1m 55s\n",
            "114:\tlearn: 0.4239770\ttotal: 15s\tremaining: 1m 55s\n",
            "115:\tlearn: 0.4239475\ttotal: 15s\tremaining: 1m 54s\n",
            "116:\tlearn: 0.4238982\ttotal: 15.1s\tremaining: 1m 54s\n",
            "117:\tlearn: 0.4238693\ttotal: 15.3s\tremaining: 1m 54s\n",
            "118:\tlearn: 0.4238128\ttotal: 15.4s\tremaining: 1m 53s\n",
            "119:\tlearn: 0.4237046\ttotal: 15.5s\tremaining: 1m 53s\n",
            "120:\tlearn: 0.4235876\ttotal: 15.7s\tremaining: 1m 54s\n",
            "121:\tlearn: 0.4234701\ttotal: 16s\tremaining: 1m 54s\n",
            "122:\tlearn: 0.4233040\ttotal: 16.1s\tremaining: 1m 55s\n",
            "123:\tlearn: 0.4231505\ttotal: 16.3s\tremaining: 1m 55s\n",
            "124:\tlearn: 0.4230713\ttotal: 16.5s\tremaining: 1m 55s\n",
            "125:\tlearn: 0.4228886\ttotal: 16.7s\tremaining: 1m 56s\n",
            "126:\tlearn: 0.4227434\ttotal: 16.9s\tremaining: 1m 56s\n",
            "127:\tlearn: 0.4226374\ttotal: 17.1s\tremaining: 1m 56s\n",
            "128:\tlearn: 0.4225140\ttotal: 17.3s\tremaining: 1m 56s\n",
            "129:\tlearn: 0.4224479\ttotal: 17.5s\tremaining: 1m 57s\n",
            "130:\tlearn: 0.4223141\ttotal: 17.7s\tremaining: 1m 57s\n",
            "131:\tlearn: 0.4222374\ttotal: 18s\tremaining: 1m 58s\n",
            "132:\tlearn: 0.4221151\ttotal: 18.2s\tremaining: 1m 58s\n",
            "133:\tlearn: 0.4220254\ttotal: 18.4s\tremaining: 1m 59s\n",
            "134:\tlearn: 0.4219787\ttotal: 18.7s\tremaining: 1m 59s\n",
            "135:\tlearn: 0.4219063\ttotal: 18.9s\tremaining: 2m\n",
            "136:\tlearn: 0.4218470\ttotal: 19.1s\tremaining: 2m\n",
            "137:\tlearn: 0.4218063\ttotal: 19.2s\tremaining: 1m 59s\n",
            "138:\tlearn: 0.4217164\ttotal: 19.3s\tremaining: 1m 59s\n",
            "139:\tlearn: 0.4216014\ttotal: 19.5s\tremaining: 1m 59s\n",
            "140:\tlearn: 0.4215676\ttotal: 19.6s\tremaining: 1m 59s\n",
            "141:\tlearn: 0.4214557\ttotal: 19.7s\tremaining: 1m 58s\n",
            "142:\tlearn: 0.4213550\ttotal: 19.8s\tremaining: 1m 58s\n",
            "143:\tlearn: 0.4212907\ttotal: 19.9s\tremaining: 1m 58s\n",
            "144:\tlearn: 0.4212060\ttotal: 20s\tremaining: 1m 57s\n",
            "145:\tlearn: 0.4211645\ttotal: 20.1s\tremaining: 1m 57s\n",
            "146:\tlearn: 0.4210228\ttotal: 20.2s\tremaining: 1m 57s\n",
            "147:\tlearn: 0.4209560\ttotal: 20.3s\tremaining: 1m 56s\n",
            "148:\tlearn: 0.4208485\ttotal: 20.4s\tremaining: 1m 56s\n",
            "149:\tlearn: 0.4207607\ttotal: 20.6s\tremaining: 1m 56s\n",
            "150:\tlearn: 0.4207048\ttotal: 20.7s\tremaining: 1m 56s\n",
            "151:\tlearn: 0.4205983\ttotal: 20.8s\tremaining: 1m 56s\n",
            "152:\tlearn: 0.4205504\ttotal: 20.9s\tremaining: 1m 55s\n",
            "153:\tlearn: 0.4204405\ttotal: 21.1s\tremaining: 1m 55s\n",
            "154:\tlearn: 0.4203652\ttotal: 21.2s\tremaining: 1m 55s\n",
            "155:\tlearn: 0.4202831\ttotal: 21.3s\tremaining: 1m 55s\n",
            "156:\tlearn: 0.4202233\ttotal: 21.4s\tremaining: 1m 55s\n",
            "157:\tlearn: 0.4201437\ttotal: 21.5s\tremaining: 1m 54s\n",
            "158:\tlearn: 0.4201069\ttotal: 21.6s\tremaining: 1m 54s\n",
            "159:\tlearn: 0.4200220\ttotal: 21.8s\tremaining: 1m 54s\n",
            "160:\tlearn: 0.4199535\ttotal: 21.9s\tremaining: 1m 53s\n",
            "161:\tlearn: 0.4199535\ttotal: 21.9s\tremaining: 1m 53s\n",
            "162:\tlearn: 0.4198771\ttotal: 22s\tremaining: 1m 53s\n",
            "163:\tlearn: 0.4197803\ttotal: 22.1s\tremaining: 1m 52s\n",
            "164:\tlearn: 0.4197315\ttotal: 22.2s\tremaining: 1m 52s\n",
            "165:\tlearn: 0.4196227\ttotal: 22.3s\tremaining: 1m 52s\n",
            "166:\tlearn: 0.4196013\ttotal: 22.5s\tremaining: 1m 52s\n",
            "167:\tlearn: 0.4195503\ttotal: 22.6s\tremaining: 1m 51s\n",
            "168:\tlearn: 0.4194234\ttotal: 22.7s\tremaining: 1m 51s\n",
            "169:\tlearn: 0.4193033\ttotal: 22.8s\tremaining: 1m 51s\n",
            "170:\tlearn: 0.4192749\ttotal: 22.9s\tremaining: 1m 51s\n",
            "171:\tlearn: 0.4191996\ttotal: 23.1s\tremaining: 1m 51s\n",
            "172:\tlearn: 0.4191651\ttotal: 23.2s\tremaining: 1m 50s\n",
            "173:\tlearn: 0.4190849\ttotal: 23.3s\tremaining: 1m 50s\n",
            "174:\tlearn: 0.4189826\ttotal: 23.5s\tremaining: 1m 50s\n",
            "175:\tlearn: 0.4189253\ttotal: 23.6s\tremaining: 1m 50s\n",
            "176:\tlearn: 0.4188728\ttotal: 23.7s\tremaining: 1m 50s\n",
            "177:\tlearn: 0.4187839\ttotal: 23.8s\tremaining: 1m 49s\n",
            "178:\tlearn: 0.4187122\ttotal: 23.9s\tremaining: 1m 49s\n",
            "179:\tlearn: 0.4186128\ttotal: 24.1s\tremaining: 1m 49s\n",
            "180:\tlearn: 0.4185002\ttotal: 24.2s\tremaining: 1m 49s\n",
            "181:\tlearn: 0.4184752\ttotal: 24.3s\tremaining: 1m 49s\n",
            "182:\tlearn: 0.4183669\ttotal: 24.5s\tremaining: 1m 49s\n",
            "183:\tlearn: 0.4183392\ttotal: 24.6s\tremaining: 1m 49s\n",
            "184:\tlearn: 0.4182955\ttotal: 24.7s\tremaining: 1m 48s\n",
            "185:\tlearn: 0.4181980\ttotal: 24.8s\tremaining: 1m 48s\n",
            "186:\tlearn: 0.4181126\ttotal: 25s\tremaining: 1m 48s\n",
            "187:\tlearn: 0.4180558\ttotal: 25.1s\tremaining: 1m 48s\n",
            "188:\tlearn: 0.4180100\ttotal: 25.2s\tremaining: 1m 48s\n",
            "189:\tlearn: 0.4179653\ttotal: 25.4s\tremaining: 1m 48s\n",
            "190:\tlearn: 0.4179387\ttotal: 25.5s\tremaining: 1m 48s\n",
            "191:\tlearn: 0.4178376\ttotal: 25.6s\tremaining: 1m 47s\n",
            "192:\tlearn: 0.4176802\ttotal: 25.8s\tremaining: 1m 47s\n",
            "193:\tlearn: 0.4175996\ttotal: 26.1s\tremaining: 1m 48s\n",
            "194:\tlearn: 0.4175285\ttotal: 26.3s\tremaining: 1m 48s\n",
            "195:\tlearn: 0.4174158\ttotal: 26.4s\tremaining: 1m 48s\n",
            "196:\tlearn: 0.4173642\ttotal: 26.5s\tremaining: 1m 48s\n",
            "197:\tlearn: 0.4172620\ttotal: 26.7s\tremaining: 1m 47s\n",
            "198:\tlearn: 0.4171744\ttotal: 26.8s\tremaining: 1m 47s\n",
            "199:\tlearn: 0.4171372\ttotal: 27.2s\tremaining: 1m 48s\n",
            "200:\tlearn: 0.4170622\ttotal: 27.4s\tremaining: 1m 48s\n",
            "201:\tlearn: 0.4169289\ttotal: 27.5s\tremaining: 1m 48s\n",
            "202:\tlearn: 0.4168355\ttotal: 27.6s\tremaining: 1m 48s\n",
            "203:\tlearn: 0.4167451\ttotal: 27.7s\tremaining: 1m 48s\n",
            "204:\tlearn: 0.4166585\ttotal: 28s\tremaining: 1m 48s\n",
            "205:\tlearn: 0.4165638\ttotal: 28.3s\tremaining: 1m 49s\n",
            "206:\tlearn: 0.4164852\ttotal: 28.5s\tremaining: 1m 49s\n",
            "207:\tlearn: 0.4163908\ttotal: 28.6s\tremaining: 1m 48s\n",
            "208:\tlearn: 0.4162980\ttotal: 28.7s\tremaining: 1m 48s\n",
            "209:\tlearn: 0.4162059\ttotal: 28.8s\tremaining: 1m 48s\n",
            "210:\tlearn: 0.4161404\ttotal: 28.9s\tremaining: 1m 48s\n",
            "211:\tlearn: 0.4160882\ttotal: 29.1s\tremaining: 1m 47s\n",
            "212:\tlearn: 0.4160157\ttotal: 29.2s\tremaining: 1m 47s\n",
            "213:\tlearn: 0.4159718\ttotal: 29.5s\tremaining: 1m 48s\n",
            "214:\tlearn: 0.4158885\ttotal: 29.7s\tremaining: 1m 48s\n",
            "215:\tlearn: 0.4157689\ttotal: 29.9s\tremaining: 1m 48s\n",
            "216:\tlearn: 0.4157402\ttotal: 30.2s\tremaining: 1m 48s\n",
            "217:\tlearn: 0.4157058\ttotal: 30.4s\tremaining: 1m 49s\n",
            "218:\tlearn: 0.4156624\ttotal: 30.6s\tremaining: 1m 49s\n",
            "219:\tlearn: 0.4155348\ttotal: 30.9s\tremaining: 1m 49s\n",
            "220:\tlearn: 0.4154547\ttotal: 31.1s\tremaining: 1m 49s\n",
            "221:\tlearn: 0.4153888\ttotal: 31.4s\tremaining: 1m 49s\n",
            "222:\tlearn: 0.4152811\ttotal: 31.6s\tremaining: 1m 50s\n",
            "223:\tlearn: 0.4152285\ttotal: 31.8s\tremaining: 1m 50s\n",
            "224:\tlearn: 0.4151068\ttotal: 32.1s\tremaining: 1m 50s\n",
            "225:\tlearn: 0.4150724\ttotal: 32.3s\tremaining: 1m 50s\n",
            "226:\tlearn: 0.4150123\ttotal: 32.5s\tremaining: 1m 50s\n",
            "227:\tlearn: 0.4149343\ttotal: 32.8s\tremaining: 1m 50s\n",
            "228:\tlearn: 0.4148407\ttotal: 32.9s\tremaining: 1m 50s\n",
            "229:\tlearn: 0.4147901\ttotal: 33s\tremaining: 1m 50s\n",
            "230:\tlearn: 0.4147452\ttotal: 33.1s\tremaining: 1m 50s\n",
            "231:\tlearn: 0.4147134\ttotal: 33.2s\tremaining: 1m 49s\n",
            "232:\tlearn: 0.4146672\ttotal: 33.3s\tremaining: 1m 49s\n",
            "233:\tlearn: 0.4146041\ttotal: 33.5s\tremaining: 1m 49s\n",
            "234:\tlearn: 0.4145664\ttotal: 33.6s\tremaining: 1m 49s\n",
            "235:\tlearn: 0.4145472\ttotal: 33.7s\tremaining: 1m 49s\n",
            "236:\tlearn: 0.4144317\ttotal: 33.8s\tremaining: 1m 48s\n",
            "237:\tlearn: 0.4144018\ttotal: 33.9s\tremaining: 1m 48s\n",
            "238:\tlearn: 0.4143456\ttotal: 34.1s\tremaining: 1m 48s\n",
            "239:\tlearn: 0.4142504\ttotal: 34.2s\tremaining: 1m 48s\n",
            "240:\tlearn: 0.4142077\ttotal: 34.3s\tremaining: 1m 48s\n",
            "241:\tlearn: 0.4141329\ttotal: 34.5s\tremaining: 1m 47s\n",
            "242:\tlearn: 0.4140767\ttotal: 34.6s\tremaining: 1m 47s\n",
            "243:\tlearn: 0.4140278\ttotal: 34.7s\tremaining: 1m 47s\n",
            "244:\tlearn: 0.4139623\ttotal: 34.8s\tremaining: 1m 47s\n",
            "245:\tlearn: 0.4139103\ttotal: 35s\tremaining: 1m 47s\n",
            "246:\tlearn: 0.4138567\ttotal: 35s\tremaining: 1m 46s\n",
            "247:\tlearn: 0.4138342\ttotal: 35.2s\tremaining: 1m 46s\n",
            "248:\tlearn: 0.4138093\ttotal: 35.3s\tremaining: 1m 46s\n",
            "249:\tlearn: 0.4137542\ttotal: 35.4s\tremaining: 1m 46s\n",
            "250:\tlearn: 0.4136910\ttotal: 35.6s\tremaining: 1m 46s\n",
            "251:\tlearn: 0.4135905\ttotal: 35.7s\tremaining: 1m 45s\n",
            "252:\tlearn: 0.4135390\ttotal: 35.8s\tremaining: 1m 45s\n",
            "253:\tlearn: 0.4134612\ttotal: 35.9s\tremaining: 1m 45s\n",
            "254:\tlearn: 0.4134364\ttotal: 36.1s\tremaining: 1m 45s\n",
            "255:\tlearn: 0.4134036\ttotal: 36.2s\tremaining: 1m 45s\n",
            "256:\tlearn: 0.4133830\ttotal: 36.3s\tremaining: 1m 44s\n",
            "257:\tlearn: 0.4133118\ttotal: 36.6s\tremaining: 1m 45s\n",
            "258:\tlearn: 0.4132696\ttotal: 36.8s\tremaining: 1m 45s\n",
            "259:\tlearn: 0.4132408\ttotal: 37s\tremaining: 1m 45s\n",
            "260:\tlearn: 0.4131711\ttotal: 37.3s\tremaining: 1m 45s\n",
            "261:\tlearn: 0.4131494\ttotal: 37.5s\tremaining: 1m 45s\n",
            "262:\tlearn: 0.4131220\ttotal: 37.8s\tremaining: 1m 45s\n",
            "263:\tlearn: 0.4130890\ttotal: 38s\tremaining: 1m 45s\n",
            "264:\tlearn: 0.4130501\ttotal: 38.2s\tremaining: 1m 46s\n",
            "265:\tlearn: 0.4129680\ttotal: 38.4s\tremaining: 1m 46s\n",
            "266:\tlearn: 0.4129163\ttotal: 38.6s\tremaining: 1m 45s\n",
            "267:\tlearn: 0.4128764\ttotal: 38.7s\tremaining: 1m 45s\n",
            "268:\tlearn: 0.4128350\ttotal: 38.8s\tremaining: 1m 45s\n",
            "269:\tlearn: 0.4127819\ttotal: 38.9s\tremaining: 1m 45s\n",
            "270:\tlearn: 0.4127239\ttotal: 39.1s\tremaining: 1m 45s\n",
            "271:\tlearn: 0.4126803\ttotal: 39.2s\tremaining: 1m 45s\n",
            "272:\tlearn: 0.4126207\ttotal: 39.4s\tremaining: 1m 44s\n",
            "273:\tlearn: 0.4125447\ttotal: 39.6s\tremaining: 1m 44s\n",
            "274:\tlearn: 0.4125133\ttotal: 39.7s\tremaining: 1m 44s\n",
            "275:\tlearn: 0.4124694\ttotal: 39.8s\tremaining: 1m 44s\n",
            "276:\tlearn: 0.4124357\ttotal: 40s\tremaining: 1m 44s\n",
            "277:\tlearn: 0.4123570\ttotal: 40.1s\tremaining: 1m 44s\n",
            "278:\tlearn: 0.4123361\ttotal: 40.3s\tremaining: 1m 44s\n",
            "279:\tlearn: 0.4122940\ttotal: 40.5s\tremaining: 1m 44s\n",
            "280:\tlearn: 0.4122717\ttotal: 40.7s\tremaining: 1m 44s\n",
            "281:\tlearn: 0.4122304\ttotal: 40.9s\tremaining: 1m 44s\n",
            "282:\tlearn: 0.4121886\ttotal: 41s\tremaining: 1m 43s\n",
            "283:\tlearn: 0.4121535\ttotal: 41.2s\tremaining: 1m 43s\n",
            "284:\tlearn: 0.4121225\ttotal: 41.3s\tremaining: 1m 43s\n",
            "285:\tlearn: 0.4120574\ttotal: 41.5s\tremaining: 1m 43s\n",
            "286:\tlearn: 0.4119991\ttotal: 41.7s\tremaining: 1m 43s\n",
            "287:\tlearn: 0.4119808\ttotal: 41.8s\tremaining: 1m 43s\n",
            "288:\tlearn: 0.4119424\ttotal: 41.9s\tremaining: 1m 43s\n",
            "289:\tlearn: 0.4119070\ttotal: 42s\tremaining: 1m 42s\n",
            "290:\tlearn: 0.4118539\ttotal: 42.1s\tremaining: 1m 42s\n",
            "291:\tlearn: 0.4118197\ttotal: 42.2s\tremaining: 1m 42s\n",
            "292:\tlearn: 0.4117612\ttotal: 42.3s\tremaining: 1m 42s\n",
            "293:\tlearn: 0.4117107\ttotal: 42.5s\tremaining: 1m 41s\n",
            "294:\tlearn: 0.4116795\ttotal: 42.6s\tremaining: 1m 41s\n",
            "295:\tlearn: 0.4116650\ttotal: 42.7s\tremaining: 1m 41s\n",
            "296:\tlearn: 0.4116394\ttotal: 42.8s\tremaining: 1m 41s\n",
            "297:\tlearn: 0.4116142\ttotal: 43s\tremaining: 1m 41s\n",
            "298:\tlearn: 0.4115676\ttotal: 43.3s\tremaining: 1m 41s\n",
            "299:\tlearn: 0.4115328\ttotal: 43.5s\tremaining: 1m 41s\n",
            "300:\tlearn: 0.4114971\ttotal: 43.8s\tremaining: 1m 41s\n",
            "301:\tlearn: 0.4114590\ttotal: 44s\tremaining: 1m 41s\n",
            "302:\tlearn: 0.4114423\ttotal: 44.2s\tremaining: 1m 41s\n",
            "303:\tlearn: 0.4113667\ttotal: 44.5s\tremaining: 1m 41s\n",
            "304:\tlearn: 0.4113199\ttotal: 44.8s\tremaining: 1m 42s\n",
            "305:\tlearn: 0.4112726\ttotal: 45s\tremaining: 1m 41s\n",
            "306:\tlearn: 0.4112382\ttotal: 45.2s\tremaining: 1m 41s\n",
            "307:\tlearn: 0.4111946\ttotal: 45.4s\tremaining: 1m 41s\n",
            "308:\tlearn: 0.4110319\ttotal: 45.7s\tremaining: 1m 42s\n",
            "309:\tlearn: 0.4110013\ttotal: 45.9s\tremaining: 1m 42s\n",
            "310:\tlearn: 0.4109351\ttotal: 46.2s\tremaining: 1m 42s\n",
            "311:\tlearn: 0.4108644\ttotal: 46.4s\tremaining: 1m 42s\n",
            "312:\tlearn: 0.4108105\ttotal: 46.6s\tremaining: 1m 42s\n",
            "313:\tlearn: 0.4107672\ttotal: 46.8s\tremaining: 1m 42s\n",
            "314:\tlearn: 0.4107249\ttotal: 46.9s\tremaining: 1m 41s\n",
            "315:\tlearn: 0.4106897\ttotal: 47s\tremaining: 1m 41s\n",
            "316:\tlearn: 0.4106510\ttotal: 47.1s\tremaining: 1m 41s\n",
            "317:\tlearn: 0.4106010\ttotal: 47.2s\tremaining: 1m 41s\n",
            "318:\tlearn: 0.4105328\ttotal: 47.3s\tremaining: 1m 41s\n",
            "319:\tlearn: 0.4104821\ttotal: 47.5s\tremaining: 1m 40s\n",
            "320:\tlearn: 0.4104584\ttotal: 47.6s\tremaining: 1m 40s\n",
            "321:\tlearn: 0.4104073\ttotal: 47.7s\tremaining: 1m 40s\n",
            "322:\tlearn: 0.4103789\ttotal: 47.9s\tremaining: 1m 40s\n",
            "323:\tlearn: 0.4103607\ttotal: 48s\tremaining: 1m 40s\n",
            "324:\tlearn: 0.4103114\ttotal: 48.1s\tremaining: 1m 39s\n",
            "325:\tlearn: 0.4102805\ttotal: 48.3s\tremaining: 1m 39s\n",
            "326:\tlearn: 0.4102297\ttotal: 48.4s\tremaining: 1m 39s\n",
            "327:\tlearn: 0.4101978\ttotal: 48.5s\tremaining: 1m 39s\n",
            "328:\tlearn: 0.4101813\ttotal: 48.6s\tremaining: 1m 39s\n",
            "329:\tlearn: 0.4101674\ttotal: 48.7s\tremaining: 1m 38s\n",
            "330:\tlearn: 0.4101457\ttotal: 48.9s\tremaining: 1m 38s\n",
            "331:\tlearn: 0.4100839\ttotal: 49s\tremaining: 1m 38s\n",
            "332:\tlearn: 0.4100538\ttotal: 49.1s\tremaining: 1m 38s\n",
            "333:\tlearn: 0.4100026\ttotal: 49.2s\tremaining: 1m 38s\n",
            "334:\tlearn: 0.4099383\ttotal: 49.4s\tremaining: 1m 38s\n",
            "335:\tlearn: 0.4099146\ttotal: 49.5s\tremaining: 1m 37s\n",
            "336:\tlearn: 0.4098784\ttotal: 49.6s\tremaining: 1m 37s\n",
            "337:\tlearn: 0.4098547\ttotal: 49.7s\tremaining: 1m 37s\n",
            "338:\tlearn: 0.4098285\ttotal: 49.8s\tremaining: 1m 37s\n",
            "339:\tlearn: 0.4097924\ttotal: 49.9s\tremaining: 1m 36s\n",
            "340:\tlearn: 0.4097555\ttotal: 50.1s\tremaining: 1m 36s\n",
            "341:\tlearn: 0.4096612\ttotal: 50.2s\tremaining: 1m 36s\n",
            "342:\tlearn: 0.4096341\ttotal: 50.3s\tremaining: 1m 36s\n",
            "343:\tlearn: 0.4095955\ttotal: 50.4s\tremaining: 1m 36s\n",
            "344:\tlearn: 0.4095385\ttotal: 50.5s\tremaining: 1m 35s\n",
            "345:\tlearn: 0.4095001\ttotal: 50.7s\tremaining: 1m 35s\n",
            "346:\tlearn: 0.4094359\ttotal: 50.8s\tremaining: 1m 35s\n",
            "347:\tlearn: 0.4094093\ttotal: 50.9s\tremaining: 1m 35s\n",
            "348:\tlearn: 0.4093816\ttotal: 51.1s\tremaining: 1m 35s\n",
            "349:\tlearn: 0.4093195\ttotal: 51.2s\tremaining: 1m 35s\n",
            "350:\tlearn: 0.4092276\ttotal: 51.3s\tremaining: 1m 34s\n",
            "351:\tlearn: 0.4091924\ttotal: 51.4s\tremaining: 1m 34s\n",
            "352:\tlearn: 0.4091830\ttotal: 51.5s\tremaining: 1m 34s\n",
            "353:\tlearn: 0.4091685\ttotal: 51.7s\tremaining: 1m 34s\n",
            "354:\tlearn: 0.4091445\ttotal: 51.8s\tremaining: 1m 34s\n",
            "355:\tlearn: 0.4090773\ttotal: 51.9s\tremaining: 1m 33s\n",
            "356:\tlearn: 0.4090247\ttotal: 52s\tremaining: 1m 33s\n",
            "357:\tlearn: 0.4090011\ttotal: 52.2s\tremaining: 1m 33s\n",
            "358:\tlearn: 0.4089459\ttotal: 52.3s\tremaining: 1m 33s\n",
            "359:\tlearn: 0.4089114\ttotal: 52.4s\tremaining: 1m 33s\n",
            "360:\tlearn: 0.4088835\ttotal: 52.5s\tremaining: 1m 33s\n",
            "361:\tlearn: 0.4088301\ttotal: 52.9s\tremaining: 1m 33s\n",
            "362:\tlearn: 0.4087938\ttotal: 53s\tremaining: 1m 33s\n",
            "363:\tlearn: 0.4087522\ttotal: 53.1s\tremaining: 1m 32s\n",
            "364:\tlearn: 0.4087247\ttotal: 53.2s\tremaining: 1m 32s\n",
            "365:\tlearn: 0.4087047\ttotal: 53.3s\tremaining: 1m 32s\n",
            "366:\tlearn: 0.4086811\ttotal: 53.4s\tremaining: 1m 32s\n",
            "367:\tlearn: 0.4086532\ttotal: 53.5s\tremaining: 1m 31s\n",
            "368:\tlearn: 0.4086304\ttotal: 53.6s\tremaining: 1m 31s\n",
            "369:\tlearn: 0.4086023\ttotal: 53.8s\tremaining: 1m 31s\n",
            "370:\tlearn: 0.4085778\ttotal: 53.9s\tremaining: 1m 31s\n",
            "371:\tlearn: 0.4085174\ttotal: 54s\tremaining: 1m 31s\n",
            "372:\tlearn: 0.4084441\ttotal: 54.1s\tremaining: 1m 30s\n",
            "373:\tlearn: 0.4083908\ttotal: 54.2s\tremaining: 1m 30s\n",
            "374:\tlearn: 0.4083453\ttotal: 54.4s\tremaining: 1m 30s\n",
            "375:\tlearn: 0.4083059\ttotal: 54.5s\tremaining: 1m 30s\n",
            "376:\tlearn: 0.4082916\ttotal: 54.6s\tremaining: 1m 30s\n",
            "377:\tlearn: 0.4082721\ttotal: 54.7s\tremaining: 1m 29s\n",
            "378:\tlearn: 0.4081969\ttotal: 54.8s\tremaining: 1m 29s\n",
            "379:\tlearn: 0.4081647\ttotal: 55s\tremaining: 1m 29s\n",
            "380:\tlearn: 0.4081347\ttotal: 55.1s\tremaining: 1m 29s\n",
            "381:\tlearn: 0.4080622\ttotal: 55.2s\tremaining: 1m 29s\n",
            "382:\tlearn: 0.4080106\ttotal: 55.3s\tremaining: 1m 29s\n",
            "383:\tlearn: 0.4079748\ttotal: 55.4s\tremaining: 1m 28s\n",
            "384:\tlearn: 0.4079113\ttotal: 55.6s\tremaining: 1m 28s\n",
            "385:\tlearn: 0.4078669\ttotal: 55.7s\tremaining: 1m 28s\n",
            "386:\tlearn: 0.4078499\ttotal: 55.8s\tremaining: 1m 28s\n",
            "387:\tlearn: 0.4078228\ttotal: 55.9s\tremaining: 1m 28s\n",
            "388:\tlearn: 0.4077654\ttotal: 56.1s\tremaining: 1m 28s\n",
            "389:\tlearn: 0.4076980\ttotal: 56.2s\tremaining: 1m 27s\n",
            "390:\tlearn: 0.4076259\ttotal: 56.3s\tremaining: 1m 27s\n",
            "391:\tlearn: 0.4075943\ttotal: 56.4s\tremaining: 1m 27s\n",
            "392:\tlearn: 0.4075804\ttotal: 56.5s\tremaining: 1m 27s\n",
            "393:\tlearn: 0.4075527\ttotal: 56.7s\tremaining: 1m 27s\n",
            "394:\tlearn: 0.4075313\ttotal: 56.8s\tremaining: 1m 27s\n",
            "395:\tlearn: 0.4074920\ttotal: 57s\tremaining: 1m 27s\n",
            "396:\tlearn: 0.4074458\ttotal: 57.3s\tremaining: 1m 26s\n",
            "397:\tlearn: 0.4074223\ttotal: 57.5s\tremaining: 1m 26s\n",
            "398:\tlearn: 0.4074051\ttotal: 57.7s\tremaining: 1m 26s\n",
            "399:\tlearn: 0.4073420\ttotal: 57.9s\tremaining: 1m 26s\n",
            "400:\tlearn: 0.4072902\ttotal: 58.2s\tremaining: 1m 26s\n",
            "401:\tlearn: 0.4072454\ttotal: 58.4s\tremaining: 1m 26s\n",
            "402:\tlearn: 0.4072215\ttotal: 58.7s\tremaining: 1m 26s\n",
            "403:\tlearn: 0.4071713\ttotal: 58.9s\tremaining: 1m 26s\n",
            "404:\tlearn: 0.4071352\ttotal: 59.2s\tremaining: 1m 26s\n",
            "405:\tlearn: 0.4070840\ttotal: 59.4s\tremaining: 1m 26s\n",
            "406:\tlearn: 0.4070597\ttotal: 59.6s\tremaining: 1m 26s\n",
            "407:\tlearn: 0.4070367\ttotal: 59.8s\tremaining: 1m 26s\n",
            "408:\tlearn: 0.4070152\ttotal: 60s\tremaining: 1m 26s\n",
            "409:\tlearn: 0.4069923\ttotal: 1m\tremaining: 1m 26s\n",
            "410:\tlearn: 0.4069749\ttotal: 1m\tremaining: 1m 26s\n",
            "411:\tlearn: 0.4069537\ttotal: 1m\tremaining: 1m 26s\n",
            "412:\tlearn: 0.4069308\ttotal: 1m\tremaining: 1m 26s\n",
            "413:\tlearn: 0.4069147\ttotal: 1m\tremaining: 1m 25s\n",
            "414:\tlearn: 0.4068706\ttotal: 1m\tremaining: 1m 25s\n",
            "415:\tlearn: 0.4068112\ttotal: 1m\tremaining: 1m 25s\n",
            "416:\tlearn: 0.4067850\ttotal: 1m 1s\tremaining: 1m 25s\n",
            "417:\tlearn: 0.4067695\ttotal: 1m 1s\tremaining: 1m 25s\n",
            "418:\tlearn: 0.4066979\ttotal: 1m 1s\tremaining: 1m 24s\n",
            "419:\tlearn: 0.4066461\ttotal: 1m 1s\tremaining: 1m 24s\n",
            "420:\tlearn: 0.4066245\ttotal: 1m 1s\tremaining: 1m 24s\n",
            "421:\tlearn: 0.4065857\ttotal: 1m 1s\tremaining: 1m 24s\n",
            "422:\tlearn: 0.4065493\ttotal: 1m 1s\tremaining: 1m 24s\n",
            "423:\tlearn: 0.4064742\ttotal: 1m 1s\tremaining: 1m 24s\n",
            "424:\tlearn: 0.4064533\ttotal: 1m 1s\tremaining: 1m 23s\n",
            "425:\tlearn: 0.4064342\ttotal: 1m 2s\tremaining: 1m 23s\n",
            "426:\tlearn: 0.4064149\ttotal: 1m 2s\tremaining: 1m 23s\n",
            "427:\tlearn: 0.4063905\ttotal: 1m 2s\tremaining: 1m 23s\n",
            "428:\tlearn: 0.4063378\ttotal: 1m 2s\tremaining: 1m 23s\n",
            "429:\tlearn: 0.4062910\ttotal: 1m 2s\tremaining: 1m 22s\n",
            "430:\tlearn: 0.4062646\ttotal: 1m 2s\tremaining: 1m 22s\n",
            "431:\tlearn: 0.4062405\ttotal: 1m 2s\tremaining: 1m 22s\n",
            "432:\tlearn: 0.4062066\ttotal: 1m 2s\tremaining: 1m 22s\n",
            "433:\tlearn: 0.4061370\ttotal: 1m 2s\tremaining: 1m 22s\n",
            "434:\tlearn: 0.4061105\ttotal: 1m 3s\tremaining: 1m 21s\n",
            "435:\tlearn: 0.4060814\ttotal: 1m 3s\tremaining: 1m 21s\n",
            "436:\tlearn: 0.4060497\ttotal: 1m 3s\tremaining: 1m 21s\n",
            "437:\tlearn: 0.4060004\ttotal: 1m 3s\tremaining: 1m 21s\n",
            "438:\tlearn: 0.4059548\ttotal: 1m 3s\tremaining: 1m 21s\n",
            "439:\tlearn: 0.4059366\ttotal: 1m 3s\tremaining: 1m 20s\n",
            "440:\tlearn: 0.4059033\ttotal: 1m 3s\tremaining: 1m 20s\n",
            "441:\tlearn: 0.4058641\ttotal: 1m 3s\tremaining: 1m 20s\n",
            "442:\tlearn: 0.4058304\ttotal: 1m 3s\tremaining: 1m 20s\n",
            "443:\tlearn: 0.4057849\ttotal: 1m 4s\tremaining: 1m 20s\n",
            "444:\tlearn: 0.4057529\ttotal: 1m 4s\tremaining: 1m 20s\n",
            "445:\tlearn: 0.4057278\ttotal: 1m 4s\tremaining: 1m 19s\n",
            "446:\tlearn: 0.4057054\ttotal: 1m 4s\tremaining: 1m 19s\n",
            "447:\tlearn: 0.4056876\ttotal: 1m 4s\tremaining: 1m 19s\n",
            "448:\tlearn: 0.4056312\ttotal: 1m 4s\tremaining: 1m 19s\n",
            "449:\tlearn: 0.4056024\ttotal: 1m 4s\tremaining: 1m 19s\n",
            "450:\tlearn: 0.4055449\ttotal: 1m 4s\tremaining: 1m 19s\n",
            "451:\tlearn: 0.4055089\ttotal: 1m 5s\tremaining: 1m 18s\n",
            "452:\tlearn: 0.4054534\ttotal: 1m 5s\tremaining: 1m 18s\n",
            "453:\tlearn: 0.4053830\ttotal: 1m 5s\tremaining: 1m 18s\n",
            "454:\tlearn: 0.4053123\ttotal: 1m 5s\tremaining: 1m 18s\n",
            "455:\tlearn: 0.4052885\ttotal: 1m 5s\tremaining: 1m 18s\n",
            "456:\tlearn: 0.4052542\ttotal: 1m 5s\tremaining: 1m 18s\n",
            "457:\tlearn: 0.4052203\ttotal: 1m 5s\tremaining: 1m 17s\n",
            "458:\tlearn: 0.4051957\ttotal: 1m 5s\tremaining: 1m 17s\n",
            "459:\tlearn: 0.4051555\ttotal: 1m 6s\tremaining: 1m 17s\n",
            "460:\tlearn: 0.4050904\ttotal: 1m 6s\tremaining: 1m 17s\n",
            "461:\tlearn: 0.4050641\ttotal: 1m 6s\tremaining: 1m 17s\n",
            "462:\tlearn: 0.4050361\ttotal: 1m 6s\tremaining: 1m 17s\n",
            "463:\tlearn: 0.4049859\ttotal: 1m 6s\tremaining: 1m 16s\n",
            "464:\tlearn: 0.4049725\ttotal: 1m 6s\tremaining: 1m 16s\n",
            "465:\tlearn: 0.4049656\ttotal: 1m 6s\tremaining: 1m 16s\n",
            "466:\tlearn: 0.4049472\ttotal: 1m 6s\tremaining: 1m 16s\n",
            "467:\tlearn: 0.4049089\ttotal: 1m 7s\tremaining: 1m 16s\n",
            "468:\tlearn: 0.4048738\ttotal: 1m 7s\tremaining: 1m 15s\n",
            "469:\tlearn: 0.4048501\ttotal: 1m 7s\tremaining: 1m 15s\n",
            "470:\tlearn: 0.4048085\ttotal: 1m 7s\tremaining: 1m 15s\n",
            "471:\tlearn: 0.4047665\ttotal: 1m 7s\tremaining: 1m 15s\n",
            "472:\tlearn: 0.4047061\ttotal: 1m 7s\tremaining: 1m 15s\n",
            "473:\tlearn: 0.4045960\ttotal: 1m 7s\tremaining: 1m 15s\n",
            "474:\tlearn: 0.4045544\ttotal: 1m 7s\tremaining: 1m 15s\n",
            "475:\tlearn: 0.4045355\ttotal: 1m 8s\tremaining: 1m 14s\n",
            "476:\tlearn: 0.4044766\ttotal: 1m 8s\tremaining: 1m 14s\n",
            "477:\tlearn: 0.4044549\ttotal: 1m 8s\tremaining: 1m 14s\n",
            "478:\tlearn: 0.4044100\ttotal: 1m 8s\tremaining: 1m 14s\n",
            "479:\tlearn: 0.4043803\ttotal: 1m 8s\tremaining: 1m 14s\n",
            "480:\tlearn: 0.4043567\ttotal: 1m 8s\tremaining: 1m 14s\n",
            "481:\tlearn: 0.4043342\ttotal: 1m 8s\tremaining: 1m 13s\n",
            "482:\tlearn: 0.4042925\ttotal: 1m 8s\tremaining: 1m 13s\n",
            "483:\tlearn: 0.4042801\ttotal: 1m 9s\tremaining: 1m 13s\n",
            "484:\tlearn: 0.4042370\ttotal: 1m 9s\tremaining: 1m 13s\n",
            "485:\tlearn: 0.4041861\ttotal: 1m 9s\tremaining: 1m 13s\n",
            "486:\tlearn: 0.4041590\ttotal: 1m 9s\tremaining: 1m 13s\n",
            "487:\tlearn: 0.4041385\ttotal: 1m 9s\tremaining: 1m 12s\n",
            "488:\tlearn: 0.4040932\ttotal: 1m 9s\tremaining: 1m 12s\n",
            "489:\tlearn: 0.4040398\ttotal: 1m 9s\tremaining: 1m 12s\n",
            "490:\tlearn: 0.4040089\ttotal: 1m 9s\tremaining: 1m 12s\n",
            "491:\tlearn: 0.4039867\ttotal: 1m 9s\tremaining: 1m 12s\n",
            "492:\tlearn: 0.4039534\ttotal: 1m 10s\tremaining: 1m 12s\n",
            "493:\tlearn: 0.4039065\ttotal: 1m 10s\tremaining: 1m 12s\n",
            "494:\tlearn: 0.4038667\ttotal: 1m 10s\tremaining: 1m 11s\n",
            "495:\tlearn: 0.4038128\ttotal: 1m 10s\tremaining: 1m 11s\n",
            "496:\tlearn: 0.4037741\ttotal: 1m 10s\tremaining: 1m 11s\n",
            "497:\tlearn: 0.4037412\ttotal: 1m 11s\tremaining: 1m 11s\n",
            "498:\tlearn: 0.4036769\ttotal: 1m 11s\tremaining: 1m 11s\n",
            "499:\tlearn: 0.4036064\ttotal: 1m 11s\tremaining: 1m 11s\n",
            "500:\tlearn: 0.4035850\ttotal: 1m 11s\tremaining: 1m 11s\n",
            "501:\tlearn: 0.4035771\ttotal: 1m 12s\tremaining: 1m 11s\n",
            "502:\tlearn: 0.4035448\ttotal: 1m 12s\tremaining: 1m 11s\n",
            "503:\tlearn: 0.4035021\ttotal: 1m 12s\tremaining: 1m 11s\n",
            "504:\tlearn: 0.4034635\ttotal: 1m 12s\tremaining: 1m 11s\n",
            "505:\tlearn: 0.4034346\ttotal: 1m 12s\tremaining: 1m 11s\n",
            "506:\tlearn: 0.4034052\ttotal: 1m 13s\tremaining: 1m 11s\n",
            "507:\tlearn: 0.4033596\ttotal: 1m 13s\tremaining: 1m 11s\n",
            "508:\tlearn: 0.4033133\ttotal: 1m 13s\tremaining: 1m 11s\n",
            "509:\tlearn: 0.4032838\ttotal: 1m 13s\tremaining: 1m 10s\n",
            "510:\tlearn: 0.4032156\ttotal: 1m 13s\tremaining: 1m 10s\n",
            "511:\tlearn: 0.4031787\ttotal: 1m 13s\tremaining: 1m 10s\n",
            "512:\tlearn: 0.4031431\ttotal: 1m 14s\tremaining: 1m 10s\n",
            "513:\tlearn: 0.4031241\ttotal: 1m 14s\tremaining: 1m 10s\n",
            "514:\tlearn: 0.4030850\ttotal: 1m 14s\tremaining: 1m 10s\n",
            "515:\tlearn: 0.4030559\ttotal: 1m 14s\tremaining: 1m 9s\n",
            "516:\tlearn: 0.4030204\ttotal: 1m 14s\tremaining: 1m 9s\n",
            "517:\tlearn: 0.4029738\ttotal: 1m 14s\tremaining: 1m 9s\n",
            "518:\tlearn: 0.4029314\ttotal: 1m 14s\tremaining: 1m 9s\n",
            "519:\tlearn: 0.4028483\ttotal: 1m 14s\tremaining: 1m 9s\n",
            "520:\tlearn: 0.4028254\ttotal: 1m 14s\tremaining: 1m 8s\n",
            "521:\tlearn: 0.4027929\ttotal: 1m 15s\tremaining: 1m 8s\n",
            "522:\tlearn: 0.4027186\ttotal: 1m 15s\tremaining: 1m 8s\n",
            "523:\tlearn: 0.4026867\ttotal: 1m 15s\tremaining: 1m 8s\n",
            "524:\tlearn: 0.4026564\ttotal: 1m 15s\tremaining: 1m 8s\n",
            "525:\tlearn: 0.4026383\ttotal: 1m 15s\tremaining: 1m 8s\n",
            "526:\tlearn: 0.4026075\ttotal: 1m 15s\tremaining: 1m 7s\n",
            "527:\tlearn: 0.4025643\ttotal: 1m 15s\tremaining: 1m 7s\n",
            "528:\tlearn: 0.4024931\ttotal: 1m 15s\tremaining: 1m 7s\n",
            "529:\tlearn: 0.4024423\ttotal: 1m 15s\tremaining: 1m 7s\n",
            "530:\tlearn: 0.4023977\ttotal: 1m 16s\tremaining: 1m 7s\n",
            "531:\tlearn: 0.4023879\ttotal: 1m 16s\tremaining: 1m 7s\n",
            "532:\tlearn: 0.4022998\ttotal: 1m 16s\tremaining: 1m 6s\n",
            "533:\tlearn: 0.4022434\ttotal: 1m 16s\tremaining: 1m 6s\n",
            "534:\tlearn: 0.4022126\ttotal: 1m 16s\tremaining: 1m 6s\n",
            "535:\tlearn: 0.4021675\ttotal: 1m 16s\tremaining: 1m 6s\n",
            "536:\tlearn: 0.4021461\ttotal: 1m 16s\tremaining: 1m 6s\n",
            "537:\tlearn: 0.4021261\ttotal: 1m 16s\tremaining: 1m 6s\n",
            "538:\tlearn: 0.4020987\ttotal: 1m 17s\tremaining: 1m 5s\n",
            "539:\tlearn: 0.4020544\ttotal: 1m 17s\tremaining: 1m 5s\n",
            "540:\tlearn: 0.4020326\ttotal: 1m 17s\tremaining: 1m 5s\n",
            "541:\tlearn: 0.4019901\ttotal: 1m 17s\tremaining: 1m 5s\n",
            "542:\tlearn: 0.4019645\ttotal: 1m 17s\tremaining: 1m 5s\n",
            "543:\tlearn: 0.4019448\ttotal: 1m 17s\tremaining: 1m 5s\n",
            "544:\tlearn: 0.4019085\ttotal: 1m 17s\tremaining: 1m 4s\n",
            "545:\tlearn: 0.4018609\ttotal: 1m 17s\tremaining: 1m 4s\n",
            "546:\tlearn: 0.4018312\ttotal: 1m 17s\tremaining: 1m 4s\n",
            "547:\tlearn: 0.4017942\ttotal: 1m 18s\tremaining: 1m 4s\n",
            "548:\tlearn: 0.4017662\ttotal: 1m 18s\tremaining: 1m 4s\n",
            "549:\tlearn: 0.4017495\ttotal: 1m 18s\tremaining: 1m 4s\n",
            "550:\tlearn: 0.4017009\ttotal: 1m 18s\tremaining: 1m 3s\n",
            "551:\tlearn: 0.4016010\ttotal: 1m 18s\tremaining: 1m 3s\n",
            "552:\tlearn: 0.4015483\ttotal: 1m 18s\tremaining: 1m 3s\n",
            "553:\tlearn: 0.4015291\ttotal: 1m 18s\tremaining: 1m 3s\n",
            "554:\tlearn: 0.4014734\ttotal: 1m 18s\tremaining: 1m 3s\n",
            "555:\tlearn: 0.4014496\ttotal: 1m 19s\tremaining: 1m 3s\n",
            "556:\tlearn: 0.4014138\ttotal: 1m 19s\tremaining: 1m 2s\n",
            "557:\tlearn: 0.4013563\ttotal: 1m 19s\tremaining: 1m 2s\n",
            "558:\tlearn: 0.4013320\ttotal: 1m 19s\tremaining: 1m 2s\n",
            "559:\tlearn: 0.4012993\ttotal: 1m 19s\tremaining: 1m 2s\n",
            "560:\tlearn: 0.4012487\ttotal: 1m 19s\tremaining: 1m 2s\n",
            "561:\tlearn: 0.4012251\ttotal: 1m 19s\tremaining: 1m 2s\n",
            "562:\tlearn: 0.4012035\ttotal: 1m 19s\tremaining: 1m 2s\n",
            "563:\tlearn: 0.4011805\ttotal: 1m 20s\tremaining: 1m 1s\n",
            "564:\tlearn: 0.4011750\ttotal: 1m 20s\tremaining: 1m 1s\n",
            "565:\tlearn: 0.4011210\ttotal: 1m 20s\tremaining: 1m 1s\n",
            "566:\tlearn: 0.4010870\ttotal: 1m 20s\tremaining: 1m 1s\n",
            "567:\tlearn: 0.4010438\ttotal: 1m 20s\tremaining: 1m 1s\n",
            "568:\tlearn: 0.4010111\ttotal: 1m 20s\tremaining: 1m 1s\n",
            "569:\tlearn: 0.4009540\ttotal: 1m 20s\tremaining: 1m\n",
            "570:\tlearn: 0.4009420\ttotal: 1m 20s\tremaining: 1m\n",
            "571:\tlearn: 0.4009086\ttotal: 1m 20s\tremaining: 1m\n",
            "572:\tlearn: 0.4008920\ttotal: 1m 21s\tremaining: 1m\n",
            "573:\tlearn: 0.4008481\ttotal: 1m 21s\tremaining: 1m\n",
            "574:\tlearn: 0.4008175\ttotal: 1m 21s\tremaining: 1m\n",
            "575:\tlearn: 0.4008055\ttotal: 1m 21s\tremaining: 60s\n",
            "576:\tlearn: 0.4007443\ttotal: 1m 21s\tremaining: 59.8s\n",
            "577:\tlearn: 0.4006892\ttotal: 1m 21s\tremaining: 59.7s\n",
            "578:\tlearn: 0.4006727\ttotal: 1m 21s\tremaining: 59.5s\n",
            "579:\tlearn: 0.4006474\ttotal: 1m 21s\tremaining: 59.3s\n",
            "580:\tlearn: 0.4006273\ttotal: 1m 22s\tremaining: 59.2s\n",
            "581:\tlearn: 0.4006190\ttotal: 1m 22s\tremaining: 59s\n",
            "582:\tlearn: 0.4005562\ttotal: 1m 22s\tremaining: 58.9s\n",
            "583:\tlearn: 0.4005337\ttotal: 1m 22s\tremaining: 58.7s\n",
            "584:\tlearn: 0.4005186\ttotal: 1m 22s\tremaining: 58.6s\n",
            "585:\tlearn: 0.4004824\ttotal: 1m 22s\tremaining: 58.4s\n",
            "586:\tlearn: 0.4004630\ttotal: 1m 22s\tremaining: 58.3s\n",
            "587:\tlearn: 0.4004388\ttotal: 1m 22s\tremaining: 58.1s\n",
            "588:\tlearn: 0.4004225\ttotal: 1m 23s\tremaining: 57.9s\n",
            "589:\tlearn: 0.4003437\ttotal: 1m 23s\tremaining: 57.8s\n",
            "590:\tlearn: 0.4003094\ttotal: 1m 23s\tremaining: 57.6s\n",
            "591:\tlearn: 0.4002625\ttotal: 1m 23s\tremaining: 57.5s\n",
            "592:\tlearn: 0.4002145\ttotal: 1m 23s\tremaining: 57.3s\n",
            "593:\tlearn: 0.4001654\ttotal: 1m 23s\tremaining: 57.2s\n",
            "594:\tlearn: 0.4001316\ttotal: 1m 23s\tremaining: 57.1s\n",
            "595:\tlearn: 0.4000988\ttotal: 1m 24s\tremaining: 57s\n",
            "596:\tlearn: 0.4000604\ttotal: 1m 24s\tremaining: 57s\n",
            "597:\tlearn: 0.4000237\ttotal: 1m 24s\tremaining: 56.9s\n",
            "598:\tlearn: 0.3999702\ttotal: 1m 24s\tremaining: 56.8s\n",
            "599:\tlearn: 0.3999582\ttotal: 1m 24s\tremaining: 56.6s\n",
            "600:\tlearn: 0.3999215\ttotal: 1m 25s\tremaining: 56.6s\n",
            "601:\tlearn: 0.3999059\ttotal: 1m 25s\tremaining: 56.4s\n",
            "602:\tlearn: 0.3998271\ttotal: 1m 25s\tremaining: 56.4s\n",
            "603:\tlearn: 0.3998029\ttotal: 1m 25s\tremaining: 56.3s\n",
            "604:\tlearn: 0.3997895\ttotal: 1m 26s\tremaining: 56.2s\n",
            "605:\tlearn: 0.3997620\ttotal: 1m 26s\tremaining: 56.1s\n",
            "606:\tlearn: 0.3997160\ttotal: 1m 26s\tremaining: 56s\n",
            "607:\tlearn: 0.3996625\ttotal: 1m 26s\tremaining: 55.9s\n",
            "608:\tlearn: 0.3996320\ttotal: 1m 27s\tremaining: 55.9s\n",
            "609:\tlearn: 0.3995325\ttotal: 1m 27s\tremaining: 55.8s\n",
            "610:\tlearn: 0.3994921\ttotal: 1m 27s\tremaining: 55.6s\n",
            "611:\tlearn: 0.3994344\ttotal: 1m 27s\tremaining: 55.5s\n",
            "612:\tlearn: 0.3993958\ttotal: 1m 27s\tremaining: 55.3s\n",
            "613:\tlearn: 0.3993805\ttotal: 1m 27s\tremaining: 55.2s\n",
            "614:\tlearn: 0.3993334\ttotal: 1m 27s\tremaining: 55s\n",
            "615:\tlearn: 0.3992962\ttotal: 1m 28s\tremaining: 54.9s\n",
            "616:\tlearn: 0.3992626\ttotal: 1m 28s\tremaining: 54.7s\n",
            "617:\tlearn: 0.3992400\ttotal: 1m 28s\tremaining: 54.6s\n",
            "618:\tlearn: 0.3992058\ttotal: 1m 28s\tremaining: 54.4s\n",
            "619:\tlearn: 0.3991919\ttotal: 1m 28s\tremaining: 54.2s\n",
            "620:\tlearn: 0.3991491\ttotal: 1m 28s\tremaining: 54.1s\n",
            "621:\tlearn: 0.3991156\ttotal: 1m 28s\tremaining: 53.9s\n",
            "622:\tlearn: 0.3990813\ttotal: 1m 28s\tremaining: 53.8s\n",
            "623:\tlearn: 0.3990452\ttotal: 1m 29s\tremaining: 53.6s\n",
            "624:\tlearn: 0.3989934\ttotal: 1m 29s\tremaining: 53.5s\n",
            "625:\tlearn: 0.3989706\ttotal: 1m 29s\tremaining: 53.3s\n",
            "626:\tlearn: 0.3989542\ttotal: 1m 29s\tremaining: 53.2s\n",
            "627:\tlearn: 0.3989386\ttotal: 1m 29s\tremaining: 53s\n",
            "628:\tlearn: 0.3989064\ttotal: 1m 29s\tremaining: 52.8s\n",
            "629:\tlearn: 0.3988770\ttotal: 1m 29s\tremaining: 52.7s\n",
            "630:\tlearn: 0.3988529\ttotal: 1m 29s\tremaining: 52.5s\n",
            "631:\tlearn: 0.3988271\ttotal: 1m 29s\tremaining: 52.4s\n",
            "632:\tlearn: 0.3987995\ttotal: 1m 30s\tremaining: 52.2s\n",
            "633:\tlearn: 0.3987740\ttotal: 1m 30s\tremaining: 52s\n",
            "634:\tlearn: 0.3987468\ttotal: 1m 30s\tremaining: 51.9s\n",
            "635:\tlearn: 0.3987155\ttotal: 1m 30s\tremaining: 51.7s\n",
            "636:\tlearn: 0.3986882\ttotal: 1m 30s\tremaining: 51.6s\n",
            "637:\tlearn: 0.3986645\ttotal: 1m 30s\tremaining: 51.4s\n",
            "638:\tlearn: 0.3986307\ttotal: 1m 30s\tremaining: 51.3s\n",
            "639:\tlearn: 0.3985965\ttotal: 1m 30s\tremaining: 51.1s\n",
            "640:\tlearn: 0.3985546\ttotal: 1m 30s\tremaining: 51s\n",
            "641:\tlearn: 0.3984269\ttotal: 1m 31s\tremaining: 50.8s\n",
            "642:\tlearn: 0.3983842\ttotal: 1m 31s\tremaining: 50.7s\n",
            "643:\tlearn: 0.3983137\ttotal: 1m 31s\tremaining: 50.5s\n",
            "644:\tlearn: 0.3982871\ttotal: 1m 31s\tremaining: 50.4s\n",
            "645:\tlearn: 0.3982505\ttotal: 1m 31s\tremaining: 50.2s\n",
            "646:\tlearn: 0.3982196\ttotal: 1m 31s\tremaining: 50.1s\n",
            "647:\tlearn: 0.3981809\ttotal: 1m 31s\tremaining: 49.9s\n",
            "648:\tlearn: 0.3981601\ttotal: 1m 32s\tremaining: 49.8s\n",
            "649:\tlearn: 0.3981109\ttotal: 1m 32s\tremaining: 49.6s\n",
            "650:\tlearn: 0.3980522\ttotal: 1m 32s\tremaining: 49.5s\n",
            "651:\tlearn: 0.3980219\ttotal: 1m 32s\tremaining: 49.3s\n",
            "652:\tlearn: 0.3979567\ttotal: 1m 32s\tremaining: 49.2s\n",
            "653:\tlearn: 0.3979305\ttotal: 1m 32s\tremaining: 49s\n",
            "654:\tlearn: 0.3979162\ttotal: 1m 32s\tremaining: 48.9s\n",
            "655:\tlearn: 0.3978899\ttotal: 1m 32s\tremaining: 48.7s\n",
            "656:\tlearn: 0.3978719\ttotal: 1m 32s\tremaining: 48.6s\n",
            "657:\tlearn: 0.3978542\ttotal: 1m 33s\tremaining: 48.4s\n",
            "658:\tlearn: 0.3978111\ttotal: 1m 33s\tremaining: 48.3s\n",
            "659:\tlearn: 0.3977381\ttotal: 1m 33s\tremaining: 48.1s\n",
            "660:\tlearn: 0.3977187\ttotal: 1m 33s\tremaining: 47.9s\n",
            "661:\tlearn: 0.3976842\ttotal: 1m 33s\tremaining: 47.8s\n",
            "662:\tlearn: 0.3976673\ttotal: 1m 33s\tremaining: 47.6s\n",
            "663:\tlearn: 0.3976473\ttotal: 1m 33s\tremaining: 47.5s\n",
            "664:\tlearn: 0.3976189\ttotal: 1m 33s\tremaining: 47.3s\n",
            "665:\tlearn: 0.3976044\ttotal: 1m 34s\tremaining: 47.2s\n",
            "666:\tlearn: 0.3975477\ttotal: 1m 34s\tremaining: 47s\n",
            "667:\tlearn: 0.3975362\ttotal: 1m 34s\tremaining: 46.9s\n",
            "668:\tlearn: 0.3974830\ttotal: 1m 34s\tremaining: 46.7s\n",
            "669:\tlearn: 0.3974753\ttotal: 1m 34s\tremaining: 46.6s\n",
            "670:\tlearn: 0.3974215\ttotal: 1m 34s\tremaining: 46.4s\n",
            "671:\tlearn: 0.3973709\ttotal: 1m 34s\tremaining: 46.3s\n",
            "672:\tlearn: 0.3973260\ttotal: 1m 34s\tremaining: 46.1s\n",
            "673:\tlearn: 0.3972991\ttotal: 1m 35s\tremaining: 46s\n",
            "674:\tlearn: 0.3972624\ttotal: 1m 35s\tremaining: 45.9s\n",
            "675:\tlearn: 0.3972272\ttotal: 1m 35s\tremaining: 45.7s\n",
            "676:\tlearn: 0.3971943\ttotal: 1m 35s\tremaining: 45.6s\n",
            "677:\tlearn: 0.3971446\ttotal: 1m 35s\tremaining: 45.4s\n",
            "678:\tlearn: 0.3971122\ttotal: 1m 35s\tremaining: 45.2s\n",
            "679:\tlearn: 0.3970684\ttotal: 1m 35s\tremaining: 45.1s\n",
            "680:\tlearn: 0.3970499\ttotal: 1m 35s\tremaining: 44.9s\n",
            "681:\tlearn: 0.3970157\ttotal: 1m 36s\tremaining: 44.8s\n",
            "682:\tlearn: 0.3969921\ttotal: 1m 36s\tremaining: 44.6s\n",
            "683:\tlearn: 0.3969428\ttotal: 1m 36s\tremaining: 44.5s\n",
            "684:\tlearn: 0.3969316\ttotal: 1m 36s\tremaining: 44.3s\n",
            "685:\tlearn: 0.3969017\ttotal: 1m 36s\tremaining: 44.2s\n",
            "686:\tlearn: 0.3968790\ttotal: 1m 36s\tremaining: 44s\n",
            "687:\tlearn: 0.3968455\ttotal: 1m 36s\tremaining: 43.9s\n",
            "688:\tlearn: 0.3968298\ttotal: 1m 36s\tremaining: 43.7s\n",
            "689:\tlearn: 0.3968124\ttotal: 1m 36s\tremaining: 43.6s\n",
            "690:\tlearn: 0.3967725\ttotal: 1m 37s\tremaining: 43.4s\n",
            "691:\tlearn: 0.3967413\ttotal: 1m 37s\tremaining: 43.3s\n",
            "692:\tlearn: 0.3967012\ttotal: 1m 37s\tremaining: 43.1s\n",
            "693:\tlearn: 0.3966756\ttotal: 1m 37s\tremaining: 43s\n",
            "694:\tlearn: 0.3966591\ttotal: 1m 37s\tremaining: 42.9s\n",
            "695:\tlearn: 0.3966357\ttotal: 1m 38s\tremaining: 42.8s\n",
            "696:\tlearn: 0.3966094\ttotal: 1m 38s\tremaining: 42.8s\n",
            "697:\tlearn: 0.3965777\ttotal: 1m 38s\tremaining: 42.6s\n",
            "698:\tlearn: 0.3965532\ttotal: 1m 38s\tremaining: 42.5s\n",
            "699:\tlearn: 0.3965169\ttotal: 1m 39s\tremaining: 42.4s\n",
            "700:\tlearn: 0.3964733\ttotal: 1m 39s\tremaining: 42.3s\n",
            "701:\tlearn: 0.3964523\ttotal: 1m 39s\tremaining: 42.2s\n",
            "702:\tlearn: 0.3964294\ttotal: 1m 39s\tremaining: 42.1s\n",
            "703:\tlearn: 0.3963780\ttotal: 1m 39s\tremaining: 42s\n",
            "704:\tlearn: 0.3963409\ttotal: 1m 40s\tremaining: 41.9s\n",
            "705:\tlearn: 0.3963242\ttotal: 1m 40s\tremaining: 41.8s\n",
            "706:\tlearn: 0.3962559\ttotal: 1m 40s\tremaining: 41.7s\n",
            "707:\tlearn: 0.3962447\ttotal: 1m 40s\tremaining: 41.6s\n",
            "708:\tlearn: 0.3962203\ttotal: 1m 41s\tremaining: 41.5s\n",
            "709:\tlearn: 0.3961741\ttotal: 1m 41s\tremaining: 41.4s\n",
            "710:\tlearn: 0.3961292\ttotal: 1m 41s\tremaining: 41.2s\n",
            "711:\tlearn: 0.3960863\ttotal: 1m 41s\tremaining: 41.1s\n",
            "712:\tlearn: 0.3960690\ttotal: 1m 41s\tremaining: 40.9s\n",
            "713:\tlearn: 0.3960612\ttotal: 1m 41s\tremaining: 40.8s\n",
            "714:\tlearn: 0.3960198\ttotal: 1m 41s\tremaining: 40.6s\n",
            "715:\tlearn: 0.3959975\ttotal: 1m 42s\tremaining: 40.5s\n",
            "716:\tlearn: 0.3959673\ttotal: 1m 42s\tremaining: 40.3s\n",
            "717:\tlearn: 0.3959459\ttotal: 1m 42s\tremaining: 40.2s\n",
            "718:\tlearn: 0.3958716\ttotal: 1m 42s\tremaining: 40s\n",
            "719:\tlearn: 0.3958448\ttotal: 1m 42s\tremaining: 39.9s\n",
            "720:\tlearn: 0.3958053\ttotal: 1m 42s\tremaining: 39.7s\n",
            "721:\tlearn: 0.3957757\ttotal: 1m 42s\tremaining: 39.6s\n",
            "722:\tlearn: 0.3957519\ttotal: 1m 42s\tremaining: 39.4s\n",
            "723:\tlearn: 0.3957241\ttotal: 1m 43s\tremaining: 39.3s\n",
            "724:\tlearn: 0.3957010\ttotal: 1m 43s\tremaining: 39.1s\n",
            "725:\tlearn: 0.3956790\ttotal: 1m 43s\tremaining: 39s\n",
            "726:\tlearn: 0.3956560\ttotal: 1m 43s\tremaining: 38.8s\n",
            "727:\tlearn: 0.3956199\ttotal: 1m 43s\tremaining: 38.7s\n",
            "728:\tlearn: 0.3955982\ttotal: 1m 43s\tremaining: 38.6s\n",
            "729:\tlearn: 0.3955507\ttotal: 1m 43s\tremaining: 38.4s\n",
            "730:\tlearn: 0.3955014\ttotal: 1m 43s\tremaining: 38.2s\n",
            "731:\tlearn: 0.3954340\ttotal: 1m 44s\tremaining: 38.1s\n",
            "732:\tlearn: 0.3954216\ttotal: 1m 44s\tremaining: 37.9s\n",
            "733:\tlearn: 0.3953614\ttotal: 1m 44s\tremaining: 37.8s\n",
            "734:\tlearn: 0.3953174\ttotal: 1m 44s\tremaining: 37.6s\n",
            "735:\tlearn: 0.3952808\ttotal: 1m 44s\tremaining: 37.5s\n",
            "736:\tlearn: 0.3952559\ttotal: 1m 44s\tremaining: 37.3s\n",
            "737:\tlearn: 0.3952212\ttotal: 1m 44s\tremaining: 37.2s\n",
            "738:\tlearn: 0.3952000\ttotal: 1m 44s\tremaining: 37s\n",
            "739:\tlearn: 0.3951749\ttotal: 1m 44s\tremaining: 36.9s\n",
            "740:\tlearn: 0.3951075\ttotal: 1m 45s\tremaining: 36.7s\n",
            "741:\tlearn: 0.3950840\ttotal: 1m 45s\tremaining: 36.6s\n",
            "742:\tlearn: 0.3950712\ttotal: 1m 45s\tremaining: 36.4s\n",
            "743:\tlearn: 0.3950549\ttotal: 1m 45s\tremaining: 36.3s\n",
            "744:\tlearn: 0.3950415\ttotal: 1m 45s\tremaining: 36.1s\n",
            "745:\tlearn: 0.3950158\ttotal: 1m 45s\tremaining: 36s\n",
            "746:\tlearn: 0.3949828\ttotal: 1m 45s\tremaining: 35.9s\n",
            "747:\tlearn: 0.3949164\ttotal: 1m 45s\tremaining: 35.7s\n",
            "748:\tlearn: 0.3948665\ttotal: 1m 46s\tremaining: 35.5s\n",
            "749:\tlearn: 0.3948554\ttotal: 1m 46s\tremaining: 35.4s\n",
            "750:\tlearn: 0.3948267\ttotal: 1m 46s\tremaining: 35.2s\n",
            "751:\tlearn: 0.3948072\ttotal: 1m 46s\tremaining: 35.1s\n",
            "752:\tlearn: 0.3947780\ttotal: 1m 46s\tremaining: 34.9s\n",
            "753:\tlearn: 0.3947679\ttotal: 1m 46s\tremaining: 34.8s\n",
            "754:\tlearn: 0.3947374\ttotal: 1m 46s\tremaining: 34.7s\n",
            "755:\tlearn: 0.3947211\ttotal: 1m 46s\tremaining: 34.5s\n",
            "756:\tlearn: 0.3946825\ttotal: 1m 47s\tremaining: 34.4s\n",
            "757:\tlearn: 0.3946276\ttotal: 1m 47s\tremaining: 34.2s\n",
            "758:\tlearn: 0.3946216\ttotal: 1m 47s\tremaining: 34.1s\n",
            "759:\tlearn: 0.3945753\ttotal: 1m 47s\tremaining: 33.9s\n",
            "760:\tlearn: 0.3945547\ttotal: 1m 47s\tremaining: 33.8s\n",
            "761:\tlearn: 0.3945339\ttotal: 1m 47s\tremaining: 33.7s\n",
            "762:\tlearn: 0.3944974\ttotal: 1m 47s\tremaining: 33.5s\n",
            "763:\tlearn: 0.3944830\ttotal: 1m 48s\tremaining: 33.4s\n",
            "764:\tlearn: 0.3944764\ttotal: 1m 48s\tremaining: 33.2s\n",
            "765:\tlearn: 0.3944435\ttotal: 1m 48s\tremaining: 33.1s\n",
            "766:\tlearn: 0.3944101\ttotal: 1m 48s\tremaining: 32.9s\n",
            "767:\tlearn: 0.3943732\ttotal: 1m 48s\tremaining: 32.8s\n",
            "768:\tlearn: 0.3943311\ttotal: 1m 48s\tremaining: 32.6s\n",
            "769:\tlearn: 0.3942533\ttotal: 1m 48s\tremaining: 32.5s\n",
            "770:\tlearn: 0.3942054\ttotal: 1m 48s\tremaining: 32.3s\n",
            "771:\tlearn: 0.3941626\ttotal: 1m 49s\tremaining: 32.2s\n",
            "772:\tlearn: 0.3941411\ttotal: 1m 49s\tremaining: 32s\n",
            "773:\tlearn: 0.3941084\ttotal: 1m 49s\tremaining: 31.9s\n",
            "774:\tlearn: 0.3940760\ttotal: 1m 49s\tremaining: 31.8s\n",
            "775:\tlearn: 0.3940506\ttotal: 1m 49s\tremaining: 31.6s\n",
            "776:\tlearn: 0.3940248\ttotal: 1m 49s\tremaining: 31.5s\n",
            "777:\tlearn: 0.3939980\ttotal: 1m 49s\tremaining: 31.3s\n",
            "778:\tlearn: 0.3939668\ttotal: 1m 49s\tremaining: 31.2s\n",
            "779:\tlearn: 0.3939374\ttotal: 1m 50s\tremaining: 31s\n",
            "780:\tlearn: 0.3939033\ttotal: 1m 50s\tremaining: 30.9s\n",
            "781:\tlearn: 0.3938822\ttotal: 1m 50s\tremaining: 30.7s\n",
            "782:\tlearn: 0.3938694\ttotal: 1m 50s\tremaining: 30.6s\n",
            "783:\tlearn: 0.3938224\ttotal: 1m 50s\tremaining: 30.4s\n",
            "784:\tlearn: 0.3937769\ttotal: 1m 50s\tremaining: 30.3s\n",
            "785:\tlearn: 0.3937488\ttotal: 1m 50s\tremaining: 30.1s\n",
            "786:\tlearn: 0.3937342\ttotal: 1m 50s\tremaining: 30s\n",
            "787:\tlearn: 0.3937025\ttotal: 1m 51s\tremaining: 29.9s\n",
            "788:\tlearn: 0.3936826\ttotal: 1m 51s\tremaining: 29.7s\n",
            "789:\tlearn: 0.3936179\ttotal: 1m 51s\tremaining: 29.6s\n",
            "790:\tlearn: 0.3935865\ttotal: 1m 51s\tremaining: 29.5s\n",
            "791:\tlearn: 0.3935087\ttotal: 1m 51s\tremaining: 29.3s\n",
            "792:\tlearn: 0.3934828\ttotal: 1m 52s\tremaining: 29.2s\n",
            "793:\tlearn: 0.3934454\ttotal: 1m 52s\tremaining: 29.1s\n",
            "794:\tlearn: 0.3934062\ttotal: 1m 52s\tremaining: 29s\n",
            "795:\tlearn: 0.3933741\ttotal: 1m 52s\tremaining: 28.9s\n",
            "796:\tlearn: 0.3933710\ttotal: 1m 52s\tremaining: 28.8s\n",
            "797:\tlearn: 0.3933470\ttotal: 1m 53s\tremaining: 28.7s\n",
            "798:\tlearn: 0.3933235\ttotal: 1m 53s\tremaining: 28.5s\n",
            "799:\tlearn: 0.3933075\ttotal: 1m 53s\tremaining: 28.4s\n",
            "800:\tlearn: 0.3932770\ttotal: 1m 53s\tremaining: 28.3s\n",
            "801:\tlearn: 0.3932601\ttotal: 1m 53s\tremaining: 28.1s\n",
            "802:\tlearn: 0.3932240\ttotal: 1m 54s\tremaining: 28s\n",
            "803:\tlearn: 0.3931883\ttotal: 1m 54s\tremaining: 27.9s\n",
            "804:\tlearn: 0.3931704\ttotal: 1m 54s\tremaining: 27.8s\n",
            "805:\tlearn: 0.3931218\ttotal: 1m 54s\tremaining: 27.6s\n",
            "806:\tlearn: 0.3931133\ttotal: 1m 54s\tremaining: 27.5s\n",
            "807:\tlearn: 0.3930741\ttotal: 1m 55s\tremaining: 27.3s\n",
            "808:\tlearn: 0.3930215\ttotal: 1m 55s\tremaining: 27.2s\n",
            "809:\tlearn: 0.3929772\ttotal: 1m 55s\tremaining: 27s\n",
            "810:\tlearn: 0.3929088\ttotal: 1m 55s\tremaining: 26.9s\n",
            "811:\tlearn: 0.3928662\ttotal: 1m 55s\tremaining: 26.8s\n",
            "812:\tlearn: 0.3928475\ttotal: 1m 55s\tremaining: 26.6s\n",
            "813:\tlearn: 0.3928281\ttotal: 1m 55s\tremaining: 26.5s\n",
            "814:\tlearn: 0.3928000\ttotal: 1m 55s\tremaining: 26.3s\n",
            "815:\tlearn: 0.3927936\ttotal: 1m 56s\tremaining: 26.2s\n",
            "816:\tlearn: 0.3927580\ttotal: 1m 56s\tremaining: 26s\n",
            "817:\tlearn: 0.3927382\ttotal: 1m 56s\tremaining: 25.9s\n",
            "818:\tlearn: 0.3927060\ttotal: 1m 56s\tremaining: 25.7s\n",
            "819:\tlearn: 0.3926637\ttotal: 1m 56s\tremaining: 25.6s\n",
            "820:\tlearn: 0.3926201\ttotal: 1m 56s\tremaining: 25.4s\n",
            "821:\tlearn: 0.3926091\ttotal: 1m 56s\tremaining: 25.3s\n",
            "822:\tlearn: 0.3925820\ttotal: 1m 56s\tremaining: 25.1s\n",
            "823:\tlearn: 0.3925659\ttotal: 1m 57s\tremaining: 25s\n",
            "824:\tlearn: 0.3925324\ttotal: 1m 57s\tremaining: 24.8s\n",
            "825:\tlearn: 0.3925203\ttotal: 1m 57s\tremaining: 24.7s\n",
            "826:\tlearn: 0.3925028\ttotal: 1m 57s\tremaining: 24.5s\n",
            "827:\tlearn: 0.3924773\ttotal: 1m 57s\tremaining: 24.4s\n",
            "828:\tlearn: 0.3924415\ttotal: 1m 57s\tremaining: 24.3s\n",
            "829:\tlearn: 0.3924214\ttotal: 1m 57s\tremaining: 24.1s\n",
            "830:\tlearn: 0.3923821\ttotal: 1m 57s\tremaining: 24s\n",
            "831:\tlearn: 0.3923429\ttotal: 1m 57s\tremaining: 23.8s\n",
            "832:\tlearn: 0.3923144\ttotal: 1m 58s\tremaining: 23.7s\n",
            "833:\tlearn: 0.3922908\ttotal: 1m 58s\tremaining: 23.5s\n",
            "834:\tlearn: 0.3922679\ttotal: 1m 58s\tremaining: 23.4s\n",
            "835:\tlearn: 0.3922412\ttotal: 1m 58s\tremaining: 23.2s\n",
            "836:\tlearn: 0.3922186\ttotal: 1m 58s\tremaining: 23.1s\n",
            "837:\tlearn: 0.3922010\ttotal: 1m 58s\tremaining: 23s\n",
            "838:\tlearn: 0.3921705\ttotal: 1m 58s\tremaining: 22.8s\n",
            "839:\tlearn: 0.3921578\ttotal: 1m 59s\tremaining: 22.7s\n",
            "840:\tlearn: 0.3921306\ttotal: 1m 59s\tremaining: 22.5s\n",
            "841:\tlearn: 0.3920951\ttotal: 1m 59s\tremaining: 22.4s\n",
            "842:\tlearn: 0.3920065\ttotal: 1m 59s\tremaining: 22.2s\n",
            "843:\tlearn: 0.3919768\ttotal: 1m 59s\tremaining: 22.1s\n",
            "844:\tlearn: 0.3919395\ttotal: 1m 59s\tremaining: 22s\n",
            "845:\tlearn: 0.3918986\ttotal: 1m 59s\tremaining: 21.8s\n",
            "846:\tlearn: 0.3918613\ttotal: 1m 59s\tremaining: 21.7s\n",
            "847:\tlearn: 0.3917946\ttotal: 2m\tremaining: 21.5s\n",
            "848:\tlearn: 0.3917614\ttotal: 2m\tremaining: 21.4s\n",
            "849:\tlearn: 0.3917294\ttotal: 2m\tremaining: 21.2s\n",
            "850:\tlearn: 0.3916901\ttotal: 2m\tremaining: 21.1s\n",
            "851:\tlearn: 0.3916714\ttotal: 2m\tremaining: 21s\n",
            "852:\tlearn: 0.3916547\ttotal: 2m\tremaining: 20.8s\n",
            "853:\tlearn: 0.3916370\ttotal: 2m\tremaining: 20.7s\n",
            "854:\tlearn: 0.3916150\ttotal: 2m 1s\tremaining: 20.5s\n",
            "855:\tlearn: 0.3915910\ttotal: 2m 1s\tremaining: 20.4s\n",
            "856:\tlearn: 0.3915623\ttotal: 2m 1s\tremaining: 20.2s\n",
            "857:\tlearn: 0.3915524\ttotal: 2m 1s\tremaining: 20.1s\n",
            "858:\tlearn: 0.3915251\ttotal: 2m 1s\tremaining: 20s\n",
            "859:\tlearn: 0.3915125\ttotal: 2m 1s\tremaining: 19.8s\n",
            "860:\tlearn: 0.3914879\ttotal: 2m 1s\tremaining: 19.7s\n",
            "861:\tlearn: 0.3914665\ttotal: 2m 1s\tremaining: 19.5s\n",
            "862:\tlearn: 0.3914385\ttotal: 2m 2s\tremaining: 19.4s\n",
            "863:\tlearn: 0.3914362\ttotal: 2m 2s\tremaining: 19.2s\n",
            "864:\tlearn: 0.3914128\ttotal: 2m 2s\tremaining: 19.1s\n",
            "865:\tlearn: 0.3913867\ttotal: 2m 2s\tremaining: 18.9s\n",
            "866:\tlearn: 0.3913569\ttotal: 2m 2s\tremaining: 18.8s\n",
            "867:\tlearn: 0.3913186\ttotal: 2m 2s\tremaining: 18.7s\n",
            "868:\tlearn: 0.3912973\ttotal: 2m 2s\tremaining: 18.5s\n",
            "869:\tlearn: 0.3912602\ttotal: 2m 2s\tremaining: 18.4s\n",
            "870:\tlearn: 0.3912273\ttotal: 2m 3s\tremaining: 18.2s\n",
            "871:\tlearn: 0.3911958\ttotal: 2m 3s\tremaining: 18.1s\n",
            "872:\tlearn: 0.3911721\ttotal: 2m 3s\tremaining: 17.9s\n",
            "873:\tlearn: 0.3911454\ttotal: 2m 3s\tremaining: 17.8s\n",
            "874:\tlearn: 0.3911242\ttotal: 2m 3s\tremaining: 17.6s\n",
            "875:\tlearn: 0.3911101\ttotal: 2m 3s\tremaining: 17.5s\n",
            "876:\tlearn: 0.3910920\ttotal: 2m 3s\tremaining: 17.4s\n",
            "877:\tlearn: 0.3910790\ttotal: 2m 3s\tremaining: 17.2s\n",
            "878:\tlearn: 0.3910548\ttotal: 2m 4s\tremaining: 17.1s\n",
            "879:\tlearn: 0.3910214\ttotal: 2m 4s\tremaining: 16.9s\n",
            "880:\tlearn: 0.3909789\ttotal: 2m 4s\tremaining: 16.8s\n",
            "881:\tlearn: 0.3909604\ttotal: 2m 4s\tremaining: 16.6s\n",
            "882:\tlearn: 0.3909372\ttotal: 2m 4s\tremaining: 16.5s\n",
            "883:\tlearn: 0.3908975\ttotal: 2m 4s\tremaining: 16.4s\n",
            "884:\tlearn: 0.3908561\ttotal: 2m 4s\tremaining: 16.2s\n",
            "885:\tlearn: 0.3907746\ttotal: 2m 5s\tremaining: 16.1s\n",
            "886:\tlearn: 0.3907585\ttotal: 2m 5s\tremaining: 16s\n",
            "887:\tlearn: 0.3907461\ttotal: 2m 5s\tremaining: 15.9s\n",
            "888:\tlearn: 0.3906991\ttotal: 2m 5s\tremaining: 15.7s\n",
            "889:\tlearn: 0.3906784\ttotal: 2m 6s\tremaining: 15.6s\n",
            "890:\tlearn: 0.3906494\ttotal: 2m 6s\tremaining: 15.5s\n",
            "891:\tlearn: 0.3905875\ttotal: 2m 6s\tremaining: 15.3s\n",
            "892:\tlearn: 0.3905772\ttotal: 2m 6s\tremaining: 15.2s\n",
            "893:\tlearn: 0.3905307\ttotal: 2m 7s\tremaining: 15.1s\n",
            "894:\tlearn: 0.3905071\ttotal: 2m 7s\tremaining: 14.9s\n",
            "895:\tlearn: 0.3904634\ttotal: 2m 7s\tremaining: 14.8s\n",
            "896:\tlearn: 0.3904555\ttotal: 2m 7s\tremaining: 14.7s\n",
            "897:\tlearn: 0.3904419\ttotal: 2m 7s\tremaining: 14.5s\n",
            "898:\tlearn: 0.3903917\ttotal: 2m 8s\tremaining: 14.4s\n",
            "899:\tlearn: 0.3903628\ttotal: 2m 8s\tremaining: 14.3s\n",
            "900:\tlearn: 0.3903438\ttotal: 2m 8s\tremaining: 14.1s\n",
            "901:\tlearn: 0.3903049\ttotal: 2m 8s\tremaining: 14s\n",
            "902:\tlearn: 0.3902773\ttotal: 2m 8s\tremaining: 13.8s\n",
            "903:\tlearn: 0.3902562\ttotal: 2m 8s\tremaining: 13.7s\n",
            "904:\tlearn: 0.3902395\ttotal: 2m 8s\tremaining: 13.5s\n",
            "905:\tlearn: 0.3901830\ttotal: 2m 8s\tremaining: 13.4s\n",
            "906:\tlearn: 0.3901631\ttotal: 2m 8s\tremaining: 13.2s\n",
            "907:\tlearn: 0.3901552\ttotal: 2m 9s\tremaining: 13.1s\n",
            "908:\tlearn: 0.3901370\ttotal: 2m 9s\tremaining: 12.9s\n",
            "909:\tlearn: 0.3900930\ttotal: 2m 9s\tremaining: 12.8s\n",
            "910:\tlearn: 0.3900479\ttotal: 2m 9s\tremaining: 12.6s\n",
            "911:\tlearn: 0.3900346\ttotal: 2m 9s\tremaining: 12.5s\n",
            "912:\tlearn: 0.3900107\ttotal: 2m 9s\tremaining: 12.4s\n",
            "913:\tlearn: 0.3899192\ttotal: 2m 9s\tremaining: 12.2s\n",
            "914:\tlearn: 0.3898782\ttotal: 2m 9s\tremaining: 12.1s\n",
            "915:\tlearn: 0.3898533\ttotal: 2m 10s\tremaining: 11.9s\n",
            "916:\tlearn: 0.3898265\ttotal: 2m 10s\tremaining: 11.8s\n",
            "917:\tlearn: 0.3897730\ttotal: 2m 10s\tremaining: 11.6s\n",
            "918:\tlearn: 0.3897639\ttotal: 2m 10s\tremaining: 11.5s\n",
            "919:\tlearn: 0.3897390\ttotal: 2m 10s\tremaining: 11.3s\n",
            "920:\tlearn: 0.3897166\ttotal: 2m 10s\tremaining: 11.2s\n",
            "921:\tlearn: 0.3896974\ttotal: 2m 10s\tremaining: 11.1s\n",
            "922:\tlearn: 0.3896811\ttotal: 2m 10s\tremaining: 10.9s\n",
            "923:\tlearn: 0.3896554\ttotal: 2m 11s\tremaining: 10.8s\n",
            "924:\tlearn: 0.3895928\ttotal: 2m 11s\tremaining: 10.6s\n",
            "925:\tlearn: 0.3895650\ttotal: 2m 11s\tremaining: 10.5s\n",
            "926:\tlearn: 0.3895368\ttotal: 2m 11s\tremaining: 10.4s\n",
            "927:\tlearn: 0.3894874\ttotal: 2m 11s\tremaining: 10.2s\n",
            "928:\tlearn: 0.3894736\ttotal: 2m 11s\tremaining: 10.1s\n",
            "929:\tlearn: 0.3894155\ttotal: 2m 11s\tremaining: 9.92s\n",
            "930:\tlearn: 0.3894010\ttotal: 2m 11s\tremaining: 9.78s\n",
            "931:\tlearn: 0.3893755\ttotal: 2m 12s\tremaining: 9.63s\n",
            "932:\tlearn: 0.3893293\ttotal: 2m 12s\tremaining: 9.49s\n",
            "933:\tlearn: 0.3893002\ttotal: 2m 12s\tremaining: 9.35s\n",
            "934:\tlearn: 0.3892744\ttotal: 2m 12s\tremaining: 9.2s\n",
            "935:\tlearn: 0.3892534\ttotal: 2m 12s\tremaining: 9.06s\n",
            "936:\tlearn: 0.3892141\ttotal: 2m 12s\tremaining: 8.92s\n",
            "937:\tlearn: 0.3891689\ttotal: 2m 12s\tremaining: 8.77s\n",
            "938:\tlearn: 0.3891393\ttotal: 2m 12s\tremaining: 8.63s\n",
            "939:\tlearn: 0.3890844\ttotal: 2m 12s\tremaining: 8.49s\n",
            "940:\tlearn: 0.3890630\ttotal: 2m 13s\tremaining: 8.35s\n",
            "941:\tlearn: 0.3890478\ttotal: 2m 13s\tremaining: 8.21s\n",
            "942:\tlearn: 0.3890144\ttotal: 2m 13s\tremaining: 8.06s\n",
            "943:\tlearn: 0.3889913\ttotal: 2m 13s\tremaining: 7.92s\n",
            "944:\tlearn: 0.3889766\ttotal: 2m 13s\tremaining: 7.78s\n",
            "945:\tlearn: 0.3889486\ttotal: 2m 13s\tremaining: 7.63s\n",
            "946:\tlearn: 0.3889260\ttotal: 2m 13s\tremaining: 7.49s\n",
            "947:\tlearn: 0.3888988\ttotal: 2m 13s\tremaining: 7.35s\n",
            "948:\tlearn: 0.3888740\ttotal: 2m 14s\tremaining: 7.21s\n",
            "949:\tlearn: 0.3888578\ttotal: 2m 14s\tremaining: 7.07s\n",
            "950:\tlearn: 0.3888285\ttotal: 2m 14s\tremaining: 6.92s\n",
            "951:\tlearn: 0.3888083\ttotal: 2m 14s\tremaining: 6.78s\n",
            "952:\tlearn: 0.3887663\ttotal: 2m 14s\tremaining: 6.64s\n",
            "953:\tlearn: 0.3887168\ttotal: 2m 14s\tremaining: 6.5s\n",
            "954:\tlearn: 0.3887022\ttotal: 2m 14s\tremaining: 6.36s\n",
            "955:\tlearn: 0.3886428\ttotal: 2m 15s\tremaining: 6.21s\n",
            "956:\tlearn: 0.3885998\ttotal: 2m 15s\tremaining: 6.07s\n",
            "957:\tlearn: 0.3885617\ttotal: 2m 15s\tremaining: 5.93s\n",
            "958:\tlearn: 0.3885397\ttotal: 2m 15s\tremaining: 5.79s\n",
            "959:\tlearn: 0.3884890\ttotal: 2m 15s\tremaining: 5.65s\n",
            "960:\tlearn: 0.3884657\ttotal: 2m 15s\tremaining: 5.51s\n",
            "961:\tlearn: 0.3884316\ttotal: 2m 15s\tremaining: 5.36s\n",
            "962:\tlearn: 0.3884178\ttotal: 2m 15s\tremaining: 5.22s\n",
            "963:\tlearn: 0.3884060\ttotal: 2m 16s\tremaining: 5.08s\n",
            "964:\tlearn: 0.3883358\ttotal: 2m 16s\tremaining: 4.94s\n",
            "965:\tlearn: 0.3882848\ttotal: 2m 16s\tremaining: 4.8s\n",
            "966:\tlearn: 0.3882714\ttotal: 2m 16s\tremaining: 4.66s\n",
            "967:\tlearn: 0.3882520\ttotal: 2m 16s\tremaining: 4.52s\n",
            "968:\tlearn: 0.3882123\ttotal: 2m 16s\tremaining: 4.38s\n",
            "969:\tlearn: 0.3881914\ttotal: 2m 16s\tremaining: 4.24s\n",
            "970:\tlearn: 0.3881561\ttotal: 2m 17s\tremaining: 4.09s\n",
            "971:\tlearn: 0.3881292\ttotal: 2m 17s\tremaining: 3.95s\n",
            "972:\tlearn: 0.3880946\ttotal: 2m 17s\tremaining: 3.81s\n",
            "973:\tlearn: 0.3880651\ttotal: 2m 17s\tremaining: 3.67s\n",
            "974:\tlearn: 0.3880330\ttotal: 2m 17s\tremaining: 3.53s\n",
            "975:\tlearn: 0.3880046\ttotal: 2m 17s\tremaining: 3.38s\n",
            "976:\tlearn: 0.3879871\ttotal: 2m 17s\tremaining: 3.24s\n",
            "977:\tlearn: 0.3879628\ttotal: 2m 17s\tremaining: 3.1s\n",
            "978:\tlearn: 0.3879149\ttotal: 2m 18s\tremaining: 2.96s\n",
            "979:\tlearn: 0.3879067\ttotal: 2m 18s\tremaining: 2.82s\n",
            "980:\tlearn: 0.3878643\ttotal: 2m 18s\tremaining: 2.68s\n",
            "981:\tlearn: 0.3878516\ttotal: 2m 18s\tremaining: 2.54s\n",
            "982:\tlearn: 0.3877985\ttotal: 2m 18s\tremaining: 2.4s\n",
            "983:\tlearn: 0.3877870\ttotal: 2m 19s\tremaining: 2.26s\n",
            "984:\tlearn: 0.3877742\ttotal: 2m 19s\tremaining: 2.12s\n",
            "985:\tlearn: 0.3877430\ttotal: 2m 19s\tremaining: 1.98s\n",
            "986:\tlearn: 0.3877019\ttotal: 2m 19s\tremaining: 1.84s\n",
            "987:\tlearn: 0.3876589\ttotal: 2m 20s\tremaining: 1.7s\n",
            "988:\tlearn: 0.3875883\ttotal: 2m 20s\tremaining: 1.56s\n",
            "989:\tlearn: 0.3875517\ttotal: 2m 20s\tremaining: 1.42s\n",
            "990:\tlearn: 0.3875214\ttotal: 2m 20s\tremaining: 1.28s\n",
            "991:\tlearn: 0.3874785\ttotal: 2m 21s\tremaining: 1.14s\n",
            "992:\tlearn: 0.3874608\ttotal: 2m 21s\tremaining: 996ms\n",
            "993:\tlearn: 0.3874214\ttotal: 2m 21s\tremaining: 855ms\n",
            "994:\tlearn: 0.3873802\ttotal: 2m 21s\tremaining: 713ms\n",
            "995:\tlearn: 0.3873430\ttotal: 2m 21s\tremaining: 570ms\n",
            "996:\tlearn: 0.3873218\ttotal: 2m 22s\tremaining: 428ms\n",
            "997:\tlearn: 0.3872939\ttotal: 2m 22s\tremaining: 285ms\n",
            "998:\tlearn: 0.3872547\ttotal: 2m 22s\tremaining: 143ms\n",
            "999:\tlearn: 0.3872407\ttotal: 2m 22s\tremaining: 0us\n"
          ]
        },
        {
          "output_type": "execute_result",
          "data": {
            "text/plain": [
              "<catboost.core.CatBoostClassifier at 0x7bf4428c3070>"
            ]
          },
          "metadata": {},
          "execution_count": 15
        }
      ]
    },
    {
      "cell_type": "code",
      "source": [
        "from catboost import Pool, metrics, cv\n",
        "from sklearn.metrics import accuracy_score, roc_auc_score"
      ],
      "metadata": {
        "id": "er-fBPQ7Jtc2"
      },
      "execution_count": 18,
      "outputs": []
    },
    {
      "cell_type": "code",
      "source": [
        "cv_params = model_CBC.get_params()\n",
        "cv_params.update({\n",
        "    'loss_function':metrics.Logloss()\n",
        "})\n",
        "cv_data = cv(\n",
        "    Pool(X, y, cat_features=categorical_features_indices),\n",
        "    cv_params,\n",
        "    #plot=True\n",
        ")"
      ],
      "metadata": {
        "id": "HnHWe4gRIFTs"
      },
      "execution_count": 20,
      "outputs": []
    },
    {
      "cell_type": "code",
      "source": [
        "cv_data"
      ],
      "metadata": {
        "colab": {
          "base_uri": "https://localhost:8080/",
          "height": 423
        },
        "id": "wF_QoivfMbkY",
        "outputId": "e6b4a3a2-b90e-41ec-bd1b-2ac242640d82"
      },
      "execution_count": 22,
      "outputs": [
        {
          "output_type": "execute_result",
          "data": {
            "text/plain": [
              "     iterations  test-Logloss-mean  test-Logloss-std  train-Logloss-mean  \\\n",
              "0             0           0.676997          0.000017            0.676995   \n",
              "1             1           0.662174          0.000230            0.662161   \n",
              "2             2           0.648690          0.000278            0.648679   \n",
              "3             3           0.636218          0.000459            0.636206   \n",
              "4             4           0.623964          0.000918            0.623901   \n",
              "..          ...                ...               ...                 ...   \n",
              "995         995           0.412461          0.001223            0.403164   \n",
              "996         996           0.412458          0.001216            0.403145   \n",
              "997         997           0.412445          0.001227            0.403131   \n",
              "998         998           0.412445          0.001229            0.403110   \n",
              "999         999           0.412442          0.001231            0.403087   \n",
              "\n",
              "     train-Logloss-std  \n",
              "0             0.000063  \n",
              "1             0.000250  \n",
              "2             0.000295  \n",
              "3             0.000415  \n",
              "4             0.001034  \n",
              "..                 ...  \n",
              "995           0.001038  \n",
              "996           0.001039  \n",
              "997           0.001034  \n",
              "998           0.001032  \n",
              "999           0.001038  \n",
              "\n",
              "[1000 rows x 5 columns]"
            ],
            "text/html": [
              "\n",
              "  <div id=\"df-bd5bc719-f8e1-4d66-96bd-1ee7d287b5f6\" class=\"colab-df-container\">\n",
              "    <div>\n",
              "<style scoped>\n",
              "    .dataframe tbody tr th:only-of-type {\n",
              "        vertical-align: middle;\n",
              "    }\n",
              "\n",
              "    .dataframe tbody tr th {\n",
              "        vertical-align: top;\n",
              "    }\n",
              "\n",
              "    .dataframe thead th {\n",
              "        text-align: right;\n",
              "    }\n",
              "</style>\n",
              "<table border=\"1\" class=\"dataframe\">\n",
              "  <thead>\n",
              "    <tr style=\"text-align: right;\">\n",
              "      <th></th>\n",
              "      <th>iterations</th>\n",
              "      <th>test-Logloss-mean</th>\n",
              "      <th>test-Logloss-std</th>\n",
              "      <th>train-Logloss-mean</th>\n",
              "      <th>train-Logloss-std</th>\n",
              "    </tr>\n",
              "  </thead>\n",
              "  <tbody>\n",
              "    <tr>\n",
              "      <th>0</th>\n",
              "      <td>0</td>\n",
              "      <td>0.676997</td>\n",
              "      <td>0.000017</td>\n",
              "      <td>0.676995</td>\n",
              "      <td>0.000063</td>\n",
              "    </tr>\n",
              "    <tr>\n",
              "      <th>1</th>\n",
              "      <td>1</td>\n",
              "      <td>0.662174</td>\n",
              "      <td>0.000230</td>\n",
              "      <td>0.662161</td>\n",
              "      <td>0.000250</td>\n",
              "    </tr>\n",
              "    <tr>\n",
              "      <th>2</th>\n",
              "      <td>2</td>\n",
              "      <td>0.648690</td>\n",
              "      <td>0.000278</td>\n",
              "      <td>0.648679</td>\n",
              "      <td>0.000295</td>\n",
              "    </tr>\n",
              "    <tr>\n",
              "      <th>3</th>\n",
              "      <td>3</td>\n",
              "      <td>0.636218</td>\n",
              "      <td>0.000459</td>\n",
              "      <td>0.636206</td>\n",
              "      <td>0.000415</td>\n",
              "    </tr>\n",
              "    <tr>\n",
              "      <th>4</th>\n",
              "      <td>4</td>\n",
              "      <td>0.623964</td>\n",
              "      <td>0.000918</td>\n",
              "      <td>0.623901</td>\n",
              "      <td>0.001034</td>\n",
              "    </tr>\n",
              "    <tr>\n",
              "      <th>...</th>\n",
              "      <td>...</td>\n",
              "      <td>...</td>\n",
              "      <td>...</td>\n",
              "      <td>...</td>\n",
              "      <td>...</td>\n",
              "    </tr>\n",
              "    <tr>\n",
              "      <th>995</th>\n",
              "      <td>995</td>\n",
              "      <td>0.412461</td>\n",
              "      <td>0.001223</td>\n",
              "      <td>0.403164</td>\n",
              "      <td>0.001038</td>\n",
              "    </tr>\n",
              "    <tr>\n",
              "      <th>996</th>\n",
              "      <td>996</td>\n",
              "      <td>0.412458</td>\n",
              "      <td>0.001216</td>\n",
              "      <td>0.403145</td>\n",
              "      <td>0.001039</td>\n",
              "    </tr>\n",
              "    <tr>\n",
              "      <th>997</th>\n",
              "      <td>997</td>\n",
              "      <td>0.412445</td>\n",
              "      <td>0.001227</td>\n",
              "      <td>0.403131</td>\n",
              "      <td>0.001034</td>\n",
              "    </tr>\n",
              "    <tr>\n",
              "      <th>998</th>\n",
              "      <td>998</td>\n",
              "      <td>0.412445</td>\n",
              "      <td>0.001229</td>\n",
              "      <td>0.403110</td>\n",
              "      <td>0.001032</td>\n",
              "    </tr>\n",
              "    <tr>\n",
              "      <th>999</th>\n",
              "      <td>999</td>\n",
              "      <td>0.412442</td>\n",
              "      <td>0.001231</td>\n",
              "      <td>0.403087</td>\n",
              "      <td>0.001038</td>\n",
              "    </tr>\n",
              "  </tbody>\n",
              "</table>\n",
              "<p>1000 rows × 5 columns</p>\n",
              "</div>\n",
              "    <div class=\"colab-df-buttons\">\n",
              "\n",
              "  <div class=\"colab-df-container\">\n",
              "    <button class=\"colab-df-convert\" onclick=\"convertToInteractive('df-bd5bc719-f8e1-4d66-96bd-1ee7d287b5f6')\"\n",
              "            title=\"Convert this dataframe to an interactive table.\"\n",
              "            style=\"display:none;\">\n",
              "\n",
              "  <svg xmlns=\"http://www.w3.org/2000/svg\" height=\"24px\" viewBox=\"0 -960 960 960\">\n",
              "    <path d=\"M120-120v-720h720v720H120Zm60-500h600v-160H180v160Zm220 220h160v-160H400v160Zm0 220h160v-160H400v160ZM180-400h160v-160H180v160Zm440 0h160v-160H620v160ZM180-180h160v-160H180v160Zm440 0h160v-160H620v160Z\"/>\n",
              "  </svg>\n",
              "    </button>\n",
              "\n",
              "  <style>\n",
              "    .colab-df-container {\n",
              "      display:flex;\n",
              "      gap: 12px;\n",
              "    }\n",
              "\n",
              "    .colab-df-convert {\n",
              "      background-color: #E8F0FE;\n",
              "      border: none;\n",
              "      border-radius: 50%;\n",
              "      cursor: pointer;\n",
              "      display: none;\n",
              "      fill: #1967D2;\n",
              "      height: 32px;\n",
              "      padding: 0 0 0 0;\n",
              "      width: 32px;\n",
              "    }\n",
              "\n",
              "    .colab-df-convert:hover {\n",
              "      background-color: #E2EBFA;\n",
              "      box-shadow: 0px 1px 2px rgba(60, 64, 67, 0.3), 0px 1px 3px 1px rgba(60, 64, 67, 0.15);\n",
              "      fill: #174EA6;\n",
              "    }\n",
              "\n",
              "    .colab-df-buttons div {\n",
              "      margin-bottom: 4px;\n",
              "    }\n",
              "\n",
              "    [theme=dark] .colab-df-convert {\n",
              "      background-color: #3B4455;\n",
              "      fill: #D2E3FC;\n",
              "    }\n",
              "\n",
              "    [theme=dark] .colab-df-convert:hover {\n",
              "      background-color: #434B5C;\n",
              "      box-shadow: 0px 1px 3px 1px rgba(0, 0, 0, 0.15);\n",
              "      filter: drop-shadow(0px 1px 2px rgba(0, 0, 0, 0.3));\n",
              "      fill: #FFFFFF;\n",
              "    }\n",
              "  </style>\n",
              "\n",
              "    <script>\n",
              "      const buttonEl =\n",
              "        document.querySelector('#df-bd5bc719-f8e1-4d66-96bd-1ee7d287b5f6 button.colab-df-convert');\n",
              "      buttonEl.style.display =\n",
              "        google.colab.kernel.accessAllowed ? 'block' : 'none';\n",
              "\n",
              "      async function convertToInteractive(key) {\n",
              "        const element = document.querySelector('#df-bd5bc719-f8e1-4d66-96bd-1ee7d287b5f6');\n",
              "        const dataTable =\n",
              "          await google.colab.kernel.invokeFunction('convertToInteractive',\n",
              "                                                    [key], {});\n",
              "        if (!dataTable) return;\n",
              "\n",
              "        const docLinkHtml = 'Like what you see? Visit the ' +\n",
              "          '<a target=\"_blank\" href=https://colab.research.google.com/notebooks/data_table.ipynb>data table notebook</a>'\n",
              "          + ' to learn more about interactive tables.';\n",
              "        element.innerHTML = '';\n",
              "        dataTable['output_type'] = 'display_data';\n",
              "        await google.colab.output.renderOutput(dataTable, element);\n",
              "        const docLink = document.createElement('div');\n",
              "        docLink.innerHTML = docLinkHtml;\n",
              "        element.appendChild(docLink);\n",
              "      }\n",
              "    </script>\n",
              "  </div>\n",
              "\n",
              "\n",
              "<div id=\"df-6be1ee7c-8a77-4cb0-bd4d-241cfd095b6c\">\n",
              "  <button class=\"colab-df-quickchart\" onclick=\"quickchart('df-6be1ee7c-8a77-4cb0-bd4d-241cfd095b6c')\"\n",
              "            title=\"Suggest charts\"\n",
              "            style=\"display:none;\">\n",
              "\n",
              "<svg xmlns=\"http://www.w3.org/2000/svg\" height=\"24px\"viewBox=\"0 0 24 24\"\n",
              "     width=\"24px\">\n",
              "    <g>\n",
              "        <path d=\"M19 3H5c-1.1 0-2 .9-2 2v14c0 1.1.9 2 2 2h14c1.1 0 2-.9 2-2V5c0-1.1-.9-2-2-2zM9 17H7v-7h2v7zm4 0h-2V7h2v10zm4 0h-2v-4h2v4z\"/>\n",
              "    </g>\n",
              "</svg>\n",
              "  </button>\n",
              "\n",
              "<style>\n",
              "  .colab-df-quickchart {\n",
              "      --bg-color: #E8F0FE;\n",
              "      --fill-color: #1967D2;\n",
              "      --hover-bg-color: #E2EBFA;\n",
              "      --hover-fill-color: #174EA6;\n",
              "      --disabled-fill-color: #AAA;\n",
              "      --disabled-bg-color: #DDD;\n",
              "  }\n",
              "\n",
              "  [theme=dark] .colab-df-quickchart {\n",
              "      --bg-color: #3B4455;\n",
              "      --fill-color: #D2E3FC;\n",
              "      --hover-bg-color: #434B5C;\n",
              "      --hover-fill-color: #FFFFFF;\n",
              "      --disabled-bg-color: #3B4455;\n",
              "      --disabled-fill-color: #666;\n",
              "  }\n",
              "\n",
              "  .colab-df-quickchart {\n",
              "    background-color: var(--bg-color);\n",
              "    border: none;\n",
              "    border-radius: 50%;\n",
              "    cursor: pointer;\n",
              "    display: none;\n",
              "    fill: var(--fill-color);\n",
              "    height: 32px;\n",
              "    padding: 0;\n",
              "    width: 32px;\n",
              "  }\n",
              "\n",
              "  .colab-df-quickchart:hover {\n",
              "    background-color: var(--hover-bg-color);\n",
              "    box-shadow: 0 1px 2px rgba(60, 64, 67, 0.3), 0 1px 3px 1px rgba(60, 64, 67, 0.15);\n",
              "    fill: var(--button-hover-fill-color);\n",
              "  }\n",
              "\n",
              "  .colab-df-quickchart-complete:disabled,\n",
              "  .colab-df-quickchart-complete:disabled:hover {\n",
              "    background-color: var(--disabled-bg-color);\n",
              "    fill: var(--disabled-fill-color);\n",
              "    box-shadow: none;\n",
              "  }\n",
              "\n",
              "  .colab-df-spinner {\n",
              "    border: 2px solid var(--fill-color);\n",
              "    border-color: transparent;\n",
              "    border-bottom-color: var(--fill-color);\n",
              "    animation:\n",
              "      spin 1s steps(1) infinite;\n",
              "  }\n",
              "\n",
              "  @keyframes spin {\n",
              "    0% {\n",
              "      border-color: transparent;\n",
              "      border-bottom-color: var(--fill-color);\n",
              "      border-left-color: var(--fill-color);\n",
              "    }\n",
              "    20% {\n",
              "      border-color: transparent;\n",
              "      border-left-color: var(--fill-color);\n",
              "      border-top-color: var(--fill-color);\n",
              "    }\n",
              "    30% {\n",
              "      border-color: transparent;\n",
              "      border-left-color: var(--fill-color);\n",
              "      border-top-color: var(--fill-color);\n",
              "      border-right-color: var(--fill-color);\n",
              "    }\n",
              "    40% {\n",
              "      border-color: transparent;\n",
              "      border-right-color: var(--fill-color);\n",
              "      border-top-color: var(--fill-color);\n",
              "    }\n",
              "    60% {\n",
              "      border-color: transparent;\n",
              "      border-right-color: var(--fill-color);\n",
              "    }\n",
              "    80% {\n",
              "      border-color: transparent;\n",
              "      border-right-color: var(--fill-color);\n",
              "      border-bottom-color: var(--fill-color);\n",
              "    }\n",
              "    90% {\n",
              "      border-color: transparent;\n",
              "      border-bottom-color: var(--fill-color);\n",
              "    }\n",
              "  }\n",
              "</style>\n",
              "\n",
              "  <script>\n",
              "    async function quickchart(key) {\n",
              "      const quickchartButtonEl =\n",
              "        document.querySelector('#' + key + ' button');\n",
              "      quickchartButtonEl.disabled = true;  // To prevent multiple clicks.\n",
              "      quickchartButtonEl.classList.add('colab-df-spinner');\n",
              "      try {\n",
              "        const charts = await google.colab.kernel.invokeFunction(\n",
              "            'suggestCharts', [key], {});\n",
              "      } catch (error) {\n",
              "        console.error('Error during call to suggestCharts:', error);\n",
              "      }\n",
              "      quickchartButtonEl.classList.remove('colab-df-spinner');\n",
              "      quickchartButtonEl.classList.add('colab-df-quickchart-complete');\n",
              "    }\n",
              "    (() => {\n",
              "      let quickchartButtonEl =\n",
              "        document.querySelector('#df-6be1ee7c-8a77-4cb0-bd4d-241cfd095b6c button');\n",
              "      quickchartButtonEl.style.display =\n",
              "        google.colab.kernel.accessAllowed ? 'block' : 'none';\n",
              "    })();\n",
              "  </script>\n",
              "</div>\n",
              "    </div>\n",
              "  </div>\n"
            ],
            "application/vnd.google.colaboratory.intrinsic+json": {
              "type": "dataframe",
              "variable_name": "cv_data",
              "summary": "{\n  \"name\": \"cv_data\",\n  \"rows\": 1000,\n  \"fields\": [\n    {\n      \"column\": \"iterations\",\n      \"properties\": {\n        \"dtype\": \"number\",\n        \"std\": 288,\n        \"min\": 0,\n        \"max\": 999,\n        \"num_unique_values\": 1000,\n        \"samples\": [\n          521,\n          737,\n          740\n        ],\n        \"semantic_type\": \"\",\n        \"description\": \"\"\n      }\n    },\n    {\n      \"column\": \"test-Logloss-mean\",\n      \"properties\": {\n        \"dtype\": \"number\",\n        \"std\": 0.026605929526079625,\n        \"min\": 0.41244225081354874,\n        \"max\": 0.6769971153386461,\n        \"num_unique_values\": 1000,\n        \"samples\": [\n          0.41660778549245725,\n          0.4140396638112978,\n          0.41402371608910377\n        ],\n        \"semantic_type\": \"\",\n        \"description\": \"\"\n      }\n    },\n    {\n      \"column\": \"test-Logloss-std\",\n      \"properties\": {\n        \"dtype\": \"number\",\n        \"std\": 0.00018603436916987454,\n        \"min\": 1.741875702278796e-05,\n        \"max\": 0.0015279456081767424,\n        \"num_unique_values\": 1000,\n        \"samples\": [\n          0.000849329666410475,\n          0.0009238551230884224,\n          0.0009279320637742446\n        ],\n        \"semantic_type\": \"\",\n        \"description\": \"\"\n      }\n    },\n    {\n      \"column\": \"train-Logloss-mean\",\n      \"properties\": {\n        \"dtype\": \"number\",\n        \"std\": 0.028001895349018608,\n        \"min\": 0.4030872910383228,\n        \"max\": 0.6769952075043707,\n        \"num_unique_values\": 1000,\n        \"samples\": [\n          0.4138103706440533,\n          0.408441275621579,\n          0.4083788292160779\n        ],\n        \"semantic_type\": \"\",\n        \"description\": \"\"\n      }\n    },\n    {\n      \"column\": \"train-Logloss-std\",\n      \"properties\": {\n        \"dtype\": \"number\",\n        \"std\": 0.00015997035690741253,\n        \"min\": 6.31332259809308e-05,\n        \"max\": 0.0015548146078074752,\n        \"num_unique_values\": 1000,\n        \"samples\": [\n          0.0010992988176814497,\n          0.001156587213754889,\n          0.0011636108328979013\n        ],\n        \"semantic_type\": \"\",\n        \"description\": \"\"\n      }\n    }\n  ]\n}"
            }
          },
          "metadata": {},
          "execution_count": 22
        }
      ]
    },
    {
      "cell_type": "code",
      "source": [
        "predictions = model_CBC.predict(Xtest)\n",
        "predictions_probs = model_CBC.predict_proba(Xtest)[:,1]\n",
        "print(predictions[:10])\n",
        "print(predictions_probs[:10])"
      ],
      "metadata": {
        "colab": {
          "base_uri": "https://localhost:8080/"
        },
        "id": "1vHapDK0NyYh",
        "outputId": "545e042e-b538-48d1-da13-397615cef560"
      },
      "execution_count": 28,
      "outputs": [
        {
          "output_type": "stream",
          "name": "stdout",
          "text": [
            "[False False False False False False False False False False]\n",
            "[0.16876749 0.07501404 0.42402944 0.03950113 0.27438622 0.0897944\n",
            " 0.13123688 0.24626527 0.21237737 0.07231455]\n"
          ]
        }
      ]
    },
    {
      "cell_type": "code",
      "source": [
        "round(roc_auc_score(ytest, predictions_probs), 2)"
      ],
      "metadata": {
        "colab": {
          "base_uri": "https://localhost:8080/"
        },
        "id": "WqM8ruTnN_R5",
        "outputId": "145742c0-4d86-44d5-b54d-8adf65482735"
      },
      "execution_count": 30,
      "outputs": [
        {
          "output_type": "execute_result",
          "data": {
            "text/plain": [
              "0.77"
            ]
          },
          "metadata": {},
          "execution_count": 30
        }
      ]
    },
    {
      "cell_type": "code",
      "source": [
        "# ну или вообще не заморачиваясь ....\n",
        "\n",
        "%%time\n",
        "\n",
        "from catboost import CatBoostClassifier, Pool, metrics, cv\n",
        "from sklearn.metrics import roc_auc_score\n",
        "\n",
        "model = CatBoostClassifier(random_seed=RANDOM_STATE, verbose=0)\n",
        "model.fit(Xtrain, ytrain, cat_features=categorical_features_indices)\n",
        "\n",
        "y_pred=model.predict(Xtest)\n",
        "y_pred_prob=model.predict_proba(Xtest)\n",
        "\n",
        "\n",
        "roc_auc=roc_auc_score(ytest, y_pred_prob[:,1])\n",
        "\n",
        "print(round(roc_auc, 2))"
      ],
      "metadata": {
        "colab": {
          "base_uri": "https://localhost:8080/"
        },
        "id": "fJlhye6OPR8L",
        "outputId": "15aad479-cc23-4eb4-a9b7-7bcbbbf13ab3"
      },
      "execution_count": 31,
      "outputs": [
        {
          "output_type": "stream",
          "name": "stdout",
          "text": [
            "0.77\n",
            "CPU times: user 3min 38s, sys: 3.93 s, total: 3min 42s\n",
            "Wall time: 2min 15s\n"
          ]
        }
      ]
    },
    {
      "cell_type": "markdown",
      "source": [
        "Обучите LightGBM с гиперпараметрами по умолчанию.\n",
        "\n",
        "## Quiz\n",
        "Чему равен ROC-AUC на тестовых данных? Ответ округлите до сотых."
      ],
      "metadata": {
        "id": "fBO2HEaAy61O"
      }
    },
    {
      "cell_type": "code",
      "source": [
        "from google.colab import output\n",
        "output.enable_custom_widget_manager()"
      ],
      "metadata": {
        "id": "eQ0W4KhCHmHn"
      },
      "execution_count": 32,
      "outputs": []
    },
    {
      "cell_type": "markdown",
      "source": [
        "Support for third party widgets will remain active for the duration of the session. To disable support:"
      ],
      "metadata": {
        "id": "UQlfuyUQHmHo"
      }
    },
    {
      "cell_type": "code",
      "source": [
        "from google.colab import output\n",
        "output.disable_custom_widget_manager()"
      ],
      "metadata": {
        "id": "mZERffblHmHo"
      },
      "execution_count": 33,
      "outputs": []
    },
    {
      "cell_type": "code",
      "source": [
        "for c in X.columns:\n",
        "    col_type = X[c].dtype\n",
        "    if col_type == 'object' or col_type.name == 'category':\n",
        "        Xtrain[c] = Xtrain[c].astype('category')\n",
        "        Xtest[c] = Xtest[c].astype('category')"
      ],
      "metadata": {
        "id": "G_g3Ead3yZ5v"
      },
      "execution_count": 34,
      "outputs": []
    },
    {
      "cell_type": "code",
      "source": [
        "# your code here\n",
        "\n",
        "lgbm = LGBMClassifier(random_seed=RANDOM_STATE)\n",
        "lgbm.fit(Xtrain, ytrain)\n",
        "\n",
        "y_pred_lgbm=lgbm.predict(Xtest)\n",
        "y_pred_prob_lgbm=lgbm.predict_proba(Xtest)\n",
        "\n",
        "\n",
        "roc_auc_lgbm=roc_auc_score(ytest, y_pred_prob_lgbm[:,1])\n",
        "\n",
        "print(round(roc_auc_lgbm, 2))"
      ],
      "metadata": {
        "id": "Z2jPIID3xUPw",
        "colab": {
          "base_uri": "https://localhost:8080/"
        },
        "outputId": "f94926ab-15ce-4085-823b-c023616b66a5"
      },
      "execution_count": 35,
      "outputs": [
        {
          "output_type": "stream",
          "name": "stdout",
          "text": [
            "[LightGBM] [Info] Number of positive: 14346, number of negative: 60654\n",
            "[LightGBM] [Info] Auto-choosing row-wise multi-threading, the overhead of testing was 0.003263 seconds.\n",
            "You can set `force_row_wise=true` to remove the overhead.\n",
            "And if memory is not enough, you can set `force_col_wise=true`.\n",
            "[LightGBM] [Info] Total Bins 1095\n",
            "[LightGBM] [Info] Number of data points in the train set: 75000, number of used features: 8\n",
            "[LightGBM] [Info] [binary:BoostFromScore]: pavg=0.191280 -> initscore=-1.441714\n",
            "[LightGBM] [Info] Start training from score -1.441714\n",
            "0.73\n"
          ]
        }
      ]
    },
    {
      "cell_type": "markdown",
      "source": [
        "## Optuna"
      ],
      "metadata": {
        "id": "zazHv43vzn2e"
      }
    },
    {
      "cell_type": "markdown",
      "source": [
        "Выделим дополнительную валидационную выборку."
      ],
      "metadata": {
        "id": "MGaTMoDr7cvz"
      }
    },
    {
      "cell_type": "code",
      "source": [
        "Xtrain_new, Xval, ytrain_new, yval = train_test_split(Xtrain, ytrain, test_size=0.25, random_state=RANDOM_STATE)"
      ],
      "metadata": {
        "id": "meyw3CyV1aF_"
      },
      "execution_count": 36,
      "outputs": []
    },
    {
      "cell_type": "markdown",
      "source": [
        "Создайте функцию objective_lgbm, в которой среди гиперпараметров\n",
        "\n",
        "* num_leaves = trial.suggest_int(\"num_leaves\", 10, 100)\n",
        "* n_estimators = trial.suggest_int(\"n_estimators\", 10, 1000)\n",
        "\n",
        "подберите оптимальные, обучая LGBM на Xtrain_new, ytrain_new и проверяя качество (ROC-AUC) на Xval.\n",
        "\n",
        "Используйте 30 эпох обучения Optuna.\n"
      ],
      "metadata": {
        "id": "RatJBHjn1tq2"
      }
    },
    {
      "cell_type": "code",
      "source": [
        "import optuna"
      ],
      "metadata": {
        "id": "hpT6FjWsVXoJ"
      },
      "execution_count": 37,
      "outputs": []
    },
    {
      "cell_type": "code",
      "source": [
        "# your code here\n",
        "def objective_lgbm(trial):\n",
        "\n",
        "    num_leaves = trial.suggest_int(\"num_leaves\", 10, 100)\n",
        "    n_estimators = trial.suggest_int(\"n_estimators\", 10, 1000)\n",
        "\n",
        "    score = cross_val_score(LGBMClassifier(num_leaves=num_leaves, n_estimators=n_estimators),\n",
        "                            Xtrain_new, ytrain_new, cv=3, scoring='roc_auc', n_jobs=-1).mean()\n",
        "    return score\n",
        "\n",
        "\n",
        "study = optuna.create_study(direction=\"maximize\")\n",
        "study.optimize(objective_lgbm, n_trials=30)"
      ],
      "metadata": {
        "id": "YgOH1GMFzhW1",
        "colab": {
          "base_uri": "https://localhost:8080/"
        },
        "outputId": "448ee05d-2329-4ae3-f7ab-8c2d812db0a4"
      },
      "execution_count": 39,
      "outputs": [
        {
          "output_type": "stream",
          "name": "stderr",
          "text": [
            "[I 2024-09-25 08:41:49,927] A new study created in memory with name: no-name-83938564-55a4-4ae6-97f3-e67d932c36b1\n",
            "[I 2024-09-25 08:41:57,161] Trial 0 finished with value: 0.7104088222883246 and parameters: {'num_leaves': 76, 'n_estimators': 91}. Best is trial 0 with value: 0.7104088222883246.\n",
            "[I 2024-09-25 08:42:03,418] Trial 1 finished with value: 0.7101244407099171 and parameters: {'num_leaves': 40, 'n_estimators': 258}. Best is trial 0 with value: 0.7104088222883246.\n",
            "[I 2024-09-25 08:42:25,053] Trial 2 finished with value: 0.7055143830636039 and parameters: {'num_leaves': 90, 'n_estimators': 651}. Best is trial 0 with value: 0.7104088222883246.\n",
            "[I 2024-09-25 08:42:40,959] Trial 3 finished with value: 0.7048718567539938 and parameters: {'num_leaves': 75, 'n_estimators': 530}. Best is trial 0 with value: 0.7104088222883246.\n",
            "[I 2024-09-25 08:42:48,576] Trial 4 finished with value: 0.7070961260233792 and parameters: {'num_leaves': 84, 'n_estimators': 227}. Best is trial 0 with value: 0.7104088222883246.\n",
            "[I 2024-09-25 08:42:53,287] Trial 5 finished with value: 0.7109030102401341 and parameters: {'num_leaves': 23, 'n_estimators': 277}. Best is trial 5 with value: 0.7109030102401341.\n",
            "[I 2024-09-25 08:42:59,222] Trial 6 finished with value: 0.710111576008665 and parameters: {'num_leaves': 21, 'n_estimators': 450}. Best is trial 5 with value: 0.7109030102401341.\n",
            "[I 2024-09-25 08:43:02,504] Trial 7 finished with value: 0.7129890050248558 and parameters: {'num_leaves': 26, 'n_estimators': 147}. Best is trial 7 with value: 0.7129890050248558.\n",
            "[I 2024-09-25 08:43:05,698] Trial 8 finished with value: 0.7147065641123818 and parameters: {'num_leaves': 41, 'n_estimators': 83}. Best is trial 8 with value: 0.7147065641123818.\n",
            "[I 2024-09-25 08:43:25,230] Trial 9 finished with value: 0.7059615294753684 and parameters: {'num_leaves': 40, 'n_estimators': 978}. Best is trial 8 with value: 0.7147065641123818.\n",
            "[I 2024-09-25 08:43:25,892] Trial 10 finished with value: 0.7139214867055066 and parameters: {'num_leaves': 58, 'n_estimators': 16}. Best is trial 8 with value: 0.7147065641123818.\n",
            "[I 2024-09-25 08:43:26,441] Trial 11 finished with value: 0.712265355769464 and parameters: {'num_leaves': 57, 'n_estimators': 12}. Best is trial 8 with value: 0.7147065641123818.\n",
            "[I 2024-09-25 08:43:27,311] Trial 12 finished with value: 0.7155129470404291 and parameters: {'num_leaves': 59, 'n_estimators': 21}. Best is trial 12 with value: 0.7155129470404291.\n",
            "[I 2024-09-25 08:43:35,065] Trial 13 finished with value: 0.7075362375067199 and parameters: {'num_leaves': 43, 'n_estimators': 342}. Best is trial 12 with value: 0.7155129470404291.\n",
            "[I 2024-09-25 08:43:53,874] Trial 14 finished with value: 0.7046780583082844 and parameters: {'num_leaves': 64, 'n_estimators': 684}. Best is trial 12 with value: 0.7155129470404291.\n",
            "[I 2024-09-25 08:43:56,831] Trial 15 finished with value: 0.7111449730610682 and parameters: {'num_leaves': 46, 'n_estimators': 127}. Best is trial 12 with value: 0.7155129470404291.\n",
            "[I 2024-09-25 08:44:01,454] Trial 16 finished with value: 0.7109385978033204 and parameters: {'num_leaves': 11, 'n_estimators': 431}. Best is trial 12 with value: 0.7155129470404291.\n",
            "[I 2024-09-25 08:44:25,601] Trial 17 finished with value: 0.705683577372389 and parameters: {'num_leaves': 67, 'n_estimators': 811}. Best is trial 12 with value: 0.7155129470404291.\n",
            "[I 2024-09-25 08:44:28,259] Trial 18 finished with value: 0.713093031932762 and parameters: {'num_leaves': 32, 'n_estimators': 138}. Best is trial 12 with value: 0.7155129470404291.\n",
            "[I 2024-09-25 08:44:37,500] Trial 19 finished with value: 0.7088842532195662 and parameters: {'num_leaves': 49, 'n_estimators': 365}. Best is trial 12 with value: 0.7155129470404291.\n",
            "[I 2024-09-25 08:44:57,752] Trial 20 finished with value: 0.7077038815338591 and parameters: {'num_leaves': 99, 'n_estimators': 577}. Best is trial 12 with value: 0.7155129470404291.\n",
            "[I 2024-09-25 08:44:58,601] Trial 21 finished with value: 0.7154185650431293 and parameters: {'num_leaves': 57, 'n_estimators': 23}. Best is trial 12 with value: 0.7155129470404291.\n",
            "[I 2024-09-25 08:44:59,214] Trial 22 finished with value: 0.7128085690662417 and parameters: {'num_leaves': 52, 'n_estimators': 12}. Best is trial 12 with value: 0.7155129470404291.\n",
            "[I 2024-09-25 08:45:04,568] Trial 23 finished with value: 0.7094738764091453 and parameters: {'num_leaves': 63, 'n_estimators': 199}. Best is trial 12 with value: 0.7155129470404291.\n",
            "[I 2024-09-25 08:45:08,272] Trial 24 finished with value: 0.7115061641731814 and parameters: {'num_leaves': 76, 'n_estimators': 76}. Best is trial 12 with value: 0.7155129470404291.\n",
            "[I 2024-09-25 08:45:11,712] Trial 25 finished with value: 0.7112072792664655 and parameters: {'num_leaves': 34, 'n_estimators': 181}. Best is trial 12 with value: 0.7155129470404291.\n",
            "[I 2024-09-25 08:45:13,828] Trial 26 finished with value: 0.7143934620947195 and parameters: {'num_leaves': 54, 'n_estimators': 77}. Best is trial 12 with value: 0.7155129470404291.\n",
            "[I 2024-09-25 08:45:24,437] Trial 27 finished with value: 0.708063305116986 and parameters: {'num_leaves': 69, 'n_estimators': 353}. Best is trial 12 with value: 0.7155129470404291.\n",
            "[I 2024-09-25 08:45:29,120] Trial 28 finished with value: 0.7092690803462535 and parameters: {'num_leaves': 35, 'n_estimators': 268}. Best is trial 12 with value: 0.7155129470404291.\n",
            "[I 2024-09-25 08:45:32,591] Trial 29 finished with value: 0.7094271672350683 and parameters: {'num_leaves': 82, 'n_estimators': 112}. Best is trial 12 with value: 0.7155129470404291.\n"
          ]
        }
      ]
    },
    {
      "cell_type": "code",
      "source": [
        "study.best_params"
      ],
      "metadata": {
        "id": "fpPS4-E-2Ycm",
        "colab": {
          "base_uri": "https://localhost:8080/"
        },
        "outputId": "df095f3e-b1ba-4c7f-c070-ff5d129f4528"
      },
      "execution_count": 40,
      "outputs": [
        {
          "output_type": "execute_result",
          "data": {
            "text/plain": [
              "{'num_leaves': 59, 'n_estimators': 21}"
            ]
          },
          "metadata": {},
          "execution_count": 40
        }
      ]
    },
    {
      "cell_type": "code",
      "source": [
        "def objective_lgbm_AUC(trial):\n",
        "    # num_leaves (int, optional (default=31)) – Maximum tree leaves for base learners.\n",
        "    num_leaves = trial.suggest_int(\"num_leaves\", 10, 100)\n",
        "    # n_estimators (int, optional (default=100)) – Number of boosted trees to fit.\n",
        "    n_estimators = trial.suggest_int(\"n_estimators\", 10, 1000)\n",
        "\n",
        "    model=LGBMClassifier(num_leaves=num_leaves, n_estimators=n_estimators, random_state=RANDOM_STATE)\n",
        "    model.fit(Xtrain_new, ytrain_new)\n",
        "\n",
        "    # y_pred=model.predict(Xval)\n",
        "    y_pred_prob=model.predict_proba(Xval)\n",
        "    roc_auc=roc_auc_score(yval, y_pred_prob[:,1])\n",
        "    return roc_auc"
      ],
      "metadata": {
        "id": "2msA5hgOX5TL"
      },
      "execution_count": 41,
      "outputs": []
    },
    {
      "cell_type": "code",
      "source": [
        "# storage = optuna.storages.InMemoryStorage()\n",
        "study = optuna.create_study(direction='maximize')\n",
        "study.optimize(objective_lgbm_AUC, n_trials=30)"
      ],
      "metadata": {
        "colab": {
          "base_uri": "https://localhost:8080/"
        },
        "id": "2y57bd0IYHez",
        "outputId": "0d8a2a67-9d2b-44ab-ab55-69301146a931"
      },
      "execution_count": 42,
      "outputs": [
        {
          "output_type": "stream",
          "name": "stderr",
          "text": [
            "[I 2024-09-25 08:52:34,870] A new study created in memory with name: no-name-7eff3420-418f-48a2-a8f5-4b0ace070893\n"
          ]
        },
        {
          "output_type": "stream",
          "name": "stdout",
          "text": [
            "[LightGBM] [Info] Number of positive: 10730, number of negative: 45520\n",
            "[LightGBM] [Info] Auto-choosing row-wise multi-threading, the overhead of testing was 0.001432 seconds.\n",
            "You can set `force_row_wise=true` to remove the overhead.\n",
            "And if memory is not enough, you can set `force_col_wise=true`.\n",
            "[LightGBM] [Info] Total Bins 1095\n",
            "[LightGBM] [Info] Number of data points in the train set: 56250, number of used features: 8\n",
            "[LightGBM] [Info] [binary:BoostFromScore]: pavg=0.190756 -> initscore=-1.445108\n",
            "[LightGBM] [Info] Start training from score -1.445108\n"
          ]
        },
        {
          "output_type": "stream",
          "name": "stderr",
          "text": [
            "[I 2024-09-25 08:52:36,485] Trial 0 finished with value: 0.722173491294875 and parameters: {'num_leaves': 69, 'n_estimators': 131}. Best is trial 0 with value: 0.722173491294875.\n"
          ]
        },
        {
          "output_type": "stream",
          "name": "stdout",
          "text": [
            "[LightGBM] [Info] Number of positive: 10730, number of negative: 45520\n",
            "[LightGBM] [Info] Auto-choosing row-wise multi-threading, the overhead of testing was 0.001542 seconds.\n",
            "You can set `force_row_wise=true` to remove the overhead.\n",
            "And if memory is not enough, you can set `force_col_wise=true`.\n",
            "[LightGBM] [Info] Total Bins 1095\n",
            "[LightGBM] [Info] Number of data points in the train set: 56250, number of used features: 8\n",
            "[LightGBM] [Info] [binary:BoostFromScore]: pavg=0.190756 -> initscore=-1.445108\n",
            "[LightGBM] [Info] Start training from score -1.445108\n"
          ]
        },
        {
          "output_type": "stream",
          "name": "stderr",
          "text": [
            "[I 2024-09-25 08:52:41,713] Trial 1 finished with value: 0.7157910900089 and parameters: {'num_leaves': 36, 'n_estimators': 711}. Best is trial 0 with value: 0.722173491294875.\n"
          ]
        },
        {
          "output_type": "stream",
          "name": "stdout",
          "text": [
            "[LightGBM] [Info] Number of positive: 10730, number of negative: 45520\n",
            "[LightGBM] [Info] Auto-choosing row-wise multi-threading, the overhead of testing was 0.001420 seconds.\n",
            "You can set `force_row_wise=true` to remove the overhead.\n",
            "And if memory is not enough, you can set `force_col_wise=true`.\n",
            "[LightGBM] [Info] Total Bins 1095\n",
            "[LightGBM] [Info] Number of data points in the train set: 56250, number of used features: 8\n",
            "[LightGBM] [Info] [binary:BoostFromScore]: pavg=0.190756 -> initscore=-1.445108\n",
            "[LightGBM] [Info] Start training from score -1.445108\n"
          ]
        },
        {
          "output_type": "stream",
          "name": "stderr",
          "text": [
            "[I 2024-09-25 08:52:45,364] Trial 2 finished with value: 0.719710373466063 and parameters: {'num_leaves': 58, 'n_estimators': 302}. Best is trial 0 with value: 0.722173491294875.\n"
          ]
        },
        {
          "output_type": "stream",
          "name": "stdout",
          "text": [
            "[LightGBM] [Info] Number of positive: 10730, number of negative: 45520\n",
            "[LightGBM] [Info] Auto-choosing row-wise multi-threading, the overhead of testing was 0.002470 seconds.\n",
            "You can set `force_row_wise=true` to remove the overhead.\n",
            "And if memory is not enough, you can set `force_col_wise=true`.\n",
            "[LightGBM] [Info] Total Bins 1095\n",
            "[LightGBM] [Info] Number of data points in the train set: 56250, number of used features: 8\n",
            "[LightGBM] [Info] [binary:BoostFromScore]: pavg=0.190756 -> initscore=-1.445108\n",
            "[LightGBM] [Info] Start training from score -1.445108\n"
          ]
        },
        {
          "output_type": "stream",
          "name": "stderr",
          "text": [
            "[I 2024-09-25 08:52:48,890] Trial 3 finished with value: 0.7197860798986284 and parameters: {'num_leaves': 63, 'n_estimators': 305}. Best is trial 0 with value: 0.722173491294875.\n"
          ]
        },
        {
          "output_type": "stream",
          "name": "stdout",
          "text": [
            "[LightGBM] [Info] Number of positive: 10730, number of negative: 45520\n",
            "[LightGBM] [Info] Auto-choosing row-wise multi-threading, the overhead of testing was 0.001412 seconds.\n",
            "You can set `force_row_wise=true` to remove the overhead.\n",
            "And if memory is not enough, you can set `force_col_wise=true`.\n",
            "[LightGBM] [Info] Total Bins 1095\n",
            "[LightGBM] [Info] Number of data points in the train set: 56250, number of used features: 8\n",
            "[LightGBM] [Info] [binary:BoostFromScore]: pavg=0.190756 -> initscore=-1.445108\n",
            "[LightGBM] [Info] Start training from score -1.445108\n"
          ]
        },
        {
          "output_type": "stream",
          "name": "stderr",
          "text": [
            "[I 2024-09-25 08:52:59,668] Trial 4 finished with value: 0.719413486570121 and parameters: {'num_leaves': 95, 'n_estimators': 855}. Best is trial 0 with value: 0.722173491294875.\n"
          ]
        },
        {
          "output_type": "stream",
          "name": "stdout",
          "text": [
            "[LightGBM] [Info] Number of positive: 10730, number of negative: 45520\n",
            "[LightGBM] [Info] Auto-choosing row-wise multi-threading, the overhead of testing was 0.008665 seconds.\n",
            "You can set `force_row_wise=true` to remove the overhead.\n",
            "And if memory is not enough, you can set `force_col_wise=true`.\n",
            "[LightGBM] [Info] Total Bins 1095\n",
            "[LightGBM] [Info] Number of data points in the train set: 56250, number of used features: 8\n",
            "[LightGBM] [Info] [binary:BoostFromScore]: pavg=0.190756 -> initscore=-1.445108\n",
            "[LightGBM] [Info] Start training from score -1.445108\n"
          ]
        },
        {
          "output_type": "stream",
          "name": "stderr",
          "text": [
            "[I 2024-09-25 08:53:01,476] Trial 5 finished with value: 0.7231071674165069 and parameters: {'num_leaves': 12, 'n_estimators': 288}. Best is trial 5 with value: 0.7231071674165069.\n"
          ]
        },
        {
          "output_type": "stream",
          "name": "stdout",
          "text": [
            "[LightGBM] [Info] Number of positive: 10730, number of negative: 45520\n",
            "[LightGBM] [Info] Auto-choosing row-wise multi-threading, the overhead of testing was 0.001501 seconds.\n",
            "You can set `force_row_wise=true` to remove the overhead.\n",
            "And if memory is not enough, you can set `force_col_wise=true`.\n",
            "[LightGBM] [Info] Total Bins 1095\n",
            "[LightGBM] [Info] Number of data points in the train set: 56250, number of used features: 8\n",
            "[LightGBM] [Info] [binary:BoostFromScore]: pavg=0.190756 -> initscore=-1.445108\n",
            "[LightGBM] [Info] Start training from score -1.445108\n"
          ]
        },
        {
          "output_type": "stream",
          "name": "stderr",
          "text": [
            "[I 2024-09-25 08:53:03,962] Trial 6 finished with value: 0.7211914456518815 and parameters: {'num_leaves': 28, 'n_estimators': 365}. Best is trial 5 with value: 0.7231071674165069.\n"
          ]
        },
        {
          "output_type": "stream",
          "name": "stdout",
          "text": [
            "[LightGBM] [Info] Number of positive: 10730, number of negative: 45520\n",
            "[LightGBM] [Info] Auto-choosing row-wise multi-threading, the overhead of testing was 0.001705 seconds.\n",
            "You can set `force_row_wise=true` to remove the overhead.\n",
            "And if memory is not enough, you can set `force_col_wise=true`.\n",
            "[LightGBM] [Info] Total Bins 1095\n",
            "[LightGBM] [Info] Number of data points in the train set: 56250, number of used features: 8\n",
            "[LightGBM] [Info] [binary:BoostFromScore]: pavg=0.190756 -> initscore=-1.445108\n",
            "[LightGBM] [Info] Start training from score -1.445108\n"
          ]
        },
        {
          "output_type": "stream",
          "name": "stderr",
          "text": [
            "[I 2024-09-25 08:53:14,588] Trial 7 finished with value: 0.7174620952529088 and parameters: {'num_leaves': 84, 'n_estimators': 858}. Best is trial 5 with value: 0.7231071674165069.\n"
          ]
        },
        {
          "output_type": "stream",
          "name": "stdout",
          "text": [
            "[LightGBM] [Info] Number of positive: 10730, number of negative: 45520\n",
            "[LightGBM] [Info] Auto-choosing row-wise multi-threading, the overhead of testing was 0.001409 seconds.\n",
            "You can set `force_row_wise=true` to remove the overhead.\n",
            "And if memory is not enough, you can set `force_col_wise=true`.\n",
            "[LightGBM] [Info] Total Bins 1095\n",
            "[LightGBM] [Info] Number of data points in the train set: 56250, number of used features: 8\n",
            "[LightGBM] [Info] [binary:BoostFromScore]: pavg=0.190756 -> initscore=-1.445108\n",
            "[LightGBM] [Info] Start training from score -1.445108\n"
          ]
        },
        {
          "output_type": "stream",
          "name": "stderr",
          "text": [
            "[I 2024-09-25 08:53:21,974] Trial 8 finished with value: 0.7149790777607941 and parameters: {'num_leaves': 40, 'n_estimators': 966}. Best is trial 5 with value: 0.7231071674165069.\n"
          ]
        },
        {
          "output_type": "stream",
          "name": "stdout",
          "text": [
            "[LightGBM] [Info] Number of positive: 10730, number of negative: 45520\n",
            "[LightGBM] [Info] Auto-choosing row-wise multi-threading, the overhead of testing was 0.001530 seconds.\n",
            "You can set `force_row_wise=true` to remove the overhead.\n",
            "And if memory is not enough, you can set `force_col_wise=true`.\n",
            "[LightGBM] [Info] Total Bins 1095\n",
            "[LightGBM] [Info] Number of data points in the train set: 56250, number of used features: 8\n",
            "[LightGBM] [Info] [binary:BoostFromScore]: pavg=0.190756 -> initscore=-1.445108\n",
            "[LightGBM] [Info] Start training from score -1.445108\n"
          ]
        },
        {
          "output_type": "stream",
          "name": "stderr",
          "text": [
            "[I 2024-09-25 08:53:34,522] Trial 9 finished with value: 0.7180378332617993 and parameters: {'num_leaves': 91, 'n_estimators': 946}. Best is trial 5 with value: 0.7231071674165069.\n",
            "[I 2024-09-25 08:53:34,801] Trial 10 finished with value: 0.7213653073107379 and parameters: {'num_leaves': 11, 'n_estimators': 25}. Best is trial 5 with value: 0.7231071674165069.\n"
          ]
        },
        {
          "output_type": "stream",
          "name": "stdout",
          "text": [
            "[LightGBM] [Info] Number of positive: 10730, number of negative: 45520\n",
            "[LightGBM] [Info] Auto-choosing row-wise multi-threading, the overhead of testing was 0.001415 seconds.\n",
            "You can set `force_row_wise=true` to remove the overhead.\n",
            "And if memory is not enough, you can set `force_col_wise=true`.\n",
            "[LightGBM] [Info] Total Bins 1095\n",
            "[LightGBM] [Info] Number of data points in the train set: 56250, number of used features: 8\n",
            "[LightGBM] [Info] [binary:BoostFromScore]: pavg=0.190756 -> initscore=-1.445108\n",
            "[LightGBM] [Info] Start training from score -1.445108\n",
            "[LightGBM] [Info] Number of positive: 10730, number of negative: 45520\n",
            "[LightGBM] [Info] Auto-choosing row-wise multi-threading, the overhead of testing was 0.001576 seconds.\n",
            "You can set `force_row_wise=true` to remove the overhead.\n",
            "And if memory is not enough, you can set `force_col_wise=true`.\n",
            "[LightGBM] [Info] Total Bins 1095\n",
            "[LightGBM] [Info] Number of data points in the train set: 56250, number of used features: 8\n",
            "[LightGBM] [Info] [binary:BoostFromScore]: pavg=0.190756 -> initscore=-1.445108\n",
            "[LightGBM] [Info] Start training from score -1.445108\n"
          ]
        },
        {
          "output_type": "stream",
          "name": "stderr",
          "text": [
            "[I 2024-09-25 08:53:35,554] Trial 11 finished with value: 0.7254682469350497 and parameters: {'num_leaves': 73, 'n_estimators': 47}. Best is trial 11 with value: 0.7254682469350497.\n"
          ]
        },
        {
          "output_type": "stream",
          "name": "stdout",
          "text": [
            "[LightGBM] [Info] Number of positive: 10730, number of negative: 45520\n",
            "[LightGBM] [Info] Auto-choosing row-wise multi-threading, the overhead of testing was 0.001406 seconds.\n",
            "You can set `force_row_wise=true` to remove the overhead.\n",
            "And if memory is not enough, you can set `force_col_wise=true`.\n",
            "[LightGBM] [Info] Total Bins 1095\n",
            "[LightGBM] [Info] Number of data points in the train set: 56250, number of used features: 8\n",
            "[LightGBM] [Info] [binary:BoostFromScore]: pavg=0.190756 -> initscore=-1.445108\n",
            "[LightGBM] [Info] Start training from score -1.445108\n"
          ]
        },
        {
          "output_type": "stream",
          "name": "stderr",
          "text": [
            "[I 2024-09-25 08:53:44,055] Trial 12 finished with value: 0.717913976587909 and parameters: {'num_leaves': 76, 'n_estimators': 540}. Best is trial 11 with value: 0.7254682469350497.\n"
          ]
        },
        {
          "output_type": "stream",
          "name": "stdout",
          "text": [
            "[LightGBM] [Info] Number of positive: 10730, number of negative: 45520\n",
            "[LightGBM] [Info] Auto-choosing row-wise multi-threading, the overhead of testing was 0.001397 seconds.\n",
            "You can set `force_row_wise=true` to remove the overhead.\n",
            "And if memory is not enough, you can set `force_col_wise=true`.\n",
            "[LightGBM] [Info] Total Bins 1095\n",
            "[LightGBM] [Info] Number of data points in the train set: 56250, number of used features: 8\n",
            "[LightGBM] [Info] [binary:BoostFromScore]: pavg=0.190756 -> initscore=-1.445108\n",
            "[LightGBM] [Info] Start training from score -1.445108\n"
          ]
        },
        {
          "output_type": "stream",
          "name": "stderr",
          "text": [
            "[I 2024-09-25 08:53:45,546] Trial 13 finished with value: 0.7216763103590229 and parameters: {'num_leaves': 45, 'n_estimators': 150}. Best is trial 11 with value: 0.7254682469350497.\n",
            "[I 2024-09-25 08:53:45,820] Trial 14 finished with value: 0.7216070087308539 and parameters: {'num_leaves': 12, 'n_estimators': 22}. Best is trial 11 with value: 0.7254682469350497.\n"
          ]
        },
        {
          "output_type": "stream",
          "name": "stdout",
          "text": [
            "[LightGBM] [Info] Number of positive: 10730, number of negative: 45520\n",
            "[LightGBM] [Info] Auto-choosing row-wise multi-threading, the overhead of testing was 0.001512 seconds.\n",
            "You can set `force_row_wise=true` to remove the overhead.\n",
            "And if memory is not enough, you can set `force_col_wise=true`.\n",
            "[LightGBM] [Info] Total Bins 1095\n",
            "[LightGBM] [Info] Number of data points in the train set: 56250, number of used features: 8\n",
            "[LightGBM] [Info] [binary:BoostFromScore]: pavg=0.190756 -> initscore=-1.445108\n",
            "[LightGBM] [Info] Start training from score -1.445108\n",
            "[LightGBM] [Info] Number of positive: 10730, number of negative: 45520\n",
            "[LightGBM] [Info] Auto-choosing row-wise multi-threading, the overhead of testing was 0.001433 seconds.\n",
            "You can set `force_row_wise=true` to remove the overhead.\n",
            "And if memory is not enough, you can set `force_col_wise=true`.\n",
            "[LightGBM] [Info] Total Bins 1095\n",
            "[LightGBM] [Info] Number of data points in the train set: 56250, number of used features: 8\n",
            "[LightGBM] [Info] [binary:BoostFromScore]: pavg=0.190756 -> initscore=-1.445108\n",
            "[LightGBM] [Info] Start training from score -1.445108\n"
          ]
        },
        {
          "output_type": "stream",
          "name": "stderr",
          "text": [
            "[I 2024-09-25 08:53:49,877] Trial 15 finished with value: 0.717442140769597 and parameters: {'num_leaves': 50, 'n_estimators': 479}. Best is trial 11 with value: 0.7254682469350497.\n"
          ]
        },
        {
          "output_type": "stream",
          "name": "stdout",
          "text": [
            "[LightGBM] [Info] Number of positive: 10730, number of negative: 45520\n",
            "[LightGBM] [Info] Auto-choosing row-wise multi-threading, the overhead of testing was 0.001604 seconds.\n",
            "You can set `force_row_wise=true` to remove the overhead.\n",
            "And if memory is not enough, you can set `force_col_wise=true`.\n",
            "[LightGBM] [Info] Total Bins 1095\n",
            "[LightGBM] [Info] Number of data points in the train set: 56250, number of used features: 8\n",
            "[LightGBM] [Info] [binary:BoostFromScore]: pavg=0.190756 -> initscore=-1.445108\n",
            "[LightGBM] [Info] Start training from score -1.445108\n"
          ]
        },
        {
          "output_type": "stream",
          "name": "stderr",
          "text": [
            "[I 2024-09-25 08:53:51,330] Trial 16 finished with value: 0.7226290638438213 and parameters: {'num_leaves': 24, 'n_estimators': 193}. Best is trial 11 with value: 0.7254682469350497.\n"
          ]
        },
        {
          "output_type": "stream",
          "name": "stdout",
          "text": [
            "[LightGBM] [Info] Number of positive: 10730, number of negative: 45520\n",
            "[LightGBM] [Info] Auto-choosing row-wise multi-threading, the overhead of testing was 0.001428 seconds.\n",
            "You can set `force_row_wise=true` to remove the overhead.\n",
            "And if memory is not enough, you can set `force_col_wise=true`.\n",
            "[LightGBM] [Info] Total Bins 1095\n",
            "[LightGBM] [Info] Number of data points in the train set: 56250, number of used features: 8\n",
            "[LightGBM] [Info] [binary:BoostFromScore]: pavg=0.190756 -> initscore=-1.445108\n",
            "[LightGBM] [Info] Start training from score -1.445108\n"
          ]
        },
        {
          "output_type": "stream",
          "name": "stderr",
          "text": [
            "[I 2024-09-25 08:53:57,661] Trial 17 finished with value: 0.7196762571470674 and parameters: {'num_leaves': 81, 'n_estimators': 452}. Best is trial 11 with value: 0.7254682469350497.\n"
          ]
        },
        {
          "output_type": "stream",
          "name": "stdout",
          "text": [
            "[LightGBM] [Info] Number of positive: 10730, number of negative: 45520\n",
            "[LightGBM] [Info] Auto-choosing row-wise multi-threading, the overhead of testing was 0.003320 seconds.\n",
            "You can set `force_row_wise=true` to remove the overhead.\n",
            "And if memory is not enough, you can set `force_col_wise=true`.\n",
            "[LightGBM] [Info] Total Bins 1095\n",
            "[LightGBM] [Info] Number of data points in the train set: 56250, number of used features: 8\n",
            "[LightGBM] [Info] [binary:BoostFromScore]: pavg=0.190756 -> initscore=-1.445108\n",
            "[LightGBM] [Info] Start training from score -1.445108\n"
          ]
        },
        {
          "output_type": "stream",
          "name": "stderr",
          "text": [
            "[I 2024-09-25 08:54:04,787] Trial 18 finished with value: 0.7171634175700029 and parameters: {'num_leaves': 71, 'n_estimators': 636}. Best is trial 11 with value: 0.7254682469350497.\n"
          ]
        },
        {
          "output_type": "stream",
          "name": "stdout",
          "text": [
            "[LightGBM] [Info] Number of positive: 10730, number of negative: 45520\n",
            "[LightGBM] [Info] Auto-choosing row-wise multi-threading, the overhead of testing was 0.001395 seconds.\n",
            "You can set `force_row_wise=true` to remove the overhead.\n",
            "And if memory is not enough, you can set `force_col_wise=true`.\n",
            "[LightGBM] [Info] Total Bins 1095\n",
            "[LightGBM] [Info] Number of data points in the train set: 56250, number of used features: 8\n",
            "[LightGBM] [Info] [binary:BoostFromScore]: pavg=0.190756 -> initscore=-1.445108\n",
            "[LightGBM] [Info] Start training from score -1.445108\n"
          ]
        },
        {
          "output_type": "stream",
          "name": "stderr",
          "text": [
            "[I 2024-09-25 08:54:07,022] Trial 19 finished with value: 0.7227037104228771 and parameters: {'num_leaves': 24, 'n_estimators': 230}. Best is trial 11 with value: 0.7254682469350497.\n"
          ]
        },
        {
          "output_type": "stream",
          "name": "stdout",
          "text": [
            "[LightGBM] [Info] Number of positive: 10730, number of negative: 45520\n",
            "[LightGBM] [Info] Auto-choosing col-wise multi-threading, the overhead of testing was 0.008194 seconds.\n",
            "You can set `force_col_wise=true` to remove the overhead.\n",
            "[LightGBM] [Info] Total Bins 1095\n",
            "[LightGBM] [Info] Number of data points in the train set: 56250, number of used features: 8\n",
            "[LightGBM] [Info] [binary:BoostFromScore]: pavg=0.190756 -> initscore=-1.445108\n",
            "[LightGBM] [Info] Start training from score -1.445108\n"
          ]
        },
        {
          "output_type": "stream",
          "name": "stderr",
          "text": [
            "[I 2024-09-25 08:54:08,814] Trial 20 finished with value: 0.7237838290621481 and parameters: {'num_leaves': 56, 'n_estimators': 92}. Best is trial 11 with value: 0.7254682469350497.\n"
          ]
        },
        {
          "output_type": "stream",
          "name": "stdout",
          "text": [
            "[LightGBM] [Info] Number of positive: 10730, number of negative: 45520\n",
            "[LightGBM] [Info] Auto-choosing row-wise multi-threading, the overhead of testing was 0.001390 seconds.\n",
            "You can set `force_row_wise=true` to remove the overhead.\n",
            "And if memory is not enough, you can set `force_col_wise=true`.\n",
            "[LightGBM] [Info] Total Bins 1095\n",
            "[LightGBM] [Info] Number of data points in the train set: 56250, number of used features: 8\n",
            "[LightGBM] [Info] [binary:BoostFromScore]: pavg=0.190756 -> initscore=-1.445108\n",
            "[LightGBM] [Info] Start training from score -1.445108\n"
          ]
        },
        {
          "output_type": "stream",
          "name": "stderr",
          "text": [
            "[I 2024-09-25 08:54:09,940] Trial 21 finished with value: 0.7232647932160019 and parameters: {'num_leaves': 55, 'n_estimators': 88}. Best is trial 11 with value: 0.7254682469350497.\n"
          ]
        },
        {
          "output_type": "stream",
          "name": "stdout",
          "text": [
            "[LightGBM] [Info] Number of positive: 10730, number of negative: 45520\n",
            "[LightGBM] [Info] Auto-choosing row-wise multi-threading, the overhead of testing was 0.001428 seconds.\n",
            "You can set `force_row_wise=true` to remove the overhead.\n",
            "And if memory is not enough, you can set `force_col_wise=true`.\n",
            "[LightGBM] [Info] Total Bins 1095\n",
            "[LightGBM] [Info] Number of data points in the train set: 56250, number of used features: 8\n",
            "[LightGBM] [Info] [binary:BoostFromScore]: pavg=0.190756 -> initscore=-1.445108\n",
            "[LightGBM] [Info] Start training from score -1.445108\n"
          ]
        },
        {
          "output_type": "stream",
          "name": "stderr",
          "text": [
            "[I 2024-09-25 08:54:11,021] Trial 22 finished with value: 0.7235224838054384 and parameters: {'num_leaves': 56, 'n_estimators': 83}. Best is trial 11 with value: 0.7254682469350497.\n"
          ]
        },
        {
          "output_type": "stream",
          "name": "stdout",
          "text": [
            "[LightGBM] [Info] Number of positive: 10730, number of negative: 45520\n",
            "[LightGBM] [Info] Auto-choosing row-wise multi-threading, the overhead of testing was 0.001507 seconds.\n",
            "You can set `force_row_wise=true` to remove the overhead.\n",
            "And if memory is not enough, you can set `force_col_wise=true`.\n",
            "[LightGBM] [Info] Total Bins 1095\n",
            "[LightGBM] [Info] Number of data points in the train set: 56250, number of used features: 8\n",
            "[LightGBM] [Info] [binary:BoostFromScore]: pavg=0.190756 -> initscore=-1.445108\n",
            "[LightGBM] [Info] Start training from score -1.445108\n"
          ]
        },
        {
          "output_type": "stream",
          "name": "stderr",
          "text": [
            "[I 2024-09-25 08:54:12,115] Trial 23 finished with value: 0.7227514586508021 and parameters: {'num_leaves': 63, 'n_estimators': 80}. Best is trial 11 with value: 0.7254682469350497.\n"
          ]
        },
        {
          "output_type": "stream",
          "name": "stdout",
          "text": [
            "[LightGBM] [Info] Number of positive: 10730, number of negative: 45520\n",
            "[LightGBM] [Info] Auto-choosing col-wise multi-threading, the overhead of testing was 0.005365 seconds.\n",
            "You can set `force_col_wise=true` to remove the overhead.\n",
            "[LightGBM] [Info] Total Bins 1095\n",
            "[LightGBM] [Info] Number of data points in the train set: 56250, number of used features: 8\n",
            "[LightGBM] [Info] [binary:BoostFromScore]: pavg=0.190756 -> initscore=-1.445108\n",
            "[LightGBM] [Info] Start training from score -1.445108\n"
          ]
        },
        {
          "output_type": "stream",
          "name": "stderr",
          "text": [
            "[I 2024-09-25 08:54:14,301] Trial 24 finished with value: 0.7221413302228704 and parameters: {'num_leaves': 51, 'n_estimators': 219}. Best is trial 11 with value: 0.7254682469350497.\n"
          ]
        },
        {
          "output_type": "stream",
          "name": "stdout",
          "text": [
            "[LightGBM] [Info] Number of positive: 10730, number of negative: 45520\n",
            "[LightGBM] [Info] Auto-choosing row-wise multi-threading, the overhead of testing was 0.001437 seconds.\n",
            "You can set `force_row_wise=true` to remove the overhead.\n",
            "And if memory is not enough, you can set `force_col_wise=true`.\n",
            "[LightGBM] [Info] Total Bins 1095\n",
            "[LightGBM] [Info] Number of data points in the train set: 56250, number of used features: 8\n",
            "[LightGBM] [Info] [binary:BoostFromScore]: pavg=0.190756 -> initscore=-1.445108\n",
            "[LightGBM] [Info] Start training from score -1.445108\n"
          ]
        },
        {
          "output_type": "stream",
          "name": "stderr",
          "text": [
            "[I 2024-09-25 08:54:15,637] Trial 25 finished with value: 0.7212416607802158 and parameters: {'num_leaves': 65, 'n_estimators': 99}. Best is trial 11 with value: 0.7254682469350497.\n",
            "[I 2024-09-25 08:54:15,887] Trial 26 finished with value: 0.7182626409824446 and parameters: {'num_leaves': 76, 'n_estimators': 10}. Best is trial 11 with value: 0.7254682469350497.\n"
          ]
        },
        {
          "output_type": "stream",
          "name": "stdout",
          "text": [
            "[LightGBM] [Info] Number of positive: 10730, number of negative: 45520\n",
            "[LightGBM] [Info] Auto-choosing row-wise multi-threading, the overhead of testing was 0.001621 seconds.\n",
            "You can set `force_row_wise=true` to remove the overhead.\n",
            "And if memory is not enough, you can set `force_col_wise=true`.\n",
            "[LightGBM] [Info] Total Bins 1095\n",
            "[LightGBM] [Info] Number of data points in the train set: 56250, number of used features: 8\n",
            "[LightGBM] [Info] [binary:BoostFromScore]: pavg=0.190756 -> initscore=-1.445108\n",
            "[LightGBM] [Info] Start training from score -1.445108\n",
            "[LightGBM] [Info] Number of positive: 10730, number of negative: 45520\n",
            "[LightGBM] [Info] Auto-choosing row-wise multi-threading, the overhead of testing was 0.001403 seconds.\n",
            "You can set `force_row_wise=true` to remove the overhead.\n",
            "And if memory is not enough, you can set `force_col_wise=true`.\n",
            "[LightGBM] [Info] Total Bins 1095\n",
            "[LightGBM] [Info] Number of data points in the train set: 56250, number of used features: 8\n",
            "[LightGBM] [Info] [binary:BoostFromScore]: pavg=0.190756 -> initscore=-1.445108\n",
            "[LightGBM] [Info] Start training from score -1.445108\n"
          ]
        },
        {
          "output_type": "stream",
          "name": "stderr",
          "text": [
            "[I 2024-09-25 08:54:19,758] Trial 27 finished with value: 0.7188861546292646 and parameters: {'num_leaves': 57, 'n_estimators': 403}. Best is trial 11 with value: 0.7254682469350497.\n"
          ]
        },
        {
          "output_type": "stream",
          "name": "stdout",
          "text": [
            "[LightGBM] [Info] Number of positive: 10730, number of negative: 45520\n",
            "[LightGBM] [Info] Auto-choosing row-wise multi-threading, the overhead of testing was 0.002728 seconds.\n",
            "You can set `force_row_wise=true` to remove the overhead.\n",
            "And if memory is not enough, you can set `force_col_wise=true`.\n",
            "[LightGBM] [Info] Total Bins 1095\n",
            "[LightGBM] [Info] Number of data points in the train set: 56250, number of used features: 8\n",
            "[LightGBM] [Info] [binary:BoostFromScore]: pavg=0.190756 -> initscore=-1.445108\n",
            "[LightGBM] [Info] Start training from score -1.445108\n"
          ]
        },
        {
          "output_type": "stream",
          "name": "stderr",
          "text": [
            "[I 2024-09-25 08:54:22,928] Trial 28 finished with value: 0.7234110530002772 and parameters: {'num_leaves': 86, 'n_estimators': 177}. Best is trial 11 with value: 0.7254682469350497.\n"
          ]
        },
        {
          "output_type": "stream",
          "name": "stdout",
          "text": [
            "[LightGBM] [Info] Number of positive: 10730, number of negative: 45520\n",
            "[LightGBM] [Info] Auto-choosing col-wise multi-threading, the overhead of testing was 0.005610 seconds.\n",
            "You can set `force_col_wise=true` to remove the overhead.\n",
            "[LightGBM] [Info] Total Bins 1095\n",
            "[LightGBM] [Info] Number of data points in the train set: 56250, number of used features: 8\n",
            "[LightGBM] [Info] [binary:BoostFromScore]: pavg=0.190756 -> initscore=-1.445108\n",
            "[LightGBM] [Info] Start training from score -1.445108\n"
          ]
        },
        {
          "output_type": "stream",
          "name": "stderr",
          "text": [
            "[I 2024-09-25 08:54:25,334] Trial 29 finished with value: 0.7221974659121875 and parameters: {'num_leaves': 69, 'n_estimators': 132}. Best is trial 11 with value: 0.7254682469350497.\n"
          ]
        }
      ]
    },
    {
      "cell_type": "code",
      "source": [
        "study.best_params"
      ],
      "metadata": {
        "colab": {
          "base_uri": "https://localhost:8080/"
        },
        "id": "VSOCN6p_YbQ7",
        "outputId": "4df4e9f5-09fe-4db8-f3db-3a61e01b72c0"
      },
      "execution_count": 43,
      "outputs": [
        {
          "output_type": "execute_result",
          "data": {
            "text/plain": [
              "{'num_leaves': 73, 'n_estimators': 47}"
            ]
          },
          "metadata": {},
          "execution_count": 43
        }
      ]
    },
    {
      "cell_type": "markdown",
      "source": [
        "Обучите модель с найденными гиперпараметрами на Xtrain, ytrain и оцените ROC-AUC на тестовых данных."
      ],
      "metadata": {
        "id": "VSWz4A5w7mpW"
      }
    },
    {
      "cell_type": "code",
      "source": [
        "# your code here\n",
        "model_lgbmc = LGBMClassifier(**study.best_params)\n",
        "model_lgbmc.fit(Xtrain, ytrain)\n",
        "\n",
        "pred_lbbmc = model_lgbmc.predict_proba(Xtest)\n",
        "\n",
        "roc_auc=roc_auc_score(ytest, pred_lbbmc[:,1])\n",
        "\n",
        "print(roc_auc)\n"
      ],
      "metadata": {
        "id": "C2i6MY720D1Y",
        "colab": {
          "base_uri": "https://localhost:8080/"
        },
        "outputId": "66a46707-f96b-4690-9328-f217da7c1e8e"
      },
      "execution_count": 45,
      "outputs": [
        {
          "output_type": "stream",
          "name": "stdout",
          "text": [
            "[LightGBM] [Info] Number of positive: 14346, number of negative: 60654\n",
            "[LightGBM] [Info] Auto-choosing row-wise multi-threading, the overhead of testing was 0.001940 seconds.\n",
            "You can set `force_row_wise=true` to remove the overhead.\n",
            "And if memory is not enough, you can set `force_col_wise=true`.\n",
            "[LightGBM] [Info] Total Bins 1095\n",
            "[LightGBM] [Info] Number of data points in the train set: 75000, number of used features: 8\n",
            "[LightGBM] [Info] [binary:BoostFromScore]: pavg=0.191280 -> initscore=-1.441714\n",
            "[LightGBM] [Info] Start training from score -1.441714\n",
            "0.7331470298702449\n"
          ]
        }
      ]
    },
    {
      "cell_type": "markdown",
      "source": [
        "## Quiz\n",
        "\n",
        "Чему равно количество деревьев в LGBM после подбора гиперпараметров?"
      ],
      "metadata": {
        "id": "bP4nfUCA5gnm"
      }
    },
    {
      "cell_type": "markdown",
      "source": [
        "## Работа над улучшением модели\n",
        "\n",
        "* Попробуйте при помощи Optuna подобрать и другие гиперпарамтеры\n",
        "* Также подберите гиперпараметры у CatBoost (а не только у LightGBM)"
      ],
      "metadata": {
        "id": "pPVSkXK76b17"
      }
    },
    {
      "cell_type": "code",
      "source": [
        "# your code here"
      ],
      "metadata": {
        "id": "NTjHyWL-6lm-"
      },
      "execution_count": null,
      "outputs": []
    },
    {
      "cell_type": "markdown",
      "source": [
        "## Quiz\n",
        "\n",
        "Поделитесь своими результатами!"
      ],
      "metadata": {
        "id": "3kJk1Czm6nJg"
      }
    }
  ]
}