{
  "nbformat": 4,
  "nbformat_minor": 0,
  "metadata": {
    "colab": {
      "provenance": []
    },
    "kernelspec": {
      "name": "python3",
      "display_name": "Python 3"
    },
    "language_info": {
      "name": "python"
    }
  },
  "cells": [
    {
      "cell_type": "markdown",
      "source": [
        "# Прогнозируем задержки самолётов\n"
      ],
      "metadata": {
        "id": "oQHhIWPOzJBg"
      }
    },
    {
      "cell_type": "markdown",
      "source": [
        "В этом домашнем задании вы будете работать с задачей про задержки самолётов.  На основании доступных данных о рейсе вам нужно определить, будет ли он задержан на 15 минут."
      ],
      "metadata": {
        "id": "SwKbfDo_H6X8"
      }
    },
    {
      "cell_type": "markdown",
      "source": [
        "## Импорт библиотек, установка констант"
      ],
      "metadata": {
        "id": "oBQdelPnH8dp"
      }
    },
    {
      "cell_type": "code",
      "source": [
        "import numpy as np\n",
        "import pandas as pd\n",
        "\n",
        "from sklearn.model_selection import cross_val_score, GridSearchCV, train_test_split\n",
        "\n",
        "from sklearn.tree import DecisionTreeClassifier\n",
        "from sklearn.ensemble import RandomForestClassifier, GradientBoostingClassifier\n",
        "\n",
        "from sklearn.metrics import roc_auc_score"
      ],
      "metadata": {
        "id": "bClRKg_6ztrN"
      },
      "execution_count": 1,
      "outputs": []
    },
    {
      "cell_type": "code",
      "source": [
        "RANDOM_STATE = 111\n",
        "DATASET_PATH = 'https://raw.githubusercontent.com/evgpat/edu_stepik_practical_ml/main/datasets/flight_delays_train.csv'"
      ],
      "metadata": {
        "id": "olCOB9B252qv"
      },
      "execution_count": 2,
      "outputs": []
    },
    {
      "cell_type": "markdown",
      "source": [
        "## Загрузка и обзор данных"
      ],
      "metadata": {
        "id": "3iOvWbjTIJHC"
      }
    },
    {
      "cell_type": "code",
      "execution_count": 3,
      "metadata": {
        "id": "jRLI7igdzEBc"
      },
      "outputs": [],
      "source": [
        "data = pd.read_csv(DATASET_PATH)"
      ]
    },
    {
      "cell_type": "code",
      "source": [
        "data.sample(5)"
      ],
      "metadata": {
        "colab": {
          "base_uri": "https://localhost:8080/",
          "height": 206
        },
        "id": "HfAVX9cRzSOw",
        "outputId": "7492f5bb-bc46-4651-f4e7-cd177b66bef6"
      },
      "execution_count": 4,
      "outputs": [
        {
          "output_type": "execute_result",
          "data": {
            "text/plain": [
              "      Month DayofMonth DayOfWeek  DepTime UniqueCarrier Origin Dest  Distance  \\\n",
              "72725   c-5       c-28       c-6      805            OH    CAK  CVG       214   \n",
              "19205   c-5       c-28       c-7      950            NW    STL  DTW       440   \n",
              "96560  c-10        c-8       c-7     1547            WN    BWI  MHT       377   \n",
              "96386   c-2       c-10       c-5     1935            CO    DCA  EWR       199   \n",
              "18434  c-11        c-7       c-2     1350            MQ    DFW  CHA       695   \n",
              "\n",
              "      dep_delayed_15min  \n",
              "72725                 N  \n",
              "19205                 N  \n",
              "96560                 N  \n",
              "96386                 Y  \n",
              "18434                 N  "
            ],
            "text/html": [
              "\n",
              "  <div id=\"df-a4aac45a-af5f-4127-b5b1-f61bb699adf9\" class=\"colab-df-container\">\n",
              "    <div>\n",
              "<style scoped>\n",
              "    .dataframe tbody tr th:only-of-type {\n",
              "        vertical-align: middle;\n",
              "    }\n",
              "\n",
              "    .dataframe tbody tr th {\n",
              "        vertical-align: top;\n",
              "    }\n",
              "\n",
              "    .dataframe thead th {\n",
              "        text-align: right;\n",
              "    }\n",
              "</style>\n",
              "<table border=\"1\" class=\"dataframe\">\n",
              "  <thead>\n",
              "    <tr style=\"text-align: right;\">\n",
              "      <th></th>\n",
              "      <th>Month</th>\n",
              "      <th>DayofMonth</th>\n",
              "      <th>DayOfWeek</th>\n",
              "      <th>DepTime</th>\n",
              "      <th>UniqueCarrier</th>\n",
              "      <th>Origin</th>\n",
              "      <th>Dest</th>\n",
              "      <th>Distance</th>\n",
              "      <th>dep_delayed_15min</th>\n",
              "    </tr>\n",
              "  </thead>\n",
              "  <tbody>\n",
              "    <tr>\n",
              "      <th>72725</th>\n",
              "      <td>c-5</td>\n",
              "      <td>c-28</td>\n",
              "      <td>c-6</td>\n",
              "      <td>805</td>\n",
              "      <td>OH</td>\n",
              "      <td>CAK</td>\n",
              "      <td>CVG</td>\n",
              "      <td>214</td>\n",
              "      <td>N</td>\n",
              "    </tr>\n",
              "    <tr>\n",
              "      <th>19205</th>\n",
              "      <td>c-5</td>\n",
              "      <td>c-28</td>\n",
              "      <td>c-7</td>\n",
              "      <td>950</td>\n",
              "      <td>NW</td>\n",
              "      <td>STL</td>\n",
              "      <td>DTW</td>\n",
              "      <td>440</td>\n",
              "      <td>N</td>\n",
              "    </tr>\n",
              "    <tr>\n",
              "      <th>96560</th>\n",
              "      <td>c-10</td>\n",
              "      <td>c-8</td>\n",
              "      <td>c-7</td>\n",
              "      <td>1547</td>\n",
              "      <td>WN</td>\n",
              "      <td>BWI</td>\n",
              "      <td>MHT</td>\n",
              "      <td>377</td>\n",
              "      <td>N</td>\n",
              "    </tr>\n",
              "    <tr>\n",
              "      <th>96386</th>\n",
              "      <td>c-2</td>\n",
              "      <td>c-10</td>\n",
              "      <td>c-5</td>\n",
              "      <td>1935</td>\n",
              "      <td>CO</td>\n",
              "      <td>DCA</td>\n",
              "      <td>EWR</td>\n",
              "      <td>199</td>\n",
              "      <td>Y</td>\n",
              "    </tr>\n",
              "    <tr>\n",
              "      <th>18434</th>\n",
              "      <td>c-11</td>\n",
              "      <td>c-7</td>\n",
              "      <td>c-2</td>\n",
              "      <td>1350</td>\n",
              "      <td>MQ</td>\n",
              "      <td>DFW</td>\n",
              "      <td>CHA</td>\n",
              "      <td>695</td>\n",
              "      <td>N</td>\n",
              "    </tr>\n",
              "  </tbody>\n",
              "</table>\n",
              "</div>\n",
              "    <div class=\"colab-df-buttons\">\n",
              "\n",
              "  <div class=\"colab-df-container\">\n",
              "    <button class=\"colab-df-convert\" onclick=\"convertToInteractive('df-a4aac45a-af5f-4127-b5b1-f61bb699adf9')\"\n",
              "            title=\"Convert this dataframe to an interactive table.\"\n",
              "            style=\"display:none;\">\n",
              "\n",
              "  <svg xmlns=\"http://www.w3.org/2000/svg\" height=\"24px\" viewBox=\"0 -960 960 960\">\n",
              "    <path d=\"M120-120v-720h720v720H120Zm60-500h600v-160H180v160Zm220 220h160v-160H400v160Zm0 220h160v-160H400v160ZM180-400h160v-160H180v160Zm440 0h160v-160H620v160ZM180-180h160v-160H180v160Zm440 0h160v-160H620v160Z\"/>\n",
              "  </svg>\n",
              "    </button>\n",
              "\n",
              "  <style>\n",
              "    .colab-df-container {\n",
              "      display:flex;\n",
              "      gap: 12px;\n",
              "    }\n",
              "\n",
              "    .colab-df-convert {\n",
              "      background-color: #E8F0FE;\n",
              "      border: none;\n",
              "      border-radius: 50%;\n",
              "      cursor: pointer;\n",
              "      display: none;\n",
              "      fill: #1967D2;\n",
              "      height: 32px;\n",
              "      padding: 0 0 0 0;\n",
              "      width: 32px;\n",
              "    }\n",
              "\n",
              "    .colab-df-convert:hover {\n",
              "      background-color: #E2EBFA;\n",
              "      box-shadow: 0px 1px 2px rgba(60, 64, 67, 0.3), 0px 1px 3px 1px rgba(60, 64, 67, 0.15);\n",
              "      fill: #174EA6;\n",
              "    }\n",
              "\n",
              "    .colab-df-buttons div {\n",
              "      margin-bottom: 4px;\n",
              "    }\n",
              "\n",
              "    [theme=dark] .colab-df-convert {\n",
              "      background-color: #3B4455;\n",
              "      fill: #D2E3FC;\n",
              "    }\n",
              "\n",
              "    [theme=dark] .colab-df-convert:hover {\n",
              "      background-color: #434B5C;\n",
              "      box-shadow: 0px 1px 3px 1px rgba(0, 0, 0, 0.15);\n",
              "      filter: drop-shadow(0px 1px 2px rgba(0, 0, 0, 0.3));\n",
              "      fill: #FFFFFF;\n",
              "    }\n",
              "  </style>\n",
              "\n",
              "    <script>\n",
              "      const buttonEl =\n",
              "        document.querySelector('#df-a4aac45a-af5f-4127-b5b1-f61bb699adf9 button.colab-df-convert');\n",
              "      buttonEl.style.display =\n",
              "        google.colab.kernel.accessAllowed ? 'block' : 'none';\n",
              "\n",
              "      async function convertToInteractive(key) {\n",
              "        const element = document.querySelector('#df-a4aac45a-af5f-4127-b5b1-f61bb699adf9');\n",
              "        const dataTable =\n",
              "          await google.colab.kernel.invokeFunction('convertToInteractive',\n",
              "                                                    [key], {});\n",
              "        if (!dataTable) return;\n",
              "\n",
              "        const docLinkHtml = 'Like what you see? Visit the ' +\n",
              "          '<a target=\"_blank\" href=https://colab.research.google.com/notebooks/data_table.ipynb>data table notebook</a>'\n",
              "          + ' to learn more about interactive tables.';\n",
              "        element.innerHTML = '';\n",
              "        dataTable['output_type'] = 'display_data';\n",
              "        await google.colab.output.renderOutput(dataTable, element);\n",
              "        const docLink = document.createElement('div');\n",
              "        docLink.innerHTML = docLinkHtml;\n",
              "        element.appendChild(docLink);\n",
              "      }\n",
              "    </script>\n",
              "  </div>\n",
              "\n",
              "\n",
              "<div id=\"df-d2009542-fd47-4f95-b90b-726a0628b64f\">\n",
              "  <button class=\"colab-df-quickchart\" onclick=\"quickchart('df-d2009542-fd47-4f95-b90b-726a0628b64f')\"\n",
              "            title=\"Suggest charts\"\n",
              "            style=\"display:none;\">\n",
              "\n",
              "<svg xmlns=\"http://www.w3.org/2000/svg\" height=\"24px\"viewBox=\"0 0 24 24\"\n",
              "     width=\"24px\">\n",
              "    <g>\n",
              "        <path d=\"M19 3H5c-1.1 0-2 .9-2 2v14c0 1.1.9 2 2 2h14c1.1 0 2-.9 2-2V5c0-1.1-.9-2-2-2zM9 17H7v-7h2v7zm4 0h-2V7h2v10zm4 0h-2v-4h2v4z\"/>\n",
              "    </g>\n",
              "</svg>\n",
              "  </button>\n",
              "\n",
              "<style>\n",
              "  .colab-df-quickchart {\n",
              "      --bg-color: #E8F0FE;\n",
              "      --fill-color: #1967D2;\n",
              "      --hover-bg-color: #E2EBFA;\n",
              "      --hover-fill-color: #174EA6;\n",
              "      --disabled-fill-color: #AAA;\n",
              "      --disabled-bg-color: #DDD;\n",
              "  }\n",
              "\n",
              "  [theme=dark] .colab-df-quickchart {\n",
              "      --bg-color: #3B4455;\n",
              "      --fill-color: #D2E3FC;\n",
              "      --hover-bg-color: #434B5C;\n",
              "      --hover-fill-color: #FFFFFF;\n",
              "      --disabled-bg-color: #3B4455;\n",
              "      --disabled-fill-color: #666;\n",
              "  }\n",
              "\n",
              "  .colab-df-quickchart {\n",
              "    background-color: var(--bg-color);\n",
              "    border: none;\n",
              "    border-radius: 50%;\n",
              "    cursor: pointer;\n",
              "    display: none;\n",
              "    fill: var(--fill-color);\n",
              "    height: 32px;\n",
              "    padding: 0;\n",
              "    width: 32px;\n",
              "  }\n",
              "\n",
              "  .colab-df-quickchart:hover {\n",
              "    background-color: var(--hover-bg-color);\n",
              "    box-shadow: 0 1px 2px rgba(60, 64, 67, 0.3), 0 1px 3px 1px rgba(60, 64, 67, 0.15);\n",
              "    fill: var(--button-hover-fill-color);\n",
              "  }\n",
              "\n",
              "  .colab-df-quickchart-complete:disabled,\n",
              "  .colab-df-quickchart-complete:disabled:hover {\n",
              "    background-color: var(--disabled-bg-color);\n",
              "    fill: var(--disabled-fill-color);\n",
              "    box-shadow: none;\n",
              "  }\n",
              "\n",
              "  .colab-df-spinner {\n",
              "    border: 2px solid var(--fill-color);\n",
              "    border-color: transparent;\n",
              "    border-bottom-color: var(--fill-color);\n",
              "    animation:\n",
              "      spin 1s steps(1) infinite;\n",
              "  }\n",
              "\n",
              "  @keyframes spin {\n",
              "    0% {\n",
              "      border-color: transparent;\n",
              "      border-bottom-color: var(--fill-color);\n",
              "      border-left-color: var(--fill-color);\n",
              "    }\n",
              "    20% {\n",
              "      border-color: transparent;\n",
              "      border-left-color: var(--fill-color);\n",
              "      border-top-color: var(--fill-color);\n",
              "    }\n",
              "    30% {\n",
              "      border-color: transparent;\n",
              "      border-left-color: var(--fill-color);\n",
              "      border-top-color: var(--fill-color);\n",
              "      border-right-color: var(--fill-color);\n",
              "    }\n",
              "    40% {\n",
              "      border-color: transparent;\n",
              "      border-right-color: var(--fill-color);\n",
              "      border-top-color: var(--fill-color);\n",
              "    }\n",
              "    60% {\n",
              "      border-color: transparent;\n",
              "      border-right-color: var(--fill-color);\n",
              "    }\n",
              "    80% {\n",
              "      border-color: transparent;\n",
              "      border-right-color: var(--fill-color);\n",
              "      border-bottom-color: var(--fill-color);\n",
              "    }\n",
              "    90% {\n",
              "      border-color: transparent;\n",
              "      border-bottom-color: var(--fill-color);\n",
              "    }\n",
              "  }\n",
              "</style>\n",
              "\n",
              "  <script>\n",
              "    async function quickchart(key) {\n",
              "      const quickchartButtonEl =\n",
              "        document.querySelector('#' + key + ' button');\n",
              "      quickchartButtonEl.disabled = true;  // To prevent multiple clicks.\n",
              "      quickchartButtonEl.classList.add('colab-df-spinner');\n",
              "      try {\n",
              "        const charts = await google.colab.kernel.invokeFunction(\n",
              "            'suggestCharts', [key], {});\n",
              "      } catch (error) {\n",
              "        console.error('Error during call to suggestCharts:', error);\n",
              "      }\n",
              "      quickchartButtonEl.classList.remove('colab-df-spinner');\n",
              "      quickchartButtonEl.classList.add('colab-df-quickchart-complete');\n",
              "    }\n",
              "    (() => {\n",
              "      let quickchartButtonEl =\n",
              "        document.querySelector('#df-d2009542-fd47-4f95-b90b-726a0628b64f button');\n",
              "      quickchartButtonEl.style.display =\n",
              "        google.colab.kernel.accessAllowed ? 'block' : 'none';\n",
              "    })();\n",
              "  </script>\n",
              "</div>\n",
              "    </div>\n",
              "  </div>\n"
            ],
            "application/vnd.google.colaboratory.intrinsic+json": {
              "type": "dataframe",
              "summary": "{\n  \"name\": \"data\",\n  \"rows\": 5,\n  \"fields\": [\n    {\n      \"column\": \"Month\",\n      \"properties\": {\n        \"dtype\": \"string\",\n        \"num_unique_values\": 4,\n        \"samples\": [\n          \"c-10\",\n          \"c-11\",\n          \"c-5\"\n        ],\n        \"semantic_type\": \"\",\n        \"description\": \"\"\n      }\n    },\n    {\n      \"column\": \"DayofMonth\",\n      \"properties\": {\n        \"dtype\": \"string\",\n        \"num_unique_values\": 4,\n        \"samples\": [\n          \"c-8\",\n          \"c-7\",\n          \"c-28\"\n        ],\n        \"semantic_type\": \"\",\n        \"description\": \"\"\n      }\n    },\n    {\n      \"column\": \"DayOfWeek\",\n      \"properties\": {\n        \"dtype\": \"string\",\n        \"num_unique_values\": 4,\n        \"samples\": [\n          \"c-7\",\n          \"c-2\",\n          \"c-6\"\n        ],\n        \"semantic_type\": \"\",\n        \"description\": \"\"\n      }\n    },\n    {\n      \"column\": \"DepTime\",\n      \"properties\": {\n        \"dtype\": \"number\",\n        \"std\": 456,\n        \"min\": 805,\n        \"max\": 1935,\n        \"num_unique_values\": 5,\n        \"samples\": [\n          950,\n          1350,\n          1547\n        ],\n        \"semantic_type\": \"\",\n        \"description\": \"\"\n      }\n    },\n    {\n      \"column\": \"UniqueCarrier\",\n      \"properties\": {\n        \"dtype\": \"string\",\n        \"num_unique_values\": 5,\n        \"samples\": [\n          \"NW\",\n          \"MQ\",\n          \"WN\"\n        ],\n        \"semantic_type\": \"\",\n        \"description\": \"\"\n      }\n    },\n    {\n      \"column\": \"Origin\",\n      \"properties\": {\n        \"dtype\": \"string\",\n        \"num_unique_values\": 5,\n        \"samples\": [\n          \"STL\",\n          \"DFW\",\n          \"BWI\"\n        ],\n        \"semantic_type\": \"\",\n        \"description\": \"\"\n      }\n    },\n    {\n      \"column\": \"Dest\",\n      \"properties\": {\n        \"dtype\": \"string\",\n        \"num_unique_values\": 5,\n        \"samples\": [\n          \"DTW\",\n          \"CHA\",\n          \"MHT\"\n        ],\n        \"semantic_type\": \"\",\n        \"description\": \"\"\n      }\n    },\n    {\n      \"column\": \"Distance\",\n      \"properties\": {\n        \"dtype\": \"number\",\n        \"std\": 201,\n        \"min\": 199,\n        \"max\": 695,\n        \"num_unique_values\": 5,\n        \"samples\": [\n          440,\n          695,\n          377\n        ],\n        \"semantic_type\": \"\",\n        \"description\": \"\"\n      }\n    },\n    {\n      \"column\": \"dep_delayed_15min\",\n      \"properties\": {\n        \"dtype\": \"category\",\n        \"num_unique_values\": 2,\n        \"samples\": [\n          \"Y\",\n          \"N\"\n        ],\n        \"semantic_type\": \"\",\n        \"description\": \"\"\n      }\n    }\n  ]\n}"
            }
          },
          "metadata": {},
          "execution_count": 4
        }
      ]
    },
    {
      "cell_type": "markdown",
      "source": [
        "## Вопрос для Quiz\n",
        "\n",
        "Сколько числовых столбцов в данных?"
      ],
      "metadata": {
        "id": "9SKTUo8AGv0o"
      }
    },
    {
      "cell_type": "code",
      "source": [
        "data.shape"
      ],
      "metadata": {
        "colab": {
          "base_uri": "https://localhost:8080/"
        },
        "id": "vtd7HlSk1HdH",
        "outputId": "290afa9e-f92f-4241-c56b-159085e632c4"
      },
      "execution_count": 5,
      "outputs": [
        {
          "output_type": "execute_result",
          "data": {
            "text/plain": [
              "(100000, 9)"
            ]
          },
          "metadata": {},
          "execution_count": 5
        }
      ]
    },
    {
      "cell_type": "code",
      "source": [
        "#фальстарт Числовых нада\n",
        "data.info()"
      ],
      "metadata": {
        "colab": {
          "base_uri": "https://localhost:8080/"
        },
        "id": "0lwcUEEU1Vh3",
        "outputId": "0aea4b44-62d0-4a10-fa60-02489a37730f"
      },
      "execution_count": 6,
      "outputs": [
        {
          "output_type": "stream",
          "name": "stdout",
          "text": [
            "<class 'pandas.core.frame.DataFrame'>\n",
            "RangeIndex: 100000 entries, 0 to 99999\n",
            "Data columns (total 9 columns):\n",
            " #   Column             Non-Null Count   Dtype \n",
            "---  ------             --------------   ----- \n",
            " 0   Month              100000 non-null  object\n",
            " 1   DayofMonth         100000 non-null  object\n",
            " 2   DayOfWeek          100000 non-null  object\n",
            " 3   DepTime            100000 non-null  int64 \n",
            " 4   UniqueCarrier      100000 non-null  object\n",
            " 5   Origin             100000 non-null  object\n",
            " 6   Dest               100000 non-null  object\n",
            " 7   Distance           100000 non-null  int64 \n",
            " 8   dep_delayed_15min  100000 non-null  object\n",
            "dtypes: int64(2), object(7)\n",
            "memory usage: 6.9+ MB\n"
          ]
        }
      ]
    },
    {
      "cell_type": "markdown",
      "source": [
        "## Обучение моделей"
      ],
      "metadata": {
        "id": "ny1TeYVM35nK"
      }
    },
    {
      "cell_type": "markdown",
      "source": [
        "Разбейте данные\n",
        "* на матрицу объект признак `X`, содержащую только числовые столбцы `DepTime`, `Distance`\n",
        "* вектор с целевой переменной `y`, равный столбцу `dep_delayed_15min`, переведенном в 0 и 1 по правилу: 'Y' - 1, 'N' - 0."
      ],
      "metadata": {
        "id": "irdBqYWb37Zn"
      }
    },
    {
      "cell_type": "code",
      "source": [
        "# your code here\n",
        "X = data[['DepTime', 'Distance']]\n",
        "X.head()"
      ],
      "metadata": {
        "id": "upSiQPChzXeJ",
        "colab": {
          "base_uri": "https://localhost:8080/",
          "height": 206
        },
        "outputId": "32eb9eba-2c23-490a-901e-4d48495d19df"
      },
      "execution_count": 8,
      "outputs": [
        {
          "output_type": "execute_result",
          "data": {
            "text/plain": [
              "   DepTime  Distance\n",
              "0     1934       732\n",
              "1     1548       834\n",
              "2     1422       416\n",
              "3     1015       872\n",
              "4     1828       423"
            ],
            "text/html": [
              "\n",
              "  <div id=\"df-fe7031da-6991-4139-a6eb-eba5ee17e330\" class=\"colab-df-container\">\n",
              "    <div>\n",
              "<style scoped>\n",
              "    .dataframe tbody tr th:only-of-type {\n",
              "        vertical-align: middle;\n",
              "    }\n",
              "\n",
              "    .dataframe tbody tr th {\n",
              "        vertical-align: top;\n",
              "    }\n",
              "\n",
              "    .dataframe thead th {\n",
              "        text-align: right;\n",
              "    }\n",
              "</style>\n",
              "<table border=\"1\" class=\"dataframe\">\n",
              "  <thead>\n",
              "    <tr style=\"text-align: right;\">\n",
              "      <th></th>\n",
              "      <th>DepTime</th>\n",
              "      <th>Distance</th>\n",
              "    </tr>\n",
              "  </thead>\n",
              "  <tbody>\n",
              "    <tr>\n",
              "      <th>0</th>\n",
              "      <td>1934</td>\n",
              "      <td>732</td>\n",
              "    </tr>\n",
              "    <tr>\n",
              "      <th>1</th>\n",
              "      <td>1548</td>\n",
              "      <td>834</td>\n",
              "    </tr>\n",
              "    <tr>\n",
              "      <th>2</th>\n",
              "      <td>1422</td>\n",
              "      <td>416</td>\n",
              "    </tr>\n",
              "    <tr>\n",
              "      <th>3</th>\n",
              "      <td>1015</td>\n",
              "      <td>872</td>\n",
              "    </tr>\n",
              "    <tr>\n",
              "      <th>4</th>\n",
              "      <td>1828</td>\n",
              "      <td>423</td>\n",
              "    </tr>\n",
              "  </tbody>\n",
              "</table>\n",
              "</div>\n",
              "    <div class=\"colab-df-buttons\">\n",
              "\n",
              "  <div class=\"colab-df-container\">\n",
              "    <button class=\"colab-df-convert\" onclick=\"convertToInteractive('df-fe7031da-6991-4139-a6eb-eba5ee17e330')\"\n",
              "            title=\"Convert this dataframe to an interactive table.\"\n",
              "            style=\"display:none;\">\n",
              "\n",
              "  <svg xmlns=\"http://www.w3.org/2000/svg\" height=\"24px\" viewBox=\"0 -960 960 960\">\n",
              "    <path d=\"M120-120v-720h720v720H120Zm60-500h600v-160H180v160Zm220 220h160v-160H400v160Zm0 220h160v-160H400v160ZM180-400h160v-160H180v160Zm440 0h160v-160H620v160ZM180-180h160v-160H180v160Zm440 0h160v-160H620v160Z\"/>\n",
              "  </svg>\n",
              "    </button>\n",
              "\n",
              "  <style>\n",
              "    .colab-df-container {\n",
              "      display:flex;\n",
              "      gap: 12px;\n",
              "    }\n",
              "\n",
              "    .colab-df-convert {\n",
              "      background-color: #E8F0FE;\n",
              "      border: none;\n",
              "      border-radius: 50%;\n",
              "      cursor: pointer;\n",
              "      display: none;\n",
              "      fill: #1967D2;\n",
              "      height: 32px;\n",
              "      padding: 0 0 0 0;\n",
              "      width: 32px;\n",
              "    }\n",
              "\n",
              "    .colab-df-convert:hover {\n",
              "      background-color: #E2EBFA;\n",
              "      box-shadow: 0px 1px 2px rgba(60, 64, 67, 0.3), 0px 1px 3px 1px rgba(60, 64, 67, 0.15);\n",
              "      fill: #174EA6;\n",
              "    }\n",
              "\n",
              "    .colab-df-buttons div {\n",
              "      margin-bottom: 4px;\n",
              "    }\n",
              "\n",
              "    [theme=dark] .colab-df-convert {\n",
              "      background-color: #3B4455;\n",
              "      fill: #D2E3FC;\n",
              "    }\n",
              "\n",
              "    [theme=dark] .colab-df-convert:hover {\n",
              "      background-color: #434B5C;\n",
              "      box-shadow: 0px 1px 3px 1px rgba(0, 0, 0, 0.15);\n",
              "      filter: drop-shadow(0px 1px 2px rgba(0, 0, 0, 0.3));\n",
              "      fill: #FFFFFF;\n",
              "    }\n",
              "  </style>\n",
              "\n",
              "    <script>\n",
              "      const buttonEl =\n",
              "        document.querySelector('#df-fe7031da-6991-4139-a6eb-eba5ee17e330 button.colab-df-convert');\n",
              "      buttonEl.style.display =\n",
              "        google.colab.kernel.accessAllowed ? 'block' : 'none';\n",
              "\n",
              "      async function convertToInteractive(key) {\n",
              "        const element = document.querySelector('#df-fe7031da-6991-4139-a6eb-eba5ee17e330');\n",
              "        const dataTable =\n",
              "          await google.colab.kernel.invokeFunction('convertToInteractive',\n",
              "                                                    [key], {});\n",
              "        if (!dataTable) return;\n",
              "\n",
              "        const docLinkHtml = 'Like what you see? Visit the ' +\n",
              "          '<a target=\"_blank\" href=https://colab.research.google.com/notebooks/data_table.ipynb>data table notebook</a>'\n",
              "          + ' to learn more about interactive tables.';\n",
              "        element.innerHTML = '';\n",
              "        dataTable['output_type'] = 'display_data';\n",
              "        await google.colab.output.renderOutput(dataTable, element);\n",
              "        const docLink = document.createElement('div');\n",
              "        docLink.innerHTML = docLinkHtml;\n",
              "        element.appendChild(docLink);\n",
              "      }\n",
              "    </script>\n",
              "  </div>\n",
              "\n",
              "\n",
              "<div id=\"df-4fcb5662-0d3b-4e5a-b7a1-982538fe806e\">\n",
              "  <button class=\"colab-df-quickchart\" onclick=\"quickchart('df-4fcb5662-0d3b-4e5a-b7a1-982538fe806e')\"\n",
              "            title=\"Suggest charts\"\n",
              "            style=\"display:none;\">\n",
              "\n",
              "<svg xmlns=\"http://www.w3.org/2000/svg\" height=\"24px\"viewBox=\"0 0 24 24\"\n",
              "     width=\"24px\">\n",
              "    <g>\n",
              "        <path d=\"M19 3H5c-1.1 0-2 .9-2 2v14c0 1.1.9 2 2 2h14c1.1 0 2-.9 2-2V5c0-1.1-.9-2-2-2zM9 17H7v-7h2v7zm4 0h-2V7h2v10zm4 0h-2v-4h2v4z\"/>\n",
              "    </g>\n",
              "</svg>\n",
              "  </button>\n",
              "\n",
              "<style>\n",
              "  .colab-df-quickchart {\n",
              "      --bg-color: #E8F0FE;\n",
              "      --fill-color: #1967D2;\n",
              "      --hover-bg-color: #E2EBFA;\n",
              "      --hover-fill-color: #174EA6;\n",
              "      --disabled-fill-color: #AAA;\n",
              "      --disabled-bg-color: #DDD;\n",
              "  }\n",
              "\n",
              "  [theme=dark] .colab-df-quickchart {\n",
              "      --bg-color: #3B4455;\n",
              "      --fill-color: #D2E3FC;\n",
              "      --hover-bg-color: #434B5C;\n",
              "      --hover-fill-color: #FFFFFF;\n",
              "      --disabled-bg-color: #3B4455;\n",
              "      --disabled-fill-color: #666;\n",
              "  }\n",
              "\n",
              "  .colab-df-quickchart {\n",
              "    background-color: var(--bg-color);\n",
              "    border: none;\n",
              "    border-radius: 50%;\n",
              "    cursor: pointer;\n",
              "    display: none;\n",
              "    fill: var(--fill-color);\n",
              "    height: 32px;\n",
              "    padding: 0;\n",
              "    width: 32px;\n",
              "  }\n",
              "\n",
              "  .colab-df-quickchart:hover {\n",
              "    background-color: var(--hover-bg-color);\n",
              "    box-shadow: 0 1px 2px rgba(60, 64, 67, 0.3), 0 1px 3px 1px rgba(60, 64, 67, 0.15);\n",
              "    fill: var(--button-hover-fill-color);\n",
              "  }\n",
              "\n",
              "  .colab-df-quickchart-complete:disabled,\n",
              "  .colab-df-quickchart-complete:disabled:hover {\n",
              "    background-color: var(--disabled-bg-color);\n",
              "    fill: var(--disabled-fill-color);\n",
              "    box-shadow: none;\n",
              "  }\n",
              "\n",
              "  .colab-df-spinner {\n",
              "    border: 2px solid var(--fill-color);\n",
              "    border-color: transparent;\n",
              "    border-bottom-color: var(--fill-color);\n",
              "    animation:\n",
              "      spin 1s steps(1) infinite;\n",
              "  }\n",
              "\n",
              "  @keyframes spin {\n",
              "    0% {\n",
              "      border-color: transparent;\n",
              "      border-bottom-color: var(--fill-color);\n",
              "      border-left-color: var(--fill-color);\n",
              "    }\n",
              "    20% {\n",
              "      border-color: transparent;\n",
              "      border-left-color: var(--fill-color);\n",
              "      border-top-color: var(--fill-color);\n",
              "    }\n",
              "    30% {\n",
              "      border-color: transparent;\n",
              "      border-left-color: var(--fill-color);\n",
              "      border-top-color: var(--fill-color);\n",
              "      border-right-color: var(--fill-color);\n",
              "    }\n",
              "    40% {\n",
              "      border-color: transparent;\n",
              "      border-right-color: var(--fill-color);\n",
              "      border-top-color: var(--fill-color);\n",
              "    }\n",
              "    60% {\n",
              "      border-color: transparent;\n",
              "      border-right-color: var(--fill-color);\n",
              "    }\n",
              "    80% {\n",
              "      border-color: transparent;\n",
              "      border-right-color: var(--fill-color);\n",
              "      border-bottom-color: var(--fill-color);\n",
              "    }\n",
              "    90% {\n",
              "      border-color: transparent;\n",
              "      border-bottom-color: var(--fill-color);\n",
              "    }\n",
              "  }\n",
              "</style>\n",
              "\n",
              "  <script>\n",
              "    async function quickchart(key) {\n",
              "      const quickchartButtonEl =\n",
              "        document.querySelector('#' + key + ' button');\n",
              "      quickchartButtonEl.disabled = true;  // To prevent multiple clicks.\n",
              "      quickchartButtonEl.classList.add('colab-df-spinner');\n",
              "      try {\n",
              "        const charts = await google.colab.kernel.invokeFunction(\n",
              "            'suggestCharts', [key], {});\n",
              "      } catch (error) {\n",
              "        console.error('Error during call to suggestCharts:', error);\n",
              "      }\n",
              "      quickchartButtonEl.classList.remove('colab-df-spinner');\n",
              "      quickchartButtonEl.classList.add('colab-df-quickchart-complete');\n",
              "    }\n",
              "    (() => {\n",
              "      let quickchartButtonEl =\n",
              "        document.querySelector('#df-4fcb5662-0d3b-4e5a-b7a1-982538fe806e button');\n",
              "      quickchartButtonEl.style.display =\n",
              "        google.colab.kernel.accessAllowed ? 'block' : 'none';\n",
              "    })();\n",
              "  </script>\n",
              "</div>\n",
              "    </div>\n",
              "  </div>\n"
            ],
            "application/vnd.google.colaboratory.intrinsic+json": {
              "type": "dataframe",
              "variable_name": "X",
              "summary": "{\n  \"name\": \"X\",\n  \"rows\": 100000,\n  \"fields\": [\n    {\n      \"column\": \"DepTime\",\n      \"properties\": {\n        \"dtype\": \"number\",\n        \"std\": 476,\n        \"min\": 1,\n        \"max\": 2534,\n        \"num_unique_values\": 1300,\n        \"samples\": [\n          1550,\n          839,\n          1149\n        ],\n        \"semantic_type\": \"\",\n        \"description\": \"\"\n      }\n    },\n    {\n      \"column\": \"Distance\",\n      \"properties\": {\n        \"dtype\": \"number\",\n        \"std\": 574,\n        \"min\": 30,\n        \"max\": 4962,\n        \"num_unique_values\": 1310,\n        \"samples\": [\n          1142,\n          663,\n          2116\n        ],\n        \"semantic_type\": \"\",\n        \"description\": \"\"\n      }\n    }\n  ]\n}"
            }
          },
          "metadata": {},
          "execution_count": 8
        }
      ]
    },
    {
      "cell_type": "code",
      "source": [
        "y = data['dep_delayed_15min'].apply(lambda x: 1 if x == 'Y' else 0)\n",
        "y[:5]"
      ],
      "metadata": {
        "colab": {
          "base_uri": "https://localhost:8080/",
          "height": 241
        },
        "id": "lupYoyuA3F4o",
        "outputId": "7965b763-d061-4587-c614-a804d3d91713"
      },
      "execution_count": 9,
      "outputs": [
        {
          "output_type": "execute_result",
          "data": {
            "text/plain": [
              "0    0\n",
              "1    0\n",
              "2    0\n",
              "3    0\n",
              "4    1\n",
              "Name: dep_delayed_15min, dtype: int64"
            ],
            "text/html": [
              "<div>\n",
              "<style scoped>\n",
              "    .dataframe tbody tr th:only-of-type {\n",
              "        vertical-align: middle;\n",
              "    }\n",
              "\n",
              "    .dataframe tbody tr th {\n",
              "        vertical-align: top;\n",
              "    }\n",
              "\n",
              "    .dataframe thead th {\n",
              "        text-align: right;\n",
              "    }\n",
              "</style>\n",
              "<table border=\"1\" class=\"dataframe\">\n",
              "  <thead>\n",
              "    <tr style=\"text-align: right;\">\n",
              "      <th></th>\n",
              "      <th>dep_delayed_15min</th>\n",
              "    </tr>\n",
              "  </thead>\n",
              "  <tbody>\n",
              "    <tr>\n",
              "      <th>0</th>\n",
              "      <td>0</td>\n",
              "    </tr>\n",
              "    <tr>\n",
              "      <th>1</th>\n",
              "      <td>0</td>\n",
              "    </tr>\n",
              "    <tr>\n",
              "      <th>2</th>\n",
              "      <td>0</td>\n",
              "    </tr>\n",
              "    <tr>\n",
              "      <th>3</th>\n",
              "      <td>0</td>\n",
              "    </tr>\n",
              "    <tr>\n",
              "      <th>4</th>\n",
              "      <td>1</td>\n",
              "    </tr>\n",
              "  </tbody>\n",
              "</table>\n",
              "</div><br><label><b>dtype:</b> int64</label>"
            ]
          },
          "metadata": {},
          "execution_count": 9
        }
      ]
    },
    {
      "cell_type": "markdown",
      "source": [
        "Обучите по кросс-валидации с тремя фолдами и метрикой *ROC-AUC* (`scoring='roc_auc'`) три модели с гиперпараметрами по умолчанию:\n",
        "* решающее дерево\n",
        "* случайный лес\n",
        "* градиентный бустинг\n",
        "\n",
        "Выведите на экран среднее качество по кросс-валидации каждой из моделей."
      ],
      "metadata": {
        "id": "IRi3V_N04WfE"
      }
    },
    {
      "cell_type": "code",
      "source": [
        "dt = DecisionTreeClassifier(random_state=RANDOM_STATE)\n",
        "cross_val_score(dt, X, y, cv=3, scoring='roc_auc').mean()"
      ],
      "metadata": {
        "colab": {
          "base_uri": "https://localhost:8080/"
        },
        "id": "x9JUpZiD4f-A",
        "outputId": "fd98b70f-e292-4089-8ad7-e0a634fbe7af"
      },
      "execution_count": 10,
      "outputs": [
        {
          "output_type": "execute_result",
          "data": {
            "text/plain": [
              "0.5792982351791407"
            ]
          },
          "metadata": {},
          "execution_count": 10
        }
      ]
    },
    {
      "cell_type": "code",
      "source": [
        "\n",
        "rf = RandomForestClassifier(random_state=RANDOM_STATE)\n",
        "\n",
        "cross_val_score(rf, X, y, cv=3, scoring='roc_auc').mean()"
      ],
      "metadata": {
        "id": "gRLMQgm62s5o",
        "colab": {
          "base_uri": "https://localhost:8080/"
        },
        "outputId": "30dfcc08-b7aa-4290-8b85-185c4751c4ce"
      },
      "execution_count": 11,
      "outputs": [
        {
          "output_type": "execute_result",
          "data": {
            "text/plain": [
              "0.6758129274941099"
            ]
          },
          "metadata": {},
          "execution_count": 11
        }
      ]
    },
    {
      "cell_type": "code",
      "source": [
        "gb = GradientBoostingClassifier(random_state=RANDOM_STATE)\n",
        "\n",
        "cross_val_score(gb, X, y, cv=3, scoring='roc_auc').mean()"
      ],
      "metadata": {
        "colab": {
          "base_uri": "https://localhost:8080/"
        },
        "id": "YqLTF-c04cBv",
        "outputId": "bd50efc8-4098-47f4-d568-983640376c3c"
      },
      "execution_count": 12,
      "outputs": [
        {
          "output_type": "execute_result",
          "data": {
            "text/plain": [
              "0.6992516986788738"
            ]
          },
          "metadata": {},
          "execution_count": 12
        }
      ]
    },
    {
      "cell_type": "code",
      "source": [],
      "metadata": {
        "id": "GtEAHziz4bwg"
      },
      "execution_count": null,
      "outputs": []
    },
    {
      "cell_type": "markdown",
      "source": [
        "## Вопрос для Quiz\n",
        "\n",
        "какой алгоритм показал наилучшее качество?"
      ],
      "metadata": {
        "id": "b5PkxoGSFZHp"
      }
    },
    {
      "cell_type": "markdown",
      "source": [
        "Выведите *bias* и *variance* каждой из моделей при помощи `bias_variance_decomp` из библиотеки `mlxtend`. Функция на вход ожидает получения тренировочных и тестовых данных, поэтому разобъем все данные на train и test.\n",
        "\n",
        "Для ускорения вычислений\n",
        "* возьмите только первые 1000 строк из тренировочных данных (`Xtrain[:1000], ytrain[:1000]`)\n",
        "* поставьте `num_rounds = 50` в функции `bias_variance_decomp`\n",
        "\n",
        "И не забудьте перевести `pd.dataframe` в `np.array` - так как библиотека умеет работать только с этим типом данных (`Xtrain.values` и так для всех объектов)."
      ],
      "metadata": {
        "id": "g3e-yghf-9XN"
      }
    },
    {
      "cell_type": "code",
      "source": [
        "!pip install mlxtend --upgrade"
      ],
      "metadata": {
        "id": "j0o53a2G_F3k",
        "colab": {
          "base_uri": "https://localhost:8080/"
        },
        "outputId": "f33be5a7-428f-44ea-ade9-2ca1a6ff5f42"
      },
      "execution_count": 13,
      "outputs": [
        {
          "output_type": "stream",
          "name": "stdout",
          "text": [
            "Requirement already satisfied: mlxtend in /usr/local/lib/python3.10/dist-packages (0.23.1)\n",
            "Requirement already satisfied: scipy>=1.2.1 in /usr/local/lib/python3.10/dist-packages (from mlxtend) (1.13.1)\n",
            "Requirement already satisfied: numpy>=1.16.2 in /usr/local/lib/python3.10/dist-packages (from mlxtend) (1.26.4)\n",
            "Requirement already satisfied: pandas>=0.24.2 in /usr/local/lib/python3.10/dist-packages (from mlxtend) (2.1.4)\n",
            "Requirement already satisfied: scikit-learn>=1.0.2 in /usr/local/lib/python3.10/dist-packages (from mlxtend) (1.5.2)\n",
            "Requirement already satisfied: matplotlib>=3.0.0 in /usr/local/lib/python3.10/dist-packages (from mlxtend) (3.7.1)\n",
            "Requirement already satisfied: joblib>=0.13.2 in /usr/local/lib/python3.10/dist-packages (from mlxtend) (1.4.2)\n",
            "Requirement already satisfied: contourpy>=1.0.1 in /usr/local/lib/python3.10/dist-packages (from matplotlib>=3.0.0->mlxtend) (1.3.0)\n",
            "Requirement already satisfied: cycler>=0.10 in /usr/local/lib/python3.10/dist-packages (from matplotlib>=3.0.0->mlxtend) (0.12.1)\n",
            "Requirement already satisfied: fonttools>=4.22.0 in /usr/local/lib/python3.10/dist-packages (from matplotlib>=3.0.0->mlxtend) (4.53.1)\n",
            "Requirement already satisfied: kiwisolver>=1.0.1 in /usr/local/lib/python3.10/dist-packages (from matplotlib>=3.0.0->mlxtend) (1.4.7)\n",
            "Requirement already satisfied: packaging>=20.0 in /usr/local/lib/python3.10/dist-packages (from matplotlib>=3.0.0->mlxtend) (24.1)\n",
            "Requirement already satisfied: pillow>=6.2.0 in /usr/local/lib/python3.10/dist-packages (from matplotlib>=3.0.0->mlxtend) (10.4.0)\n",
            "Requirement already satisfied: pyparsing>=2.3.1 in /usr/local/lib/python3.10/dist-packages (from matplotlib>=3.0.0->mlxtend) (3.1.4)\n",
            "Requirement already satisfied: python-dateutil>=2.7 in /usr/local/lib/python3.10/dist-packages (from matplotlib>=3.0.0->mlxtend) (2.8.2)\n",
            "Requirement already satisfied: pytz>=2020.1 in /usr/local/lib/python3.10/dist-packages (from pandas>=0.24.2->mlxtend) (2024.2)\n",
            "Requirement already satisfied: tzdata>=2022.1 in /usr/local/lib/python3.10/dist-packages (from pandas>=0.24.2->mlxtend) (2024.1)\n",
            "Requirement already satisfied: threadpoolctl>=3.1.0 in /usr/local/lib/python3.10/dist-packages (from scikit-learn>=1.0.2->mlxtend) (3.5.0)\n",
            "Requirement already satisfied: six>=1.5 in /usr/local/lib/python3.10/dist-packages (from python-dateutil>=2.7->matplotlib>=3.0.0->mlxtend) (1.16.0)\n"
          ]
        }
      ]
    },
    {
      "cell_type": "code",
      "source": [
        "Xtrain, Xtest, ytrain, ytest = train_test_split(X, y, test_size=0.25, random_state=RANDOM_STATE)"
      ],
      "metadata": {
        "id": "ui5d6WsM_E1z"
      },
      "execution_count": 14,
      "outputs": []
    },
    {
      "cell_type": "code",
      "source": [
        "from mlxtend.evaluate import bias_variance_decomp\n",
        "\n",
        "# your code here\n",
        "X_train = Xtrain.values\n",
        "y_train = ytrain.values\n",
        "X_test = Xtest.values\n",
        "y_test = ytest.values"
      ],
      "metadata": {
        "id": "glOK8qNz_NWG"
      },
      "execution_count": 16,
      "outputs": []
    },
    {
      "cell_type": "code",
      "source": [
        "avg_01, avg_bias, avg_var = bias_variance_decomp(DecisionTreeClassifier(random_state=RANDOM_STATE), X_train[:1000], y_train[:1000],\n",
        "                                                  X_test, y_test, num_rounds = 50, loss = '0-1_loss',\n",
        "                                                  random_seed=np.random.seed(RANDOM_STATE))\n",
        "\n",
        "print('Loss:', avg_01)\n",
        "print('Bias:', avg_bias)\n",
        "print('Variance:', avg_var)"
      ],
      "metadata": {
        "colab": {
          "base_uri": "https://localhost:8080/"
        },
        "id": "YKn8LWgp8Ktw",
        "outputId": "8ae46d80-e059-4848-d869-77e205317873"
      },
      "execution_count": 21,
      "outputs": [
        {
          "output_type": "stream",
          "name": "stdout",
          "text": [
            "Loss: 0.301116\n",
            "Bias: 0.24976\n",
            "Variance: 0.17529200000000003\n"
          ]
        }
      ]
    },
    {
      "cell_type": "code",
      "source": [
        "avg_01, avg_bias, avg_var = bias_variance_decomp(RandomForestClassifier(random_state=RANDOM_STATE), X_train[:1000], y_train[:1000],\n",
        "                                                  X_test, y_test, num_rounds = 50, loss = '0-1_loss',\n",
        "                                                  random_seed=np.random.seed(RANDOM_STATE))\n",
        "\n",
        "print('Loss:', avg_01)\n",
        "print('Bias:', avg_bias)\n",
        "print('Variance:', avg_var)"
      ],
      "metadata": {
        "colab": {
          "base_uri": "https://localhost:8080/"
        },
        "id": "pUEzkgZm8Kbh",
        "outputId": "13f2d881-539a-45c0-9179-4d4de9f51ec6"
      },
      "execution_count": 22,
      "outputs": [
        {
          "output_type": "stream",
          "name": "stdout",
          "text": [
            "Loss: 0.24625440000000004\n",
            "Bias: 0.22764\n",
            "Variance: 0.089328\n"
          ]
        }
      ]
    },
    {
      "cell_type": "code",
      "source": [
        "avg_01, avg_bias, avg_var = bias_variance_decomp(GradientBoostingClassifier(random_state=RANDOM_STATE), X_train[:1000], y_train[:1000],\n",
        "                                                  X_test, y_test, num_rounds = 50, loss = '0-1_loss',\n",
        "                                                  random_seed=np.random.seed(RANDOM_STATE))\n",
        "\n",
        "print('Loss:', avg_01)\n",
        "print('Bias:', avg_bias)\n",
        "print('Variance:', avg_var)"
      ],
      "metadata": {
        "colab": {
          "base_uri": "https://localhost:8080/"
        },
        "id": "Tq2S12D4_Q0R",
        "outputId": "ae7d0fba-7ff8-426f-cd09-39826da6e87f"
      },
      "execution_count": 23,
      "outputs": [
        {
          "output_type": "stream",
          "name": "stdout",
          "text": [
            "Loss: 0.2160944\n",
            "Bias: 0.19784\n",
            "Variance: 0.06132320000000001\n"
          ]
        }
      ]
    },
    {
      "cell_type": "markdown",
      "source": [
        "## Вопрос для Quiz\n",
        "\n",
        "какой алгоритм с гиперпараметрами по умолчанию имеет наименьшее смещение?"
      ],
      "metadata": {
        "id": "u4OPe1JgFbTi"
      }
    },
    {
      "cell_type": "markdown",
      "source": [
        "## Подбор гиперпараметров\n",
        "\n",
        "Напомним, как мы действуем при подборе гиперпараметров:\n",
        "* разбиваем данные на *train* и *test*\n",
        "* на train по кросс-валидации при помощи `GridSearchCV` ищем наилучшие гиперпараметры модели\n",
        "* оцениваем качество модели с наилучшими гиперпараметрами на *test*\n",
        "\n",
        "Будем использовать 3 фолда при кросс-валидации, а метрику - *ROC-AUC* (`scoring='roc_auc'`).\n",
        "\n",
        "\n",
        "Далее везде можно обучать модель на первых 10000 строк из обучающей выборки (так как всего два признака)."
      ],
      "metadata": {
        "id": "hCL5kxZZ5W_h"
      }
    },
    {
      "cell_type": "markdown",
      "source": [
        "### 1. Подберите гиперпараметры для решающего дерева:\n",
        "* `max_depth` (обязательно)\n",
        "* `max_features` (обязательно)\n",
        "* `criterion` (по желанию)\n",
        "* `min_samples_split` (по желанию)\n",
        "* `min_samples_leaf` (по желанию)\n",
        "\n",
        "Диапазоны поиска гиперпараметров выбирайте самостоятельно.\n",
        "\n",
        "Добейтесь качества *ROC-AUC* $>0.65$ на кросс-валидации."
      ],
      "metadata": {
        "id": "kzxlQxYT57Et"
      }
    },
    {
      "cell_type": "code",
      "source": [
        "# your code here\n",
        "params = {'criterion': ('gini', 'entropy'), 'max_depth':range(1,11,1)}\n",
        "\n",
        "gs_dt = GridSearchCV(DecisionTreeClassifier(random_state=RANDOM_STATE), params, cv=3, scoring='roc_auc')\n",
        "\n",
        "gs_dt.fit(X_train, y_train)\n",
        "\n",
        "gs_dt.best_score_, gs_dt.best_estimator_"
      ],
      "metadata": {
        "id": "BBGwiza75yX_",
        "colab": {
          "base_uri": "https://localhost:8080/"
        },
        "outputId": "22d9366a-c2a2-4c98-959e-9d9075b93ee5"
      },
      "execution_count": 24,
      "outputs": [
        {
          "output_type": "execute_result",
          "data": {
            "text/plain": [
              "(0.6933055824235751, DecisionTreeClassifier(max_depth=5, random_state=111))"
            ]
          },
          "metadata": {},
          "execution_count": 24
        }
      ]
    },
    {
      "cell_type": "code",
      "source": [
        "dt = gs_dt.best_estimator_\n",
        "\n",
        "pred_dt = dt.predict_proba(X_test)[:,1]\n",
        "print(roc_auc_score(y_test, pred_dt))"
      ],
      "metadata": {
        "colab": {
          "base_uri": "https://localhost:8080/"
        },
        "id": "HAflGhDLBqgy",
        "outputId": "4d3d3c03-92ae-41f2-8b25-7779d43643e4"
      },
      "execution_count": 26,
      "outputs": [
        {
          "output_type": "stream",
          "name": "stdout",
          "text": [
            "0.6997968290562193\n"
          ]
        }
      ]
    },
    {
      "cell_type": "markdown",
      "source": [
        "Теперь обучите на **всех** тренировочных данных решающее дерево с лучшими  \n",
        "найденными гиперпараметрами и выведите *ROC-AUC* на тесте."
      ],
      "metadata": {
        "id": "wG7rv-ua7Bdx"
      }
    },
    {
      "cell_type": "code",
      "source": [
        "# your code here"
      ],
      "metadata": {
        "id": "AkScz7ss6m1d"
      },
      "execution_count": null,
      "outputs": []
    },
    {
      "cell_type": "markdown",
      "source": [
        "### 2. Подберите гиперпараметры для случайного леса:\n",
        "* `n_estimators` (обязательно)\n",
        "* `max_depth` (обязательно)\n",
        "* `max_features` (по желанию)\n",
        "* `criterion` (по желанию)\n",
        "* `min_samples_split` (по желанию)\n",
        "* `min_samples_leaf` (по желанию)\n",
        "\n",
        "Диапазоны поиска гиперпараметров выбирайте самостоятельно.\n",
        "\n",
        "Добейтесь качества *ROC-AUC* $>0.65$ на кросс-валидации."
      ],
      "metadata": {
        "id": "9gODYH-Q7ga9"
      }
    },
    {
      "cell_type": "code",
      "source": [
        "# your code here\n",
        "params = {'n_estimators': np.arange(10, 100, 20),\n",
        "          'max_depth': np.arange(2, 20, 3)}\n",
        "\n",
        "\n",
        "gs_rf = GridSearchCV(RandomForestClassifier(random_state=RANDOM_STATE), params, cv=3, scoring='roc_auc', verbose=2)\n",
        "\n",
        "gs_rf.fit(X_train, y_train)\n",
        "\n",
        "gs_rf.best_score_, gs_rf.best_estimator_"
      ],
      "metadata": {
        "id": "mPpOkJgU7bts",
        "colab": {
          "base_uri": "https://localhost:8080/"
        },
        "outputId": "141bfd29-efab-42bd-de8a-10f3652bbf73"
      },
      "execution_count": 33,
      "outputs": [
        {
          "output_type": "stream",
          "name": "stdout",
          "text": [
            "Fitting 3 folds for each of 30 candidates, totalling 90 fits\n",
            "[CV] END .......................max_depth=2, n_estimators=10; total time=   0.2s\n",
            "[CV] END .......................max_depth=2, n_estimators=10; total time=   0.2s\n",
            "[CV] END .......................max_depth=2, n_estimators=10; total time=   0.2s\n",
            "[CV] END .......................max_depth=2, n_estimators=30; total time=   0.5s\n",
            "[CV] END .......................max_depth=2, n_estimators=30; total time=   0.5s\n",
            "[CV] END .......................max_depth=2, n_estimators=30; total time=   0.5s\n",
            "[CV] END .......................max_depth=2, n_estimators=50; total time=   0.8s\n",
            "[CV] END .......................max_depth=2, n_estimators=50; total time=   0.8s\n",
            "[CV] END .......................max_depth=2, n_estimators=50; total time=   0.8s\n",
            "[CV] END .......................max_depth=2, n_estimators=70; total time=   1.1s\n",
            "[CV] END .......................max_depth=2, n_estimators=70; total time=   1.1s\n",
            "[CV] END .......................max_depth=2, n_estimators=70; total time=   1.1s\n",
            "[CV] END .......................max_depth=2, n_estimators=90; total time=   1.4s\n",
            "[CV] END .......................max_depth=2, n_estimators=90; total time=   1.7s\n",
            "[CV] END .......................max_depth=2, n_estimators=90; total time=   2.1s\n",
            "[CV] END .......................max_depth=5, n_estimators=10; total time=   0.5s\n",
            "[CV] END .......................max_depth=5, n_estimators=10; total time=   0.4s\n",
            "[CV] END .......................max_depth=5, n_estimators=10; total time=   0.3s\n",
            "[CV] END .......................max_depth=5, n_estimators=30; total time=   0.8s\n",
            "[CV] END .......................max_depth=5, n_estimators=30; total time=   0.8s\n",
            "[CV] END .......................max_depth=5, n_estimators=30; total time=   0.9s\n",
            "[CV] END .......................max_depth=5, n_estimators=50; total time=   1.4s\n",
            "[CV] END .......................max_depth=5, n_estimators=50; total time=   1.6s\n",
            "[CV] END .......................max_depth=5, n_estimators=50; total time=   1.6s\n",
            "[CV] END .......................max_depth=5, n_estimators=70; total time=   2.0s\n",
            "[CV] END .......................max_depth=5, n_estimators=70; total time=   2.9s\n",
            "[CV] END .......................max_depth=5, n_estimators=70; total time=   2.9s\n",
            "[CV] END .......................max_depth=5, n_estimators=90; total time=   2.6s\n",
            "[CV] END .......................max_depth=5, n_estimators=90; total time=   2.4s\n",
            "[CV] END .......................max_depth=5, n_estimators=90; total time=   2.4s\n",
            "[CV] END .......................max_depth=8, n_estimators=10; total time=   0.4s\n",
            "[CV] END .......................max_depth=8, n_estimators=10; total time=   0.4s\n",
            "[CV] END .......................max_depth=8, n_estimators=10; total time=   0.6s\n",
            "[CV] END .......................max_depth=8, n_estimators=30; total time=   1.8s\n",
            "[CV] END .......................max_depth=8, n_estimators=30; total time=   1.6s\n",
            "[CV] END .......................max_depth=8, n_estimators=30; total time=   1.2s\n",
            "[CV] END .......................max_depth=8, n_estimators=50; total time=   2.0s\n",
            "[CV] END .......................max_depth=8, n_estimators=50; total time=   2.4s\n",
            "[CV] END .......................max_depth=8, n_estimators=50; total time=   2.0s\n",
            "[CV] END .......................max_depth=8, n_estimators=70; total time=   3.2s\n",
            "[CV] END .......................max_depth=8, n_estimators=70; total time=   3.5s\n",
            "[CV] END .......................max_depth=8, n_estimators=70; total time=   2.9s\n",
            "[CV] END .......................max_depth=8, n_estimators=90; total time=   3.5s\n",
            "[CV] END .......................max_depth=8, n_estimators=90; total time=   4.8s\n",
            "[CV] END .......................max_depth=8, n_estimators=90; total time=   3.7s\n",
            "[CV] END ......................max_depth=11, n_estimators=10; total time=   0.5s\n",
            "[CV] END ......................max_depth=11, n_estimators=10; total time=   0.5s\n",
            "[CV] END ......................max_depth=11, n_estimators=10; total time=   0.5s\n",
            "[CV] END ......................max_depth=11, n_estimators=30; total time=   1.5s\n",
            "[CV] END ......................max_depth=11, n_estimators=30; total time=   1.6s\n",
            "[CV] END ......................max_depth=11, n_estimators=30; total time=   1.4s\n",
            "[CV] END ......................max_depth=11, n_estimators=50; total time=   3.3s\n",
            "[CV] END ......................max_depth=11, n_estimators=50; total time=   2.8s\n",
            "[CV] END ......................max_depth=11, n_estimators=50; total time=   2.5s\n",
            "[CV] END ......................max_depth=11, n_estimators=70; total time=   3.4s\n",
            "[CV] END ......................max_depth=11, n_estimators=70; total time=   4.3s\n",
            "[CV] END ......................max_depth=11, n_estimators=70; total time=   3.7s\n",
            "[CV] END ......................max_depth=11, n_estimators=90; total time=   4.4s\n",
            "[CV] END ......................max_depth=11, n_estimators=90; total time=   5.3s\n",
            "[CV] END ......................max_depth=11, n_estimators=90; total time=   4.8s\n",
            "[CV] END ......................max_depth=14, n_estimators=10; total time=   0.6s\n",
            "[CV] END ......................max_depth=14, n_estimators=10; total time=   0.6s\n",
            "[CV] END ......................max_depth=14, n_estimators=10; total time=   0.6s\n",
            "[CV] END ......................max_depth=14, n_estimators=30; total time=   1.7s\n",
            "[CV] END ......................max_depth=14, n_estimators=30; total time=   1.7s\n",
            "[CV] END ......................max_depth=14, n_estimators=30; total time=   2.0s\n",
            "[CV] END ......................max_depth=14, n_estimators=50; total time=   3.7s\n",
            "[CV] END ......................max_depth=14, n_estimators=50; total time=   2.9s\n",
            "[CV] END ......................max_depth=14, n_estimators=50; total time=   2.9s\n",
            "[CV] END ......................max_depth=14, n_estimators=70; total time=   4.7s\n",
            "[CV] END ......................max_depth=14, n_estimators=70; total time=   4.6s\n",
            "[CV] END ......................max_depth=14, n_estimators=70; total time=   3.9s\n",
            "[CV] END ......................max_depth=14, n_estimators=90; total time=   6.4s\n",
            "[CV] END ......................max_depth=14, n_estimators=90; total time=   5.3s\n",
            "[CV] END ......................max_depth=14, n_estimators=90; total time=   5.6s\n",
            "[CV] END ......................max_depth=17, n_estimators=10; total time=   1.1s\n",
            "[CV] END ......................max_depth=17, n_estimators=10; total time=   1.1s\n",
            "[CV] END ......................max_depth=17, n_estimators=10; total time=   0.8s\n",
            "[CV] END ......................max_depth=17, n_estimators=30; total time=   2.0s\n",
            "[CV] END ......................max_depth=17, n_estimators=30; total time=   2.0s\n",
            "[CV] END ......................max_depth=17, n_estimators=30; total time=   2.0s\n",
            "[CV] END ......................max_depth=17, n_estimators=50; total time=   3.4s\n",
            "[CV] END ......................max_depth=17, n_estimators=50; total time=   4.5s\n",
            "[CV] END ......................max_depth=17, n_estimators=50; total time=   3.3s\n",
            "[CV] END ......................max_depth=17, n_estimators=70; total time=   4.6s\n",
            "[CV] END ......................max_depth=17, n_estimators=70; total time=   6.2s\n",
            "[CV] END ......................max_depth=17, n_estimators=70; total time=   4.8s\n",
            "[CV] END ......................max_depth=17, n_estimators=90; total time=   7.4s\n",
            "[CV] END ......................max_depth=17, n_estimators=90; total time=   6.0s\n",
            "[CV] END ......................max_depth=17, n_estimators=90; total time=   7.0s\n"
          ]
        },
        {
          "output_type": "execute_result",
          "data": {
            "text/plain": [
              "(0.7008073555473832,\n",
              " RandomForestClassifier(max_depth=11, n_estimators=90, random_state=111))"
            ]
          },
          "metadata": {},
          "execution_count": 33
        }
      ]
    },
    {
      "cell_type": "code",
      "source": [],
      "metadata": {
        "id": "Wwa2i0opIvKg"
      },
      "execution_count": 33,
      "outputs": []
    },
    {
      "cell_type": "markdown",
      "source": [
        "Теперь обучите на **всех** тренировочных данных случайный лес с лучшими  \n",
        "найденными гиперпараметрами и выведите *ROC-AUC* на тесте."
      ],
      "metadata": {
        "id": "OmnD9J8dDnFF"
      }
    },
    {
      "cell_type": "code",
      "source": [
        "# лес\n",
        "rfb = gs_rf.best_estimator_\n",
        "\n",
        "pred_rf = rfb.predict_proba(X_test)[:,1]\n",
        "print(roc_auc_score(y_test, pred_rf))"
      ],
      "metadata": {
        "id": "O8VsT8kY9JFL",
        "colab": {
          "base_uri": "https://localhost:8080/"
        },
        "outputId": "975b0303-5f83-45e1-e7cb-c719e0f2b6cc"
      },
      "execution_count": 34,
      "outputs": [
        {
          "output_type": "stream",
          "name": "stdout",
          "text": [
            "0.7117966817278758\n"
          ]
        }
      ]
    },
    {
      "cell_type": "markdown",
      "source": [
        "### 3. Подберите гиперпараметры для градиентного бустинга:\n",
        "* `n_estimators` (обязательно)\n",
        "* `max_depth` (обязательно)\n",
        "* `max_features` (по желанию)\n",
        "* `criterion` (по желанию)\n",
        "* `min_samples_split` (по желанию)\n",
        "* `min_samples_leaf` (по желанию)\n",
        "\n",
        "Диапазоны поиска гиперпараметров выбирайте самостоятельно.\n",
        "\n",
        "Добейтесь качества *ROC-AUC* $>0.65$ на кросс-валидации."
      ],
      "metadata": {
        "id": "-MSkBA2UERWl"
      }
    },
    {
      "cell_type": "code",
      "source": [
        "# бустинг\n",
        "params = {'n_estimators': np.arange(10, 100, 20),\n",
        "          'max_depth': np.arange(2, 20, 3)}\n",
        "\n",
        "\n",
        "gs_gb = GridSearchCV(GradientBoostingClassifier(random_state=RANDOM_STATE), params, cv=3, scoring='roc_auc', verbose=2)\n",
        "\n",
        "gs_gb.fit(X_train, y_train)\n",
        "\n",
        "gs_gb.best_score_, gs_gb.best_estimator_"
      ],
      "metadata": {
        "id": "ZNr7l5mq-nxx",
        "colab": {
          "base_uri": "https://localhost:8080/"
        },
        "outputId": "50f22fca-3f78-41ed-a815-4fe09b7294fe"
      },
      "execution_count": 35,
      "outputs": [
        {
          "output_type": "stream",
          "name": "stdout",
          "text": [
            "Fitting 3 folds for each of 30 candidates, totalling 90 fits\n",
            "[CV] END .......................max_depth=2, n_estimators=10; total time=   0.3s\n",
            "[CV] END .......................max_depth=2, n_estimators=10; total time=   0.3s\n",
            "[CV] END .......................max_depth=2, n_estimators=10; total time=   0.3s\n",
            "[CV] END .......................max_depth=2, n_estimators=30; total time=   0.8s\n",
            "[CV] END .......................max_depth=2, n_estimators=30; total time=   0.8s\n",
            "[CV] END .......................max_depth=2, n_estimators=30; total time=   0.9s\n",
            "[CV] END .......................max_depth=2, n_estimators=50; total time=   1.4s\n",
            "[CV] END .......................max_depth=2, n_estimators=50; total time=   1.4s\n",
            "[CV] END .......................max_depth=2, n_estimators=50; total time=   1.3s\n",
            "[CV] END .......................max_depth=2, n_estimators=70; total time=   2.2s\n",
            "[CV] END .......................max_depth=2, n_estimators=70; total time=   2.6s\n",
            "[CV] END .......................max_depth=2, n_estimators=70; total time=   2.0s\n",
            "[CV] END .......................max_depth=2, n_estimators=90; total time=   2.4s\n",
            "[CV] END .......................max_depth=2, n_estimators=90; total time=   2.3s\n",
            "[CV] END .......................max_depth=2, n_estimators=90; total time=   2.4s\n",
            "[CV] END .......................max_depth=5, n_estimators=10; total time=   0.7s\n",
            "[CV] END .......................max_depth=5, n_estimators=10; total time=   0.8s\n",
            "[CV] END .......................max_depth=5, n_estimators=10; total time=   0.9s\n",
            "[CV] END .......................max_depth=5, n_estimators=30; total time=   2.4s\n",
            "[CV] END .......................max_depth=5, n_estimators=30; total time=   1.8s\n",
            "[CV] END .......................max_depth=5, n_estimators=30; total time=   1.7s\n",
            "[CV] END .......................max_depth=5, n_estimators=50; total time=   2.9s\n",
            "[CV] END .......................max_depth=5, n_estimators=50; total time=   3.0s\n",
            "[CV] END .......................max_depth=5, n_estimators=50; total time=   4.1s\n",
            "[CV] END .......................max_depth=5, n_estimators=70; total time=   4.7s\n",
            "[CV] END .......................max_depth=5, n_estimators=70; total time=   4.6s\n",
            "[CV] END .......................max_depth=5, n_estimators=70; total time=   5.3s\n",
            "[CV] END .......................max_depth=5, n_estimators=90; total time=   5.4s\n",
            "[CV] END .......................max_depth=5, n_estimators=90; total time=   6.6s\n",
            "[CV] END .......................max_depth=5, n_estimators=90; total time=   5.3s\n",
            "[CV] END .......................max_depth=8, n_estimators=10; total time=   1.0s\n",
            "[CV] END .......................max_depth=8, n_estimators=10; total time=   1.0s\n",
            "[CV] END .......................max_depth=8, n_estimators=10; total time=   1.0s\n",
            "[CV] END .......................max_depth=8, n_estimators=30; total time=   4.4s\n",
            "[CV] END .......................max_depth=8, n_estimators=30; total time=   3.3s\n",
            "[CV] END .......................max_depth=8, n_estimators=30; total time=   3.0s\n",
            "[CV] END .......................max_depth=8, n_estimators=50; total time=   5.2s\n",
            "[CV] END .......................max_depth=8, n_estimators=50; total time=   6.6s\n",
            "[CV] END .......................max_depth=8, n_estimators=50; total time=   5.0s\n",
            "[CV] END .......................max_depth=8, n_estimators=70; total time=   8.4s\n",
            "[CV] END .......................max_depth=8, n_estimators=70; total time=   7.0s\n",
            "[CV] END .......................max_depth=8, n_estimators=70; total time=   7.9s\n",
            "[CV] END .......................max_depth=8, n_estimators=90; total time=  10.1s\n",
            "[CV] END .......................max_depth=8, n_estimators=90; total time=   9.6s\n",
            "[CV] END .......................max_depth=8, n_estimators=90; total time=   9.5s\n",
            "[CV] END ......................max_depth=11, n_estimators=10; total time=   1.8s\n",
            "[CV] END ......................max_depth=11, n_estimators=10; total time=   2.3s\n",
            "[CV] END ......................max_depth=11, n_estimators=10; total time=   2.6s\n",
            "[CV] END ......................max_depth=11, n_estimators=30; total time=   5.4s\n",
            "[CV] END ......................max_depth=11, n_estimators=30; total time=   5.8s\n",
            "[CV] END ......................max_depth=11, n_estimators=30; total time=   5.9s\n",
            "[CV] END ......................max_depth=11, n_estimators=50; total time=   9.5s\n",
            "[CV] END ......................max_depth=11, n_estimators=50; total time=   8.5s\n",
            "[CV] END ......................max_depth=11, n_estimators=50; total time=   9.7s\n",
            "[CV] END ......................max_depth=11, n_estimators=70; total time=  12.9s\n",
            "[CV] END ......................max_depth=11, n_estimators=70; total time=  12.8s\n",
            "[CV] END ......................max_depth=11, n_estimators=70; total time=  12.9s\n",
            "[CV] END ......................max_depth=11, n_estimators=90; total time=  16.0s\n",
            "[CV] END ......................max_depth=11, n_estimators=90; total time=  16.1s\n",
            "[CV] END ......................max_depth=11, n_estimators=90; total time=  17.5s\n",
            "[CV] END ......................max_depth=14, n_estimators=10; total time=   3.5s\n",
            "[CV] END ......................max_depth=14, n_estimators=10; total time=   3.1s\n",
            "[CV] END ......................max_depth=14, n_estimators=10; total time=   3.3s\n",
            "[CV] END ......................max_depth=14, n_estimators=30; total time=  10.6s\n",
            "[CV] END ......................max_depth=14, n_estimators=30; total time=  10.8s\n",
            "[CV] END ......................max_depth=14, n_estimators=30; total time=  11.1s\n",
            "[CV] END ......................max_depth=14, n_estimators=50; total time=  15.6s\n",
            "[CV] END ......................max_depth=14, n_estimators=50; total time=  15.5s\n",
            "[CV] END ......................max_depth=14, n_estimators=50; total time=  16.4s\n",
            "[CV] END ......................max_depth=14, n_estimators=70; total time=  22.3s\n",
            "[CV] END ......................max_depth=14, n_estimators=70; total time=  20.7s\n",
            "[CV] END ......................max_depth=14, n_estimators=70; total time=  21.4s\n",
            "[CV] END ......................max_depth=14, n_estimators=90; total time=  26.3s\n",
            "[CV] END ......................max_depth=14, n_estimators=90; total time=  26.4s\n",
            "[CV] END ......................max_depth=14, n_estimators=90; total time=  26.9s\n",
            "[CV] END ......................max_depth=17, n_estimators=10; total time=   6.5s\n",
            "[CV] END ......................max_depth=17, n_estimators=10; total time=   5.6s\n",
            "[CV] END ......................max_depth=17, n_estimators=10; total time=   6.1s\n",
            "[CV] END ......................max_depth=17, n_estimators=30; total time=  18.3s\n",
            "[CV] END ......................max_depth=17, n_estimators=30; total time=  16.7s\n",
            "[CV] END ......................max_depth=17, n_estimators=30; total time=  17.1s\n",
            "[CV] END ......................max_depth=17, n_estimators=50; total time=  26.2s\n",
            "[CV] END ......................max_depth=17, n_estimators=50; total time=  25.4s\n",
            "[CV] END ......................max_depth=17, n_estimators=50; total time=  26.6s\n",
            "[CV] END ......................max_depth=17, n_estimators=70; total time=  34.9s\n",
            "[CV] END ......................max_depth=17, n_estimators=70; total time=  31.6s\n",
            "[CV] END ......................max_depth=17, n_estimators=70; total time=  35.0s\n",
            "[CV] END ......................max_depth=17, n_estimators=90; total time=  41.6s\n",
            "[CV] END ......................max_depth=17, n_estimators=90; total time=  40.0s\n",
            "[CV] END ......................max_depth=17, n_estimators=90; total time=  42.2s\n"
          ]
        },
        {
          "output_type": "execute_result",
          "data": {
            "text/plain": [
              "(0.6981102725034334,\n",
              " GradientBoostingClassifier(max_depth=5, n_estimators=50, random_state=111))"
            ]
          },
          "metadata": {},
          "execution_count": 35
        }
      ]
    },
    {
      "cell_type": "markdown",
      "source": [
        "Теперь обучите на **всех** тренировочных данных градиентный бустинг с лучшими  \n",
        "найденными гиперпараметрами и выведите *ROC-AUC* на тесте."
      ],
      "metadata": {
        "id": "8kqeJG7-Es9S"
      }
    },
    {
      "cell_type": "code",
      "source": [
        "# boosting\n",
        "gbbe = gs_gb.best_estimator_\n",
        "\n",
        "pred_gb = gbbe.predict_proba(X_test)[:,1]\n",
        "print(roc_auc_score(y_test, pred_gb))"
      ],
      "metadata": {
        "id": "dQJplX3GEvxS",
        "colab": {
          "base_uri": "https://localhost:8080/"
        },
        "outputId": "d4470765-476a-4489-a9b5-86a15d7325b2"
      },
      "execution_count": 36,
      "outputs": [
        {
          "output_type": "stream",
          "name": "stdout",
          "text": [
            "0.7062654785451475\n"
          ]
        }
      ]
    },
    {
      "cell_type": "markdown",
      "source": [
        "Теперь поставьте `learning_rate = 0.01` (в десять раз меньше, чем по умолчанию) и увеличьте найденное число деревьев в 10 раз.\n",
        "\n",
        "С этими изменениями обучите бустинг на трейне и выведите качество на тесте."
      ],
      "metadata": {
        "id": "h_Z63A3DE_pw"
      }
    },
    {
      "cell_type": "code",
      "source": [
        "# your code here\n",
        "model_gb = GradientBoostingClassifier(n_estimators = 500, learning_rate = 0.01, max_depth = 5)\n",
        "\n",
        "model_gb.fit(X_train, y_train)\n",
        "\n",
        "pred_gb1 = model_gb.predict(X_test)\n",
        "\n",
        "roc_auc_score(y_test, pred_gb1)"
      ],
      "metadata": {
        "id": "JtWrcmt2FJ2d",
        "colab": {
          "base_uri": "https://localhost:8080/"
        },
        "outputId": "6c78f7cb-d605-44c0-b2ed-fe102c0e621d"
      },
      "execution_count": 37,
      "outputs": [
        {
          "output_type": "execute_result",
          "data": {
            "text/plain": [
              "0.523886535535634"
            ]
          },
          "metadata": {},
          "execution_count": 37
        }
      ]
    },
    {
      "cell_type": "markdown",
      "source": [
        "## Вопрос для Quiz\n",
        "\n",
        "Есть ли алгоритм, который на тестовых данных показывает качество, значительно превышающее результаты других алгоритмов? (более чем на 0.1 десятую)"
      ],
      "metadata": {
        "id": "SPeqf3sUFRza"
      }
    },
    {
      "cell_type": "markdown",
      "source": [
        "## Вопрос для Quiz\n",
        "\n",
        "Чему равно качество на тестовых данных у наилучшей модели? Ответ округлите до десятых."
      ],
      "metadata": {
        "id": "2VCOWS-pG67W"
      }
    },
    {
      "cell_type": "markdown",
      "source": [
        "## Размышления\n",
        "\n",
        "Мы использовали для обучения очень много объектов и очень мало признаков, поэтому ансамбли моделей не смогли себя показать в полную мощь. Если задействовать больше характеристик полета, то и качество моделей может стать выше."
      ],
      "metadata": {
        "id": "Us3cj9GiGitb"
      }
    },
    {
      "cell_type": "markdown",
      "source": [
        "# Улучшение модели\n",
        "\n",
        "Мы выкинули очень много колонок из начальной таблицы, но, возможно, они полезны для наших моделей.\n",
        "\n",
        "Попробуем улучшить модель, использовав другие признаки."
      ],
      "metadata": {
        "id": "xvVM33UbqLG6"
      }
    },
    {
      "cell_type": "code",
      "source": [
        "data['dep_delayed_15min'] = data['dep_delayed_15min'].map({'Y' : 1, 'N' : 0})"
      ],
      "metadata": {
        "id": "DEo5nFaHaobS"
      },
      "execution_count": 38,
      "outputs": []
    },
    {
      "cell_type": "markdown",
      "source": [
        "Обработаем колонку месяц, оставив в ней только число - номер месяца.\n",
        "\n",
        "Посмотрим на среднее количество задержек в каждом месяце."
      ],
      "metadata": {
        "id": "g98-ATGCn9lu"
      }
    },
    {
      "cell_type": "code",
      "source": [
        "data['Month'] = data['Month'].apply(lambda x: int(x.split('-')[1]))\n",
        "\n",
        "print('average:', data['dep_delayed_15min'].mean())\n",
        "\n",
        "data.groupby('Month')['dep_delayed_15min'].mean()"
      ],
      "metadata": {
        "id": "14oWhtYSlTgo",
        "colab": {
          "base_uri": "https://localhost:8080/",
          "height": 509
        },
        "outputId": "3e55de95-8154-4828-a975-bc463bf4e783"
      },
      "execution_count": 39,
      "outputs": [
        {
          "output_type": "stream",
          "name": "stdout",
          "text": [
            "average: 0.19044\n"
          ]
        },
        {
          "output_type": "execute_result",
          "data": {
            "text/plain": [
              "Month\n",
              "1     0.190588\n",
              "2     0.177406\n",
              "3     0.194997\n",
              "4     0.155328\n",
              "5     0.153693\n",
              "6     0.221892\n",
              "7     0.238112\n",
              "8     0.201925\n",
              "9     0.156683\n",
              "10    0.178584\n",
              "11    0.170824\n",
              "12    0.241258\n",
              "Name: dep_delayed_15min, dtype: float64"
            ],
            "text/html": [
              "<div>\n",
              "<style scoped>\n",
              "    .dataframe tbody tr th:only-of-type {\n",
              "        vertical-align: middle;\n",
              "    }\n",
              "\n",
              "    .dataframe tbody tr th {\n",
              "        vertical-align: top;\n",
              "    }\n",
              "\n",
              "    .dataframe thead th {\n",
              "        text-align: right;\n",
              "    }\n",
              "</style>\n",
              "<table border=\"1\" class=\"dataframe\">\n",
              "  <thead>\n",
              "    <tr style=\"text-align: right;\">\n",
              "      <th></th>\n",
              "      <th>dep_delayed_15min</th>\n",
              "    </tr>\n",
              "    <tr>\n",
              "      <th>Month</th>\n",
              "      <th></th>\n",
              "    </tr>\n",
              "  </thead>\n",
              "  <tbody>\n",
              "    <tr>\n",
              "      <th>1</th>\n",
              "      <td>0.190588</td>\n",
              "    </tr>\n",
              "    <tr>\n",
              "      <th>2</th>\n",
              "      <td>0.177406</td>\n",
              "    </tr>\n",
              "    <tr>\n",
              "      <th>3</th>\n",
              "      <td>0.194997</td>\n",
              "    </tr>\n",
              "    <tr>\n",
              "      <th>4</th>\n",
              "      <td>0.155328</td>\n",
              "    </tr>\n",
              "    <tr>\n",
              "      <th>5</th>\n",
              "      <td>0.153693</td>\n",
              "    </tr>\n",
              "    <tr>\n",
              "      <th>6</th>\n",
              "      <td>0.221892</td>\n",
              "    </tr>\n",
              "    <tr>\n",
              "      <th>7</th>\n",
              "      <td>0.238112</td>\n",
              "    </tr>\n",
              "    <tr>\n",
              "      <th>8</th>\n",
              "      <td>0.201925</td>\n",
              "    </tr>\n",
              "    <tr>\n",
              "      <th>9</th>\n",
              "      <td>0.156683</td>\n",
              "    </tr>\n",
              "    <tr>\n",
              "      <th>10</th>\n",
              "      <td>0.178584</td>\n",
              "    </tr>\n",
              "    <tr>\n",
              "      <th>11</th>\n",
              "      <td>0.170824</td>\n",
              "    </tr>\n",
              "    <tr>\n",
              "      <th>12</th>\n",
              "      <td>0.241258</td>\n",
              "    </tr>\n",
              "  </tbody>\n",
              "</table>\n",
              "</div><br><label><b>dtype:</b> float64</label>"
            ]
          },
          "metadata": {},
          "execution_count": 39
        }
      ]
    },
    {
      "cell_type": "markdown",
      "source": [
        "Мы видим, что в некоторые месяцы (7 и 12) задержек довольно много, а в какие-то месяцы наоборот меньше. Так что признак может пригодиться!"
      ],
      "metadata": {
        "id": "IcP3hR-ZoHx8"
      }
    },
    {
      "cell_type": "markdown",
      "source": [
        "В данных также есть интересный признак `UniqueCarrier` - это код авиакомпании-перевозчика.\n",
        "\n",
        "Давайте посмотрим, связаны ли как-то задержки самолетов с авиакомпанией. Для этого выведем среднее число задержек и количество рейсов по каждой авиакомпании."
      ],
      "metadata": {
        "id": "c-wWcoaHdvX4"
      }
    },
    {
      "cell_type": "code",
      "source": [
        "print('average:', data['dep_delayed_15min'].mean())\n",
        "\n",
        "data.groupby('UniqueCarrier').agg({\"dep_delayed_15min\": [\"mean\", \"count\"]})"
      ],
      "metadata": {
        "id": "0xLxGtd8cNL-",
        "colab": {
          "base_uri": "https://localhost:8080/",
          "height": 819
        },
        "outputId": "fb328f71-8555-4eb7-cacc-73cde894c5c3"
      },
      "execution_count": 40,
      "outputs": [
        {
          "output_type": "stream",
          "name": "stdout",
          "text": [
            "average: 0.19044\n"
          ]
        },
        {
          "output_type": "execute_result",
          "data": {
            "text/plain": [
              "              dep_delayed_15min       \n",
              "                           mean  count\n",
              "UniqueCarrier                         \n",
              "AA                     0.187938   9418\n",
              "AQ                     0.076923    234\n",
              "AS                     0.243474   2222\n",
              "B6                     0.213819   1838\n",
              "CO                     0.181818   4334\n",
              "DH                     0.161491    966\n",
              "DL                     0.168922   8128\n",
              "EV                     0.275318   3930\n",
              "F9                     0.155070   1006\n",
              "FL                     0.242185   3039\n",
              "HA                     0.043307    762\n",
              "HP                     0.142235   1378\n",
              "MQ                     0.194545   7443\n",
              "NW                     0.167890   6403\n",
              "OH                     0.175882   4594\n",
              "OO                     0.172801   7390\n",
              "TZ                     0.143498    446\n",
              "UA                     0.192263   6876\n",
              "US                     0.167387   6482\n",
              "WN                     0.213433  15082\n",
              "XE                     0.173869   5901\n",
              "YV                     0.224624   2128"
            ],
            "text/html": [
              "\n",
              "  <div id=\"df-5dd94e58-efe4-4244-bd0b-dccb16b527ca\" class=\"colab-df-container\">\n",
              "    <div>\n",
              "<style scoped>\n",
              "    .dataframe tbody tr th:only-of-type {\n",
              "        vertical-align: middle;\n",
              "    }\n",
              "\n",
              "    .dataframe tbody tr th {\n",
              "        vertical-align: top;\n",
              "    }\n",
              "\n",
              "    .dataframe thead tr th {\n",
              "        text-align: left;\n",
              "    }\n",
              "\n",
              "    .dataframe thead tr:last-of-type th {\n",
              "        text-align: right;\n",
              "    }\n",
              "</style>\n",
              "<table border=\"1\" class=\"dataframe\">\n",
              "  <thead>\n",
              "    <tr>\n",
              "      <th></th>\n",
              "      <th colspan=\"2\" halign=\"left\">dep_delayed_15min</th>\n",
              "    </tr>\n",
              "    <tr>\n",
              "      <th></th>\n",
              "      <th>mean</th>\n",
              "      <th>count</th>\n",
              "    </tr>\n",
              "    <tr>\n",
              "      <th>UniqueCarrier</th>\n",
              "      <th></th>\n",
              "      <th></th>\n",
              "    </tr>\n",
              "  </thead>\n",
              "  <tbody>\n",
              "    <tr>\n",
              "      <th>AA</th>\n",
              "      <td>0.187938</td>\n",
              "      <td>9418</td>\n",
              "    </tr>\n",
              "    <tr>\n",
              "      <th>AQ</th>\n",
              "      <td>0.076923</td>\n",
              "      <td>234</td>\n",
              "    </tr>\n",
              "    <tr>\n",
              "      <th>AS</th>\n",
              "      <td>0.243474</td>\n",
              "      <td>2222</td>\n",
              "    </tr>\n",
              "    <tr>\n",
              "      <th>B6</th>\n",
              "      <td>0.213819</td>\n",
              "      <td>1838</td>\n",
              "    </tr>\n",
              "    <tr>\n",
              "      <th>CO</th>\n",
              "      <td>0.181818</td>\n",
              "      <td>4334</td>\n",
              "    </tr>\n",
              "    <tr>\n",
              "      <th>DH</th>\n",
              "      <td>0.161491</td>\n",
              "      <td>966</td>\n",
              "    </tr>\n",
              "    <tr>\n",
              "      <th>DL</th>\n",
              "      <td>0.168922</td>\n",
              "      <td>8128</td>\n",
              "    </tr>\n",
              "    <tr>\n",
              "      <th>EV</th>\n",
              "      <td>0.275318</td>\n",
              "      <td>3930</td>\n",
              "    </tr>\n",
              "    <tr>\n",
              "      <th>F9</th>\n",
              "      <td>0.155070</td>\n",
              "      <td>1006</td>\n",
              "    </tr>\n",
              "    <tr>\n",
              "      <th>FL</th>\n",
              "      <td>0.242185</td>\n",
              "      <td>3039</td>\n",
              "    </tr>\n",
              "    <tr>\n",
              "      <th>HA</th>\n",
              "      <td>0.043307</td>\n",
              "      <td>762</td>\n",
              "    </tr>\n",
              "    <tr>\n",
              "      <th>HP</th>\n",
              "      <td>0.142235</td>\n",
              "      <td>1378</td>\n",
              "    </tr>\n",
              "    <tr>\n",
              "      <th>MQ</th>\n",
              "      <td>0.194545</td>\n",
              "      <td>7443</td>\n",
              "    </tr>\n",
              "    <tr>\n",
              "      <th>NW</th>\n",
              "      <td>0.167890</td>\n",
              "      <td>6403</td>\n",
              "    </tr>\n",
              "    <tr>\n",
              "      <th>OH</th>\n",
              "      <td>0.175882</td>\n",
              "      <td>4594</td>\n",
              "    </tr>\n",
              "    <tr>\n",
              "      <th>OO</th>\n",
              "      <td>0.172801</td>\n",
              "      <td>7390</td>\n",
              "    </tr>\n",
              "    <tr>\n",
              "      <th>TZ</th>\n",
              "      <td>0.143498</td>\n",
              "      <td>446</td>\n",
              "    </tr>\n",
              "    <tr>\n",
              "      <th>UA</th>\n",
              "      <td>0.192263</td>\n",
              "      <td>6876</td>\n",
              "    </tr>\n",
              "    <tr>\n",
              "      <th>US</th>\n",
              "      <td>0.167387</td>\n",
              "      <td>6482</td>\n",
              "    </tr>\n",
              "    <tr>\n",
              "      <th>WN</th>\n",
              "      <td>0.213433</td>\n",
              "      <td>15082</td>\n",
              "    </tr>\n",
              "    <tr>\n",
              "      <th>XE</th>\n",
              "      <td>0.173869</td>\n",
              "      <td>5901</td>\n",
              "    </tr>\n",
              "    <tr>\n",
              "      <th>YV</th>\n",
              "      <td>0.224624</td>\n",
              "      <td>2128</td>\n",
              "    </tr>\n",
              "  </tbody>\n",
              "</table>\n",
              "</div>\n",
              "    <div class=\"colab-df-buttons\">\n",
              "\n",
              "  <div class=\"colab-df-container\">\n",
              "    <button class=\"colab-df-convert\" onclick=\"convertToInteractive('df-5dd94e58-efe4-4244-bd0b-dccb16b527ca')\"\n",
              "            title=\"Convert this dataframe to an interactive table.\"\n",
              "            style=\"display:none;\">\n",
              "\n",
              "  <svg xmlns=\"http://www.w3.org/2000/svg\" height=\"24px\" viewBox=\"0 -960 960 960\">\n",
              "    <path d=\"M120-120v-720h720v720H120Zm60-500h600v-160H180v160Zm220 220h160v-160H400v160Zm0 220h160v-160H400v160ZM180-400h160v-160H180v160Zm440 0h160v-160H620v160ZM180-180h160v-160H180v160Zm440 0h160v-160H620v160Z\"/>\n",
              "  </svg>\n",
              "    </button>\n",
              "\n",
              "  <style>\n",
              "    .colab-df-container {\n",
              "      display:flex;\n",
              "      gap: 12px;\n",
              "    }\n",
              "\n",
              "    .colab-df-convert {\n",
              "      background-color: #E8F0FE;\n",
              "      border: none;\n",
              "      border-radius: 50%;\n",
              "      cursor: pointer;\n",
              "      display: none;\n",
              "      fill: #1967D2;\n",
              "      height: 32px;\n",
              "      padding: 0 0 0 0;\n",
              "      width: 32px;\n",
              "    }\n",
              "\n",
              "    .colab-df-convert:hover {\n",
              "      background-color: #E2EBFA;\n",
              "      box-shadow: 0px 1px 2px rgba(60, 64, 67, 0.3), 0px 1px 3px 1px rgba(60, 64, 67, 0.15);\n",
              "      fill: #174EA6;\n",
              "    }\n",
              "\n",
              "    .colab-df-buttons div {\n",
              "      margin-bottom: 4px;\n",
              "    }\n",
              "\n",
              "    [theme=dark] .colab-df-convert {\n",
              "      background-color: #3B4455;\n",
              "      fill: #D2E3FC;\n",
              "    }\n",
              "\n",
              "    [theme=dark] .colab-df-convert:hover {\n",
              "      background-color: #434B5C;\n",
              "      box-shadow: 0px 1px 3px 1px rgba(0, 0, 0, 0.15);\n",
              "      filter: drop-shadow(0px 1px 2px rgba(0, 0, 0, 0.3));\n",
              "      fill: #FFFFFF;\n",
              "    }\n",
              "  </style>\n",
              "\n",
              "    <script>\n",
              "      const buttonEl =\n",
              "        document.querySelector('#df-5dd94e58-efe4-4244-bd0b-dccb16b527ca button.colab-df-convert');\n",
              "      buttonEl.style.display =\n",
              "        google.colab.kernel.accessAllowed ? 'block' : 'none';\n",
              "\n",
              "      async function convertToInteractive(key) {\n",
              "        const element = document.querySelector('#df-5dd94e58-efe4-4244-bd0b-dccb16b527ca');\n",
              "        const dataTable =\n",
              "          await google.colab.kernel.invokeFunction('convertToInteractive',\n",
              "                                                    [key], {});\n",
              "        if (!dataTable) return;\n",
              "\n",
              "        const docLinkHtml = 'Like what you see? Visit the ' +\n",
              "          '<a target=\"_blank\" href=https://colab.research.google.com/notebooks/data_table.ipynb>data table notebook</a>'\n",
              "          + ' to learn more about interactive tables.';\n",
              "        element.innerHTML = '';\n",
              "        dataTable['output_type'] = 'display_data';\n",
              "        await google.colab.output.renderOutput(dataTable, element);\n",
              "        const docLink = document.createElement('div');\n",
              "        docLink.innerHTML = docLinkHtml;\n",
              "        element.appendChild(docLink);\n",
              "      }\n",
              "    </script>\n",
              "  </div>\n",
              "\n",
              "\n",
              "<div id=\"df-a92d7eb8-9101-4db0-a348-0ba4e84560cb\">\n",
              "  <button class=\"colab-df-quickchart\" onclick=\"quickchart('df-a92d7eb8-9101-4db0-a348-0ba4e84560cb')\"\n",
              "            title=\"Suggest charts\"\n",
              "            style=\"display:none;\">\n",
              "\n",
              "<svg xmlns=\"http://www.w3.org/2000/svg\" height=\"24px\"viewBox=\"0 0 24 24\"\n",
              "     width=\"24px\">\n",
              "    <g>\n",
              "        <path d=\"M19 3H5c-1.1 0-2 .9-2 2v14c0 1.1.9 2 2 2h14c1.1 0 2-.9 2-2V5c0-1.1-.9-2-2-2zM9 17H7v-7h2v7zm4 0h-2V7h2v10zm4 0h-2v-4h2v4z\"/>\n",
              "    </g>\n",
              "</svg>\n",
              "  </button>\n",
              "\n",
              "<style>\n",
              "  .colab-df-quickchart {\n",
              "      --bg-color: #E8F0FE;\n",
              "      --fill-color: #1967D2;\n",
              "      --hover-bg-color: #E2EBFA;\n",
              "      --hover-fill-color: #174EA6;\n",
              "      --disabled-fill-color: #AAA;\n",
              "      --disabled-bg-color: #DDD;\n",
              "  }\n",
              "\n",
              "  [theme=dark] .colab-df-quickchart {\n",
              "      --bg-color: #3B4455;\n",
              "      --fill-color: #D2E3FC;\n",
              "      --hover-bg-color: #434B5C;\n",
              "      --hover-fill-color: #FFFFFF;\n",
              "      --disabled-bg-color: #3B4455;\n",
              "      --disabled-fill-color: #666;\n",
              "  }\n",
              "\n",
              "  .colab-df-quickchart {\n",
              "    background-color: var(--bg-color);\n",
              "    border: none;\n",
              "    border-radius: 50%;\n",
              "    cursor: pointer;\n",
              "    display: none;\n",
              "    fill: var(--fill-color);\n",
              "    height: 32px;\n",
              "    padding: 0;\n",
              "    width: 32px;\n",
              "  }\n",
              "\n",
              "  .colab-df-quickchart:hover {\n",
              "    background-color: var(--hover-bg-color);\n",
              "    box-shadow: 0 1px 2px rgba(60, 64, 67, 0.3), 0 1px 3px 1px rgba(60, 64, 67, 0.15);\n",
              "    fill: var(--button-hover-fill-color);\n",
              "  }\n",
              "\n",
              "  .colab-df-quickchart-complete:disabled,\n",
              "  .colab-df-quickchart-complete:disabled:hover {\n",
              "    background-color: var(--disabled-bg-color);\n",
              "    fill: var(--disabled-fill-color);\n",
              "    box-shadow: none;\n",
              "  }\n",
              "\n",
              "  .colab-df-spinner {\n",
              "    border: 2px solid var(--fill-color);\n",
              "    border-color: transparent;\n",
              "    border-bottom-color: var(--fill-color);\n",
              "    animation:\n",
              "      spin 1s steps(1) infinite;\n",
              "  }\n",
              "\n",
              "  @keyframes spin {\n",
              "    0% {\n",
              "      border-color: transparent;\n",
              "      border-bottom-color: var(--fill-color);\n",
              "      border-left-color: var(--fill-color);\n",
              "    }\n",
              "    20% {\n",
              "      border-color: transparent;\n",
              "      border-left-color: var(--fill-color);\n",
              "      border-top-color: var(--fill-color);\n",
              "    }\n",
              "    30% {\n",
              "      border-color: transparent;\n",
              "      border-left-color: var(--fill-color);\n",
              "      border-top-color: var(--fill-color);\n",
              "      border-right-color: var(--fill-color);\n",
              "    }\n",
              "    40% {\n",
              "      border-color: transparent;\n",
              "      border-right-color: var(--fill-color);\n",
              "      border-top-color: var(--fill-color);\n",
              "    }\n",
              "    60% {\n",
              "      border-color: transparent;\n",
              "      border-right-color: var(--fill-color);\n",
              "    }\n",
              "    80% {\n",
              "      border-color: transparent;\n",
              "      border-right-color: var(--fill-color);\n",
              "      border-bottom-color: var(--fill-color);\n",
              "    }\n",
              "    90% {\n",
              "      border-color: transparent;\n",
              "      border-bottom-color: var(--fill-color);\n",
              "    }\n",
              "  }\n",
              "</style>\n",
              "\n",
              "  <script>\n",
              "    async function quickchart(key) {\n",
              "      const quickchartButtonEl =\n",
              "        document.querySelector('#' + key + ' button');\n",
              "      quickchartButtonEl.disabled = true;  // To prevent multiple clicks.\n",
              "      quickchartButtonEl.classList.add('colab-df-spinner');\n",
              "      try {\n",
              "        const charts = await google.colab.kernel.invokeFunction(\n",
              "            'suggestCharts', [key], {});\n",
              "      } catch (error) {\n",
              "        console.error('Error during call to suggestCharts:', error);\n",
              "      }\n",
              "      quickchartButtonEl.classList.remove('colab-df-spinner');\n",
              "      quickchartButtonEl.classList.add('colab-df-quickchart-complete');\n",
              "    }\n",
              "    (() => {\n",
              "      let quickchartButtonEl =\n",
              "        document.querySelector('#df-a92d7eb8-9101-4db0-a348-0ba4e84560cb button');\n",
              "      quickchartButtonEl.style.display =\n",
              "        google.colab.kernel.accessAllowed ? 'block' : 'none';\n",
              "    })();\n",
              "  </script>\n",
              "</div>\n",
              "    </div>\n",
              "  </div>\n"
            ],
            "application/vnd.google.colaboratory.intrinsic+json": {
              "type": "dataframe",
              "summary": "{\n  \"name\": \"data\",\n  \"rows\": 22,\n  \"fields\": [\n    {\n      \"column\": [\n        \"UniqueCarrier\",\n        \"\"\n      ],\n      \"properties\": {\n        \"dtype\": \"string\",\n        \"num_unique_values\": 22,\n        \"samples\": [\n          \"AA\",\n          \"NW\",\n          \"F9\"\n        ],\n        \"semantic_type\": \"\",\n        \"description\": \"\"\n      }\n    },\n    {\n      \"column\": [\n        \"dep_delayed_15min\",\n        \"mean\"\n      ],\n      \"properties\": {\n        \"dtype\": \"number\",\n        \"std\": 0.0512474832912639,\n        \"min\": 0.04330708661417323,\n        \"max\": 0.27531806615776083,\n        \"num_unique_values\": 22,\n        \"samples\": [\n          0.1879379910809089,\n          0.1678900515383414,\n          0.1550695825049702\n        ],\n        \"semantic_type\": \"\",\n        \"description\": \"\"\n      }\n    },\n    {\n      \"column\": [\n        \"dep_delayed_15min\",\n        \"count\"\n      ],\n      \"properties\": {\n        \"dtype\": \"number\",\n        \"std\": 3683,\n        \"min\": 234,\n        \"max\": 15082,\n        \"num_unique_values\": 22,\n        \"samples\": [\n          9418,\n          6403,\n          1006\n        ],\n        \"semantic_type\": \"\",\n        \"description\": \"\"\n      }\n    }\n  ]\n}"
            }
          },
          "metadata": {},
          "execution_count": 40
        }
      ]
    },
    {
      "cell_type": "markdown",
      "source": [
        "Мы видим, что некоторые перевозчики довольно часто задерживают рейсы, а некоторые почти не задерживают. То есть знание об авиакомпании важно!\n"
      ],
      "metadata": {
        "id": "hQKcJ9jDrQb2"
      }
    },
    {
      "cell_type": "markdown",
      "source": [
        "Код авиакомпании - это категориальный признак. В начале курса мы немного говорили про то, как можно кодировать такие признаки - вот [ссылка на соответствующий урок](https://stepik.org/lesson/806464/step/4?unit=809640).\n",
        "\n",
        "Подход называется OneHot encoding. Напомним, в чем он состоит:\n",
        "* мы создаем столько же колонок, сколько различных категорий в столбце\n",
        "* далее для объекта ставим 1 в ту колонку, к категории которой он относится, а во все остальные колонки ставим 0"
      ],
      "metadata": {
        "id": "kvqOmBfWeBPk"
      }
    },
    {
      "cell_type": "markdown",
      "source": [
        "![image.png](data:image/png;base64,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)"
      ],
      "metadata": {
        "id": "U1euVQo1esQx"
      }
    },
    {
      "cell_type": "markdown",
      "source": [
        "Заметим, что сумма значений в каждой строке равна 1 - то есть получили линейно-зависимые столбцы. Поэтому на практике создают на 1 колонку меньше, чем планировалось, чтобы избежать линейной зависимости.\n",
        "\n",
        "Закодируем столбец `UniqueCarrier` при помощи OneHot encoding. В pandas этот метод называется get_dummies."
      ],
      "metadata": {
        "id": "aTpN-ApOewEs"
      }
    },
    {
      "cell_type": "code",
      "source": [
        "X = data[['Month','UniqueCarrier','DepTime','Distance']]\n",
        "y = data['dep_delayed_15min']\n",
        "\n",
        "X = pd.get_dummies(X, columns=['UniqueCarrier'], drop_first=True) # drop_first=True - выкидываем один столбец, чтобы избежать линейной зависимости\n",
        "X.head()"
      ],
      "metadata": {
        "id": "KbB9KYK0chZl",
        "colab": {
          "base_uri": "https://localhost:8080/",
          "height": 255
        },
        "outputId": "763bd6e7-92be-4672-c772-ecf432d678b4"
      },
      "execution_count": 41,
      "outputs": [
        {
          "output_type": "execute_result",
          "data": {
            "text/plain": [
              "   Month  DepTime  Distance  UniqueCarrier_AQ  UniqueCarrier_AS  \\\n",
              "0      8     1934       732             False             False   \n",
              "1      4     1548       834             False             False   \n",
              "2      9     1422       416             False             False   \n",
              "3     11     1015       872             False             False   \n",
              "4     10     1828       423             False             False   \n",
              "\n",
              "   UniqueCarrier_B6  UniqueCarrier_CO  UniqueCarrier_DH  UniqueCarrier_DL  \\\n",
              "0             False             False             False             False   \n",
              "1             False             False             False             False   \n",
              "2             False             False             False             False   \n",
              "3             False             False             False             False   \n",
              "4             False             False             False             False   \n",
              "\n",
              "   UniqueCarrier_EV  ...  UniqueCarrier_MQ  UniqueCarrier_NW  \\\n",
              "0             False  ...             False             False   \n",
              "1             False  ...             False             False   \n",
              "2             False  ...             False             False   \n",
              "3             False  ...             False             False   \n",
              "4             False  ...             False             False   \n",
              "\n",
              "   UniqueCarrier_OH  UniqueCarrier_OO  UniqueCarrier_TZ  UniqueCarrier_UA  \\\n",
              "0             False             False             False             False   \n",
              "1             False             False             False             False   \n",
              "2             False             False             False             False   \n",
              "3             False              True             False             False   \n",
              "4             False             False             False             False   \n",
              "\n",
              "   UniqueCarrier_US  UniqueCarrier_WN  UniqueCarrier_XE  UniqueCarrier_YV  \n",
              "0             False             False             False             False  \n",
              "1              True             False             False             False  \n",
              "2             False             False              True             False  \n",
              "3             False             False             False             False  \n",
              "4             False              True             False             False  \n",
              "\n",
              "[5 rows x 24 columns]"
            ],
            "text/html": [
              "\n",
              "  <div id=\"df-3d699a48-b1a7-4b00-9432-669bdfb1f2c6\" class=\"colab-df-container\">\n",
              "    <div>\n",
              "<style scoped>\n",
              "    .dataframe tbody tr th:only-of-type {\n",
              "        vertical-align: middle;\n",
              "    }\n",
              "\n",
              "    .dataframe tbody tr th {\n",
              "        vertical-align: top;\n",
              "    }\n",
              "\n",
              "    .dataframe thead th {\n",
              "        text-align: right;\n",
              "    }\n",
              "</style>\n",
              "<table border=\"1\" class=\"dataframe\">\n",
              "  <thead>\n",
              "    <tr style=\"text-align: right;\">\n",
              "      <th></th>\n",
              "      <th>Month</th>\n",
              "      <th>DepTime</th>\n",
              "      <th>Distance</th>\n",
              "      <th>UniqueCarrier_AQ</th>\n",
              "      <th>UniqueCarrier_AS</th>\n",
              "      <th>UniqueCarrier_B6</th>\n",
              "      <th>UniqueCarrier_CO</th>\n",
              "      <th>UniqueCarrier_DH</th>\n",
              "      <th>UniqueCarrier_DL</th>\n",
              "      <th>UniqueCarrier_EV</th>\n",
              "      <th>...</th>\n",
              "      <th>UniqueCarrier_MQ</th>\n",
              "      <th>UniqueCarrier_NW</th>\n",
              "      <th>UniqueCarrier_OH</th>\n",
              "      <th>UniqueCarrier_OO</th>\n",
              "      <th>UniqueCarrier_TZ</th>\n",
              "      <th>UniqueCarrier_UA</th>\n",
              "      <th>UniqueCarrier_US</th>\n",
              "      <th>UniqueCarrier_WN</th>\n",
              "      <th>UniqueCarrier_XE</th>\n",
              "      <th>UniqueCarrier_YV</th>\n",
              "    </tr>\n",
              "  </thead>\n",
              "  <tbody>\n",
              "    <tr>\n",
              "      <th>0</th>\n",
              "      <td>8</td>\n",
              "      <td>1934</td>\n",
              "      <td>732</td>\n",
              "      <td>False</td>\n",
              "      <td>False</td>\n",
              "      <td>False</td>\n",
              "      <td>False</td>\n",
              "      <td>False</td>\n",
              "      <td>False</td>\n",
              "      <td>False</td>\n",
              "      <td>...</td>\n",
              "      <td>False</td>\n",
              "      <td>False</td>\n",
              "      <td>False</td>\n",
              "      <td>False</td>\n",
              "      <td>False</td>\n",
              "      <td>False</td>\n",
              "      <td>False</td>\n",
              "      <td>False</td>\n",
              "      <td>False</td>\n",
              "      <td>False</td>\n",
              "    </tr>\n",
              "    <tr>\n",
              "      <th>1</th>\n",
              "      <td>4</td>\n",
              "      <td>1548</td>\n",
              "      <td>834</td>\n",
              "      <td>False</td>\n",
              "      <td>False</td>\n",
              "      <td>False</td>\n",
              "      <td>False</td>\n",
              "      <td>False</td>\n",
              "      <td>False</td>\n",
              "      <td>False</td>\n",
              "      <td>...</td>\n",
              "      <td>False</td>\n",
              "      <td>False</td>\n",
              "      <td>False</td>\n",
              "      <td>False</td>\n",
              "      <td>False</td>\n",
              "      <td>False</td>\n",
              "      <td>True</td>\n",
              "      <td>False</td>\n",
              "      <td>False</td>\n",
              "      <td>False</td>\n",
              "    </tr>\n",
              "    <tr>\n",
              "      <th>2</th>\n",
              "      <td>9</td>\n",
              "      <td>1422</td>\n",
              "      <td>416</td>\n",
              "      <td>False</td>\n",
              "      <td>False</td>\n",
              "      <td>False</td>\n",
              "      <td>False</td>\n",
              "      <td>False</td>\n",
              "      <td>False</td>\n",
              "      <td>False</td>\n",
              "      <td>...</td>\n",
              "      <td>False</td>\n",
              "      <td>False</td>\n",
              "      <td>False</td>\n",
              "      <td>False</td>\n",
              "      <td>False</td>\n",
              "      <td>False</td>\n",
              "      <td>False</td>\n",
              "      <td>False</td>\n",
              "      <td>True</td>\n",
              "      <td>False</td>\n",
              "    </tr>\n",
              "    <tr>\n",
              "      <th>3</th>\n",
              "      <td>11</td>\n",
              "      <td>1015</td>\n",
              "      <td>872</td>\n",
              "      <td>False</td>\n",
              "      <td>False</td>\n",
              "      <td>False</td>\n",
              "      <td>False</td>\n",
              "      <td>False</td>\n",
              "      <td>False</td>\n",
              "      <td>False</td>\n",
              "      <td>...</td>\n",
              "      <td>False</td>\n",
              "      <td>False</td>\n",
              "      <td>False</td>\n",
              "      <td>True</td>\n",
              "      <td>False</td>\n",
              "      <td>False</td>\n",
              "      <td>False</td>\n",
              "      <td>False</td>\n",
              "      <td>False</td>\n",
              "      <td>False</td>\n",
              "    </tr>\n",
              "    <tr>\n",
              "      <th>4</th>\n",
              "      <td>10</td>\n",
              "      <td>1828</td>\n",
              "      <td>423</td>\n",
              "      <td>False</td>\n",
              "      <td>False</td>\n",
              "      <td>False</td>\n",
              "      <td>False</td>\n",
              "      <td>False</td>\n",
              "      <td>False</td>\n",
              "      <td>False</td>\n",
              "      <td>...</td>\n",
              "      <td>False</td>\n",
              "      <td>False</td>\n",
              "      <td>False</td>\n",
              "      <td>False</td>\n",
              "      <td>False</td>\n",
              "      <td>False</td>\n",
              "      <td>False</td>\n",
              "      <td>True</td>\n",
              "      <td>False</td>\n",
              "      <td>False</td>\n",
              "    </tr>\n",
              "  </tbody>\n",
              "</table>\n",
              "<p>5 rows × 24 columns</p>\n",
              "</div>\n",
              "    <div class=\"colab-df-buttons\">\n",
              "\n",
              "  <div class=\"colab-df-container\">\n",
              "    <button class=\"colab-df-convert\" onclick=\"convertToInteractive('df-3d699a48-b1a7-4b00-9432-669bdfb1f2c6')\"\n",
              "            title=\"Convert this dataframe to an interactive table.\"\n",
              "            style=\"display:none;\">\n",
              "\n",
              "  <svg xmlns=\"http://www.w3.org/2000/svg\" height=\"24px\" viewBox=\"0 -960 960 960\">\n",
              "    <path d=\"M120-120v-720h720v720H120Zm60-500h600v-160H180v160Zm220 220h160v-160H400v160Zm0 220h160v-160H400v160ZM180-400h160v-160H180v160Zm440 0h160v-160H620v160ZM180-180h160v-160H180v160Zm440 0h160v-160H620v160Z\"/>\n",
              "  </svg>\n",
              "    </button>\n",
              "\n",
              "  <style>\n",
              "    .colab-df-container {\n",
              "      display:flex;\n",
              "      gap: 12px;\n",
              "    }\n",
              "\n",
              "    .colab-df-convert {\n",
              "      background-color: #E8F0FE;\n",
              "      border: none;\n",
              "      border-radius: 50%;\n",
              "      cursor: pointer;\n",
              "      display: none;\n",
              "      fill: #1967D2;\n",
              "      height: 32px;\n",
              "      padding: 0 0 0 0;\n",
              "      width: 32px;\n",
              "    }\n",
              "\n",
              "    .colab-df-convert:hover {\n",
              "      background-color: #E2EBFA;\n",
              "      box-shadow: 0px 1px 2px rgba(60, 64, 67, 0.3), 0px 1px 3px 1px rgba(60, 64, 67, 0.15);\n",
              "      fill: #174EA6;\n",
              "    }\n",
              "\n",
              "    .colab-df-buttons div {\n",
              "      margin-bottom: 4px;\n",
              "    }\n",
              "\n",
              "    [theme=dark] .colab-df-convert {\n",
              "      background-color: #3B4455;\n",
              "      fill: #D2E3FC;\n",
              "    }\n",
              "\n",
              "    [theme=dark] .colab-df-convert:hover {\n",
              "      background-color: #434B5C;\n",
              "      box-shadow: 0px 1px 3px 1px rgba(0, 0, 0, 0.15);\n",
              "      filter: drop-shadow(0px 1px 2px rgba(0, 0, 0, 0.3));\n",
              "      fill: #FFFFFF;\n",
              "    }\n",
              "  </style>\n",
              "\n",
              "    <script>\n",
              "      const buttonEl =\n",
              "        document.querySelector('#df-3d699a48-b1a7-4b00-9432-669bdfb1f2c6 button.colab-df-convert');\n",
              "      buttonEl.style.display =\n",
              "        google.colab.kernel.accessAllowed ? 'block' : 'none';\n",
              "\n",
              "      async function convertToInteractive(key) {\n",
              "        const element = document.querySelector('#df-3d699a48-b1a7-4b00-9432-669bdfb1f2c6');\n",
              "        const dataTable =\n",
              "          await google.colab.kernel.invokeFunction('convertToInteractive',\n",
              "                                                    [key], {});\n",
              "        if (!dataTable) return;\n",
              "\n",
              "        const docLinkHtml = 'Like what you see? Visit the ' +\n",
              "          '<a target=\"_blank\" href=https://colab.research.google.com/notebooks/data_table.ipynb>data table notebook</a>'\n",
              "          + ' to learn more about interactive tables.';\n",
              "        element.innerHTML = '';\n",
              "        dataTable['output_type'] = 'display_data';\n",
              "        await google.colab.output.renderOutput(dataTable, element);\n",
              "        const docLink = document.createElement('div');\n",
              "        docLink.innerHTML = docLinkHtml;\n",
              "        element.appendChild(docLink);\n",
              "      }\n",
              "    </script>\n",
              "  </div>\n",
              "\n",
              "\n",
              "<div id=\"df-3c85a724-3b8a-4240-bee4-838659a91fe8\">\n",
              "  <button class=\"colab-df-quickchart\" onclick=\"quickchart('df-3c85a724-3b8a-4240-bee4-838659a91fe8')\"\n",
              "            title=\"Suggest charts\"\n",
              "            style=\"display:none;\">\n",
              "\n",
              "<svg xmlns=\"http://www.w3.org/2000/svg\" height=\"24px\"viewBox=\"0 0 24 24\"\n",
              "     width=\"24px\">\n",
              "    <g>\n",
              "        <path d=\"M19 3H5c-1.1 0-2 .9-2 2v14c0 1.1.9 2 2 2h14c1.1 0 2-.9 2-2V5c0-1.1-.9-2-2-2zM9 17H7v-7h2v7zm4 0h-2V7h2v10zm4 0h-2v-4h2v4z\"/>\n",
              "    </g>\n",
              "</svg>\n",
              "  </button>\n",
              "\n",
              "<style>\n",
              "  .colab-df-quickchart {\n",
              "      --bg-color: #E8F0FE;\n",
              "      --fill-color: #1967D2;\n",
              "      --hover-bg-color: #E2EBFA;\n",
              "      --hover-fill-color: #174EA6;\n",
              "      --disabled-fill-color: #AAA;\n",
              "      --disabled-bg-color: #DDD;\n",
              "  }\n",
              "\n",
              "  [theme=dark] .colab-df-quickchart {\n",
              "      --bg-color: #3B4455;\n",
              "      --fill-color: #D2E3FC;\n",
              "      --hover-bg-color: #434B5C;\n",
              "      --hover-fill-color: #FFFFFF;\n",
              "      --disabled-bg-color: #3B4455;\n",
              "      --disabled-fill-color: #666;\n",
              "  }\n",
              "\n",
              "  .colab-df-quickchart {\n",
              "    background-color: var(--bg-color);\n",
              "    border: none;\n",
              "    border-radius: 50%;\n",
              "    cursor: pointer;\n",
              "    display: none;\n",
              "    fill: var(--fill-color);\n",
              "    height: 32px;\n",
              "    padding: 0;\n",
              "    width: 32px;\n",
              "  }\n",
              "\n",
              "  .colab-df-quickchart:hover {\n",
              "    background-color: var(--hover-bg-color);\n",
              "    box-shadow: 0 1px 2px rgba(60, 64, 67, 0.3), 0 1px 3px 1px rgba(60, 64, 67, 0.15);\n",
              "    fill: var(--button-hover-fill-color);\n",
              "  }\n",
              "\n",
              "  .colab-df-quickchart-complete:disabled,\n",
              "  .colab-df-quickchart-complete:disabled:hover {\n",
              "    background-color: var(--disabled-bg-color);\n",
              "    fill: var(--disabled-fill-color);\n",
              "    box-shadow: none;\n",
              "  }\n",
              "\n",
              "  .colab-df-spinner {\n",
              "    border: 2px solid var(--fill-color);\n",
              "    border-color: transparent;\n",
              "    border-bottom-color: var(--fill-color);\n",
              "    animation:\n",
              "      spin 1s steps(1) infinite;\n",
              "  }\n",
              "\n",
              "  @keyframes spin {\n",
              "    0% {\n",
              "      border-color: transparent;\n",
              "      border-bottom-color: var(--fill-color);\n",
              "      border-left-color: var(--fill-color);\n",
              "    }\n",
              "    20% {\n",
              "      border-color: transparent;\n",
              "      border-left-color: var(--fill-color);\n",
              "      border-top-color: var(--fill-color);\n",
              "    }\n",
              "    30% {\n",
              "      border-color: transparent;\n",
              "      border-left-color: var(--fill-color);\n",
              "      border-top-color: var(--fill-color);\n",
              "      border-right-color: var(--fill-color);\n",
              "    }\n",
              "    40% {\n",
              "      border-color: transparent;\n",
              "      border-right-color: var(--fill-color);\n",
              "      border-top-color: var(--fill-color);\n",
              "    }\n",
              "    60% {\n",
              "      border-color: transparent;\n",
              "      border-right-color: var(--fill-color);\n",
              "    }\n",
              "    80% {\n",
              "      border-color: transparent;\n",
              "      border-right-color: var(--fill-color);\n",
              "      border-bottom-color: var(--fill-color);\n",
              "    }\n",
              "    90% {\n",
              "      border-color: transparent;\n",
              "      border-bottom-color: var(--fill-color);\n",
              "    }\n",
              "  }\n",
              "</style>\n",
              "\n",
              "  <script>\n",
              "    async function quickchart(key) {\n",
              "      const quickchartButtonEl =\n",
              "        document.querySelector('#' + key + ' button');\n",
              "      quickchartButtonEl.disabled = true;  // To prevent multiple clicks.\n",
              "      quickchartButtonEl.classList.add('colab-df-spinner');\n",
              "      try {\n",
              "        const charts = await google.colab.kernel.invokeFunction(\n",
              "            'suggestCharts', [key], {});\n",
              "      } catch (error) {\n",
              "        console.error('Error during call to suggestCharts:', error);\n",
              "      }\n",
              "      quickchartButtonEl.classList.remove('colab-df-spinner');\n",
              "      quickchartButtonEl.classList.add('colab-df-quickchart-complete');\n",
              "    }\n",
              "    (() => {\n",
              "      let quickchartButtonEl =\n",
              "        document.querySelector('#df-3c85a724-3b8a-4240-bee4-838659a91fe8 button');\n",
              "      quickchartButtonEl.style.display =\n",
              "        google.colab.kernel.accessAllowed ? 'block' : 'none';\n",
              "    })();\n",
              "  </script>\n",
              "</div>\n",
              "    </div>\n",
              "  </div>\n"
            ],
            "application/vnd.google.colaboratory.intrinsic+json": {
              "type": "dataframe",
              "variable_name": "X"
            }
          },
          "metadata": {},
          "execution_count": 41
        }
      ]
    },
    {
      "cell_type": "code",
      "source": [
        "print('Decision Tree:', cross_val_score(DecisionTreeClassifier(), X, y, cv=3, scoring='roc_auc').mean())\n",
        "print('Random Forest:', cross_val_score(RandomForestClassifier(), X, y, cv=3, scoring='roc_auc').mean())\n",
        "print('Gradient Boosting:', cross_val_score(GradientBoostingClassifier(), X, y, cv=3, scoring='roc_auc').mean())"
      ],
      "metadata": {
        "id": "j3x5d75CYnoM",
        "colab": {
          "base_uri": "https://localhost:8080/"
        },
        "outputId": "8471a674-107c-4bad-a3e0-432a2adce861"
      },
      "execution_count": 42,
      "outputs": [
        {
          "output_type": "stream",
          "name": "stdout",
          "text": [
            "Decision Tree: 0.5801701824884274\n",
            "Random Forest: 0.6945664777169877\n",
            "Gradient Boosting: 0.7129764200506358\n"
          ]
        }
      ]
    },
    {
      "cell_type": "markdown",
      "source": [
        "Базовые модели показывают результаты по кросс-валидации чуть лучше! Ура!\n",
        "\n",
        "Теперь вам необходимо подобрать оптимальные гиперпараметры модели так же, как вы делали в заданиях выше.\n",
        "\n",
        "Так как информации о каждой авиакомпании не так много, то здесь для обучения лучше использовать все тренировочные данные, а не только первые 10000 строк."
      ],
      "metadata": {
        "id": "U3rE_Pz3fLre"
      }
    },
    {
      "cell_type": "code",
      "source": [
        "Xtrain, Xtest, ytrain, ytest = train_test_split(X, y, test_size=0.25, random_state=RANDOM_STATE)"
      ],
      "metadata": {
        "id": "hj8c0-hmdOxT"
      },
      "execution_count": 43,
      "outputs": []
    },
    {
      "cell_type": "markdown",
      "source": [
        "### Подберите оптимальные гиперпараметры для Decision Tree."
      ],
      "metadata": {
        "id": "lahlRgtrfmL4"
      }
    },
    {
      "cell_type": "code",
      "source": [
        "# your code here\n",
        "\n",
        "params = {'criterion': ('gini', 'entropy'), 'max_depth':range(1,11,1)}\n",
        "\n",
        "gs_dt2 = GridSearchCV(DecisionTreeClassifier(random_state=RANDOM_STATE), params, cv=3, scoring='roc_auc')\n",
        "\n",
        "gs_dt2.fit(Xtrain, ytrain)\n",
        "\n",
        "gs_dt2.best_score_, gs_dt2.best_estimator_\n",
        "\n"
      ],
      "metadata": {
        "id": "RyagWP9gfZsX",
        "colab": {
          "base_uri": "https://localhost:8080/"
        },
        "outputId": "59387044-7e1c-49bd-bc8e-8e34837b77e1"
      },
      "execution_count": 45,
      "outputs": [
        {
          "output_type": "execute_result",
          "data": {
            "text/plain": [
              "(0.6950490283264984,\n",
              " DecisionTreeClassifier(criterion='entropy', max_depth=6, random_state=111))"
            ]
          },
          "metadata": {},
          "execution_count": 45
        }
      ]
    },
    {
      "cell_type": "code",
      "source": [
        "# your code here\n",
        "dt2 = gs_dt2.best_estimator_\n",
        "\n",
        "pred_dt2 = dt2.predict_proba(Xtest)[:,1]\n",
        "print(roc_auc_score(ytest, pred_dt2))"
      ],
      "metadata": {
        "colab": {
          "base_uri": "https://localhost:8080/"
        },
        "id": "b0JnVjXRcg78",
        "outputId": "0d6b1716-788c-4abe-b89e-609097814c08"
      },
      "execution_count": 46,
      "outputs": [
        {
          "output_type": "stream",
          "name": "stdout",
          "text": [
            "0.7017524733694478\n"
          ]
        }
      ]
    },
    {
      "cell_type": "markdown",
      "source": [
        "Теперь обучите на **всех** тренировочных данных случайный лес с лучшими  \n",
        "найденными гиперпараметрами и выведите *ROC-AUC* на тесте."
      ],
      "metadata": {
        "id": "l93NIs_ef5MZ"
      }
    },
    {
      "cell_type": "code",
      "source": [
        "# your code here"
      ],
      "metadata": {
        "id": "5u64md_vf5Ma"
      },
      "execution_count": null,
      "outputs": []
    },
    {
      "cell_type": "markdown",
      "source": [
        "### Подберите оптимальные гиперпараметры для Random Forest."
      ],
      "metadata": {
        "id": "PYNuXI0cgis4"
      }
    },
    {
      "cell_type": "code",
      "source": [
        "# your code here\n",
        "# your code here\n",
        "params = {'n_estimators': np.arange(10, 90, 20),\n",
        "          'max_depth': np.arange(2, 15, 3)}\n",
        "\n",
        "\n",
        "gs_rf2 = GridSearchCV(RandomForestClassifier(random_state=RANDOM_STATE), params, cv=3, scoring='roc_auc', verbose=2)\n",
        "\n",
        "gs_rf2.fit(Xtrain, ytrain)\n",
        "\n",
        "gs_rf2.best_score_, gs_rf2.best_estimator_"
      ],
      "metadata": {
        "id": "ZEiU1nA1fsty",
        "colab": {
          "base_uri": "https://localhost:8080/"
        },
        "outputId": "d8619f59-8a9c-4402-c139-cf11c9ab1cdf"
      },
      "execution_count": 47,
      "outputs": [
        {
          "output_type": "stream",
          "name": "stdout",
          "text": [
            "Fitting 3 folds for each of 20 candidates, totalling 60 fits\n",
            "[CV] END .......................max_depth=2, n_estimators=10; total time=   0.2s\n",
            "[CV] END .......................max_depth=2, n_estimators=10; total time=   0.2s\n",
            "[CV] END .......................max_depth=2, n_estimators=10; total time=   0.1s\n",
            "[CV] END .......................max_depth=2, n_estimators=30; total time=   0.4s\n",
            "[CV] END .......................max_depth=2, n_estimators=30; total time=   0.4s\n",
            "[CV] END .......................max_depth=2, n_estimators=30; total time=   0.4s\n",
            "[CV] END .......................max_depth=2, n_estimators=50; total time=   0.7s\n",
            "[CV] END .......................max_depth=2, n_estimators=50; total time=   0.8s\n",
            "[CV] END .......................max_depth=2, n_estimators=50; total time=   1.0s\n",
            "[CV] END .......................max_depth=2, n_estimators=70; total time=   1.3s\n",
            "[CV] END .......................max_depth=2, n_estimators=70; total time=   1.0s\n",
            "[CV] END .......................max_depth=2, n_estimators=70; total time=   0.9s\n",
            "[CV] END .......................max_depth=5, n_estimators=10; total time=   0.2s\n",
            "[CV] END .......................max_depth=5, n_estimators=10; total time=   0.2s\n",
            "[CV] END .......................max_depth=5, n_estimators=10; total time=   0.2s\n",
            "[CV] END .......................max_depth=5, n_estimators=30; total time=   0.7s\n",
            "[CV] END .......................max_depth=5, n_estimators=30; total time=   0.7s\n",
            "[CV] END .......................max_depth=5, n_estimators=30; total time=   0.7s\n",
            "[CV] END .......................max_depth=5, n_estimators=50; total time=   1.0s\n",
            "[CV] END .......................max_depth=5, n_estimators=50; total time=   1.0s\n",
            "[CV] END .......................max_depth=5, n_estimators=50; total time=   1.0s\n",
            "[CV] END .......................max_depth=5, n_estimators=70; total time=   1.4s\n",
            "[CV] END .......................max_depth=5, n_estimators=70; total time=   1.6s\n",
            "[CV] END .......................max_depth=5, n_estimators=70; total time=   2.3s\n",
            "[CV] END .......................max_depth=8, n_estimators=10; total time=   0.4s\n",
            "[CV] END .......................max_depth=8, n_estimators=10; total time=   0.4s\n",
            "[CV] END .......................max_depth=8, n_estimators=10; total time=   0.3s\n",
            "[CV] END .......................max_depth=8, n_estimators=30; total time=   0.8s\n",
            "[CV] END .......................max_depth=8, n_estimators=30; total time=   0.8s\n",
            "[CV] END .......................max_depth=8, n_estimators=30; total time=   0.9s\n",
            "[CV] END .......................max_depth=8, n_estimators=50; total time=   1.4s\n",
            "[CV] END .......................max_depth=8, n_estimators=50; total time=   1.4s\n",
            "[CV] END .......................max_depth=8, n_estimators=50; total time=   1.6s\n",
            "[CV] END .......................max_depth=8, n_estimators=70; total time=   2.0s\n",
            "[CV] END .......................max_depth=8, n_estimators=70; total time=   2.6s\n",
            "[CV] END .......................max_depth=8, n_estimators=70; total time=   2.4s\n",
            "[CV] END ......................max_depth=11, n_estimators=10; total time=   0.4s\n",
            "[CV] END ......................max_depth=11, n_estimators=10; total time=   0.4s\n",
            "[CV] END ......................max_depth=11, n_estimators=10; total time=   0.4s\n",
            "[CV] END ......................max_depth=11, n_estimators=30; total time=   1.3s\n",
            "[CV] END ......................max_depth=11, n_estimators=30; total time=   1.3s\n",
            "[CV] END ......................max_depth=11, n_estimators=30; total time=   1.3s\n",
            "[CV] END ......................max_depth=11, n_estimators=50; total time=   2.0s\n",
            "[CV] END ......................max_depth=11, n_estimators=50; total time=   1.8s\n",
            "[CV] END ......................max_depth=11, n_estimators=50; total time=   2.8s\n",
            "[CV] END ......................max_depth=11, n_estimators=70; total time=   2.7s\n",
            "[CV] END ......................max_depth=11, n_estimators=70; total time=   2.6s\n",
            "[CV] END ......................max_depth=11, n_estimators=70; total time=   2.7s\n",
            "[CV] END ......................max_depth=14, n_estimators=10; total time=   0.5s\n",
            "[CV] END ......................max_depth=14, n_estimators=10; total time=   0.5s\n",
            "[CV] END ......................max_depth=14, n_estimators=10; total time=   0.5s\n",
            "[CV] END ......................max_depth=14, n_estimators=30; total time=   1.7s\n",
            "[CV] END ......................max_depth=14, n_estimators=30; total time=   2.1s\n",
            "[CV] END ......................max_depth=14, n_estimators=30; total time=   1.7s\n",
            "[CV] END ......................max_depth=14, n_estimators=50; total time=   2.2s\n",
            "[CV] END ......................max_depth=14, n_estimators=50; total time=   2.2s\n",
            "[CV] END ......................max_depth=14, n_estimators=50; total time=   2.4s\n",
            "[CV] END ......................max_depth=14, n_estimators=70; total time=   3.6s\n",
            "[CV] END ......................max_depth=14, n_estimators=70; total time=   4.0s\n",
            "[CV] END ......................max_depth=14, n_estimators=70; total time=   3.2s\n"
          ]
        },
        {
          "output_type": "execute_result",
          "data": {
            "text/plain": [
              "(0.713591459600876,\n",
              " RandomForestClassifier(max_depth=14, n_estimators=70, random_state=111))"
            ]
          },
          "metadata": {},
          "execution_count": 47
        }
      ]
    },
    {
      "cell_type": "markdown",
      "source": [
        "Теперь обучите на **всех** тренировочных данных случайный лес с лучшими  \n",
        "найденными гиперпараметрами и выведите *ROC-AUC* на тесте."
      ],
      "metadata": {
        "id": "dyx2UV2_g66H"
      }
    },
    {
      "cell_type": "code",
      "source": [
        "# your code here\n",
        "# лес\n",
        "rfb2 = gs_rf2.best_estimator_\n",
        "\n",
        "pred_rf2 = rfb2.predict_proba(Xtest)[:,1]\n",
        "print(roc_auc_score(ytest, pred_rf2))"
      ],
      "metadata": {
        "id": "AFS0Uh4Sg66K",
        "colab": {
          "base_uri": "https://localhost:8080/"
        },
        "outputId": "adbc7ad8-2bb1-4af7-c075-ff6fe4187fcd"
      },
      "execution_count": 48,
      "outputs": [
        {
          "output_type": "stream",
          "name": "stdout",
          "text": [
            "0.7178786414959568\n"
          ]
        }
      ]
    },
    {
      "cell_type": "markdown",
      "source": [
        "### Подберите оптимальные гиперпараметры для Gradient Boosting."
      ],
      "metadata": {
        "id": "GEMTkmLWoqAa"
      }
    },
    {
      "cell_type": "markdown",
      "source": [
        "Чтобы сверить часы с составителями задания, подберите оптимальные гиперпараметры бустинга:\n",
        "* задайте n_estimators = 70\n",
        "* ищите max_depth в диапазоне от 10 до 20 не включительно с шагом 3"
      ],
      "metadata": {
        "id": "mgYjqyKEoqvx"
      }
    },
    {
      "cell_type": "code",
      "source": [
        "# your code here\n",
        "# бустинг\n",
        "params = {'n_estimators': [70],\n",
        "          'max_depth': np.arange(10, 20, 3)}\n",
        "\n",
        "\n",
        "gs_gb2 = GridSearchCV(GradientBoostingClassifier(random_state=RANDOM_STATE), params, cv=3, scoring='roc_auc', verbose=2)\n",
        "\n",
        "gs_gb2.fit(Xtrain, ytrain)\n",
        "\n",
        "gs_gb2.best_score_, gs_gb2.best_estimator_"
      ],
      "metadata": {
        "id": "OM3JcgxIhDKy",
        "colab": {
          "base_uri": "https://localhost:8080/"
        },
        "outputId": "a14c6212-6d2b-40be-ea17-8da88b5aaa89"
      },
      "execution_count": 50,
      "outputs": [
        {
          "output_type": "stream",
          "name": "stdout",
          "text": [
            "Fitting 3 folds for each of 4 candidates, totalling 12 fits\n",
            "[CV] END ......................max_depth=10, n_estimators=70; total time=  17.4s\n",
            "[CV] END ......................max_depth=10, n_estimators=70; total time=  17.0s\n",
            "[CV] END ......................max_depth=10, n_estimators=70; total time=  18.0s\n",
            "[CV] END ......................max_depth=13, n_estimators=70; total time=  28.0s\n",
            "[CV] END ......................max_depth=13, n_estimators=70; total time=  26.8s\n",
            "[CV] END ......................max_depth=13, n_estimators=70; total time=  27.5s\n",
            "[CV] END ......................max_depth=16, n_estimators=70; total time=  43.9s\n",
            "[CV] END ......................max_depth=16, n_estimators=70; total time=  44.2s\n",
            "[CV] END ......................max_depth=16, n_estimators=70; total time=  43.9s\n",
            "[CV] END ......................max_depth=19, n_estimators=70; total time= 1.1min\n",
            "[CV] END ......................max_depth=19, n_estimators=70; total time= 1.1min\n",
            "[CV] END ......................max_depth=19, n_estimators=70; total time= 1.1min\n"
          ]
        },
        {
          "output_type": "execute_result",
          "data": {
            "text/plain": [
              "(0.7143739402509027,\n",
              " GradientBoostingClassifier(max_depth=10, n_estimators=70, random_state=111))"
            ]
          },
          "metadata": {},
          "execution_count": 50
        }
      ]
    },
    {
      "cell_type": "markdown",
      "source": [
        "Теперь обучите на **всех** тренировочных данных градиентный бустинг с лучшими  \n",
        "найденными гиперпараметрами и выведите *ROC-AUC* на тесте."
      ],
      "metadata": {
        "id": "6Np6QVe1ql6x"
      }
    },
    {
      "cell_type": "code",
      "source": [
        "# your code here\n",
        "# boosting\n",
        "gbbe2 = gs_gb2.best_estimator_\n",
        "\n",
        "pred_gb2 = gbbe2.predict_proba(Xtest)[:,1]\n",
        "print(roc_auc_score(ytest, pred_gb2))"
      ],
      "metadata": {
        "id": "i5uo-kFnkSbw",
        "colab": {
          "base_uri": "https://localhost:8080/"
        },
        "outputId": "3fb1babb-7f45-4554-df64-907ecb91edcb"
      },
      "execution_count": 51,
      "outputs": [
        {
          "output_type": "stream",
          "name": "stdout",
          "text": [
            "0.7244482306109212\n"
          ]
        }
      ]
    },
    {
      "cell_type": "markdown",
      "source": [
        "## Вопрос для Quiz\n",
        "\n",
        "Чему равно качество модели с наилучшими параметрами, обученной на всех тренировочных данных и примененной к тесту?\n",
        "\n",
        "Ответ округлите до десятых."
      ],
      "metadata": {
        "id": "9A35kptlpH9y"
      }
    },
    {
      "cell_type": "markdown",
      "source": [
        "Посмотрим на важность признаков у полученного бустинга."
      ],
      "metadata": {
        "id": "qDT0kOHbqrAp"
      }
    },
    {
      "cell_type": "code",
      "source": [
        "from matplotlib import pyplot as plt"
      ],
      "metadata": {
        "id": "B5l3ioFjiFPd"
      },
      "execution_count": 52,
      "outputs": []
    },
    {
      "cell_type": "code",
      "source": [
        "\n",
        "# в коде model - это модель (если назвали по-другому, то в этом кусочке измените model на свое название)\n",
        "\n",
        "importances = gbbe2.feature_importances_\n",
        "indices = np.argsort(importances)\n",
        "\n",
        "plt.figure()\n",
        "plt.title(\"Feature importances\")\n",
        "plt.bar(range(len(gbbe2.feature_importances_)), gbbe2.feature_importances_)\n",
        "plt.xticks(range(len(gbbe2.feature_importances_)), X.columns, rotation='vertical')\n",
        "plt.show()"
      ],
      "metadata": {
        "id": "4VJq2LNQkYp9",
        "colab": {
          "base_uri": "https://localhost:8080/",
          "height": 566
        },
        "outputId": "a64c06ea-c66c-4e27-f1f8-b832e9cca446"
      },
      "execution_count": 54,
      "outputs": [
        {
          "output_type": "display_data",
          "data": {
            "text/plain": [
              "<Figure size 640x480 with 1 Axes>"
            ],
            "image/png": "[encoded data removed]"
          },
          "metadata": {}
        }
      ]
    },
    {
      "cell_type": "markdown",
      "source": [
        "## Вопрос для Quiz\n",
        "\n",
        "Какой признак оказался самым важным для градиентного бустинга?"
      ],
      "metadata": {
        "id": "rRcLaNt7qzaA"
      }
    },
    {
      "cell_type": "markdown",
      "source": [
        "# Бонус\n",
        "\n",
        "Мы вcе еще не используем очень много колонок из таблицы.\n",
        "\n",
        "Попробуйте преобразовать какие-нибудь из оставшихся колонок в числовые признаки и с их добавлением в данные обучить модели.\n",
        "\n",
        "Попытайтесь добиться как можно более высокого качества. Любые эксперименты приветствуются!"
      ],
      "metadata": {
        "id": "x0RqoMZDFj4n"
      }
    },
    {
      "cell_type": "code",
      "source": [
        "# your code here\n",
        "\n",
        "# may be next time ..."
      ],
      "metadata": {
        "id": "BVR09SsxFXEx"
      },
      "execution_count": null,
      "outputs": []
    }
  ]
}