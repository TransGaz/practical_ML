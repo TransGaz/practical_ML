{
 "cells": [
  {
   "cell_type": "markdown",
   "id": "fcda7686",
   "metadata": {},
   "source": [
    "Решение задачи по тестированию продвинутый уровень"
   ]
  },
  {
   "cell_type": "code",
   "execution_count": 1,
   "id": "644d59ea",
   "metadata": {},
   "outputs": [],
   "source": [
    "#На плоскости даны следующие точки в двумерном пространстве:\n",
    "\n",
    "#X=[(−1,1),(1,−1),(1,1),(0,0)]\n",
    "#с соответствующими метками классов \n",
    "\n",
    "#y=[1,1,1,−1].\n",
    "\n",
    "#С помощью leave-one-out кросс-валидации найдите оптимальное число соседей \n",
    "\n",
    "#k∈[1,2,3] в методе ближайших соседей. \n",
    "\n",
    "#В качестве меры близости используется евклидово расстояние,  метрика качества - accuracy."
   ]
  },
  {
   "cell_type": "code",
   "execution_count": 2,
   "id": "c8412f7f",
   "metadata": {},
   "outputs": [
    {
     "name": "stdout",
     "output_type": "stream",
     "text": [
      "GridSearchCV(cv=LeaveOneOut(), estimator=KNeighborsClassifier(),\n",
      "             param_grid={'n_neighbors': [1, 2, 3]}, scoring='accuracy')\n",
      "gs.best_score_:  0.75\n",
      "gs.best_params_:  {'n_neighbors': 3}\n",
      "gs.best_estimator_:  KNeighborsClassifier(n_neighbors=3)\n"
     ]
    }
   ],
   "source": [
    "import pandas as pd\n",
    "from sklearn.model_selection import GridSearchCV\n",
    "from sklearn.model_selection import LeaveOneOut\n",
    "from sklearn.neighbors import KNeighborsClassifier\n",
    "\n",
    "y2 = [1,1,1,-1]\n",
    "xx_list = [(-1,1),(1,-1),(1,1),(0,0)]\n",
    "cols=['x1', 'x2']\n",
    "df = pd.DataFrame(columns=cols)\n",
    "for x1, x2 in xx_list:\n",
    "    df.loc[ len(df.index )] = [x1, x2]\n",
    "\n",
    "loo = LeaveOneOut()\n",
    "# k in Set(1,2,3) в методе ближайших соседей\n",
    "parameters_KNN = {'n_neighbors': [1,2,3]}\n",
    "estimator_KNN = KNeighborsClassifier(algorithm='auto', metric='minkowski')\n",
    "grid_search_KNN = GridSearchCV(\n",
    "    estimator=estimator_KNN,\n",
    "    param_grid=parameters_KNN,\n",
    "    scoring = 'accuracy',\n",
    "    cv = loo\n",
    ")\n",
    "\n",
    "gs = grid_search_KNN.fit(xx_list, y2)\n",
    "print(gs)\n",
    "print('gs.best_score_: ', gs.best_score_) # качество наилучшей модели (с оптимальными гиперпараметрами)\n",
    "print('gs.best_params_: ', gs.best_params_) # оптимальные гиперпараметры\n",
    "print('gs.best_estimator_: ', gs.best_estimator_) # \n"
   ]
  },
  {
   "cell_type": "code",
   "execution_count": null,
   "id": "e0740cc7",
   "metadata": {},
   "outputs": [],
   "source": []
  }
 ],
 "metadata": {
  "kernelspec": {
   "display_name": "Python 3 (ipykernel)",
   "language": "python",
   "name": "python3"
  },
  "language_info": {
   "codemirror_mode": {
    "name": "ipython",
    "version": 3
   },
   "file_extension": ".py",
   "mimetype": "text/x-python",
   "name": "python",
   "nbconvert_exporter": "python",
   "pygments_lexer": "ipython3",
   "version": "3.10.12"
  }
 },
 "nbformat": 4,
 "nbformat_minor": 5
}
